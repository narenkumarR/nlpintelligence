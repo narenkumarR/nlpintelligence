{
 "cells": [
  {
   "cell_type": "code",
   "execution_count": 1,
   "metadata": {
    "collapsed": true
   },
   "outputs": [],
   "source": [
    "import pandas as pd\n",
    "import os"
   ]
  },
  {
   "cell_type": "code",
   "execution_count": 4,
   "metadata": {
    "collapsed": true
   },
   "outputs": [],
   "source": [
    "dir_loc = '/home/madan/Desktop/joswin_bck/toPendrive/works/nlp-intelligence/crawling_misc/gyms_fitness_studios/lkdn_raw_data/us_more_than_200_people'\n",
    "files = os.listdir(dir_loc)"
   ]
  },
  {
   "cell_type": "code",
   "execution_count": 6,
   "metadata": {
    "collapsed": false
   },
   "outputs": [],
   "source": [
    "cols = ['SNo', 'Id', 'LinkedInPage', 'CompanyName', 'Industry', 'Address', 'Employees']"
   ]
  },
  {
   "cell_type": "code",
   "execution_count": 7,
   "metadata": {
    "collapsed": true
   },
   "outputs": [],
   "source": [
    "df_list = []\n",
    "for i in files:\n",
    "    loc = dir_loc+'/'+i\n",
    "    tmp = pd.read_csv(loc)\n",
    "    if 'LinkedInPage' in ' '.join(tmp.columns):\n",
    "        tmp.columns = cols\n",
    "        df_list.append(tmp)"
   ]
  },
  {
   "cell_type": "code",
   "execution_count": 10,
   "metadata": {
    "collapsed": false
   },
   "outputs": [],
   "source": [
    "final_df = pd.concat(df_list)"
   ]
  },
  {
   "cell_type": "code",
   "execution_count": 15,
   "metadata": {
    "collapsed": true
   },
   "outputs": [],
   "source": [
    "#remove single quotes\n",
    "final_df['LinkedInPage'] = final_df['LinkedInPage'].str.replace(\"'\",\"\")\n",
    "final_df['CompanyName'] = final_df['CompanyName'].str.replace(\"'\",\"\")\n",
    "final_df['Industry'] = final_df['Industry'].str.replace(\"'\",\"\")\n",
    "final_df['Address'] = final_df['Address'].str.replace(\"'\",\"\")\n",
    "final_df['Employees'] = final_df['Employees'].str.replace(\"'\",\"\")"
   ]
  },
  {
   "cell_type": "code",
   "execution_count": 17,
   "metadata": {
    "collapsed": false
   },
   "outputs": [],
   "source": [
    "final_df = final_df[['LinkedInPage', 'CompanyName', 'Industry', 'Address', 'Employees']]"
   ]
  },
  {
   "cell_type": "code",
   "execution_count": 33,
   "metadata": {
    "collapsed": false
   },
   "outputs": [],
   "source": [
    "final_df_unique = final_df.drop_duplicates()\n",
    "final_df_unique.index = range(final_df_unique.shape[0])"
   ]
  },
  {
   "cell_type": "code",
   "execution_count": 34,
   "metadata": {
    "collapsed": false
   },
   "outputs": [
    {
     "data": {
      "text/html": [
       "<div>\n",
       "<table border=\"1\" class=\"dataframe\">\n",
       "  <thead>\n",
       "    <tr style=\"text-align: right;\">\n",
       "      <th></th>\n",
       "      <th>LinkedInPage</th>\n",
       "      <th>CompanyName</th>\n",
       "      <th>Industry</th>\n",
       "      <th>Address</th>\n",
       "      <th>Employees</th>\n",
       "    </tr>\n",
       "  </thead>\n",
       "  <tbody>\n",
       "    <tr>\n",
       "      <th>0</th>\n",
       "      <td>https://www.linkedin.com/company/10400?trk=vsr...</td>\n",
       "      <td>Virgin Australia</td>\n",
       "      <td>Airlines/Aviation</td>\n",
       "      <td>Brisbane, Australia</td>\n",
       "      <td>5001-10,000 employees</td>\n",
       "    </tr>\n",
       "    <tr>\n",
       "      <th>1</th>\n",
       "      <td>https://www.linkedin.com/company/6863?trk=vsrp...</td>\n",
       "      <td>Flight Centre Travel Group</td>\n",
       "      <td>Leisure, Travel &amp; Tourism</td>\n",
       "      <td>Brisbane, Australia</td>\n",
       "      <td>10,001+ employees</td>\n",
       "    </tr>\n",
       "    <tr>\n",
       "      <th>2</th>\n",
       "      <td>https://www.linkedin.com/company/166476?trk=vs...</td>\n",
       "      <td>Tourism Australia</td>\n",
       "      <td>Leisure, Travel &amp; Tourism</td>\n",
       "      <td>Sydney, Australia</td>\n",
       "      <td>201-500 employees</td>\n",
       "    </tr>\n",
       "    <tr>\n",
       "      <th>3</th>\n",
       "      <td>https://www.linkedin.com/company/1073775?trk=v...</td>\n",
       "      <td>Aurizon</td>\n",
       "      <td>Transportation/Trucking/Railroad</td>\n",
       "      <td>Brisbane, Australia</td>\n",
       "      <td>5001-10,000 employees</td>\n",
       "    </tr>\n",
       "    <tr>\n",
       "      <th>4</th>\n",
       "      <td>https://www.linkedin.com/company/624981?trk=vs...</td>\n",
       "      <td>Transport for NSW</td>\n",
       "      <td>Transportation/Trucking/Railroad</td>\n",
       "      <td>Sydney, Australia</td>\n",
       "      <td>1001-5000 employees</td>\n",
       "    </tr>\n",
       "  </tbody>\n",
       "</table>\n",
       "</div>"
      ],
      "text/plain": [
       "                                        LinkedInPage  \\\n",
       "0  https://www.linkedin.com/company/10400?trk=vsr...   \n",
       "1  https://www.linkedin.com/company/6863?trk=vsrp...   \n",
       "2  https://www.linkedin.com/company/166476?trk=vs...   \n",
       "3  https://www.linkedin.com/company/1073775?trk=v...   \n",
       "4  https://www.linkedin.com/company/624981?trk=vs...   \n",
       "\n",
       "                  CompanyName                          Industry  \\\n",
       "0            Virgin Australia                 Airlines/Aviation   \n",
       "1  Flight Centre Travel Group         Leisure, Travel & Tourism   \n",
       "2           Tourism Australia         Leisure, Travel & Tourism   \n",
       "3                     Aurizon  Transportation/Trucking/Railroad   \n",
       "4           Transport for NSW  Transportation/Trucking/Railroad   \n",
       "\n",
       "               Address              Employees  \n",
       "0  Brisbane, Australia  5001-10,000 employees  \n",
       "1  Brisbane, Australia      10,001+ employees  \n",
       "2    Sydney, Australia      201-500 employees  \n",
       "3  Brisbane, Australia  5001-10,000 employees  \n",
       "4    Sydney, Australia    1001-5000 employees  "
      ]
     },
     "execution_count": 34,
     "metadata": {},
     "output_type": "execute_result"
    }
   ],
   "source": [
    "final_df_unique.head()"
   ]
  },
  {
   "cell_type": "code",
   "execution_count": 44,
   "metadata": {
    "collapsed": false
   },
   "outputs": [
    {
     "name": "stderr",
     "output_type": "stream",
     "text": [
      "/usr/local/lib/python2.7/dist-packages/ipykernel/__main__.py:1: SettingWithCopyWarning: \n",
      "A value is trying to be set on a copy of a slice from a DataFrame.\n",
      "Try using .loc[row_indexer,col_indexer] = value instead\n",
      "\n",
      "See the caveats in the documentation: http://pandas.pydata.org/pandas-docs/stable/indexing.html#indexing-view-versus-copy\n",
      "  if __name__ == '__main__':\n"
     ]
    }
   ],
   "source": [
    "final_df_unique['LinkedInPage'] = final_df_unique['LinkedInPage'].str.split('\\?trk',expand=True)[0]"
   ]
  },
  {
   "cell_type": "code",
   "execution_count": 46,
   "metadata": {
    "collapsed": false
   },
   "outputs": [
    {
     "data": {
      "text/html": [
       "<div>\n",
       "<table border=\"1\" class=\"dataframe\">\n",
       "  <thead>\n",
       "    <tr style=\"text-align: right;\">\n",
       "      <th></th>\n",
       "      <th>LinkedInPage</th>\n",
       "      <th>CompanyName</th>\n",
       "      <th>Industry</th>\n",
       "      <th>Address</th>\n",
       "      <th>Employees</th>\n",
       "    </tr>\n",
       "  </thead>\n",
       "  <tbody>\n",
       "    <tr>\n",
       "      <th>305</th>\n",
       "      <td>https://www.linkedin.com/company/12208599</td>\n",
       "      <td>Splash City Perth Pty Ltd</td>\n",
       "      <td>Leisure, Travel &amp; Tourism</td>\n",
       "      <td>Perth, Australia</td>\n",
       "      <td>51-200 employees</td>\n",
       "    </tr>\n",
       "    <tr>\n",
       "      <th>306</th>\n",
       "      <td>https://www.linkedin.com/company/10700294</td>\n",
       "      <td>iChauffeur Australia</td>\n",
       "      <td>Leisure, Travel &amp; Tourism</td>\n",
       "      <td>Melbourne, Australia</td>\n",
       "      <td>51-200 employees</td>\n",
       "    </tr>\n",
       "    <tr>\n",
       "      <th>307</th>\n",
       "      <td>https://www.linkedin.com/company/12950782</td>\n",
       "      <td>ISS First Response - 1300 131 001</td>\n",
       "      <td>Transportation/Trucking/Railroad</td>\n",
       "      <td>Melbourne, Australia</td>\n",
       "      <td>201-500 employees</td>\n",
       "    </tr>\n",
       "    <tr>\n",
       "      <th>308</th>\n",
       "      <td>https://www.linkedin.com/company/12937827</td>\n",
       "      <td>Transforce AU</td>\n",
       "      <td>Transportation/Trucking/Railroad</td>\n",
       "      <td>New South Wales, Australia</td>\n",
       "      <td>51-200 employees</td>\n",
       "    </tr>\n",
       "    <tr>\n",
       "      <th>309</th>\n",
       "      <td>https://www.linkedin.com/company/11899481</td>\n",
       "      <td>CATO - Council of Australian Tour Operators</td>\n",
       "      <td>Leisure, Travel &amp; Tourism</td>\n",
       "      <td>Sydney, Australia</td>\n",
       "      <td>51-200 employees</td>\n",
       "    </tr>\n",
       "  </tbody>\n",
       "</table>\n",
       "</div>"
      ],
      "text/plain": [
       "                                  LinkedInPage  \\\n",
       "305  https://www.linkedin.com/company/12208599   \n",
       "306  https://www.linkedin.com/company/10700294   \n",
       "307  https://www.linkedin.com/company/12950782   \n",
       "308  https://www.linkedin.com/company/12937827   \n",
       "309  https://www.linkedin.com/company/11899481   \n",
       "\n",
       "                                     CompanyName  \\\n",
       "305                    Splash City Perth Pty Ltd   \n",
       "306                         iChauffeur Australia   \n",
       "307            ISS First Response - 1300 131 001   \n",
       "308                                Transforce AU   \n",
       "309  CATO - Council of Australian Tour Operators   \n",
       "\n",
       "                             Industry                     Address  \\\n",
       "305         Leisure, Travel & Tourism            Perth, Australia   \n",
       "306         Leisure, Travel & Tourism        Melbourne, Australia   \n",
       "307  Transportation/Trucking/Railroad        Melbourne, Australia   \n",
       "308  Transportation/Trucking/Railroad  New South Wales, Australia   \n",
       "309         Leisure, Travel & Tourism           Sydney, Australia   \n",
       "\n",
       "             Employees  \n",
       "305   51-200 employees  \n",
       "306   51-200 employees  \n",
       "307  201-500 employees  \n",
       "308   51-200 employees  \n",
       "309   51-200 employees  "
      ]
     },
     "execution_count": 46,
     "metadata": {},
     "output_type": "execute_result"
    }
   ],
   "source": [
    "final_df_unique.tail()"
   ]
  },
  {
   "cell_type": "code",
   "execution_count": 47,
   "metadata": {
    "collapsed": true
   },
   "outputs": [],
   "source": [
    "final_df_unique.to_csv('linkedin_search_res.csv',index=False)"
   ]
  }
 ],
 "metadata": {
  "kernelspec": {
   "display_name": "Python 2",
   "language": "python",
   "name": "python2"
  },
  "language_info": {
   "codemirror_mode": {
    "name": "ipython",
    "version": 2
   },
   "file_extension": ".py",
   "mimetype": "text/x-python",
   "name": "python",
   "nbconvert_exporter": "python",
   "pygments_lexer": "ipython2",
   "version": "2.7.3"
  }
 },
 "nbformat": 4,
 "nbformat_minor": 1
}
