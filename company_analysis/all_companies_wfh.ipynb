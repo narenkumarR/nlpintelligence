{
 "cells": [
  {
   "cell_type": "code",
   "execution_count": 2,
   "metadata": {
    "collapsed": false
   },
   "outputs": [],
   "source": [
    "import pandas as pd\n",
    "df = pd.read_csv('company_data_for_clustering.csv',sep=';')"
   ]
  },
  {
   "cell_type": "code",
   "execution_count": 3,
   "metadata": {
    "collapsed": true
   },
   "outputs": [],
   "source": [
    "df = df.dropna()\n",
    "df.index = range(df.shape[0])"
   ]
  },
  {
   "cell_type": "code",
   "execution_count": null,
   "metadata": {
    "collapsed": true
   },
   "outputs": [],
   "source": [
    "import nltk,re\n",
    "from nltk.corpus import stopwords\n",
    "from nltk.stem import SnowballStemmer\n",
    "from text_processing import extract_phrases\n",
    "from sklearn.feature_extraction.text import TfidfVectorizer\n",
    "from sklearn.decomposition import NMF, LatentDirichletAllocation"
   ]
  },
  {
   "cell_type": "code",
   "execution_count": 6,
   "metadata": {
    "collapsed": false
   },
   "outputs": [],
   "source": [
    "grammar = r\"\"\"\n",
    "  NP1: {<JJ><NN.*>+}          # Chunk sequences of JJ, NN\n",
    "  NP2: {<NN.*>+<JJ>}          # Chunk sequences of JJ, NN\n",
    "  NP3: {<NN.*>+}                  #Noun phrases\n",
    "  VP: {<VB.*><NN.*>+} # Chunk verbs and their arguments\n",
    "  \"\"\"\n",
    "phr_list = ['NP1','NP2','NP3','VP']\n",
    "tag_list = ['NN','NNS','NNP','NNPS','VB','VBD','VBG','VBN','VBP','VBZ']\n",
    "stop_words = stopwords.words()+['http','https','goo']"
   ]
  },
  {
   "cell_type": "code",
   "execution_count": 7,
   "metadata": {
    "collapsed": true
   },
   "outputs": [],
   "source": [
    "cp = nltk.RegexpParser(grammar)\n",
    "pe = extract_phrases.PhraseExtractor()\n",
    "snowball_stemmer = SnowballStemmer('english')\n",
    "reg_exp = re.compile('[^a-zA-Z ]',re.IGNORECASE)\n",
    "def tokenizer(text):\n",
    "    pos_tags = nltk.pos_tag(nltk.word_tokenize(text))\n",
    "    phrs = pe.extract_phrase_treeinput(cp.parse(pos_tags),['NP1','NP2','VP'])\n",
    "    wrds = [snowball_stemmer.stem(i[0]) for i in pos_tags if i[1] in tag_list]\n",
    "    wrds = [wrd for wrd in wrds if wrd not in stop_words]\n",
    "    phrs = ['_'.join([snowball_stemmer.stem(wrd) for wrd in nltk.word_tokenize(phr)]) for phr in phrs]\n",
    "    wrds = [reg_exp.sub('',i) for i in wrds]\n",
    "    return wrds+phrs"
   ]
  },
  {
   "cell_type": "code",
   "execution_count": 11,
   "metadata": {
    "collapsed": false
   },
   "outputs": [
    {
     "name": "stdout",
     "output_type": "stream",
     "text": [
      "(23430, 3) (23430,)\n"
     ]
    }
   ],
   "source": [
    "data_samples = df['description']\n",
    "data_samples = data_samples.dropna()\n",
    "print df.shape,data_samples.shape"
   ]
  },
  {
   "cell_type": "code",
   "execution_count": 12,
   "metadata": {
    "collapsed": false
   },
   "outputs": [
    {
     "name": "stderr",
     "output_type": "stream",
     "text": [
      "c:\\python27\\lib\\site-packages\\numpy\\core\\fromnumeric.py:2645: VisibleDeprecationWarning: `rank` is deprecated; use the `ndim` attribute or function instead. To find the rank of a matrix see `numpy.linalg.matrix_rank`.\n",
      "  VisibleDeprecationWarning)\n"
     ]
    }
   ],
   "source": [
    "tfidf_vectorizer = TfidfVectorizer(max_df=0.95, min_df=10,tokenizer=tokenizer)\n",
    "tfidf = tfidf_vectorizer.fit_transform(data_samples)"
   ]
  },
  {
   "cell_type": "code",
   "execution_count": 15,
   "metadata": {
    "collapsed": false
   },
   "outputs": [],
   "source": [
    "import pickle\n",
    "with open('tfidf_allcompanies_phrases.pkl','w') as f:\n",
    "    pickle.dump({'tfidf':tfidf,'vectorizer':tfidf_vectorizer},f)"
   ]
  },
  {
   "cell_type": "code",
   "execution_count": 9,
   "metadata": {
    "collapsed": false
   },
   "outputs": [],
   "source": [
    "import pickle\n",
    "with open('tfidf_allcompanies_phrases.pkl','r') as f:\n",
    "    tmp = pickle.load(f)\n",
    "\n",
    "tfidf,tfidf_vectorizer = tmp['tfidf'],tmp['vectorizer']\n",
    "del tmp"
   ]
  },
  {
   "cell_type": "code",
   "execution_count": 10,
   "metadata": {
    "collapsed": false
   },
   "outputs": [
    {
     "name": "stderr",
     "output_type": "stream",
     "text": [
      "c:\\python27\\lib\\site-packages\\numpy\\core\\fromnumeric.py:2645: VisibleDeprecationWarning: `rank` is deprecated; use the `ndim` attribute or function instead. To find the rank of a matrix see `numpy.linalg.matrix_rank`.\n",
      "  VisibleDeprecationWarning)\n"
     ]
    },
    {
     "name": "stdout",
     "output_type": "stream",
     "text": [
      "Topic #0:\n",
      "solut provid deliv enterpris implement integr innov_solut offer expertis infrastructur challeng requir lead mobil deploy problem enabl custom_solut suit busi\n",
      "Topic #1:\n",
      " info email empresa contact mai rate follow produto integr solu servio net melhor call a servic mercado projeto tel\n",
      "Topic #2:\n",
      "market campaign digit_market internet agenc email seo target result analyt social_media_market generat lead digit roi onlin_market digit_market_agenc social_media promot increas\n",
      "Topic #3:\n",
      "design graphic_design architectur web_design websit_design creat interior_design architect logo idea concept ident special creativ base graphic interior space fashion furnitur\n",
      "Topic #4:\n",
      "product line offer produc rang distributor distribut consum includ new_product film innov accessori supplier innov_product materi sell item select retail\n",
      "Topic #5:\n",
      "student school educ univers colleg teacher institut cours graduat campus teach faculti career studi provid prepar degre children scienc curriculum\n",
      "Topic #6:\n",
      "project complet budget requir architect implement instal deliveri time scope involv specialist deliv rang architectur base ensur concept manag staff\n",
      "Topic #7:\n",
      "manag asset risk complianc inform enterpris report infrastructur oper tool document chang portfolio resourc includ servic practic wealth contract inventori\n",
      "Topic #8:\n",
      "secur protect threat risk inform cyber govern complianc intellig defens infrastructur vulner surveil attack assess access detect fire privaci investig\n",
      "Topic #9:\n",
      "servic provid offer rang includ mainten outsourc profession_servic deliveri area oper wide_rang host financi_servic full_servic contract staf repair equip internet\n",
      "Topic #10:\n",
      "data analyt intellig inform big_data storag decis analysi report databas insight analyz collect cloud enterpris visual scienc sourc access bi\n",
      "Topic #11:\n",
      "softwar hardwar outsourc tool erp develop enterpris user analysi make includ offshor cycl saa model solut optim licens compani crm\n",
      "Topic #12:\n",
      "system integr instal control monitor includ mainten water implement fire oper special inform surveil maintain inc hardwar camera alarm base\n",
      "Topic #13:\n",
      "search optim seo execut googl click internet rank optimis result ppc engin page pay traffic websit_design special content link social_media_optim\n",
      "Topic #14:\n",
      "media social_media content campaign digit_media entertain channel audienc social_media_market pr relat includ news broadcast publish televis engag radio social_media_strategi tv\n",
      "Topic #15:\n",
      "www facebook twitter visit inform linkedin pleas youtub follow page instagram com blog googl pinterest org co check connect contact\n",
      "Topic #16:\n",
      "care patient healthcar hospit treatment physician provid medicin practic famili therapi clinic nurs cancer diseas doctor outcom facil eye surgeri\n",
      "Topic #17:\n",
      "technolog inform innov integr deliv focus leverag expertis enterpris new_technolog edg enabl servic inc emerg combin lead challeng solut domain\n",
      "Topic #18:\n",
      "game play entertain publish gamer titl casino player creat fun pc mobil_game found releas android social_game gameplay consol includ onlin_game\n",
      "Topic #19:\n",
      "energi gas effici save electr util oil water heat instal renew_energi wind sector conserv generat consum cool reduc carbon sustain\n",
      "Topic #20:\n",
      "consult implement sap special practic sector focus analysi outsourc oracl expertis assess area hr audit resourc servic offer knowledg valu\n",
      "Topic #21:\n",
      "train cours coach safeti skill trainer certif provid educ offer institut instructor languag staff profession level simul session class classroom\n",
      "Topic #22:\n",
      "invest fund capit investor equiti asset return ventur portfolio wealth financ advisor focus valu opportun advisori provid transact famili hedg\n",
      "Topic #23:\n",
      "bank financ credit loan institut financi_institut financi_servic lend branch deposit mortgag privat_bank lender asset transact save banker union regul commerci_bank\n",
      "Topic #24:\n",
      "event wed entertain confer venu show meet exhibit corpor_event parti cater ticket festiv organis registr promot attende guest music pr\n",
      "Topic #25:\n",
      "recruit candid talent staf hire placement hr contract execut posit profession resourc find role level specialis search place understand specialist\n",
      "Topic #26:\n",
      "engin optim civil_engin gas oil analysi mechan_engin commiss survey field scienc aerospac cad defens design inspect cycl technician safeti scientist\n",
      "Topic #27:\n",
      "insur agenc life coverag broker risk protect carrier benefit auto claim independ_insur_agenc polici repres agent state underwrit quot casualti line\n",
      "Topic #28:\n",
      "custom satisfact valu relationship deliv commit experi success provid focus servic order expect serv integr loyalti exceed engag excel pride\n",
      "Topic #29:\n",
      "group part divis member oper establish subsidiari hold profession sector employ leader year europ countri interest uk small_group compris found\n",
      "Topic #30:\n",
      "busi small_busi grow owner intellig growth focus entrepreneur run success transform profit understand financ inform approach enterpris object opportun medium\n",
      "Topic #31:\n",
      "video content tv music produc film imag camera audio broadcast share stream entertain audienc stori present surveil televis conferenc distribut\n",
      "Topic #32:\n",
      "industri leader lead healthcar provid knowledg oil expertis year gas sector profession associ standard experi serv chemic includ innov rang\n",
      "Topic #33:\n",
      "sale sell generat lead increas revenu distribut prospect channel repres point call rep contact forc buy crm opportun retail profit\n",
      "Topic #34:\n",
      "test laboratori lab assur inspect qa calibr analysi water includ perform accredit mainten measur tool instrument valid servic iso tester\n",
      "Topic #35:\n",
      "process document outsourc streamlin imag resourc effici bill deliveri bpo implement autom model integr level improv tool core invoic captur\n",
      "Topic #36:\n",
      "home hous builder famili homeown furnitur new_home care instal decor sell theater mortgag live owner renov comfort remodel dream counti\n",
      "Topic #37:\n",
      "support provid technic_support host implement staff mainten server depart offer includ resourc rang infrastructur desk backup recoveri defens assist capabl\n",
      "Topic #38:\n",
      "app mobil_app iphon android mobil user store appl googl download ipad window smartphon mobil_app_develop creat launch android_app phone track backend\n",
      "Topic #39:\n",
      "construct contractor contract safeti general_contractor facil water builder renov site includ materi sector preconstruct mainten remodel equip specialti transport oil\n",
      "Topic #40:\n",
      "print printer mail digit_print card imag graphic packag offset document brochur paper direct_mail banner label color ident format produc poster\n",
      "Topic #41:\n",
      "compani found base oper inc grow year focus name countri lead growth list hold special fortun establish headquart subsidiari held\n",
      "Topic #42:\n",
      "team experi year profession expert deliv expertis bring knowledg skill success combin member execut result leadership field passion dedic decad\n",
      "Topic #43:\n",
      "autom control industri_autom robot monitor panel oper instrument sensor complianc integr motor plc plant report motion honeywel valv scada machin\n",
      "Topic #44:\n",
      "properti commerci_properti intellectu_properti buy leas owner rent apart land realti tenant buyer investor agent rental assist sell let list site\n",
      "Topic #45:\n",
      "qualiti high_qualiti commit standard price ensur provid deliv iso valu assur dedic produc safeti establish satisfact excel mission maintain deliveri\n",
      "Topic #46:\n",
      "account tax bookkeep audit financ taxat individu payrol cpa prepar report advisori advisor complianc return advic profession fund charter_account entiti\n",
      "Topic #47:\n",
      "health well care wellb improv benefit popul safeti educ healthcar inform doctor bodi fit consum clinic mental_health scienc state diseas\n",
      "Topic #48:\n",
      "advertis publish agenc campaign display audienc traffic target media monet offer marketplac reach digit_advertis onlin_advertis buy consum promot creativ tv\n",
      "Topic #49:\n",
      "estat real_estat agent brokerag realti buyer sell real_estat_compani seller centuri transact buy real_estat_servic broker realtor real_estat_market mortgag leas real_estat_profession list\n",
      "Topic #50:\n",
      "build relationship builder focus practic renov maintain materi built architect foundat infrastructur contractor floor structur sustain exist take believ scale\n",
      "Topic #51:\n",
      "plan retir financi_plan strateg_plan assist wealth execut goal analysi advisor advic benefit tax resourc implement survey assess includ land review\n",
      "Topic #52:\n",
      "art artist galleri music collect state museum exhibit artwork paint cultur space fine_art love sculptur featur scienc dedic photographi magazin\n",
      "Topic #53:\n",
      "partner gold certifi salesforc ventur sap cisco oracl dynam microsoft channel valu resel trust_partner integr enterpris relationship partnership year compet\n",
      "Topic #54:\n",
      "learn cours languag teach teacher skill visit learner elearn children engag knowledg content machin classroom child fun lesson environ chang\n",
      "Topic #55:\n",
      "onlin store shop ecommerc internet tool offlin presenc book retail order sell provid featur loan portal cours offer marketplac site\n",
      "Topic #56:\n",
      "law lawyer attorney litig practic case injuri legal_servic famili area court immigr represent counsel disput enforc repres matter person_injuri issu\n",
      "Topic #57:\n",
      "communic agenc relat messag voic telecommun collabor public_relat integr pr connect cabl phone wireless entrepris multimedia audienc target call campaign\n",
      "Topic #58:\n",
      "network cisco connect internet wireless social_network cabl infrastructur access telecommun hardwar ip switch voic monitor telecom oper instal includ server\n",
      "Topic #59:\n",
      "india ltd pvt mumbai bangalor delhi hyderabad domain chennai base presenc infotech globe vertic pune centr countri etc servic deliveri\n",
      "Topic #60:\n",
      "payment card merchant credit pay gateway transact bill accept mobil_payment debit onlin_payment processor gift fraud money collect invoic prepaid cash\n",
      "Topic #61:\n",
      "web site host internet seo ecommerc domain base wordpress presenc php css web_design server agenc joomla websit_design web_solut mobil html\n",
      "Topic #62:\n",
      "startup entrepreneur ventur idea innov capit fund investor incub acceler tech growth entrepreneurship stage space enterpris mentor launch includ ecosystem\n",
      "Topic #63:\n",
      "work environ team agenc ensur organis challeng individu place talent produc passion sector opportun deliv rang result year idea partnership\n",
      "Topic #64:\n",
      "travel tour book vacat destin trip airlin adventur agent agenc cruis luxuri holiday flight tourism journey experi oper offer leisur\n",
      "Topic #65:\n",
      "make get time way creat take find know look life believ s day chang give idea love place go start\n",
      "Topic #66:\n",
      "food restaur ingredi cater beverag packag wine meal tast eat farm safeti produc cook dine drink kitchen famili farmer supplement\n",
      "Topic #67:\n",
      "client relationship valu approach result deliv empresa success commit understand goal achiev servicio expertis agenc focus object base solucion sector\n",
      "Topic #68:\n",
      "firm special staf capit llc found advisori_firm boutiqu focus associ advisor architectur base execut client corpor inc profession relat acquisit\n",
      "Topic #69:\n",
      "strategi execut implement digit_strategi deliv focus creat chang analysi growth insight achiev social_media_strategi impact result engag take align innov opportun\n",
      "Topic #70:\n",
      "organ govern non-profit_organ healthcar leadership inform nonprofit resourc individu institut nonprofit_organ challeng coach educ enterpris member mission facilit leader transform\n",
      "Topic #71:\n",
      "program includ children offer youth particip fit leadership volunt loyalti adult state reward accredit govern educ coach recogn degre camp\n",
      "Topic #72:\n",
      "job career employ seeker opportun hire find resum candid skill post board profession match look profil graduat interview individu placement\n",
      "Topic #73:\n",
      "suppli chain logist transport freight supplier oper distribut cargo wareh ship procur forward retail distributor air inventori sourc warehous carrier\n",
      "Topic #74:\n",
      "world innov countri class leader lead chang year today futur vision becom worldwid bring passion digit_world transform mission creat languag\n",
      "Topic #75:\n",
      "center call facil infrastructur locat oper hospit includ contact medic_center surgeri coloc counti children offer serv s state r data\n",
      "Topic #76:\n",
      "brand agenc consum creat ident audienc engag stori fashion name experi messag content idea retail awar creativ deliv channel luxuri\n",
      "Topic #77:\n",
      "comput cloud repair server infrastructur storag pc hardwar host virus laptop backup virtual enterpris desktop recoveri printer tech salesforc phone\n",
      "Topic #78:\n",
      "offic locat york state citi headquart america oper new_york includ unit_state europ countri space inc london furnitur asia found serv\n",
      "Topic #79:\n",
      "sport athlet fan footbal club entertain leagu basketbal golf play fit includ good news activ player perform therapi nutrit particip\n",
      "Topic #80:\n",
      "power batteri generat plant equip electr gas suppli solar_power drive grid station voltag oil circuit compon distribut protect transform divis\n",
      "Topic #81:\n",
      "applic mobil_applic mobil oracl enterpris mobil_applic_develop databas integr android special infrastructur iphon cloud develop web_applic web_applic_develop deploy window java includ\n",
      "Topic #82:\n",
      "help goal achiev grow get succeed find reach increas decis engag advic inform stay leverag navig expert challeng let maxim\n",
      "Topic #83:\n",
      "improv cost perform reduc increas effici oper risk save profit deliv revenu result optim time provid enabl maxim advantag level\n",
      "Topic #84:\n",
      "hotel hospit restaur resort guest room book reserv luxuri spa bar locat leisur vacat offer accommod destin citi stay dine\n",
      "Topic #85:\n",
      "light led bulb lamp fixtur instal street control light_solut indoor replac save illumin safeti effici sourc stage diod reliabl area\n",
      "Topic #86:\n",
      "need meet understand requir tailor fit offer specif_need resourc ensur assist staff address today provid know profession cater demand uniqu_need\n",
      "Topic #87:\n",
      "platform content engag user enterpris connect cloud enabl consum mobil publish integr deliv analyt deploy lead base audienc share provid\n",
      "Topic #88:\n",
      "employe benefit hr employ payrol resourc administr workforc success staf cultur human_resourc engag compens complianc recognit recogn reward time workplac\n",
      "Topic #89:\n",
      "peopl live connect believ young_peopl employ empow talent share right_peopl way organis mission opportun disabl reach thing inspir passion countri\n",
      "Topic #90:\n",
      "trade trader exchang stock show exhibit commod export broker forex option import associ execut ltd europ currenc africa liquid price\n",
      "Topic #91:\n",
      "websit internet visit site host cms wordpress traffic seo visitor creat ecommerc updat pleas templat convers websit_design offer email inform\n",
      "Topic #92:\n",
      "use tool user techniqu method environ sourc creat base access model materi interfac allow generat problem ingredi methodolog eas lead\n",
      "Topic #93:\n",
      "research scienc institut univers analysi studi insight conduct scientist life polici report diseas innov field medicin survey govern knowledg laboratori\n",
      "Topic #94:\n",
      "studio anim film music artist motion entertain televis produc photographi creat graphic postproduct idea base visual tv creativ_studio charact special\n",
      "Topic #95:\n",
      "develop base mobil_applic_develop skill focus expertis leadership core programm special php outsourc field model offshor compani android java compet sourc\n",
      "Topic #96:\n",
      "communiti member live serv famili associ mission opportun children promot foundat individu educ counti commit provid share connect life resid\n",
      "Topic #97:\n",
      "car vehicl financ auto dealership dealer truck repair leas fleet motor part driver rental buy automobil transport price park accessori\n",
      "Topic #98:\n",
      "devic mobil_devic medic_devic tablet phone smartphon connect mobil_phone user iot desktop ipad consum embed medic_devic_compani electron mobil enabl experi internet\n",
      "Topic #99:\n",
      "manufactur equip machin facil compon part materi assembl fabric metal steel supplier plant distributor electron rang precis packag plastic includ\n",
      "()\n"
     ]
    }
   ],
   "source": [
    "from sklearn.decomposition import NMF, LatentDirichletAllocation\n",
    "n_topics,n_top_words=100,20\n",
    "def print_top_words(model, feature_names, n_top_words):\n",
    "    for topic_idx, topic in enumerate(model.components_):\n",
    "        print(\"Topic #%d:\" % topic_idx)\n",
    "        print(\" \".join([feature_names[i]\n",
    "                        for i in topic.argsort()[:-n_top_words - 1:-1]]))\n",
    "    print()\n",
    "\n",
    "nmf = NMF(n_components=n_topics, random_state=1, alpha=.1, l1_ratio=.5).fit(tfidf)\n",
    "tfidf_feature_names = tfidf_vectorizer.get_feature_names()\n",
    "print_top_words(nmf, tfidf_feature_names, n_top_words)"
   ]
  },
  {
   "cell_type": "code",
   "execution_count": 11,
   "metadata": {
    "collapsed": true
   },
   "outputs": [],
   "source": [
    "def gen_topic_names(model, feature_names, n_top_words):\n",
    "    topic_dic = {}\n",
    "    for topic_idx, topic in enumerate(model.components_):\n",
    "        topic_dic[topic_idx] = \" \".join([feature_names[i]\n",
    "                        for i in topic.argsort()[:-n_top_words - 1:-1]])\n",
    "    return topic_dic"
   ]
  },
  {
   "cell_type": "code",
   "execution_count": 12,
   "metadata": {
    "collapsed": false
   },
   "outputs": [],
   "source": [
    "topic_map_dic = gen_topic_names(nmf, tfidf_feature_names, 4)"
   ]
  },
  {
   "cell_type": "code",
   "execution_count": 13,
   "metadata": {
    "collapsed": false
   },
   "outputs": [
    {
     "data": {
      "text/html": [
       "<div>\n",
       "<table border=\"1\" class=\"dataframe\">\n",
       "  <thead>\n",
       "    <tr style=\"text-align: right;\">\n",
       "      <th></th>\n",
       "      <th>col</th>\n",
       "      <th>row</th>\n",
       "    </tr>\n",
       "  </thead>\n",
       "  <tbody>\n",
       "    <tr>\n",
       "      <th>0</th>\n",
       "      <td>0</td>\n",
       "      <td>0</td>\n",
       "    </tr>\n",
       "    <tr>\n",
       "      <th>1</th>\n",
       "      <td>30</td>\n",
       "      <td>0</td>\n",
       "    </tr>\n",
       "    <tr>\n",
       "      <th>2</th>\n",
       "      <td>34</td>\n",
       "      <td>0</td>\n",
       "    </tr>\n",
       "    <tr>\n",
       "      <th>3</th>\n",
       "      <td>2</td>\n",
       "      <td>1</td>\n",
       "    </tr>\n",
       "    <tr>\n",
       "      <th>4</th>\n",
       "      <td>59</td>\n",
       "      <td>2</td>\n",
       "    </tr>\n",
       "  </tbody>\n",
       "</table>\n",
       "</div>"
      ],
      "text/plain": [
       "   col  row\n",
       "0    0    0\n",
       "1   30    0\n",
       "2   34    0\n",
       "3    2    1\n",
       "4   59    2"
      ]
     },
     "execution_count": 13,
     "metadata": {},
     "output_type": "execute_result"
    }
   ],
   "source": [
    "import numpy as np\n",
    "preds = nmf.transform(tfidf)\n",
    "preds_probs = preds.transpose()/np.sum(preds,1)\n",
    "preds_probs = preds_probs.transpose()\n",
    "preds_ind = np.where(preds_probs>0.1)\n",
    "preds_df = pd.DataFrame({'row':preds_ind[0],'col':preds_ind[1]})\n",
    "preds_df.head()"
   ]
  },
  {
   "cell_type": "code",
   "execution_count": 14,
   "metadata": {
    "collapsed": false
   },
   "outputs": [
    {
     "data": {
      "text/plain": [
       "row\n",
       "0    [solut provid deliv enterpris, busi small_busi...\n",
       "1              [market campaign digit_market internet]\n",
       "2                               [india ltd pvt mumbai]\n",
       "4    [engin optim civil_engin gas, sale sell genera...\n",
       "5                      [technolog inform innov integr]\n",
       "Name: col, dtype: object"
      ]
     },
     "execution_count": 14,
     "metadata": {},
     "output_type": "execute_result"
    }
   ],
   "source": [
    "preds_topics = preds_df.groupby('row')['col'].apply(lambda x: [topic_map_dic[i] for i in x.tolist()])\n",
    "preds_topics.head()"
   ]
  },
  {
   "cell_type": "code",
   "execution_count": 15,
   "metadata": {
    "collapsed": false
   },
   "outputs": [
    {
     "data": {
      "text/html": [
       "<div>\n",
       "<table border=\"1\" class=\"dataframe\">\n",
       "  <thead>\n",
       "    <tr style=\"text-align: right;\">\n",
       "      <th></th>\n",
       "      <th>industry</th>\n",
       "      <th>description</th>\n",
       "      <th>specialties</th>\n",
       "      <th>col</th>\n",
       "    </tr>\n",
       "  </thead>\n",
       "  <tbody>\n",
       "    <tr>\n",
       "      <th>0</th>\n",
       "      <td>Information Technology and Services</td>\n",
       "      <td>Crystal Approach is Canberra's premier busines...</td>\n",
       "      <td>Software Solutions, Business-to-ICT Consulting...</td>\n",
       "      <td>[solut provid deliv enterpris, busi small_busi...</td>\n",
       "    </tr>\n",
       "    <tr>\n",
       "      <th>1</th>\n",
       "      <td>Internet</td>\n",
       "      <td>Omnicity, Inc.  provides wireless broadband se...</td>\n",
       "      <td>rural broadband, internet, wireless</td>\n",
       "      <td>[market campaign digit_market internet]</td>\n",
       "    </tr>\n",
       "    <tr>\n",
       "      <th>2</th>\n",
       "      <td>Information Technology and Services</td>\n",
       "      <td>A &amp; J Global Solutions is a leading provider o...</td>\n",
       "      <td>Information Technology and services, Customer ...</td>\n",
       "      <td>[india ltd pvt mumbai]</td>\n",
       "    </tr>\n",
       "    <tr>\n",
       "      <th>3</th>\n",
       "      <td>Publishing</td>\n",
       "      <td>Editorial independiente afincada en Barcelona,...</td>\n",
       "      <td>libros para colorear infantiles y para adultos...</td>\n",
       "      <td>NaN</td>\n",
       "    </tr>\n",
       "    <tr>\n",
       "      <th>4</th>\n",
       "      <td>Information Technology and Services</td>\n",
       "      <td>Leading Provider of Managed Services. Cisco Ce...</td>\n",
       "      <td>Cloud Services, Managed Services, IT Technical...</td>\n",
       "      <td>[engin optim civil_engin gas, sale sell genera...</td>\n",
       "    </tr>\n",
       "  </tbody>\n",
       "</table>\n",
       "</div>"
      ],
      "text/plain": [
       "                              industry  \\\n",
       "0  Information Technology and Services   \n",
       "1                             Internet   \n",
       "2  Information Technology and Services   \n",
       "3                           Publishing   \n",
       "4  Information Technology and Services   \n",
       "\n",
       "                                         description  \\\n",
       "0  Crystal Approach is Canberra's premier busines...   \n",
       "1  Omnicity, Inc.  provides wireless broadband se...   \n",
       "2  A & J Global Solutions is a leading provider o...   \n",
       "3  Editorial independiente afincada en Barcelona,...   \n",
       "4  Leading Provider of Managed Services. Cisco Ce...   \n",
       "\n",
       "                                         specialties  \\\n",
       "0  Software Solutions, Business-to-ICT Consulting...   \n",
       "1                rural broadband, internet, wireless   \n",
       "2  Information Technology and services, Customer ...   \n",
       "3  libros para colorear infantiles y para adultos...   \n",
       "4  Cloud Services, Managed Services, IT Technical...   \n",
       "\n",
       "                                                 col  \n",
       "0  [solut provid deliv enterpris, busi small_busi...  \n",
       "1            [market campaign digit_market internet]  \n",
       "2                             [india ltd pvt mumbai]  \n",
       "3                                                NaN  \n",
       "4  [engin optim civil_engin gas, sale sell genera...  "
      ]
     },
     "execution_count": 15,
     "metadata": {},
     "output_type": "execute_result"
    }
   ],
   "source": [
    "df_topics = df.join(preds_topics)\n",
    "df_topics.head()"
   ]
  },
  {
   "cell_type": "code",
   "execution_count": 16,
   "metadata": {
    "collapsed": false
   },
   "outputs": [],
   "source": [
    "df_topics.columns = [u'industry', u'description', u'specialties', u'col']"
   ]
  },
  {
   "cell_type": "code",
   "execution_count": 17,
   "metadata": {
    "collapsed": false
   },
   "outputs": [],
   "source": [
    "df_topics.to_csv('all_companies_topics.csv',index=False,quoting=1)"
   ]
  }
 ],
 "metadata": {
  "kernelspec": {
   "display_name": "Python 2",
   "language": "python",
   "name": "python2"
  },
  "language_info": {
   "codemirror_mode": {
    "name": "ipython",
    "version": 2
   },
   "file_extension": ".py",
   "mimetype": "text/x-python",
   "name": "python",
   "nbconvert_exporter": "python",
   "pygments_lexer": "ipython2",
   "version": "2.7.3"
  }
 },
 "nbformat": 4,
 "nbformat_minor": 1
}
