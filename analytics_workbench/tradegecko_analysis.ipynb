{
 "cells": [
  {
   "cell_type": "code",
   "execution_count": 1,
   "metadata": {
    "collapsed": true
   },
   "outputs": [],
   "source": [
    "from analytics_workbench.read_data import DataReader\n",
    "from analytics_workbench.preprocessing import PreProcessor\n",
    "from analytics_workbench.unsupervised_learning import Unsupervised\n",
    "from analytics_workbench.supervised_learning import ClassificationModelCV\n",
    "from analytics_workbench.model_diagnostics import ClassificationModelDiagnotstics"
   ]
  },
  {
   "cell_type": "code",
   "execution_count": 2,
   "metadata": {
    "collapsed": false
   },
   "outputs": [
    {
     "data": {
      "text/plain": [
       "(349, 2)"
      ]
     },
     "execution_count": 2,
     "metadata": {},
     "output_type": "execute_result"
    }
   ],
   "source": [
    "reader = DataReader()\n",
    "df = reader.read_csv('/home/madan/Desktop/joswin_bck/toPendrive/works/chargebee_works/nlp-intelligence/scoring_lists/tradegecko_jan31/tradegecko_jan31_website_text_file.csv',names=['website','website_text'])\n",
    "df = df.fillna('')\n",
    "df.shape"
   ]
  },
  {
   "cell_type": "code",
   "execution_count": 3,
   "metadata": {
    "collapsed": false
   },
   "outputs": [
    {
     "data": {
      "text/html": [
       "<div>\n",
       "<table border=\"1\" class=\"dataframe\">\n",
       "  <thead>\n",
       "    <tr style=\"text-align: right;\">\n",
       "      <th></th>\n",
       "      <th>website</th>\n",
       "      <th>website_text</th>\n",
       "    </tr>\n",
       "  </thead>\n",
       "  <tbody>\n",
       "    <tr>\n",
       "      <th>0</th>\n",
       "      <td>http://www.3penterprise.co.uk</td>\n",
       "      <td>3p Enterprise Ltd - UK Distributors of Premium...</td>\n",
       "    </tr>\n",
       "    <tr>\n",
       "      <th>1</th>\n",
       "      <td>http://www.davisworld.com</td>\n",
       "      <td>Best Organic Mattress Furniture Store - San Di...</td>\n",
       "    </tr>\n",
       "    <tr>\n",
       "      <th>2</th>\n",
       "      <td>http://www.alessandragold.com</td>\n",
       "      <td>This page is offline.\\nThis page is offline.\\n...</td>\n",
       "    </tr>\n",
       "    <tr>\n",
       "      <th>3</th>\n",
       "      <td>http://www.americansuitstore.com</td>\n",
       "      <td>American Suit Store, Online Clothing Store - M...</td>\n",
       "    </tr>\n",
       "    <tr>\n",
       "      <th>4</th>\n",
       "      <td>http://www.astheygrowresaleshop.com</td>\n",
       "      <td>astheygrowresaleshop.com\\nWelcome to\\nastheygr...</td>\n",
       "    </tr>\n",
       "  </tbody>\n",
       "</table>\n",
       "</div>"
      ],
      "text/plain": [
       "                               website  \\\n",
       "0        http://www.3penterprise.co.uk   \n",
       "1            http://www.davisworld.com   \n",
       "2        http://www.alessandragold.com   \n",
       "3     http://www.americansuitstore.com   \n",
       "4  http://www.astheygrowresaleshop.com   \n",
       "\n",
       "                                        website_text  \n",
       "0  3p Enterprise Ltd - UK Distributors of Premium...  \n",
       "1  Best Organic Mattress Furniture Store - San Di...  \n",
       "2  This page is offline.\\nThis page is offline.\\n...  \n",
       "3  American Suit Store, Online Clothing Store - M...  \n",
       "4  astheygrowresaleshop.com\\nWelcome to\\nastheygr...  "
      ]
     },
     "execution_count": 3,
     "metadata": {},
     "output_type": "execute_result"
    }
   ],
   "source": [
    "df.head()"
   ]
  },
  {
   "cell_type": "code",
   "execution_count": 11,
   "metadata": {
    "collapsed": false
   },
   "outputs": [],
   "source": [
    "preprocessor = PreProcessor()\n",
    "text_cols = ['website_text']\n",
    "categorical_cols = []\n",
    "numeric_cols = []\n",
    "X,column_names = preprocessor.build_matrix_train(df,text_cols=text_cols,categorical_cols=categorical_cols,\n",
    "                   numeric_cols=numeric_cols,vectorizer_type='Count',synonym_loc=None,\n",
    "                   stem_type=None,phrase_generation=False,\n",
    "                    stop_words_loc='/home/madan/Desktop/joswin_bck/toPendrive/works/chargebee_works/nlp-intelligence/scoring_lists/tradegecko_jan31/stopwords.txt',\n",
    "                    lower=True,n_gram_range=(1,2),\n",
    "                   max_df=0.9,min_df=0.05,vocabulary_loc=None,sparse_format=True,scaling=None)"
   ]
  },
  {
   "cell_type": "code",
   "execution_count": 13,
   "metadata": {
    "collapsed": false
   },
   "outputs": [
    {
     "name": "stdout",
     "output_type": "stream",
     "text": [
      "Topic #0:\n",
      "add, wishlist, cart, add cart, compare, add wishlist, usd, size, glass, added, product, price, plastic, none, used, accessories, browse, food, equipment, black\n",
      "Topic #1:\n",
      "mens, options, shirts, dress, pants, select, big, sizes, love, clothing, view, add, choose, outerwear, compare, blog, contact, button, check, quality\n",
      "Topic #2:\n",
      "quick view, quick, choose, view, options, wish, north, face, bottoms, shirts, shirt, tees, sale, shoes, pants, account, tops, boots, categories, love\n",
      "Topic #3:\n",
      "back, cash, contact, store, home, new, shop, information, service, gifts, see, price, style, products, product, privacy, save, terms, account, site\n",
      "Topic #4:\n",
      "accessories, view, shop, bags, products, new, quick, dresses, dress, price, women, clothing, shoes, tops, black, details, cart, size, contact, one\n",
      "Topic #5:\n",
      "bag, leather, women, bags, view, clothing, jewelry, quick, level, quick view, shoes, great, love, small, travel, warm, service, top, search, zip\n",
      "Topic #6:\n",
      "size, shopify, id, inventory, option, one, price, products, title, dress, true, compare, regular, options, available, src, image, name, featured, quantity\n",
      "Topic #7:\n",
      "usd, glass, plastic, none, view, air, full, details, quantity, quick view, quick, max, size, contact, sign, title, discount, gbp, product, account\n",
      "Topic #8:\n",
      "img, src, img src, style, div, width, height, style display, class, img height, none, none src, height width, width style, display, border, sale, cookies, store, small\n",
      "Topic #9:\n",
      "office, navy, products, clothing, co, education, retail, parts, window, air, large, beach, accessories, tank, shop, home, new, contact, women, hardware\n",
      "Topic #10:\n",
      "repair, currency, parts, email, web, phone, website, get, services, business, new, search, site, free, transfer, protection, design, support, register, contact\n",
      "Topic #11:\n",
      "stock, furniture, garden, kitchen, price, product, bathroom, large, details, delivery, view, home, wall, shop, cm, item, full, items, small, new\n",
      "Topic #12:\n",
      "repair, size, phone, computer, sure, check, contact, make sure, services, security, problem, server, make, page, pages, website, brandshortname, try, proxy, owners\n",
      "Topic #13:\n",
      "view, name, product, offer, check, save, details, review, make, sale, price, please, category, day, computer, delivery, stand, try, shop, server\n",
      "Topic #14:\n",
      "website, div, please, site, email, contact, cart, javascript, strong, browser, log, password, account, div class, review, home, furniture, click, username, class\n",
      "Topic #15:\n",
      "amp, style, shirts, zip, beds, platform, first, product, contact, information, unit, data, please, save, furniture, password, display, privacy, policy, account\n",
      "Topic #16:\n",
      "new, product, view, contact, price, products, stock, item, home, mini, sale, cm, equipment, name, range, electric, cart, top, shop, add\n",
      "Topic #17:\n",
      "verified, review, buyer, share, reviews, helpful, google, twitter, dresses, product, purchased, group, email, user, store, black, connected, love, bags, added\n",
      "Topic #18:\n",
      "error, please, server, information, contact, page, computer, check, make, site, account, case, web, network, please contact, problem, internal, believe, sure, view\n",
      "Topic #19:\n",
      "check, make, make sure, sure, page, try, network, computer, problem, brandshortname, server, website, web, security, proxy, computer network, contact, could, owners, website owners\n",
      "()\n"
     ]
    }
   ],
   "source": [
    "unsup_obj = Unsupervised()\n",
    "topic_extr_obj, X_transformed =  unsup_obj.generate_topics(X,feature_names=column_names,algorithm='lda',\n",
    "                                                           n_topics=20,n_top_words=20)"
   ]
  },
  {
   "cell_type": "code",
   "execution_count": 17,
   "metadata": {
    "collapsed": false
   },
   "outputs": [],
   "source": [
    "df['online_shopping_score'] = X_transformed[:,0]"
   ]
  },
  {
   "cell_type": "code",
   "execution_count": 19,
   "metadata": {
    "collapsed": false
   },
   "outputs": [
    {
     "data": {
      "image/png": "[encoded data removed]",
      "text/plain": [
       "<matplotlib.figure.Figure at 0x9fec5d0>"
      ]
     },
     "metadata": {},
     "output_type": "display_data"
    }
   ],
   "source": [
    "import matplotlib.pyplot as plt\n",
    "plt.hist(df['online_shopping_score'])\n",
    "plt.title(\"Online Shopping Score\")\n",
    "plt.xlabel(\"Value\")\n",
    "plt.ylabel(\"Frequency\")\n",
    "plt.show()"
   ]
  },
  {
   "cell_type": "code",
   "execution_count": 25,
   "metadata": {
    "collapsed": false
   },
   "outputs": [],
   "source": [
    "from analytics_workbench.misc import ScoreBinner\n",
    "import analytics_workbench.misc\n",
    "reload(analytics_workbench.misc)\n",
    "df['score_bin'] = analytics_workbench.misc.ScoreBinner(df['online_shopping_score']).transform(df['online_shopping_score'])"
   ]
  },
  {
   "cell_type": "code",
   "execution_count": 27,
   "metadata": {
    "collapsed": true
   },
   "outputs": [],
   "source": [
    "df[['website','online_shopping_score','score_bin']].to_excel('/home/madan/Desktop/joswin_bck/toPendrive/works/chargebee_works/nlp-intelligence/scoring_lists/tradegecko_jan31/tradegecko_jan31_ecom_score_test1.xls',index=False)"
   ]
  }
 ],
 "metadata": {
  "kernelspec": {
   "display_name": "Python 2",
   "language": "python",
   "name": "python2"
  },
  "language_info": {
   "codemirror_mode": {
    "name": "ipython",
    "version": 2
   },
   "file_extension": ".py",
   "mimetype": "text/x-python",
   "name": "python",
   "nbconvert_exporter": "python",
   "pygments_lexer": "ipython2",
   "version": "2.7.3"
  }
 },
 "nbformat": 4,
 "nbformat_minor": 1
}
