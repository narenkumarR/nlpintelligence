{
 "cells": [
  {
   "cell_type": "code",
   "execution_count": 1,
   "metadata": {
    "collapsed": true
   },
   "outputs": [],
   "source": [
    "import pandas as pd\n",
    "from sqlalchemy import create_engine"
   ]
  },
  {
   "cell_type": "code",
   "execution_count": 2,
   "metadata": {
    "collapsed": true
   },
   "outputs": [],
   "source": [
    "def load_query_batch(cursor,query,options,batch_size):\n",
    "    if options:\n",
    "        cursor.execute(query, options)\n",
    "    else:\n",
    "        cursor.execute(query)\n",
    "    batch = cursor.fetchmany(batch_size)\n",
    "    while batch:\n",
    "        yield batch\n",
    "        batch = cursor.fetchmany(batch_size)            "
   ]
  },
  {
   "cell_type": "code",
   "execution_count": 3,
   "metadata": {
    "collapsed": true
   },
   "outputs": [],
   "source": [
    "def load_data_for_text_processing(cursor,query,options,batch_size):\n",
    "    for batch in load_query_batch(cursor,query,options,batch_size):\n",
    "        if len(batch[0]) > 1:\n",
    "            yield pd.DataFrame(batch).fillna('').apply(lambda x: '. '.join(x),1)\n",
    "        else:\n",
    "            batch = [i[0] for i in batch]\n",
    "            yield pd.Series(batch).fillna('')"
   ]
  },
  {
   "cell_type": "code",
   "execution_count": 4,
   "metadata": {
    "collapsed": true
   },
   "outputs": [],
   "source": [
    "import psycopg2\n",
    "database='crawler_service_test'\n",
    "user='postgres'\n",
    "password='postgres'\n",
    "host='192.168.3.56'\n",
    "\n",
    "con = psycopg2.connect(database=database, user=user,password=password,host=host)\n",
    "cursor = con.cursor()"
   ]
  },
  {
   "cell_type": "markdown",
   "metadata": {},
   "source": [
    "#### building vectorizer from the whole data"
   ]
  },
  {
   "cell_type": "code",
   "execution_count": 5,
   "metadata": {
    "collapsed": true
   },
   "outputs": [],
   "source": [
    "query = 'select all_page_text,home_page_text from crawler.webpage_texts limit 200'\n",
    "data_yielder = load_data_for_text_processing(cursor,query,None,50)"
   ]
  },
  {
   "cell_type": "code",
   "execution_count": 7,
   "metadata": {
    "collapsed": false
   },
   "outputs": [],
   "source": [
    "from analytics_workbench.process_text import ProcessText\n",
    "text_processor = ProcessText()\n",
    "text_processor.generate_vectorizer_iter_list(data_yielder,vectorizer_type='Count',synonym_loc=None,\n",
    "                                stem_type=False,phrase_generation=False,stop_words_loc=None,lower=True,\n",
    "                                n_gram_range=(1,2),max_df=0.9,min_df=0.1)"
   ]
  },
  {
   "cell_type": "code",
   "execution_count": 8,
   "metadata": {
    "collapsed": false
   },
   "outputs": [
    {
     "data": {
      "text/plain": [
       "2079"
      ]
     },
     "execution_count": 8,
     "metadata": {},
     "output_type": "execute_result"
    }
   ],
   "source": [
    "len(text_processor.vocabulary)"
   ]
  },
  {
   "cell_type": "code",
   "execution_count": 9,
   "metadata": {
    "collapsed": false
   },
   "outputs": [],
   "source": [
    "cursor.execute(query)\n",
    "res = cursor.fetchall()"
   ]
  },
  {
   "cell_type": "code",
   "execution_count": 12,
   "metadata": {
    "collapsed": true
   },
   "outputs": [],
   "source": [
    "out_test,vocabulary = text_processor.get_matrix_test(pd.DataFrame(res).fillna('').apply(lambda x: '. '.join(x),1))"
   ]
  },
  {
   "cell_type": "code",
   "execution_count": 13,
   "metadata": {
    "collapsed": false
   },
   "outputs": [
    {
     "data": {
      "text/plain": [
       "(200, 2079)"
      ]
     },
     "execution_count": 13,
     "metadata": {},
     "output_type": "execute_result"
    }
   ],
   "source": [
    "out_test.shape"
   ]
  },
  {
   "cell_type": "markdown",
   "metadata": {},
   "source": [
    "#### generating topics"
   ]
  },
  {
   "cell_type": "markdown",
   "metadata": {},
   "source": [
    "below function will yield data matrix that can be fed into the model iteratively"
   ]
  },
  {
   "cell_type": "code",
   "execution_count": 20,
   "metadata": {
    "collapsed": false
   },
   "outputs": [],
   "source": [
    "def get_data_matrix_iter(text_processor,cursor,query,options,batch_size):\n",
    "    for inp_series in load_data_for_text_processing(cursor,query,options,batch_size):\n",
    "        yield text_processor.get_matrix_test(inp_series)[0]"
   ]
  },
  {
   "cell_type": "code",
   "execution_count": 15,
   "metadata": {
    "collapsed": true
   },
   "outputs": [],
   "source": [
    "from analytics_workbench.unsupervised_learning import Unsupervised\n",
    "unsup_obj = Unsupervised()"
   ]
  },
  {
   "cell_type": "code",
   "execution_count": 23,
   "metadata": {
    "collapsed": false
   },
   "outputs": [
    {
     "name": "stdout",
     "output_type": "stream",
     "text": [
      "Topic #0:\n",
      "site, solutions, cr, r, web, commerce, internet, solution, erp, f\n",
      "Topic #1:\n",
      "r, v, one, us, p, size, style, amp, contact, g\n",
      "Topic #2:\n",
      "web, development, design, services, website, us, contact, site, marketing, web design\n",
      "Topic #3:\n",
      "website, design, marketing, us, services, business, web, contact, digital, elegant\n",
      "Topic #4:\n",
      "site, web, commerce, r, cr, solution, internet, solutions, services, plus\n",
      "Topic #5:\n",
      "us, software, services, data, marketing, contact, development, business, web, online\n",
      "Topic #6:\n",
      "development, services, us, payment, application, software, business, web, mobile, ecommerce\n",
      "Topic #7:\n",
      "check, page, make, sure, make sure, website, try, network, computer, web\n",
      "Topic #8:\n",
      "b, us, solutions, contact, management, global, group, commerce, business, contact us\n",
      "Topic #9:\n",
      "r, amp, site, plus, cr, solutions, web, commerce, f, sp\n",
      "()\n"
     ]
    }
   ],
   "source": [
    "matrix_iter = get_data_matrix_iter(text_processor,cursor,query,None,50)\n",
    "lda_obj = unsup_obj.lda_partial_fit(matrix_iter,text_processor.vocabulary,n_topics=10)"
   ]
  },
  {
   "cell_type": "code",
   "execution_count": 25,
   "metadata": {
    "collapsed": false
   },
   "outputs": [],
   "source": [
    "con.close()"
   ]
  }
 ],
 "metadata": {
  "kernelspec": {
   "display_name": "Python 2",
   "language": "python",
   "name": "python2"
  },
  "language_info": {
   "codemirror_mode": {
    "name": "ipython",
    "version": 2
   },
   "file_extension": ".py",
   "mimetype": "text/x-python",
   "name": "python",
   "nbconvert_exporter": "python",
   "pygments_lexer": "ipython2",
   "version": "2.7.3"
  }
 },
 "nbformat": 4,
 "nbformat_minor": 1
}
