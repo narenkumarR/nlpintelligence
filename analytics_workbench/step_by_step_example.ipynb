{
 "cells": [
  {
   "cell_type": "markdown",
   "metadata": {},
   "source": [
    "# Analytics workbench example"
   ]
  },
  {
   "cell_type": "markdown",
   "metadata": {},
   "source": [
    "importing the required module"
   ]
  },
  {
   "cell_type": "code",
   "execution_count": 1,
   "metadata": {
    "collapsed": false
   },
   "outputs": [],
   "source": [
    "from analytics_workbench.read_data import DataReader\n",
    "from analytics_workbench.preprocessing import PreProcessor\n",
    "from analytics_workbench.unsupervised_learning import Unsupervised\n",
    "from analytics_workbench.supervised_learning import ClassificationModelCV\n",
    "from analytics_workbench.model_diagnostics import ClassificationModelDiagnotstics"
   ]
  },
  {
   "cell_type": "markdown",
   "metadata": {},
   "source": [
    "### Reading data\n",
    "DataReader can be used to read data from csv/excel files or from postgres queries"
   ]
  },
  {
   "cell_type": "code",
   "execution_count": 2,
   "metadata": {
    "collapsed": false
   },
   "outputs": [
    {
     "data": {
      "text/plain": [
       "(3686, 43)"
      ]
     },
     "execution_count": 2,
     "metadata": {},
     "output_type": "execute_result"
    }
   ],
   "source": [
    "reader = DataReader()\n",
    "df = reader.read_excel('ecommerce_sample_data_for_ui_with_people1.xls')\n",
    "df.shape"
   ]
  },
  {
   "cell_type": "markdown",
   "metadata": {},
   "source": [
    "### looking at the data"
   ]
  },
  {
   "cell_type": "code",
   "execution_count": 3,
   "metadata": {
    "collapsed": false,
    "scrolled": false
   },
   "outputs": [
    {
     "data": {
      "text/html": [
       "<div>\n",
       "<table border=\"1\" class=\"dataframe\">\n",
       "  <thead>\n",
       "    <tr style=\"text-align: right;\">\n",
       "      <th></th>\n",
       "      <th>name</th>\n",
       "      <th>designation</th>\n",
       "      <th>location_person</th>\n",
       "      <th>linkedin_url</th>\n",
       "      <th>company_name</th>\n",
       "      <th>no_of_employees</th>\n",
       "      <th>sector</th>\n",
       "      <th>company_type</th>\n",
       "      <th>headquarters</th>\n",
       "      <th>description</th>\n",
       "      <th>...</th>\n",
       "      <th>product_categories</th>\n",
       "      <th>browse_and_filter</th>\n",
       "      <th>faceted_search</th>\n",
       "      <th>recommendation_coll_filtering</th>\n",
       "      <th>visual_merchandising</th>\n",
       "      <th>people_linkedin_url</th>\n",
       "      <th>first_name</th>\n",
       "      <th>middle_name</th>\n",
       "      <th>last_name</th>\n",
       "      <th>email</th>\n",
       "    </tr>\n",
       "  </thead>\n",
       "  <tbody>\n",
       "    <tr>\n",
       "      <th>0</th>\n",
       "      <td>Aamir Baig</td>\n",
       "      <td>Co-Founder, CEO Bryght.com</td>\n",
       "      <td>Canada</td>\n",
       "      <td>https://www.linkedin.com/company/bryght-com</td>\n",
       "      <td>Bryght.com</td>\n",
       "      <td>11-50 employees</td>\n",
       "      <td>Retail</td>\n",
       "      <td>Privately Held</td>\n",
       "      <td>520 Alexander St Vancouver, BC V6A 1C7 Canada</td>\n",
       "      <td>Article (formerly Bryght) delivers beautifully...</td>\n",
       "      <td>...</td>\n",
       "      <td>NaN</td>\n",
       "      <td>0</td>\n",
       "      <td>1</td>\n",
       "      <td>1</td>\n",
       "      <td>1</td>\n",
       "      <td>https://www.linkedin.com/in/abaig</td>\n",
       "      <td>Aamir</td>\n",
       "      <td>NaN</td>\n",
       "      <td>Baig</td>\n",
       "      <td>Aamir.Baig@article.com</td>\n",
       "    </tr>\n",
       "    <tr>\n",
       "      <th>1</th>\n",
       "      <td>Aaron Beadle</td>\n",
       "      <td>Head of Infrastructure &amp; Technology at Flubit ...</td>\n",
       "      <td>Chelmsford, United Kingdom</td>\n",
       "      <td>https://www.linkedin.com/company/flubit-limited</td>\n",
       "      <td>Flubit</td>\n",
       "      <td>51-200 employees</td>\n",
       "      <td>Retail</td>\n",
       "      <td>Privately Held</td>\n",
       "      <td>Metropolitan Wharf Wapping London, E1W 3SS Uni...</td>\n",
       "      <td>Found something you want to buy online?  Want ...</td>\n",
       "      <td>...</td>\n",
       "      <td>NaN</td>\n",
       "      <td>0</td>\n",
       "      <td>0</td>\n",
       "      <td>0</td>\n",
       "      <td>0</td>\n",
       "      <td>https://www.linkedin.com/in/aaron-beadle-58b80342</td>\n",
       "      <td>Aaron</td>\n",
       "      <td>NaN</td>\n",
       "      <td>Beadle</td>\n",
       "      <td>Aaron.Beadle@flubit.com</td>\n",
       "    </tr>\n",
       "    <tr>\n",
       "      <th>2</th>\n",
       "      <td>Aaron Duncan</td>\n",
       "      <td>Chief Marketing Officer &amp; Creative Director at...</td>\n",
       "      <td>New York, New York</td>\n",
       "      <td>https://www.linkedin.com/company/the-sak</td>\n",
       "      <td>The Sak</td>\n",
       "      <td>51-200 employees</td>\n",
       "      <td>Apparel &amp; Fashion</td>\n",
       "      <td>Privately Held</td>\n",
       "      <td>United States</td>\n",
       "      <td>Longtime friends Mark Talucci and Todd Elliott...</td>\n",
       "      <td>...</td>\n",
       "      <td>NaN</td>\n",
       "      <td>0</td>\n",
       "      <td>0</td>\n",
       "      <td>0</td>\n",
       "      <td>1</td>\n",
       "      <td>https://www.linkedin.com/in/aaronjduncan</td>\n",
       "      <td>Aaron</td>\n",
       "      <td>NaN</td>\n",
       "      <td>Duncan</td>\n",
       "      <td>Aaron.Duncan@thesak.com</td>\n",
       "    </tr>\n",
       "    <tr>\n",
       "      <th>3</th>\n",
       "      <td>Aaron Firestein</td>\n",
       "      <td>Co-Founder and Chief Artist at BucketFeet</td>\n",
       "      <td>Greater Chicago Area</td>\n",
       "      <td>https://www.linkedin.com/company/bucketfeet</td>\n",
       "      <td>BucketFeet</td>\n",
       "      <td>11-50 employees</td>\n",
       "      <td>Apparel &amp; Fashion</td>\n",
       "      <td>Privately Held</td>\n",
       "      <td>935 West Randolph Floor Two Chicago, IL 60607 ...</td>\n",
       "      <td>About BucketFeet. BucketFeet’s mission is to c...</td>\n",
       "      <td>...</td>\n",
       "      <td>NaN</td>\n",
       "      <td>1</td>\n",
       "      <td>0</td>\n",
       "      <td>0</td>\n",
       "      <td>1</td>\n",
       "      <td>https://www.linkedin.com/in/aaron-firestein-3a...</td>\n",
       "      <td>Aaron</td>\n",
       "      <td>NaN</td>\n",
       "      <td>Firestein</td>\n",
       "      <td>Aaron.Firestein@bucketfeet.com</td>\n",
       "    </tr>\n",
       "    <tr>\n",
       "      <th>4</th>\n",
       "      <td>Aaron Harari</td>\n",
       "      <td>President &amp; CEO, Legwear. At Basic Resources, ...</td>\n",
       "      <td>Greater New York City Area</td>\n",
       "      <td>https://www.linkedin.com/company/basic-resourc...</td>\n",
       "      <td>Basic Resources, Inc.</td>\n",
       "      <td>51-200 employees</td>\n",
       "      <td>Apparel &amp; Fashion</td>\n",
       "      <td>Privately Held</td>\n",
       "      <td>1411 Braodway 2nd Floor New York, New York 100...</td>\n",
       "      <td>Since our founding in 1993, Basic Resources ha...</td>\n",
       "      <td>...</td>\n",
       "      <td>NaN</td>\n",
       "      <td>1</td>\n",
       "      <td>1</td>\n",
       "      <td>0</td>\n",
       "      <td>0</td>\n",
       "      <td>https://www.linkedin.com/in/aaron-harari-53423213</td>\n",
       "      <td>Aaron</td>\n",
       "      <td>NaN</td>\n",
       "      <td>Harari</td>\n",
       "      <td>Aaron.Harari@basicresources.com</td>\n",
       "    </tr>\n",
       "  </tbody>\n",
       "</table>\n",
       "<p>5 rows × 43 columns</p>\n",
       "</div>"
      ],
      "text/plain": [
       "              name                                        designation  \\\n",
       "0       Aamir Baig                         Co-Founder, CEO Bryght.com   \n",
       "1     Aaron Beadle  Head of Infrastructure & Technology at Flubit ...   \n",
       "2     Aaron Duncan  Chief Marketing Officer & Creative Director at...   \n",
       "3  Aaron Firestein          Co-Founder and Chief Artist at BucketFeet   \n",
       "4     Aaron Harari  President & CEO, Legwear. At Basic Resources, ...   \n",
       "\n",
       "              location_person  \\\n",
       "0                      Canada   \n",
       "1  Chelmsford, United Kingdom   \n",
       "2          New York, New York   \n",
       "3        Greater Chicago Area   \n",
       "4  Greater New York City Area   \n",
       "\n",
       "                                        linkedin_url           company_name  \\\n",
       "0        https://www.linkedin.com/company/bryght-com             Bryght.com   \n",
       "1    https://www.linkedin.com/company/flubit-limited                 Flubit   \n",
       "2           https://www.linkedin.com/company/the-sak                The Sak   \n",
       "3        https://www.linkedin.com/company/bucketfeet             BucketFeet   \n",
       "4  https://www.linkedin.com/company/basic-resourc...  Basic Resources, Inc.   \n",
       "\n",
       "    no_of_employees             sector    company_type  \\\n",
       "0   11-50 employees             Retail  Privately Held   \n",
       "1  51-200 employees             Retail  Privately Held   \n",
       "2  51-200 employees  Apparel & Fashion  Privately Held   \n",
       "3   11-50 employees  Apparel & Fashion  Privately Held   \n",
       "4  51-200 employees  Apparel & Fashion  Privately Held   \n",
       "\n",
       "                                        headquarters  \\\n",
       "0      520 Alexander St Vancouver, BC V6A 1C7 Canada   \n",
       "1  Metropolitan Wharf Wapping London, E1W 3SS Uni...   \n",
       "2                                      United States   \n",
       "3  935 West Randolph Floor Two Chicago, IL 60607 ...   \n",
       "4  1411 Braodway 2nd Floor New York, New York 100...   \n",
       "\n",
       "                                         description  \\\n",
       "0  Article (formerly Bryght) delivers beautifully...   \n",
       "1  Found something you want to buy online?  Want ...   \n",
       "2  Longtime friends Mark Talucci and Todd Elliott...   \n",
       "3  About BucketFeet. BucketFeet’s mission is to c...   \n",
       "4  Since our founding in 1993, Basic Resources ha...   \n",
       "\n",
       "                ...                 product_categories browse_and_filter  \\\n",
       "0               ...                                NaN                 0   \n",
       "1               ...                                NaN                 0   \n",
       "2               ...                                NaN                 0   \n",
       "3               ...                                NaN                 1   \n",
       "4               ...                                NaN                 1   \n",
       "\n",
       "  faceted_search recommendation_coll_filtering visual_merchandising  \\\n",
       "0              1                             1                    1   \n",
       "1              0                             0                    0   \n",
       "2              0                             0                    1   \n",
       "3              0                             0                    1   \n",
       "4              1                             0                    0   \n",
       "\n",
       "                                 people_linkedin_url first_name middle_name  \\\n",
       "0                  https://www.linkedin.com/in/abaig      Aamir         NaN   \n",
       "1  https://www.linkedin.com/in/aaron-beadle-58b80342      Aaron         NaN   \n",
       "2           https://www.linkedin.com/in/aaronjduncan      Aaron         NaN   \n",
       "3  https://www.linkedin.com/in/aaron-firestein-3a...      Aaron         NaN   \n",
       "4  https://www.linkedin.com/in/aaron-harari-53423213      Aaron         NaN   \n",
       "\n",
       "   last_name                            email  \n",
       "0       Baig           Aamir.Baig@article.com  \n",
       "1     Beadle          Aaron.Beadle@flubit.com  \n",
       "2     Duncan          Aaron.Duncan@thesak.com  \n",
       "3  Firestein   Aaron.Firestein@bucketfeet.com  \n",
       "4     Harari  Aaron.Harari@basicresources.com  \n",
       "\n",
       "[5 rows x 43 columns]"
      ]
     },
     "execution_count": 3,
     "metadata": {},
     "output_type": "execute_result"
    }
   ],
   "source": [
    "df.head()"
   ]
  },
  {
   "cell_type": "code",
   "execution_count": 4,
   "metadata": {
    "collapsed": false
   },
   "outputs": [
    {
     "data": {
      "text/plain": [
       "Index([u'name', u'designation', u'location_person', u'linkedin_url',\n",
       "       u'company_name', u'no_of_employees', u'sector', u'company_type',\n",
       "       u'headquarters', u'description', u'founded', u'specialties', u'website',\n",
       "       u'domain', u'location', u'region', u'country', u'wtech_names',\n",
       "       u'first_funding_at', u'last_funding_at', u'funding_rounds',\n",
       "       u'funding_amount', u'last_funded_at', u'funding_level',\n",
       "       u'funding_round_code', u'last_raised_amount_usd', u'valuation',\n",
       "       u'average_transaction_value', u'no_of_products',\n",
       "       u'no_of_unique_visitors', u'all_locations', u'channel_presence',\n",
       "       u'market_place_type', u'product_categories', u'browse_and_filter',\n",
       "       u'faceted_search', u'recommendation_coll_filtering',\n",
       "       u'visual_merchandising', u'people_linkedin_url', u'first_name',\n",
       "       u'middle_name', u'last_name', u'email'],\n",
       "      dtype='object')"
      ]
     },
     "execution_count": 4,
     "metadata": {},
     "output_type": "execute_result"
    }
   ],
   "source": [
    "df.columns"
   ]
  },
  {
   "cell_type": "markdown",
   "metadata": {},
   "source": [
    "### columns with data which can be used for analysis"
   ]
  },
  {
   "cell_type": "code",
   "execution_count": 5,
   "metadata": {
    "collapsed": false,
    "scrolled": true
   },
   "outputs": [
    {
     "data": {
      "text/html": [
       "<div>\n",
       "<table border=\"1\" class=\"dataframe\">\n",
       "  <thead>\n",
       "    <tr style=\"text-align: right;\">\n",
       "      <th></th>\n",
       "      <th>no_of_employees</th>\n",
       "      <th>sector</th>\n",
       "      <th>company_type</th>\n",
       "      <th>description</th>\n",
       "      <th>founded</th>\n",
       "      <th>specialties</th>\n",
       "      <th>country</th>\n",
       "      <th>funding_rounds</th>\n",
       "      <th>funding_amount</th>\n",
       "      <th>no_of_products</th>\n",
       "      <th>no_of_unique_visitors</th>\n",
       "      <th>channel_presence</th>\n",
       "      <th>market_place_type</th>\n",
       "      <th>browse_and_filter</th>\n",
       "      <th>faceted_search</th>\n",
       "      <th>recommendation_coll_filtering</th>\n",
       "      <th>visual_merchandising</th>\n",
       "    </tr>\n",
       "  </thead>\n",
       "  <tbody>\n",
       "    <tr>\n",
       "      <th>0</th>\n",
       "      <td>11-50 employees</td>\n",
       "      <td>Retail</td>\n",
       "      <td>Privately Held</td>\n",
       "      <td>Article (formerly Bryght) delivers beautifully...</td>\n",
       "      <td>2011.0</td>\n",
       "      <td>Retail, Wholesale, Furniture, Dining Room Furn...</td>\n",
       "      <td>CANADA</td>\n",
       "      <td>NaN</td>\n",
       "      <td>NaN</td>\n",
       "      <td>0-5,000</td>\n",
       "      <td>0-50,000</td>\n",
       "      <td>Online</td>\n",
       "      <td>Info Aggregator</td>\n",
       "      <td>0</td>\n",
       "      <td>1</td>\n",
       "      <td>1</td>\n",
       "      <td>1</td>\n",
       "    </tr>\n",
       "    <tr>\n",
       "      <th>1</th>\n",
       "      <td>51-200 employees</td>\n",
       "      <td>Retail</td>\n",
       "      <td>Privately Held</td>\n",
       "      <td>Found something you want to buy online?  Want ...</td>\n",
       "      <td>2011.0</td>\n",
       "      <td>ecommerce, native commerce, retail, online mar...</td>\n",
       "      <td>UNITED KINGDOM</td>\n",
       "      <td>NaN</td>\n",
       "      <td>NaN</td>\n",
       "      <td>5,000-50,000</td>\n",
       "      <td>200,000-1,000,000</td>\n",
       "      <td>Online</td>\n",
       "      <td>Comparison Shopping</td>\n",
       "      <td>0</td>\n",
       "      <td>0</td>\n",
       "      <td>0</td>\n",
       "      <td>0</td>\n",
       "    </tr>\n",
       "    <tr>\n",
       "      <th>2</th>\n",
       "      <td>51-200 employees</td>\n",
       "      <td>Apparel &amp; Fashion</td>\n",
       "      <td>Privately Held</td>\n",
       "      <td>Longtime friends Mark Talucci and Todd Elliott...</td>\n",
       "      <td>NaN</td>\n",
       "      <td>NaN</td>\n",
       "      <td>UNITED STATES</td>\n",
       "      <td>NaN</td>\n",
       "      <td>NaN</td>\n",
       "      <td>500,000-1,000,000</td>\n",
       "      <td>1,000,000-5,000,000</td>\n",
       "      <td>Mobile</td>\n",
       "      <td>Peer-2-Peer</td>\n",
       "      <td>0</td>\n",
       "      <td>0</td>\n",
       "      <td>0</td>\n",
       "      <td>1</td>\n",
       "    </tr>\n",
       "    <tr>\n",
       "      <th>3</th>\n",
       "      <td>11-50 employees</td>\n",
       "      <td>Apparel &amp; Fashion</td>\n",
       "      <td>Privately Held</td>\n",
       "      <td>About BucketFeet. BucketFeet’s mission is to c...</td>\n",
       "      <td>2011.0</td>\n",
       "      <td>Footwear, Art, Fashion, E-Commerce</td>\n",
       "      <td>UNITED STATES</td>\n",
       "      <td>3.0</td>\n",
       "      <td>2160000.0</td>\n",
       "      <td>500,000-1,000,000</td>\n",
       "      <td>5,000,000-10,000,000</td>\n",
       "      <td>MultiChannel</td>\n",
       "      <td>Merchants</td>\n",
       "      <td>1</td>\n",
       "      <td>0</td>\n",
       "      <td>0</td>\n",
       "      <td>1</td>\n",
       "    </tr>\n",
       "    <tr>\n",
       "      <th>4</th>\n",
       "      <td>51-200 employees</td>\n",
       "      <td>Apparel &amp; Fashion</td>\n",
       "      <td>Privately Held</td>\n",
       "      <td>Since our founding in 1993, Basic Resources ha...</td>\n",
       "      <td>1993.0</td>\n",
       "      <td>Premier Global Manufacturer, Loungewear, Under...</td>\n",
       "      <td>UNITED STATES</td>\n",
       "      <td>NaN</td>\n",
       "      <td>NaN</td>\n",
       "      <td>200,000-500,000</td>\n",
       "      <td>1,000,000-5,000,000</td>\n",
       "      <td>MultiChannel</td>\n",
       "      <td>Merchants</td>\n",
       "      <td>1</td>\n",
       "      <td>1</td>\n",
       "      <td>0</td>\n",
       "      <td>0</td>\n",
       "    </tr>\n",
       "  </tbody>\n",
       "</table>\n",
       "</div>"
      ],
      "text/plain": [
       "    no_of_employees             sector    company_type  \\\n",
       "0   11-50 employees             Retail  Privately Held   \n",
       "1  51-200 employees             Retail  Privately Held   \n",
       "2  51-200 employees  Apparel & Fashion  Privately Held   \n",
       "3   11-50 employees  Apparel & Fashion  Privately Held   \n",
       "4  51-200 employees  Apparel & Fashion  Privately Held   \n",
       "\n",
       "                                         description  founded  \\\n",
       "0  Article (formerly Bryght) delivers beautifully...   2011.0   \n",
       "1  Found something you want to buy online?  Want ...   2011.0   \n",
       "2  Longtime friends Mark Talucci and Todd Elliott...      NaN   \n",
       "3  About BucketFeet. BucketFeet’s mission is to c...   2011.0   \n",
       "4  Since our founding in 1993, Basic Resources ha...   1993.0   \n",
       "\n",
       "                                         specialties         country  \\\n",
       "0  Retail, Wholesale, Furniture, Dining Room Furn...          CANADA   \n",
       "1  ecommerce, native commerce, retail, online mar...  UNITED KINGDOM   \n",
       "2                                                NaN   UNITED STATES   \n",
       "3                 Footwear, Art, Fashion, E-Commerce   UNITED STATES   \n",
       "4  Premier Global Manufacturer, Loungewear, Under...   UNITED STATES   \n",
       "\n",
       "   funding_rounds  funding_amount     no_of_products no_of_unique_visitors  \\\n",
       "0             NaN             NaN            0-5,000              0-50,000   \n",
       "1             NaN             NaN       5,000-50,000     200,000-1,000,000   \n",
       "2             NaN             NaN  500,000-1,000,000   1,000,000-5,000,000   \n",
       "3             3.0       2160000.0  500,000-1,000,000  5,000,000-10,000,000   \n",
       "4             NaN             NaN    200,000-500,000   1,000,000-5,000,000   \n",
       "\n",
       "  channel_presence    market_place_type  browse_and_filter  faceted_search  \\\n",
       "0           Online      Info Aggregator                  0               1   \n",
       "1           Online  Comparison Shopping                  0               0   \n",
       "2           Mobile          Peer-2-Peer                  0               0   \n",
       "3     MultiChannel            Merchants                  1               0   \n",
       "4     MultiChannel            Merchants                  1               1   \n",
       "\n",
       "   recommendation_coll_filtering  visual_merchandising  \n",
       "0                              1                     1  \n",
       "1                              0                     0  \n",
       "2                              0                     1  \n",
       "3                              0                     1  \n",
       "4                              0                     0  "
      ]
     },
     "execution_count": 5,
     "metadata": {},
     "output_type": "execute_result"
    }
   ],
   "source": [
    "valid_cols = ['no_of_employees', 'sector', 'company_type', 'description', 'founded', 'specialties',\n",
    "             'country','funding_rounds','funding_amount','no_of_products', 'no_of_unique_visitors',\n",
    "             'channel_presence', 'market_place_type', 'browse_and_filter', 'faceted_search',\n",
    "           'recommendation_coll_filtering', 'visual_merchandising']\n",
    "df_valid = df[valid_cols]\n",
    "df_valid.head()"
   ]
  },
  {
   "cell_type": "markdown",
   "metadata": {},
   "source": [
    "### handling missing values"
   ]
  },
  {
   "cell_type": "code",
   "execution_count": 6,
   "metadata": {
    "collapsed": false
   },
   "outputs": [
    {
     "name": "stderr",
     "output_type": "stream",
     "text": [
      "/usr/local/lib/python2.7/dist-packages/pandas/core/indexing.py:477: SettingWithCopyWarning: \n",
      "A value is trying to be set on a copy of a slice from a DataFrame.\n",
      "Try using .loc[row_indexer,col_indexer] = value instead\n",
      "\n",
      "See the caveats in the documentation: http://pandas.pydata.org/pandas-docs/stable/indexing.html#indexing-view-versus-copy\n",
      "  self.obj[item] = s\n"
     ]
    }
   ],
   "source": [
    "# filling missing values\n",
    "df_valid.loc[:,['no_of_employees','sector','company_type','country','channel_presence','market_place_type',\n",
    "          'no_of_products','no_of_unique_visitors']] = \\\n",
    "df_valid.loc[:,['no_of_employees','sector','company_type','country','channel_presence','market_place_type',\n",
    "         'no_of_products','no_of_unique_visitors']].\\\n",
    "fillna('no data')\n",
    "df_valid.loc[:,['description','specialties']] = df_valid.loc[:,['description','specialties']].fillna('')\n",
    "df_valid.loc[:,['funding_rounds','funding_amount']] = df_valid.loc[:,['funding_rounds','funding_amount']].fillna(0)\n",
    "df_valid.loc[:,['browse_and_filter','faceted_search','recommendation_coll_filtering','visual_merchandising']] = \\\n",
    "df_valid.loc[:,['browse_and_filter','faceted_search','recommendation_coll_filtering','visual_merchandising']].fillna(0)"
   ]
  },
  {
   "cell_type": "code",
   "execution_count": 7,
   "metadata": {
    "collapsed": false
   },
   "outputs": [],
   "source": [
    "#treating founded year : find how old is the company\n",
    "df_valid.loc[:,'founded'] = 2017-df_valid['founded'].fillna(2017)"
   ]
  },
  {
   "cell_type": "markdown",
   "metadata": {},
   "source": [
    "### Final data which can be given to pre-processing module"
   ]
  },
  {
   "cell_type": "code",
   "execution_count": 8,
   "metadata": {
    "collapsed": false,
    "scrolled": false
   },
   "outputs": [
    {
     "data": {
      "text/html": [
       "<div>\n",
       "<table border=\"1\" class=\"dataframe\">\n",
       "  <thead>\n",
       "    <tr style=\"text-align: right;\">\n",
       "      <th></th>\n",
       "      <th>no_of_employees</th>\n",
       "      <th>sector</th>\n",
       "      <th>company_type</th>\n",
       "      <th>description</th>\n",
       "      <th>founded</th>\n",
       "      <th>specialties</th>\n",
       "      <th>country</th>\n",
       "      <th>funding_rounds</th>\n",
       "      <th>funding_amount</th>\n",
       "      <th>no_of_products</th>\n",
       "      <th>no_of_unique_visitors</th>\n",
       "      <th>channel_presence</th>\n",
       "      <th>market_place_type</th>\n",
       "      <th>browse_and_filter</th>\n",
       "      <th>faceted_search</th>\n",
       "      <th>recommendation_coll_filtering</th>\n",
       "      <th>visual_merchandising</th>\n",
       "    </tr>\n",
       "  </thead>\n",
       "  <tbody>\n",
       "    <tr>\n",
       "      <th>0</th>\n",
       "      <td>11-50 employees</td>\n",
       "      <td>Retail</td>\n",
       "      <td>Privately Held</td>\n",
       "      <td>Article (formerly Bryght) delivers beautifully...</td>\n",
       "      <td>6.0</td>\n",
       "      <td>Retail, Wholesale, Furniture, Dining Room Furn...</td>\n",
       "      <td>CANADA</td>\n",
       "      <td>0.0</td>\n",
       "      <td>0.0</td>\n",
       "      <td>0-5,000</td>\n",
       "      <td>0-50,000</td>\n",
       "      <td>Online</td>\n",
       "      <td>Info Aggregator</td>\n",
       "      <td>0</td>\n",
       "      <td>1</td>\n",
       "      <td>1</td>\n",
       "      <td>1</td>\n",
       "    </tr>\n",
       "    <tr>\n",
       "      <th>1</th>\n",
       "      <td>51-200 employees</td>\n",
       "      <td>Retail</td>\n",
       "      <td>Privately Held</td>\n",
       "      <td>Found something you want to buy online?  Want ...</td>\n",
       "      <td>6.0</td>\n",
       "      <td>ecommerce, native commerce, retail, online mar...</td>\n",
       "      <td>UNITED KINGDOM</td>\n",
       "      <td>0.0</td>\n",
       "      <td>0.0</td>\n",
       "      <td>5,000-50,000</td>\n",
       "      <td>200,000-1,000,000</td>\n",
       "      <td>Online</td>\n",
       "      <td>Comparison Shopping</td>\n",
       "      <td>0</td>\n",
       "      <td>0</td>\n",
       "      <td>0</td>\n",
       "      <td>0</td>\n",
       "    </tr>\n",
       "    <tr>\n",
       "      <th>2</th>\n",
       "      <td>51-200 employees</td>\n",
       "      <td>Apparel &amp; Fashion</td>\n",
       "      <td>Privately Held</td>\n",
       "      <td>Longtime friends Mark Talucci and Todd Elliott...</td>\n",
       "      <td>0.0</td>\n",
       "      <td></td>\n",
       "      <td>UNITED STATES</td>\n",
       "      <td>0.0</td>\n",
       "      <td>0.0</td>\n",
       "      <td>500,000-1,000,000</td>\n",
       "      <td>1,000,000-5,000,000</td>\n",
       "      <td>Mobile</td>\n",
       "      <td>Peer-2-Peer</td>\n",
       "      <td>0</td>\n",
       "      <td>0</td>\n",
       "      <td>0</td>\n",
       "      <td>1</td>\n",
       "    </tr>\n",
       "    <tr>\n",
       "      <th>3</th>\n",
       "      <td>11-50 employees</td>\n",
       "      <td>Apparel &amp; Fashion</td>\n",
       "      <td>Privately Held</td>\n",
       "      <td>About BucketFeet. BucketFeet’s mission is to c...</td>\n",
       "      <td>6.0</td>\n",
       "      <td>Footwear, Art, Fashion, E-Commerce</td>\n",
       "      <td>UNITED STATES</td>\n",
       "      <td>3.0</td>\n",
       "      <td>2160000.0</td>\n",
       "      <td>500,000-1,000,000</td>\n",
       "      <td>5,000,000-10,000,000</td>\n",
       "      <td>MultiChannel</td>\n",
       "      <td>Merchants</td>\n",
       "      <td>1</td>\n",
       "      <td>0</td>\n",
       "      <td>0</td>\n",
       "      <td>1</td>\n",
       "    </tr>\n",
       "    <tr>\n",
       "      <th>4</th>\n",
       "      <td>51-200 employees</td>\n",
       "      <td>Apparel &amp; Fashion</td>\n",
       "      <td>Privately Held</td>\n",
       "      <td>Since our founding in 1993, Basic Resources ha...</td>\n",
       "      <td>24.0</td>\n",
       "      <td>Premier Global Manufacturer, Loungewear, Under...</td>\n",
       "      <td>UNITED STATES</td>\n",
       "      <td>0.0</td>\n",
       "      <td>0.0</td>\n",
       "      <td>200,000-500,000</td>\n",
       "      <td>1,000,000-5,000,000</td>\n",
       "      <td>MultiChannel</td>\n",
       "      <td>Merchants</td>\n",
       "      <td>1</td>\n",
       "      <td>1</td>\n",
       "      <td>0</td>\n",
       "      <td>0</td>\n",
       "    </tr>\n",
       "  </tbody>\n",
       "</table>\n",
       "</div>"
      ],
      "text/plain": [
       "    no_of_employees             sector    company_type  \\\n",
       "0   11-50 employees             Retail  Privately Held   \n",
       "1  51-200 employees             Retail  Privately Held   \n",
       "2  51-200 employees  Apparel & Fashion  Privately Held   \n",
       "3   11-50 employees  Apparel & Fashion  Privately Held   \n",
       "4  51-200 employees  Apparel & Fashion  Privately Held   \n",
       "\n",
       "                                         description  founded  \\\n",
       "0  Article (formerly Bryght) delivers beautifully...      6.0   \n",
       "1  Found something you want to buy online?  Want ...      6.0   \n",
       "2  Longtime friends Mark Talucci and Todd Elliott...      0.0   \n",
       "3  About BucketFeet. BucketFeet’s mission is to c...      6.0   \n",
       "4  Since our founding in 1993, Basic Resources ha...     24.0   \n",
       "\n",
       "                                         specialties         country  \\\n",
       "0  Retail, Wholesale, Furniture, Dining Room Furn...          CANADA   \n",
       "1  ecommerce, native commerce, retail, online mar...  UNITED KINGDOM   \n",
       "2                                                      UNITED STATES   \n",
       "3                 Footwear, Art, Fashion, E-Commerce   UNITED STATES   \n",
       "4  Premier Global Manufacturer, Loungewear, Under...   UNITED STATES   \n",
       "\n",
       "   funding_rounds  funding_amount     no_of_products no_of_unique_visitors  \\\n",
       "0             0.0             0.0            0-5,000              0-50,000   \n",
       "1             0.0             0.0       5,000-50,000     200,000-1,000,000   \n",
       "2             0.0             0.0  500,000-1,000,000   1,000,000-5,000,000   \n",
       "3             3.0       2160000.0  500,000-1,000,000  5,000,000-10,000,000   \n",
       "4             0.0             0.0    200,000-500,000   1,000,000-5,000,000   \n",
       "\n",
       "  channel_presence    market_place_type  browse_and_filter  faceted_search  \\\n",
       "0           Online      Info Aggregator                  0               1   \n",
       "1           Online  Comparison Shopping                  0               0   \n",
       "2           Mobile          Peer-2-Peer                  0               0   \n",
       "3     MultiChannel            Merchants                  1               0   \n",
       "4     MultiChannel            Merchants                  1               1   \n",
       "\n",
       "   recommendation_coll_filtering  visual_merchandising  \n",
       "0                              1                     1  \n",
       "1                              0                     0  \n",
       "2                              0                     1  \n",
       "3                              0                     1  \n",
       "4                              0                     0  "
      ]
     },
     "execution_count": 8,
     "metadata": {},
     "output_type": "execute_result"
    }
   ],
   "source": [
    "df_valid.head()"
   ]
  },
  {
   "cell_type": "markdown",
   "metadata": {},
   "source": [
    "### Creating a sample dv to test the code\n",
    "(let the dv be a 0/1 flag to predict if the sector is in Internet/Computer Software/Information Technology and Services) "
   ]
  },
  {
   "cell_type": "code",
   "execution_count": 9,
   "metadata": {
    "collapsed": false
   },
   "outputs": [
    {
     "data": {
      "text/plain": [
       "False    2876\n",
       "True      810\n",
       "Name: sector, dtype: int64"
      ]
     },
     "execution_count": 9,
     "metadata": {},
     "output_type": "execute_result"
    }
   ],
   "source": [
    "dv = df_valid['sector'].isin(['Internet','Computer Software','Information Technology and Services'])\n",
    "dv.value_counts()"
   ]
  },
  {
   "cell_type": "markdown",
   "metadata": {},
   "source": [
    "### Splitting the data into train and test"
   ]
  },
  {
   "cell_type": "code",
   "execution_count": 10,
   "metadata": {
    "collapsed": false
   },
   "outputs": [],
   "source": [
    "#train test split\n",
    "from numpy.random import rand\n",
    "msk = rand(df_valid.shape[0]) < 0.8\n",
    "df_train,df_test,dv_train,dv_test = df_valid[msk],df_valid[~msk],dv[msk],dv[~msk]"
   ]
  },
  {
   "cell_type": "markdown",
   "metadata": {},
   "source": [
    "## Pre-processing the data\n",
    "### Parameters\n",
    "text_cols : Text columns in the data. They will be combined and converted into bag of words/phrases matrix\n",
    "\n",
    "categorical_cols : Categorical variables. A binary flag will be created for each category\n",
    "\n",
    "numeric_cols : will be used directly\n",
    "\n",
    "#### Text processing related options:\n",
    "vectorizer_type : Can be Count or Tfidf\n",
    "\n",
    "synonym_loc : location of a file were synonyms are stored. All the synonyms will be represented by a single word\n",
    "\n",
    "stem_type : stemming/lemmatization will be done if this option is set\n",
    "\n",
    "phrase_generation : If this option is set to True, phrases will be generated from text.\n",
    "\n",
    "stop_words_loc : Give customer stop words in this location. They will be added to default list of stopwords.\n",
    "\n",
    "lower : All texts will be converted to lower-case\n",
    "\n",
    "n_gram_range : \n",
    "\n",
    "max_df and min_df : words happening within these ranges will be present in the output (can be fraction or number)\n",
    "\n",
    "vocabulary_loc : If vocabulary is already generated, give its location. Only those words will be present in the output\n",
    "\n",
    "#### Other options:\n",
    "\n",
    "sparse_format : if True, the output will be in sparse format, otherwise in dense format\n",
    "\n",
    "scaling : Scaling to be performed on the data (Many algorithms need scaled data). Can be max_abs_scaling (for sparse data) or standard_scaler (will not work on sparse data)"
   ]
  },
  {
   "cell_type": "code",
   "execution_count": 11,
   "metadata": {
    "collapsed": false
   },
   "outputs": [
    {
     "name": "stderr",
     "output_type": "stream",
     "text": [
      "analytics_workbench/preprocessing.py:149: SettingWithCopyWarning: \n",
      "A value is trying to be set on a copy of a slice from a DataFrame.\n",
      "Try using .loc[row_indexer,col_indexer] = value instead\n",
      "\n",
      "See the caveats in the documentation: http://pandas.pydata.org/pandas-docs/stable/indexing.html#indexing-view-versus-copy\n",
      "  df_categorical[col] = df_categorical[col].astype('category')\n"
     ]
    }
   ],
   "source": [
    "preprocessor = PreProcessor()\n",
    "text_cols = ['description','specialties']\n",
    "categorical_cols = ['no_of_employees','company_type','country','channel_presence','market_place_type',\n",
    "          'no_of_products','no_of_unique_visitors','sector']\n",
    "numeric_cols = ['recommendation_coll_filtering', 'visual_merchandising', 'funding_rounds', u'founded', \n",
    "                u'funding_amount', u'faceted_search', u'browse_and_filter']\n",
    "X_train,column_names = preprocessor.build_matrix_train(df_train,text_cols=text_cols,categorical_cols=categorical_cols,\n",
    "                   numeric_cols=numeric_cols,vectorizer_type='Count',synonym_loc='sample_synonyms.txt',\n",
    "                   stem_type=None,phrase_generation=False,stop_words_loc=None,lower=True,n_gram_range=(1,2),\n",
    "                   max_df=0.9,min_df=0.05,vocabulary_loc=None,sparse_format=True,scaling='max_abs_scaling')"
   ]
  },
  {
   "cell_type": "markdown",
   "metadata": {},
   "source": [
    "### Using the module, get the matrix for new data"
   ]
  },
  {
   "cell_type": "code",
   "execution_count": 12,
   "metadata": {
    "collapsed": false
   },
   "outputs": [
    {
     "name": "stderr",
     "output_type": "stream",
     "text": [
      "analytics_workbench/preprocessing.py:158: SettingWithCopyWarning: \n",
      "A value is trying to be set on a copy of a slice from a DataFrame.\n",
      "Try using .loc[row_indexer,col_indexer] = value instead\n",
      "\n",
      "See the caveats in the documentation: http://pandas.pydata.org/pandas-docs/stable/indexing.html#indexing-view-versus-copy\n",
      "  df_categorical[col] = df_categorical[col].astype('category',categories=self.categories_dic[col])\n"
     ]
    }
   ],
   "source": [
    "X_test,column_names = preprocessor.get_matrix_test(df_test)"
   ]
  },
  {
   "cell_type": "markdown",
   "metadata": {},
   "source": [
    "### verify that both outputs have same no of columns"
   ]
  },
  {
   "cell_type": "code",
   "execution_count": 13,
   "metadata": {
    "collapsed": false
   },
   "outputs": [
    {
     "data": {
      "text/plain": [
       "((2978, 398), (708, 398))"
      ]
     },
     "execution_count": 13,
     "metadata": {},
     "output_type": "execute_result"
    }
   ],
   "source": [
    "X_train.shape,X_test.shape"
   ]
  },
  {
   "cell_type": "markdown",
   "metadata": {},
   "source": [
    "## Building supervised model\n",
    "Supported options as of now are multinomial naive bayes,logistic regression,linear svm,svm,random forest"
   ]
  },
  {
   "cell_type": "code",
   "execution_count": 14,
   "metadata": {
    "collapsed": false
   },
   "outputs": [],
   "source": [
    "predictive_model = ClassificationModelCV(model_algorithm='logistic regression',scoring='f1_weighted')"
   ]
  },
  {
   "cell_type": "code",
   "execution_count": 15,
   "metadata": {
    "collapsed": false,
    "scrolled": true
   },
   "outputs": [
    {
     "name": "stderr",
     "output_type": "stream",
     "text": [
      "/usr/local/lib/python2.7/dist-packages/sklearn/metrics/classification.py:1113: UndefinedMetricWarning: F-score is ill-defined and being set to 0.0 in labels with no predicted samples.\n",
      "  'precision', 'predicted', average, warn_for)\n"
     ]
    }
   ],
   "source": [
    "predictive_model.fit(X_train,dv_train)"
   ]
  },
  {
   "cell_type": "markdown",
   "metadata": {},
   "source": [
    "### predicting on the test data"
   ]
  },
  {
   "cell_type": "code",
   "execution_count": 16,
   "metadata": {
    "collapsed": false
   },
   "outputs": [
    {
     "data": {
      "text/plain": [
       "array([False, False, False, False, False,  True, False, False,  True,  True], dtype=bool)"
      ]
     },
     "execution_count": 16,
     "metadata": {},
     "output_type": "execute_result"
    }
   ],
   "source": [
    "predictive_model.predict(X_test)[:10]"
   ]
  },
  {
   "cell_type": "markdown",
   "metadata": {},
   "source": [
    "### Looking at best model"
   ]
  },
  {
   "cell_type": "code",
   "execution_count": 17,
   "metadata": {
    "collapsed": false
   },
   "outputs": [
    {
     "data": {
      "text/plain": [
       "{'C': 0.1, 'class_weight': 'balanced', 'penalty': 'l1'}"
      ]
     },
     "execution_count": 17,
     "metadata": {},
     "output_type": "execute_result"
    }
   ],
   "source": [
    "predictive_model.clf_search.best_params_"
   ]
  },
  {
   "cell_type": "markdown",
   "metadata": {},
   "source": [
    "## Model diagnostics\n",
    "Measure model performance"
   ]
  },
  {
   "cell_type": "code",
   "execution_count": 18,
   "metadata": {
    "collapsed": false
   },
   "outputs": [],
   "source": [
    "diagnost = ClassificationModelDiagnotstics()"
   ]
  },
  {
   "cell_type": "code",
   "execution_count": 19,
   "metadata": {
    "collapsed": false
   },
   "outputs": [
    {
     "name": "stdout",
     "output_type": "stream",
     "text": [
      "classification report\n",
      "             precision    recall  f1-score   support\n",
      "\n",
      "      False       1.00      1.00      1.00      2317\n",
      "       True       1.00      1.00      1.00       661\n",
      "\n",
      "avg / total       1.00      1.00      1.00      2978\n",
      "\n",
      "AUC is 1.0\n"
     ]
    },
    {
     "data": {
      "image/png": "[encoded data removed]",
      "text/plain": [
       "<matplotlib.figure.Figure at 0x7843c90>"
      ]
     },
     "metadata": {},
     "output_type": "display_data"
    },
    {
     "name": "stdout",
     "output_type": "stream",
     "text": [
      "KS statistic\n",
      "    min_scr   max_scr  goods  bads  total  odds bad_rate      ks max_ks\n",
      "0  0.012123  0.012243    0.0   819  819.0  0.00  100.00%   35.35       \n",
      "1  0.012265  0.025394    0.0   720  720.0  0.00  100.00%   66.42       \n",
      "2  0.025412  0.025676    0.0   401  401.0  0.00  100.00%   83.73       \n",
      "3  0.025793  0.150856    0.0   226  226.0  0.00  100.00%   93.48       \n",
      "4  0.152000  0.160937    0.0   151  151.0  0.00  100.00%  100.00  <----\n",
      "5  0.927208  0.932660   67.0     0   67.0   inf    0.00%   89.86       \n",
      "6  0.932696  0.935623   46.0     0   46.0   inf    0.00%   82.90       \n",
      "7  0.935648  0.937402   30.0     0   30.0   inf    0.00%   78.37       \n",
      "8  0.937453  0.990325  226.0     0  226.0   inf    0.00%   44.18       \n",
      "9  0.990343  0.990512  292.0     0  292.0   inf    0.00%    0.00       \n"
     ]
    },
    {
     "name": "stderr",
     "output_type": "stream",
     "text": [
      "analytics_workbench/model_diagnostics.py:140: FutureWarning: by argument to sort_index is deprecated, pls use .sort_values(by=...)\n",
      "  agg2 = (agg1.sort_index(by = 'min_scr')).reset_index(drop = True)\n"
     ]
    },
    {
     "data": {
      "image/png": "[encoded data removed]",
      "text/plain": [
       "<matplotlib.figure.Figure at 0xcac1090>"
      ]
     },
     "metadata": {},
     "output_type": "display_data"
    }
   ],
   "source": [
    "diagnost.run_diagnostics(predictive_model.clf_search.best_estimator_,X_train,\n",
    "                             dv_train,binary_classification=True)"
   ]
  },
  {
   "cell_type": "markdown",
   "metadata": {},
   "source": [
    "## Unsupervised Learning"
   ]
  },
  {
   "cell_type": "code",
   "execution_count": 20,
   "metadata": {
    "collapsed": true
   },
   "outputs": [],
   "source": [
    "# create the object\n",
    "unsup_obj = Unsupervised()"
   ]
  },
  {
   "cell_type": "markdown",
   "metadata": {},
   "source": [
    "### Clustering"
   ]
  },
  {
   "cell_type": "code",
   "execution_count": 23,
   "metadata": {
    "collapsed": false
   },
   "outputs": [
    {
     "data": {
      "text/plain": [
       "(3686, 157)"
      ]
     },
     "execution_count": 23,
     "metadata": {},
     "output_type": "execute_result"
    }
   ],
   "source": [
    "# pre-processor object to create the data matrix\n",
    "preprocessor = PreProcessor()\n",
    "text_cols = []\n",
    "categorical_cols = ['no_of_employees','company_type','country','channel_presence','market_place_type',\n",
    "          'no_of_products','no_of_unique_visitors','sector']\n",
    "numeric_cols = ['recommendation_coll_filtering', 'visual_merchandising', 'funding_rounds', u'founded', \n",
    "                u'funding_amount', u'faceted_search', u'browse_and_filter']\n",
    "X,column_names = preprocessor.build_matrix_train(df_valid,text_cols=text_cols,categorical_cols=categorical_cols,\n",
    "                   numeric_cols=numeric_cols,vectorizer_type='Count',synonym_loc='sample_synonyms.txt',\n",
    "                   stem_type=None,phrase_generation=False,stop_words_loc=None,lower=True,n_gram_range=(1,2),\n",
    "                   max_df=0.9,min_df=0.05,vocabulary_loc=None,sparse_format=False,scaling='standard_scaler')\n",
    "X.shape"
   ]
  },
  {
   "cell_type": "code",
   "execution_count": 24,
   "metadata": {
    "collapsed": false
   },
   "outputs": [
    {
     "name": "stdout",
     "output_type": "stream",
     "text": [
      "No of items in each cluster\n",
      "0    1038\n",
      "5     527\n",
      "1     524\n",
      "2     518\n",
      "9     498\n",
      "8     485\n",
      "3      93\n",
      "7       1\n",
      "6       1\n",
      "4       1\n",
      "dtype: int64\n",
      "Top terms per cluster:\n",
      "()\n",
      "Cluster 0: no_of_unique_visitors_>10,000,000, no_of_unique_visitors_Not Available, no_of_products_Not Available, no_of_products_>1,000,000, sector_Internet, country_CHINA, country_BRAZIL, company_type_Public Company, country_ARGENTINA, country_KUWAIT\n",
      "Cluster 1: no_of_unique_visitors_200,000-1,000,000, no_of_products_50,000-200,000, no_of_products_200,000-500,000, no_of_products_5,000-50,000, country_BHUTAN, country_SPAIN, sector_Consumer Electronics, country_GERMANY, sector_Computer Games, sector_Supermarkets\n",
      "Cluster 2: no_of_unique_visitors_1,000,000-5,000,000, no_of_products_500,000-1,000,000, no_of_products_50,000-200,000, no_of_products_200,000-500,000, country_BELGIUM, sector_Apparel & Fashion, sector_Warehousing, sector_Automotive, country_THAILAND, country_COLOMBIA\n",
      "Cluster 3: sector_Computer Software, company_type_Privately Held, country_BULGARIA, country_UNITED STATES, no_of_employees_11-50 employees, country_IRELAND, no_of_employees_51-200 employees, country_POLAND, no_of_employees_1-10 employees, no_of_products_Not Available\n",
      "Cluster 4: no_of_employees_no data, company_type_no data, country_UNITED KINGDOM, no_of_products_200,000-500,000, no_of_unique_visitors_1,000,000-5,000,000, market_place_type_Merchants, channel_presence_Online, sector_Retail, visual_merchandising, country_MOROCCO\n",
      "Cluster 5: no_of_unique_visitors_0-50,000, no_of_products_0-5,000, no_of_products_5,000-50,000, sector_Retail, company_type_Partnership, country_UNITED ARAB EMIRATES, country_CROATIA, country_SLOVENIA, country_RUSSIAN FEDERATION, sector_Research\n",
      "Cluster 6: sector_Design, country_SPAIN, no_of_employees_1-10 employees, no_of_products_5,000-50,000, no_of_unique_visitors_0-50,000, channel_presence_MultiChannel, market_place_type_Comparison Shopping, browse_and_filter, recommendation_coll_filtering, company_type_Privately Held\n",
      "Cluster 7: company_type_Government Agency, country_CANADA, no_of_employees_1001-5000 employees, no_of_unique_visitors_50,000-200,000, no_of_products_0-5,000, founded, market_place_type_Peer-2-Peer, channel_presence_B&M, sector_Retail, country_URUGUAY\n",
      "Cluster 8: no_of_unique_visitors_50,000-200,000, no_of_products_0-5,000, no_of_products_5,000-50,000, no_of_products_50,000-200,000, sector_Publishing, country_SWEDEN, company_type_Self Owned, country_GREECE, sector_Entertainment, country_GHANA\n",
      "Cluster 9: no_of_unique_visitors_5,000,000-10,000,000, no_of_products_500,000-1,000,000, no_of_products_200,000-500,000, no_of_products_>1,000,000, country_BANGLADESH, sector_Food & Beverages, market_place_type_Comparison Shopping, country_SERBIA, country_URUGUAY, sector_Fund-Raising\n",
      "()\n"
     ]
    }
   ],
   "source": [
    "kmeans_obj,clusters,clust_distances = unsup_obj.generate_clusters(X,feature_names=column_names,num_clusters=10)"
   ]
  },
  {
   "cell_type": "markdown",
   "metadata": {
    "collapsed": false
   },
   "source": [
    "#### now we have to look at the cluster ids and corresponding columns to identify each cluster"
   ]
  },
  {
   "cell_type": "markdown",
   "metadata": {},
   "source": [
    "## Topic Extraction\n",
    "Supports Latent Dirichlet Allocation(lda) and Non-negative Matrix Factorization(nmf)"
   ]
  },
  {
   "cell_type": "code",
   "execution_count": null,
   "metadata": {
    "collapsed": false
   },
   "outputs": [],
   "source": [
    "# Pre-procssing\n",
    "preprocessor = PreProcessor()\n",
    "text_cols = ['description','specialties']\n",
    "categorical_cols = []\n",
    "numeric_cols = []\n",
    "X,column_names = preprocessor.build_matrix_train(df_valid,text_cols=text_cols,categorical_cols=categorical_cols,\n",
    "                   numeric_cols=numeric_cols,vectorizer_type='Count',synonym_loc='sample_synonyms.txt',\n",
    "                   stem_type=None,phrase_generation=False,\n",
    "             stop_words_loc='/home/madan/Desktop/joswin_bck/toPendrive/works/chargebee_works/nlp-intelligence/scoring_lists/tradegecko_jan31/stopwords.txt',\n",
    "                 lower=True,n_gram_range=(1,2),\n",
    "                   max_df=0.9,min_df=0.05,vocabulary_loc=None,sparse_format=True,scaling=None)"
   ]
  },
  {
   "cell_type": "code",
   "execution_count": null,
   "metadata": {
    "collapsed": false
   },
   "outputs": [],
   "source": [
    "topic_extr_obj, X_transformed =  unsup_obj.generate_topics(X,feature_names=column_names,algorithm='lda',\n",
    "                                                           n_topics=10,n_top_words=10)"
   ]
  },
  {
   "cell_type": "code",
   "execution_count": null,
   "metadata": {
    "collapsed": true
   },
   "outputs": [],
   "source": []
  }
 ],
 "metadata": {
  "anaconda-cloud": {},
  "kernelspec": {
   "display_name": "Python 2",
   "language": "python",
   "name": "python2"
  },
  "language_info": {
   "codemirror_mode": {
    "name": "ipython",
    "version": 2
   },
   "file_extension": ".py",
   "mimetype": "text/x-python",
   "name": "python",
   "nbconvert_exporter": "python",
   "pygments_lexer": "ipython2",
   "version": "2.7.3"
  }
 },
 "nbformat": 4,
 "nbformat_minor": 1
}
