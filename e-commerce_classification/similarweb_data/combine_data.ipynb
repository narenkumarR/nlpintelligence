{
 "cells": [
  {
   "cell_type": "code",
   "execution_count": 1,
   "metadata": {
    "collapsed": true
   },
   "outputs": [],
   "source": [
    "database='crawler_service_test'\n",
    "user='postgres'\n",
    "password='postgres'\n",
    "host='192.168.3.8'\n"
   ]
  },
  {
   "cell_type": "code",
   "execution_count": 2,
   "metadata": {
    "collapsed": true
   },
   "outputs": [],
   "source": [
    "import psycopg2"
   ]
  },
  {
   "cell_type": "code",
   "execution_count": 3,
   "metadata": {
    "collapsed": true
   },
   "outputs": [],
   "source": [
    "con = psycopg2.connect(database=database, user=user,password=password,host=host)\n",
    "cursor = con.cursor()"
   ]
  },
  {
   "cell_type": "code",
   "execution_count": 5,
   "metadata": {
    "collapsed": true
   },
   "outputs": [],
   "source": [
    "query = 'drop table if exists similarweb_data'\n",
    "cursor.execute(query)\n",
    "query = 'create table similarweb_data ('\\\n",
    "        'domain text,rank integer,category text)'\n",
    "cursor.execute(query)\n",
    "con.commit()"
   ]
  },
  {
   "cell_type": "code",
   "execution_count": 26,
   "metadata": {
    "collapsed": true
   },
   "outputs": [],
   "source": [
    "con.close()"
   ]
  },
  {
   "cell_type": "code",
   "execution_count": 24,
   "metadata": {
    "collapsed": true
   },
   "outputs": [],
   "source": [
    "import pandas as pd\n",
    "import os\n",
    "from sqlalchemy import create_engine"
   ]
  },
  {
   "cell_type": "code",
   "execution_count": 25,
   "metadata": {
    "collapsed": true
   },
   "outputs": [],
   "source": [
    "engine = create_engine('postgresql://{user}:{password}@{host}:{ip}/{database}'.format(\n",
    "    user=user,password=password,host=host,ip=5432,database=database))"
   ]
  },
  {
   "cell_type": "code",
   "execution_count": 35,
   "metadata": {
    "collapsed": false
   },
   "outputs": [
    {
     "name": "stdout",
     "output_type": "stream",
     "text": [
      "SimilarWeb Data/Cosmetics\n",
      "SimilarWeb Data/Logistics and Transportation\n",
      "SimilarWeb Data/US_Shopping\n",
      "TopSites-(Shopping-Ethnic_and_Regional)--(840)--(Month-2016-11-1).xlsx\n",
      "TopSites-(Shopping-Consumer_Electronics)--(840)--(Month-2016-11-1).xlsx\n",
      "TopSites-(Shopping-Clothing)--(840)--(Month-2016-11-1).xlsx\n",
      "TopSites-(Shopping-General_Merchandise)--(840)--(Month-2016-11-1).xlsx\n",
      "TopSites-(Shopping-Children)--(840)--(Month-2016-11-1).xlsx\n",
      "TopSites-(Shopping-Furniture)--(840)--(Month-2016-11-1).xlsx\n",
      "TopSites-(Shopping-Office_Products)--(840)--(Month-2016-11-1).xlsx\n",
      "SimilarWeb Data/F_M_Childre_GM_CE_Sports/Brazil\n",
      "SimilarWeb Data/F_M_Childre_GM_CE_Sports/Malaysia\n",
      "SimilarWeb Data/F_M_Childre_GM_CE_Sports/Germany\n",
      "TopSites-(Shopping-General_Merchandise)--(276)--(Month-2016-12-1).xlsx\n",
      "TopSites-(Shopping-Consumer_Electronics)--(276)--(Month-2016-12-1).xlsx\n",
      "TopSites-(Shopping-Children)--(276)--(Month-2016-12-1).xlsx\n",
      "SimilarWeb Data/F_M_Childre_GM_CE_Sports/Turkey\n",
      "TopSites-(Shopping-General_Merchandise)--(792)--(Month-2016-12-1).xlsx\n",
      "SimilarWeb Data/F_M_Childre_GM_CE_Sports/Singapore\n",
      "SimilarWeb Data/F_M_Childre_GM_CE_Sports/Vietnam\n",
      "TopSites-(Shopping-Sports)--(704)--(Month-2016-12-1).xlsx\n",
      "TopSites-(Shopping-Consumer_Electronics)--(704)--(Month-2016-12-1).xlsx\n",
      "TopSites-(Shopping-Consumer_Electronics)--(704)--(Month-2016-12-1)(1).xlsx\n",
      "TopSites-(Shopping-Children)--(704)--(Month-2016-12-1).xlsx\n",
      "TopSites-(Shopping-General_Merchandise)--(704)--(Month-2016-12-1).xlsx\n",
      "SimilarWeb Data/F_M_Childre_GM_CE_Sports/Indonesia\n",
      "TopSites-(Shopping-Sports)--(360)--(Month-2016-12-1).xlsx\n",
      "SimilarWeb Data/F_M_Childre_GM_CE_Sports/UK\n",
      "TopSites-(Shopping-Sports)--(826)--(Month-2016-12-1).xlsx\n",
      "SimilarWeb Data/F_M_Childre_GM_CE_Sports/Mexico\n",
      "SimilarWeb Data/F_M_Childre_GM_CE_Sports/Argentina\n",
      "SimilarWeb Data/F_M_Childre_GM_CE_Sports/Poland\n",
      "TopSites-(Shopping-General_Merchandise)--(616)--(Month-2016-12-1).xlsx\n"
     ]
    }
   ],
   "source": [
    "locs = ['SimilarWeb Data/Cosmetics',\n",
    "       'SimilarWeb Data/Logistics and Transportation',\n",
    "       'SimilarWeb Data/US_Shopping',\n",
    "        'SimilarWeb Data/F_M_Childre_GM_CE_Sports/Brazil',\n",
    "     'SimilarWeb Data/F_M_Childre_GM_CE_Sports/Malaysia',\n",
    "     'SimilarWeb Data/F_M_Childre_GM_CE_Sports/Germany',\n",
    "     'SimilarWeb Data/F_M_Childre_GM_CE_Sports/Turkey',\n",
    "     'SimilarWeb Data/F_M_Childre_GM_CE_Sports/Singapore',\n",
    "     'SimilarWeb Data/F_M_Childre_GM_CE_Sports/Vietnam',\n",
    "     'SimilarWeb Data/F_M_Childre_GM_CE_Sports/Indonesia',\n",
    "     'SimilarWeb Data/F_M_Childre_GM_CE_Sports/UK',\n",
    "     'SimilarWeb Data/F_M_Childre_GM_CE_Sports/Mexico',\n",
    "     'SimilarWeb Data/F_M_Childre_GM_CE_Sports/Argentina',\n",
    "     'SimilarWeb Data/F_M_Childre_GM_CE_Sports/Poland'\n",
    "       ]\n",
    "for loc in locs:\n",
    "    print(loc)\n",
    "    f_names = os.listdir(loc)\n",
    "    for f_name in f_names:\n",
    "        if '.xls' not in f_name or 'shopping' not in f_name.lower():\n",
    "            break\n",
    "        print(f_name)\n",
    "        category = f_name.split(')')[0].split('(')[1].split('Shopping-')[-1]\n",
    "        tmp = pd.read_excel('{}/{}'.format(loc,f_name),sheetname=1)\n",
    "        tmp.drop('Traffic Share',axis=1,inplace=True)\n",
    "        tmp.columns = ['domain','rank']\n",
    "        tmp['category'] = category\n",
    "        tmp.to_sql('similarweb_data',engine,if_exists='append',index=False)"
   ]
  },
  {
   "cell_type": "code",
   "execution_count": 34,
   "metadata": {
    "collapsed": false
   },
   "outputs": [
    {
     "data": {
      "text/plain": [
       "['SimilarWeb Data/F_M_Childre_GM_CE_Sports/Brazil',\n",
       " 'SimilarWeb Data/F_M_Childre_GM_CE_Sports/Malaysia',\n",
       " 'SimilarWeb Data/F_M_Childre_GM_CE_Sports/Germany',\n",
       " 'SimilarWeb Data/F_M_Childre_GM_CE_Sports/Turkey',\n",
       " 'SimilarWeb Data/F_M_Childre_GM_CE_Sports/Singapore',\n",
       " 'SimilarWeb Data/F_M_Childre_GM_CE_Sports/Vietnam',\n",
       " 'SimilarWeb Data/F_M_Childre_GM_CE_Sports/Indonesia',\n",
       " 'SimilarWeb Data/F_M_Childre_GM_CE_Sports/UK',\n",
       " 'SimilarWeb Data/F_M_Childre_GM_CE_Sports/Mexico',\n",
       " 'SimilarWeb Data/F_M_Childre_GM_CE_Sports/Argentina',\n",
       " 'SimilarWeb Data/F_M_Childre_GM_CE_Sports/Poland']"
      ]
     },
     "execution_count": 34,
     "metadata": {},
     "output_type": "execute_result"
    }
   ],
   "source": [
    "[ 'SimilarWeb Data/F_M_Childre_GM_CE_Sports/'+i\n",
    "    for i in os.listdir('SimilarWeb Data/F_M_Childre_GM_CE_Sports')]"
   ]
  },
  {
   "cell_type": "code",
   "execution_count": 8,
   "metadata": {
    "collapsed": false
   },
   "outputs": [
    {
     "data": {
      "text/plain": [
       "['TopSites-(Shopping-Ethnic_and_Regional)--(840)--(Month-2016-11-1).xlsx',\n",
       " 'TopSites-(Shopping-Consumer_Electronics)--(840)--(Month-2016-11-1).xlsx',\n",
       " 'TopSites-(Shopping-Clothing)--(840)--(Month-2016-11-1).xlsx',\n",
       " 'TopSites-(Shopping-General_Merchandise)--(840)--(Month-2016-11-1).xlsx',\n",
       " 'TopSites-(Shopping-Children)--(840)--(Month-2016-11-1).xlsx',\n",
       " 'TopSites-(Shopping-Furniture)--(840)--(Month-2016-11-1).xlsx',\n",
       " 'TopSites-(Shopping-Office_Products)--(840)--(Month-2016-11-1).xlsx',\n",
       " 'TopSites-(Sports)--(840)--(Month-2016-11-1).xlsx',\n",
       " 'TopSites-(Shopping-Sports)--(840)--(Month-2016-11-1).xlsx',\n",
       " 'TopSites-(Shopping-Home_and_Garden)--(840)--(Month-2016-11-1).xlsx',\n",
       " 'TopSites-(Shopping-Gifts)--(840)--(Month-2016-11-1).xlsx']"
      ]
     },
     "execution_count": 8,
     "metadata": {},
     "output_type": "execute_result"
    }
   ],
   "source": [
    "os.listdir('SimilarWeb Data/US_Shopping')"
   ]
  },
  {
   "cell_type": "code",
   "execution_count": 9,
   "metadata": {
    "collapsed": true
   },
   "outputs": [],
   "source": [
    "tmp = pd.read_excel('SimilarWeb Data/US_Shopping/TopSites-(Shopping-Ethnic_and_Regional)--(840)--(Month-2016-11-1).xlsx',sheetname=1)"
   ]
  },
  {
   "cell_type": "code",
   "execution_count": 15,
   "metadata": {
    "collapsed": false
   },
   "outputs": [
    {
     "data": {
      "text/html": [
       "<div>\n",
       "<table border=\"1\" class=\"dataframe\">\n",
       "  <thead>\n",
       "    <tr style=\"text-align: right;\">\n",
       "      <th></th>\n",
       "      <th>Domain</th>\n",
       "      <th>Traffic Share</th>\n",
       "      <th>Rank</th>\n",
       "    </tr>\n",
       "  </thead>\n",
       "  <tbody>\n",
       "    <tr>\n",
       "      <th>0</th>\n",
       "      <td>kaftancitra.com</td>\n",
       "      <td>0.122731</td>\n",
       "      <td>305309.0</td>\n",
       "    </tr>\n",
       "    <tr>\n",
       "      <th>1</th>\n",
       "      <td>elo7.com.br</td>\n",
       "      <td>0.077467</td>\n",
       "      <td>2783.0</td>\n",
       "    </tr>\n",
       "    <tr>\n",
       "      <th>2</th>\n",
       "      <td>market.unicefusa.org</td>\n",
       "      <td>0.074605</td>\n",
       "      <td>156620.0</td>\n",
       "    </tr>\n",
       "    <tr>\n",
       "      <th>3</th>\n",
       "      <td>madeinwashington.com</td>\n",
       "      <td>0.040486</td>\n",
       "      <td>501929.0</td>\n",
       "    </tr>\n",
       "    <tr>\n",
       "      <th>4</th>\n",
       "      <td>therussianstore.com</td>\n",
       "      <td>0.033107</td>\n",
       "      <td>513107.0</td>\n",
       "    </tr>\n",
       "  </tbody>\n",
       "</table>\n",
       "</div>"
      ],
      "text/plain": [
       "                 Domain  Traffic Share      Rank\n",
       "0       kaftancitra.com       0.122731  305309.0\n",
       "1           elo7.com.br       0.077467    2783.0\n",
       "2  market.unicefusa.org       0.074605  156620.0\n",
       "3  madeinwashington.com       0.040486  501929.0\n",
       "4   therussianstore.com       0.033107  513107.0"
      ]
     },
     "execution_count": 15,
     "metadata": {},
     "output_type": "execute_result"
    }
   ],
   "source": [
    "tmp.head()"
   ]
  },
  {
   "cell_type": "code",
   "execution_count": 20,
   "metadata": {
    "collapsed": false
   },
   "outputs": [
    {
     "data": {
      "text/html": [
       "<div>\n",
       "<table border=\"1\" class=\"dataframe\">\n",
       "  <thead>\n",
       "    <tr style=\"text-align: right;\">\n",
       "      <th></th>\n",
       "      <th>Domain</th>\n",
       "      <th>Rank</th>\n",
       "    </tr>\n",
       "  </thead>\n",
       "  <tbody>\n",
       "    <tr>\n",
       "      <th>0</th>\n",
       "      <td>kaftancitra.com</td>\n",
       "      <td>305309.0</td>\n",
       "    </tr>\n",
       "    <tr>\n",
       "      <th>1</th>\n",
       "      <td>elo7.com.br</td>\n",
       "      <td>2783.0</td>\n",
       "    </tr>\n",
       "    <tr>\n",
       "      <th>2</th>\n",
       "      <td>market.unicefusa.org</td>\n",
       "      <td>156620.0</td>\n",
       "    </tr>\n",
       "    <tr>\n",
       "      <th>3</th>\n",
       "      <td>madeinwashington.com</td>\n",
       "      <td>501929.0</td>\n",
       "    </tr>\n",
       "    <tr>\n",
       "      <th>4</th>\n",
       "      <td>therussianstore.com</td>\n",
       "      <td>513107.0</td>\n",
       "    </tr>\n",
       "  </tbody>\n",
       "</table>\n",
       "</div>"
      ],
      "text/plain": [
       "                 Domain      Rank\n",
       "0       kaftancitra.com  305309.0\n",
       "1           elo7.com.br    2783.0\n",
       "2  market.unicefusa.org  156620.0\n",
       "3  madeinwashington.com  501929.0\n",
       "4   therussianstore.com  513107.0"
      ]
     },
     "execution_count": 20,
     "metadata": {},
     "output_type": "execute_result"
    }
   ],
   "source": [
    "tmp.drop('Traffic Share',axis=1,inplace=True)\n",
    "tmp.head()"
   ]
  },
  {
   "cell_type": "code",
   "execution_count": 22,
   "metadata": {
    "collapsed": true
   },
   "outputs": [],
   "source": [
    "tmp.columns = ['domain','rank']\n",
    "tmp['category'] = category"
   ]
  },
  {
   "cell_type": "code",
   "execution_count": 23,
   "metadata": {
    "collapsed": false
   },
   "outputs": [
    {
     "data": {
      "text/html": [
       "<div>\n",
       "<table border=\"1\" class=\"dataframe\">\n",
       "  <thead>\n",
       "    <tr style=\"text-align: right;\">\n",
       "      <th></th>\n",
       "      <th>domain</th>\n",
       "      <th>rank</th>\n",
       "      <th>category</th>\n",
       "    </tr>\n",
       "  </thead>\n",
       "  <tbody>\n",
       "    <tr>\n",
       "      <th>0</th>\n",
       "      <td>kaftancitra.com</td>\n",
       "      <td>305309.0</td>\n",
       "      <td>Ethnic_and_Regional</td>\n",
       "    </tr>\n",
       "    <tr>\n",
       "      <th>1</th>\n",
       "      <td>elo7.com.br</td>\n",
       "      <td>2783.0</td>\n",
       "      <td>Ethnic_and_Regional</td>\n",
       "    </tr>\n",
       "    <tr>\n",
       "      <th>2</th>\n",
       "      <td>market.unicefusa.org</td>\n",
       "      <td>156620.0</td>\n",
       "      <td>Ethnic_and_Regional</td>\n",
       "    </tr>\n",
       "    <tr>\n",
       "      <th>3</th>\n",
       "      <td>madeinwashington.com</td>\n",
       "      <td>501929.0</td>\n",
       "      <td>Ethnic_and_Regional</td>\n",
       "    </tr>\n",
       "    <tr>\n",
       "      <th>4</th>\n",
       "      <td>therussianstore.com</td>\n",
       "      <td>513107.0</td>\n",
       "      <td>Ethnic_and_Regional</td>\n",
       "    </tr>\n",
       "  </tbody>\n",
       "</table>\n",
       "</div>"
      ],
      "text/plain": [
       "                 domain      rank             category\n",
       "0       kaftancitra.com  305309.0  Ethnic_and_Regional\n",
       "1           elo7.com.br    2783.0  Ethnic_and_Regional\n",
       "2  market.unicefusa.org  156620.0  Ethnic_and_Regional\n",
       "3  madeinwashington.com  501929.0  Ethnic_and_Regional\n",
       "4   therussianstore.com  513107.0  Ethnic_and_Regional"
      ]
     },
     "execution_count": 23,
     "metadata": {},
     "output_type": "execute_result"
    }
   ],
   "source": [
    "tmp.head()"
   ]
  },
  {
   "cell_type": "code",
   "execution_count": 28,
   "metadata": {
    "collapsed": false
   },
   "outputs": [],
   "source": [
    "tmp.to_sql('similarweb_data',engine,if_exists='append',index=False)"
   ]
  },
  {
   "cell_type": "code",
   "execution_count": 21,
   "metadata": {
    "collapsed": false
   },
   "outputs": [],
   "source": [
    "f_name = 'TopSites-(Shopping-Ethnic_and_Regional)--(840)--(Month-2016-11-1).xlsx'\n",
    "category=f_name.split(')')[0].split('(')[1].split('Shopping-')[-1]"
   ]
  }
 ],
 "metadata": {
  "kernelspec": {
   "display_name": "Python 2",
   "language": "python",
   "name": "python2"
  },
  "language_info": {
   "codemirror_mode": {
    "name": "ipython",
    "version": 2
   },
   "file_extension": ".py",
   "mimetype": "text/x-python",
   "name": "python",
   "nbconvert_exporter": "python",
   "pygments_lexer": "ipython2",
   "version": "2.7.3"
  }
 },
 "nbformat": 4,
 "nbformat_minor": 1
}
