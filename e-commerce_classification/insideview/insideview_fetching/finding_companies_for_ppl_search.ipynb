{
 "cells": [
  {
   "cell_type": "code",
   "execution_count": 1,
   "metadata": {
    "collapsed": true
   },
   "outputs": [],
   "source": [
    "import pandas as pd"
   ]
  },
  {
   "cell_type": "code",
   "execution_count": 32,
   "metadata": {
    "collapsed": false
   },
   "outputs": [],
   "source": [
    "tmp = pd.read_csv('unused_bw_test2_company_details.csv')"
   ]
  },
  {
   "cell_type": "code",
   "execution_count": 33,
   "metadata": {
    "collapsed": false
   },
   "outputs": [
    {
     "data": {
      "text/html": [
       "<div>\n",
       "<table border=\"1\" class=\"dataframe\">\n",
       "  <thead>\n",
       "    <tr style=\"text-align: right;\">\n",
       "      <th></th>\n",
       "      <th>id</th>\n",
       "      <th>company_id</th>\n",
       "      <th>company_status</th>\n",
       "      <th>company_type</th>\n",
       "      <th>name</th>\n",
       "      <th>websites</th>\n",
       "      <th>subsidiary</th>\n",
       "      <th>parent_company_id</th>\n",
       "      <th>parent_company_name</th>\n",
       "      <th>parent_company_country</th>\n",
       "      <th>...</th>\n",
       "      <th>equifax_id</th>\n",
       "      <th>ultimate_parent_company_id</th>\n",
       "      <th>ultimate_parent_company_name</th>\n",
       "      <th>ultimate_parent_company_country</th>\n",
       "      <th>sources</th>\n",
       "      <th>created_on</th>\n",
       "      <th>updated_on</th>\n",
       "      <th>input_name</th>\n",
       "      <th>input_website</th>\n",
       "      <th>input_country</th>\n",
       "    </tr>\n",
       "  </thead>\n",
       "  <tbody>\n",
       "    <tr>\n",
       "      <th>0</th>\n",
       "      <td>69299</td>\n",
       "      <td>803309</td>\n",
       "      <td>Operating</td>\n",
       "      <td>Public</td>\n",
       "      <td>Advent Wireless Inc</td>\n",
       "      <td>NaN</td>\n",
       "      <td>False</td>\n",
       "      <td>NaN</td>\n",
       "      <td>NaN</td>\n",
       "      <td>NaN</td>\n",
       "      <td>...</td>\n",
       "      <td>88353452.0</td>\n",
       "      <td>NaN</td>\n",
       "      <td>NaN</td>\n",
       "      <td>NaN</td>\n",
       "      <td>[Reuters, InsideView, Equifax]</td>\n",
       "      <td>2017-03-27 12:49:06.678797</td>\n",
       "      <td>2017-03-27 12:49:06.678797</td>\n",
       "      <td>Advent Wireless Inc</td>\n",
       "      <td>NaN</td>\n",
       "      <td>Canada</td>\n",
       "    </tr>\n",
       "    <tr>\n",
       "      <th>1</th>\n",
       "      <td>69236</td>\n",
       "      <td>1930373</td>\n",
       "      <td>Acquired</td>\n",
       "      <td>Private</td>\n",
       "      <td>Insurance Benefit Spot Check, Inc.</td>\n",
       "      <td>NaN</td>\n",
       "      <td>True</td>\n",
       "      <td>NaN</td>\n",
       "      <td>NaN</td>\n",
       "      <td>NaN</td>\n",
       "      <td>...</td>\n",
       "      <td>NaN</td>\n",
       "      <td>NaN</td>\n",
       "      <td>NaN</td>\n",
       "      <td>NaN</td>\n",
       "      <td>[S&amp;P Capital IQ, InsideView, Cortera]</td>\n",
       "      <td>2017-03-27 12:47:05.149555</td>\n",
       "      <td>2017-03-27 12:47:05.149555</td>\n",
       "      <td>Spot</td>\n",
       "      <td>NaN</td>\n",
       "      <td>United States</td>\n",
       "    </tr>\n",
       "    <tr>\n",
       "      <th>2</th>\n",
       "      <td>69562</td>\n",
       "      <td>1561541</td>\n",
       "      <td>Subsidiary</td>\n",
       "      <td>Private</td>\n",
       "      <td>Spot Runner Production Network</td>\n",
       "      <td>NaN</td>\n",
       "      <td>True</td>\n",
       "      <td>642173.0</td>\n",
       "      <td>Spot Runner, Inc.</td>\n",
       "      <td>United States of America</td>\n",
       "      <td>...</td>\n",
       "      <td>NaN</td>\n",
       "      <td>642173.0</td>\n",
       "      <td>Spot Runner, Inc.</td>\n",
       "      <td>United States of America</td>\n",
       "      <td>[S&amp;P Capital IQ, InsideView]</td>\n",
       "      <td>2017-03-27 12:59:13.199141</td>\n",
       "      <td>2017-03-27 12:59:13.199141</td>\n",
       "      <td>Spot</td>\n",
       "      <td>NaN</td>\n",
       "      <td>United States</td>\n",
       "    </tr>\n",
       "    <tr>\n",
       "      <th>3</th>\n",
       "      <td>69544</td>\n",
       "      <td>50611082</td>\n",
       "      <td>Operating</td>\n",
       "      <td>Private</td>\n",
       "      <td>Discount Mattress Express</td>\n",
       "      <td>[www.mattressqueen.biz]</td>\n",
       "      <td>False</td>\n",
       "      <td>NaN</td>\n",
       "      <td>NaN</td>\n",
       "      <td>NaN</td>\n",
       "      <td>...</td>\n",
       "      <td>NaN</td>\n",
       "      <td>NaN</td>\n",
       "      <td>NaN</td>\n",
       "      <td>NaN</td>\n",
       "      <td>[InsideView]</td>\n",
       "      <td>2017-03-27 12:58:02.764331</td>\n",
       "      <td>2017-03-27 12:58:02.764331</td>\n",
       "      <td>Discount Express</td>\n",
       "      <td>NaN</td>\n",
       "      <td>United States</td>\n",
       "    </tr>\n",
       "    <tr>\n",
       "      <th>4</th>\n",
       "      <td>69379</td>\n",
       "      <td>10607911</td>\n",
       "      <td>Operating</td>\n",
       "      <td>Private</td>\n",
       "      <td>Cgs Crane Inc.</td>\n",
       "      <td>NaN</td>\n",
       "      <td>False</td>\n",
       "      <td>NaN</td>\n",
       "      <td>NaN</td>\n",
       "      <td>NaN</td>\n",
       "      <td>...</td>\n",
       "      <td>30428102.0</td>\n",
       "      <td>NaN</td>\n",
       "      <td>NaN</td>\n",
       "      <td>NaN</td>\n",
       "      <td>[Equifax]</td>\n",
       "      <td>2017-03-27 12:51:28.777307</td>\n",
       "      <td>2017-03-27 12:51:28.777307</td>\n",
       "      <td>Cgs Inc.</td>\n",
       "      <td>NaN</td>\n",
       "      <td>Canada</td>\n",
       "    </tr>\n",
       "  </tbody>\n",
       "</table>\n",
       "<p>5 rows × 52 columns</p>\n",
       "</div>"
      ],
      "text/plain": [
       "      id  company_id company_status company_type  \\\n",
       "0  69299      803309      Operating       Public   \n",
       "1  69236     1930373       Acquired      Private   \n",
       "2  69562     1561541     Subsidiary      Private   \n",
       "3  69544    50611082      Operating      Private   \n",
       "4  69379    10607911      Operating      Private   \n",
       "\n",
       "                                 name                 websites subsidiary  \\\n",
       "0                 Advent Wireless Inc                      NaN      False   \n",
       "1  Insurance Benefit Spot Check, Inc.                      NaN       True   \n",
       "2      Spot Runner Production Network                      NaN       True   \n",
       "3           Discount Mattress Express  [www.mattressqueen.biz]      False   \n",
       "4                      Cgs Crane Inc.                      NaN      False   \n",
       "\n",
       "   parent_company_id parent_company_name    parent_company_country  \\\n",
       "0                NaN                 NaN                       NaN   \n",
       "1                NaN                 NaN                       NaN   \n",
       "2           642173.0   Spot Runner, Inc.  United States of America   \n",
       "3                NaN                 NaN                       NaN   \n",
       "4                NaN                 NaN                       NaN   \n",
       "\n",
       "       ...        equifax_id  ultimate_parent_company_id  \\\n",
       "0      ...        88353452.0                         NaN   \n",
       "1      ...               NaN                         NaN   \n",
       "2      ...               NaN                    642173.0   \n",
       "3      ...               NaN                         NaN   \n",
       "4      ...        30428102.0                         NaN   \n",
       "\n",
       "  ultimate_parent_company_name ultimate_parent_company_country  \\\n",
       "0                          NaN                             NaN   \n",
       "1                          NaN                             NaN   \n",
       "2            Spot Runner, Inc.        United States of America   \n",
       "3                          NaN                             NaN   \n",
       "4                          NaN                             NaN   \n",
       "\n",
       "                                 sources                  created_on  \\\n",
       "0         [Reuters, InsideView, Equifax]  2017-03-27 12:49:06.678797   \n",
       "1  [S&P Capital IQ, InsideView, Cortera]  2017-03-27 12:47:05.149555   \n",
       "2           [S&P Capital IQ, InsideView]  2017-03-27 12:59:13.199141   \n",
       "3                           [InsideView]  2017-03-27 12:58:02.764331   \n",
       "4                              [Equifax]  2017-03-27 12:51:28.777307   \n",
       "\n",
       "                   updated_on           input_name  input_website  \\\n",
       "0  2017-03-27 12:49:06.678797  Advent Wireless Inc            NaN   \n",
       "1  2017-03-27 12:47:05.149555                 Spot            NaN   \n",
       "2  2017-03-27 12:59:13.199141                 Spot            NaN   \n",
       "3  2017-03-27 12:58:02.764331     Discount Express            NaN   \n",
       "4  2017-03-27 12:51:28.777307             Cgs Inc.            NaN   \n",
       "\n",
       "   input_country  \n",
       "0         Canada  \n",
       "1  United States  \n",
       "2  United States  \n",
       "3  United States  \n",
       "4         Canada  \n",
       "\n",
       "[5 rows x 52 columns]"
      ]
     },
     "execution_count": 33,
     "metadata": {},
     "output_type": "execute_result"
    }
   ],
   "source": [
    "tmp.head()"
   ]
  },
  {
   "cell_type": "code",
   "execution_count": 34,
   "metadata": {
    "collapsed": false
   },
   "outputs": [],
   "source": [
    "tmp1 = tmp[(tmp['industry']=='Retail')|(tmp['sic'].apply(str).str.match('^5[2-9]'))|(tmp['naics'].apply(str).str.match('^4[45]'))][['company_id','name','websites','industry','sic','naics']]"
   ]
  },
  {
   "cell_type": "code",
   "execution_count": 35,
   "metadata": {
    "collapsed": false
   },
   "outputs": [
    {
     "data": {
      "text/plain": [
       "(222, 6)"
      ]
     },
     "execution_count": 35,
     "metadata": {},
     "output_type": "execute_result"
    }
   ],
   "source": [
    "tmp1.shape"
   ]
  },
  {
   "cell_type": "code",
   "execution_count": 36,
   "metadata": {
    "collapsed": true
   },
   "outputs": [],
   "source": [
    "tmp1.to_csv('unused_bw_test2_companies_for_ppl_search.csv',index=False,quoting=1,encoding='utf-8')"
   ]
  },
  {
   "cell_type": "code",
   "execution_count": null,
   "metadata": {
    "collapsed": true
   },
   "outputs": [],
   "source": [
    "import pandas as pd\n",
    "def filter_companies_for_people_search(inp_file_loc,out_file_loc):\n",
    "    tmp = pd.read_csv(inp_file_loc)\n",
    "    tmp1 = tmp[(tmp['industry']=='Retail')|(tmp['sic'].apply(str).str.match('^5[2-9]'))|(tmp['naics'].apply(str).str.match('^4[45]'))][['company_id','name','websites','industry','sic','naics']]\n",
    "    tmp1.to_csv(out_file_loc,index=False,quoting=1,encoding='utf-8')"
   ]
  }
 ],
 "metadata": {
  "kernelspec": {
   "display_name": "Python 2",
   "language": "python",
   "name": "python2"
  },
  "language_info": {
   "codemirror_mode": {
    "name": "ipython",
    "version": 2
   },
   "file_extension": ".py",
   "mimetype": "text/x-python",
   "name": "python",
   "nbconvert_exporter": "python",
   "pygments_lexer": "ipython2",
   "version": "2.7.6"
  }
 },
 "nbformat": 4,
 "nbformat_minor": 1
}
