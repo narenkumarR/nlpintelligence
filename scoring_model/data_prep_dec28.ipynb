{
 "cells": [
  {
   "cell_type": "code",
   "execution_count": 2,
   "metadata": {
    "collapsed": true
   },
   "outputs": [],
   "source": [
    "import pandas as pd,re,numpy as np,re"
   ]
  },
  {
   "cell_type": "code",
   "execution_count": 15,
   "metadata": {
    "collapsed": false
   },
   "outputs": [
    {
     "data": {
      "text/plain": [
       "(388, 2)"
      ]
     },
     "execution_count": 15,
     "metadata": {},
     "output_type": "execute_result"
    }
   ],
   "source": [
    "tmp1 = pd.read_csv('CB_Nov16_Enrich_02Websites _crawler_output_all_texts.csv',names=['website','text'])\n",
    "tmp2 = pd.read_csv('CB_Nov16_Enrich_02Websites_crawler_output1_all_texts.csv',names=['website','text'])\n",
    "df_texts = pd.concat([tmp1,tmp2],ignore_index=True)\n",
    "df_texts.shape"
   ]
  },
  {
   "cell_type": "code",
   "execution_count": 17,
   "metadata": {
    "collapsed": false
   },
   "outputs": [
    {
     "data": {
      "text/plain": [
       "(388, 10)"
      ]
     },
     "execution_count": 17,
     "metadata": {},
     "output_type": "execute_result"
    }
   ],
   "source": [
    "tmp1 = pd.read_csv('CB_Nov16_Enrich_02Websites _crawler_output.csv')\n",
    "tmp2 = pd.read_csv('CB_Nov16_Enrich_02Websites_crawler_output1.csv')\n",
    "df_crawler_out = pd.concat([tmp1,tmp2],ignore_index=True)\n",
    "df_crawler_out = df_crawler_out.fillna('')\n",
    "df_crawler_out.shape"
   ]
  },
  {
   "cell_type": "code",
   "execution_count": 22,
   "metadata": {
    "collapsed": false
   },
   "outputs": [
    {
     "data": {
      "text/plain": [
       "(441, 24)"
      ]
     },
     "execution_count": 22,
     "metadata": {},
     "output_type": "execute_result"
    }
   ],
   "source": [
    "df_input = pd.read_excel('CB_Nov16_Enrich_02Websites - ScoredFinal - 21Dec16.xlsx',sheetname=1)\n",
    "df_input.shape"
   ]
  },
  {
   "cell_type": "code",
   "execution_count": 30,
   "metadata": {
    "collapsed": false
   },
   "outputs": [],
   "source": [
    "df_tmp = pd.merge(df_input,df_crawler_out,how='left',left_on = 'Index',right_on='id')"
   ]
  },
  {
   "cell_type": "code",
   "execution_count": 39,
   "metadata": {
    "collapsed": false
   },
   "outputs": [],
   "source": [
    "df_missing = df_tmp.ix[pd.isnull(df_tmp['website'])][['Index','Website','company_linkedin_url']]\n",
    "df_missing = df_missing.fillna('')\n",
    "df_missing.columns = ['id','website','company_linkedin_url']\n",
    "df_missing.to_csv('CB_Nov16_Enrich_02Websites_crawler_input2.csv',index=False,quoting=1,encoding='utf-8')"
   ]
  },
  {
   "cell_type": "code",
   "execution_count": 40,
   "metadata": {
    "collapsed": false
   },
   "outputs": [
    {
     "data": {
      "text/plain": [
       "(399, 2)"
      ]
     },
     "execution_count": 40,
     "metadata": {},
     "output_type": "execute_result"
    }
   ],
   "source": [
    "#crawling done for above missing websites again\n",
    "tmp = pd.read_csv('CB_Nov16_Enrich_02Websites_crawler_output2_all_texts.csv',names=['website','text'])\n",
    "df_texts = pd.concat([df_texts,tmp],ignore_index=True)\n",
    "df_texts.shape"
   ]
  },
  {
   "cell_type": "code",
   "execution_count": 43,
   "metadata": {
    "collapsed": false
   },
   "outputs": [
    {
     "data": {
      "text/plain": [
       "(399, 10)"
      ]
     },
     "execution_count": 43,
     "metadata": {},
     "output_type": "execute_result"
    }
   ],
   "source": [
    "tmp = pd.read_csv('CB_Nov16_Enrich_02Websites_crawler_output2.csv')\n",
    "df_crawler_out = pd.concat([df_crawler_out,tmp],ignore_index=True)\n",
    "df_crawler_out.shape"
   ]
  },
  {
   "cell_type": "code",
   "execution_count": 87,
   "metadata": {
    "collapsed": false
   },
   "outputs": [
    {
     "data": {
      "text/plain": [
       "(407, 35)"
      ]
     },
     "execution_count": 87,
     "metadata": {},
     "output_type": "execute_result"
    }
   ],
   "source": [
    "final_df = pd.merge(df_input,df_crawler_out,left_on = 'Index',right_on='id')\n",
    "final_df = pd.merge(final_df,df_texts,on='website')\n",
    "final_df.shape"
   ]
  },
  {
   "cell_type": "code",
   "execution_count": 88,
   "metadata": {
    "collapsed": false
   },
   "outputs": [
    {
     "data": {
      "text/plain": [
       "(396, 35)"
      ]
     },
     "execution_count": 88,
     "metadata": {},
     "output_type": "execute_result"
    }
   ],
   "source": [
    "final_df = final_df.drop_duplicates('website')\n",
    "final_df.shape"
   ]
  },
  {
   "cell_type": "code",
   "execution_count": 90,
   "metadata": {
    "collapsed": false
   },
   "outputs": [
    {
     "data": {
      "text/plain": [
       "(362, 35)"
      ]
     },
     "execution_count": 90,
     "metadata": {},
     "output_type": "execute_result"
    }
   ],
   "source": [
    "final_df = final_df[~final_df['Subscription/ Online Payment'].isin([-1,-2])]\n",
    "final_df.shape"
   ]
  },
  {
   "cell_type": "code",
   "execution_count": 91,
   "metadata": {
    "collapsed": false
   },
   "outputs": [
    {
     "data": {
      "text/html": [
       "<div>\n",
       "<table border=\"1\" class=\"dataframe\">\n",
       "  <thead>\n",
       "    <tr style=\"text-align: right;\">\n",
       "      <th></th>\n",
       "      <th>Pricing_score</th>\n",
       "      <th>Mult_Score</th>\n",
       "      <th>Raw_score</th>\n",
       "      <th>score</th>\n",
       "    </tr>\n",
       "  </thead>\n",
       "  <tbody>\n",
       "    <tr>\n",
       "      <th>0</th>\n",
       "      <td>0.0</td>\n",
       "      <td>4.0</td>\n",
       "      <td>7.0</td>\n",
       "      <td>0.0</td>\n",
       "    </tr>\n",
       "    <tr>\n",
       "      <th>1</th>\n",
       "      <td>0.0</td>\n",
       "      <td>1.0</td>\n",
       "      <td>1.0</td>\n",
       "      <td>41.0</td>\n",
       "    </tr>\n",
       "    <tr>\n",
       "      <th>3</th>\n",
       "      <td>0.0</td>\n",
       "      <td>6.0</td>\n",
       "      <td>7.2</td>\n",
       "      <td>0.0</td>\n",
       "    </tr>\n",
       "    <tr>\n",
       "      <th>4</th>\n",
       "      <td>0.0</td>\n",
       "      <td>1.0</td>\n",
       "      <td>1.4</td>\n",
       "      <td>0.0</td>\n",
       "    </tr>\n",
       "    <tr>\n",
       "      <th>5</th>\n",
       "      <td>0.0</td>\n",
       "      <td>3.0</td>\n",
       "      <td>3.0</td>\n",
       "      <td>0.0</td>\n",
       "    </tr>\n",
       "  </tbody>\n",
       "</table>\n",
       "</div>"
      ],
      "text/plain": [
       "   Pricing_score  Mult_Score  Raw_score  score\n",
       "0            0.0         4.0        7.0    0.0\n",
       "1            0.0         1.0        1.0   41.0\n",
       "3            0.0         6.0        7.2    0.0\n",
       "4            0.0         1.0        1.4    0.0\n",
       "5            0.0         3.0        3.0    0.0"
      ]
     },
     "execution_count": 91,
     "metadata": {},
     "output_type": "execute_result"
    }
   ],
   "source": [
    "final_df[['Pricing_score','Mult_Score','Raw_score','score']].head()"
   ]
  },
  {
   "cell_type": "code",
   "execution_count": 92,
   "metadata": {
    "collapsed": false,
    "scrolled": true
   },
   "outputs": [
    {
     "data": {
      "text/plain": [
       "False    303\n",
       "True      59\n",
       "Name: saas_subscription, dtype: int64"
      ]
     },
     "execution_count": 92,
     "metadata": {},
     "output_type": "execute_result"
    }
   ],
   "source": [
    "final_df['saas_subscription'] = final_df['Subscription/ Online Payment'].isin(['1 - Subscr Pricing'])\n",
    "final_df['saas_subscription'].value_counts()"
   ]
  },
  {
   "cell_type": "code",
   "execution_count": null,
   "metadata": {
    "collapsed": true
   },
   "outputs": [],
   "source": [
    "final_df['website_text'] = final_df['text']"
   ]
  },
  {
   "cell_type": "code",
   "execution_count": 120,
   "metadata": {
    "collapsed": true
   },
   "outputs": [],
   "source": [
    "final_df = final_df.fillna('')"
   ]
  },
  {
   "cell_type": "code",
   "execution_count": 121,
   "metadata": {
    "collapsed": false
   },
   "outputs": [],
   "source": [
    "final_df['website_text'] = final_df['website_text'].apply(lambda x: re.sub('\\n',' ',x))"
   ]
  },
  {
   "cell_type": "code",
   "execution_count": 122,
   "metadata": {
    "collapsed": false
   },
   "outputs": [],
   "source": [
    "final_df = final_df[['website','demo_present','login_present','pricing_present','score','website_text','saas_subscription']]\n",
    "final_df.to_csv('CB_Nov16_Enrich_02Websites_final_data_dec28.csv',encoding='utf-8',index=False,quoting=1)"
   ]
  },
  {
   "cell_type": "code",
   "execution_count": 94,
   "metadata": {
    "collapsed": false
   },
   "outputs": [
    {
     "data": {
      "text/plain": [
       "(362, 7)"
      ]
     },
     "execution_count": 94,
     "metadata": {},
     "output_type": "execute_result"
    }
   ],
   "source": [
    "final_df = pd.read_csv('CB_Nov16_Enrich_02Websites_final_data_dec28.csv')\n",
    "final_df.shape"
   ]
  },
  {
   "cell_type": "code",
   "execution_count": 95,
   "metadata": {
    "collapsed": false
   },
   "outputs": [
    {
     "data": {
      "text/plain": [
       "Index([u'website', u'demo_present', u'login_present', u'pricing_present',\n",
       "       u'score', u'text', u'saas_subscription'],\n",
       "      dtype='object')"
      ]
     },
     "execution_count": 95,
     "metadata": {},
     "output_type": "execute_result"
    }
   ],
   "source": [
    "final_df.columns"
   ]
  },
  {
   "cell_type": "markdown",
   "metadata": {},
   "source": [
    "data from old scoring"
   ]
  },
  {
   "cell_type": "code",
   "execution_count": 18,
   "metadata": {
    "collapsed": false
   },
   "outputs": [
    {
     "data": {
      "text/plain": [
       "(533, 6)"
      ]
     },
     "execution_count": 18,
     "metadata": {},
     "output_type": "execute_result"
    }
   ],
   "source": [
    "df_new = pd.read_csv('SAAS_Classified_crawler_input.csv')\n",
    "df_new.shape"
   ]
  },
  {
   "cell_type": "code",
   "execution_count": 19,
   "metadata": {
    "collapsed": false
   },
   "outputs": [
    {
     "name": "stderr",
     "output_type": "stream",
     "text": [
      "/usr/local/lib/python2.7/dist-packages/ipykernel/__main__.py:1: ParserWarning: Falling back to the 'python' engine because the 'c' engine does not support sep=None with delim_whitespace=False; you can avoid this warning by specifying engine='python'.\n",
      "  if __name__ == '__main__':\n"
     ]
    },
    {
     "data": {
      "text/plain": [
       "(525, 10)"
      ]
     },
     "execution_count": 19,
     "metadata": {},
     "output_type": "execute_result"
    }
   ],
   "source": [
    "df_new_vars = pd.read_csv('SAAS_Classified_crawler_output.csv',sep=None)\n",
    "df_new_vars.shape"
   ]
  },
  {
   "cell_type": "code",
   "execution_count": 20,
   "metadata": {
    "collapsed": false
   },
   "outputs": [
    {
     "data": {
      "text/plain": [
       "(525, 15)"
      ]
     },
     "execution_count": 20,
     "metadata": {},
     "output_type": "execute_result"
    }
   ],
   "source": [
    "df_new_full = pd.merge(df_new,df_new_vars,on='id')\n",
    "df_new_full.shape"
   ]
  },
  {
   "cell_type": "code",
   "execution_count": 21,
   "metadata": {
    "collapsed": false
   },
   "outputs": [
    {
     "name": "stdout",
     "output_type": "stream",
     "text": [
      "(526, 2)\n"
     ]
    }
   ],
   "source": [
    "df_text = pd.read_csv('SAAS_Classified_crawler_output_all_texts.csv',header=None)\n",
    "df_text.columns = ['website','website_text']\n",
    "df_text = df_text.drop_duplicates(['website'])\n",
    "print df_text.shape"
   ]
  },
  {
   "cell_type": "code",
   "execution_count": 22,
   "metadata": {
    "collapsed": false
   },
   "outputs": [
    {
     "name": "stdout",
     "output_type": "stream",
     "text": [
      "(524, 17)\n"
     ]
    }
   ],
   "source": [
    "df_new_full_text = pd.merge(df_new_full,df_text,left_on = 'website_y',right_on='website')\n",
    "print df_new_full_text.shape"
   ]
  },
  {
   "cell_type": "code",
   "execution_count": 23,
   "metadata": {
    "collapsed": false
   },
   "outputs": [
    {
     "data": {
      "text/plain": [
       "(523, 17)"
      ]
     },
     "execution_count": 23,
     "metadata": {},
     "output_type": "execute_result"
    }
   ],
   "source": [
    "df_new_full_text = df_new_full_text.drop_duplicates('website_x')\n",
    "df_new_full_text.shape"
   ]
  },
  {
   "cell_type": "code",
   "execution_count": 24,
   "metadata": {
    "collapsed": true
   },
   "outputs": [],
   "source": [
    "df_new_full_text['saas_subscription'] = df_new_full_text['Online Payments Classifications']=='SAAS'"
   ]
  },
  {
   "cell_type": "code",
   "execution_count": 27,
   "metadata": {
    "collapsed": false
   },
   "outputs": [],
   "source": [
    "df_new_full_text = df_new_full_text[['website_x','demo_present','login_present','pricing_present','score','website_text',\n",
    "                                     'saas_subscription']]\n",
    "                                     #'Business Category','PaymentType','Existing Payment Gateway']]"
   ]
  },
  {
   "cell_type": "code",
   "execution_count": 12,
   "metadata": {
    "collapsed": true
   },
   "outputs": [],
   "source": [
    "df_new_full_text.columns = ['website','demo_present','login_present','pricing_present','score','website_text','saas_subscription']"
   ]
  },
  {
   "cell_type": "code",
   "execution_count": 124,
   "metadata": {
    "collapsed": true
   },
   "outputs": [],
   "source": [
    "df_new_full_text = df_new_full_text.fillna('')"
   ]
  },
  {
   "cell_type": "code",
   "execution_count": 125,
   "metadata": {
    "collapsed": false
   },
   "outputs": [],
   "source": [
    "df_new_full_text['website_text'] = df_new_full_text['website_text'].apply(lambda x: re.sub('\\n',' ',x))"
   ]
  },
  {
   "cell_type": "code",
   "execution_count": 126,
   "metadata": {
    "collapsed": false
   },
   "outputs": [],
   "source": [
    "df_new_full_text.to_csv('SAAS_Classified_final_data_dec28.csv',encoding='utf-8',index=False,quoting=1)"
   ]
  },
  {
   "cell_type": "code",
   "execution_count": 128,
   "metadata": {
    "collapsed": false
   },
   "outputs": [],
   "source": [
    "tmp1 = pd.read_csv('CB_Nov16_Enrich_02Websites_final_data_dec28.csv')\n",
    "tmp2 = pd.read_csv('SAAS_Classified_final_data_dec28.csv')"
   ]
  },
  {
   "cell_type": "code",
   "execution_count": 129,
   "metadata": {
    "collapsed": false
   },
   "outputs": [
    {
     "data": {
      "text/html": [
       "<div>\n",
       "<table border=\"1\" class=\"dataframe\">\n",
       "  <thead>\n",
       "    <tr style=\"text-align: right;\">\n",
       "      <th></th>\n",
       "      <th>website</th>\n",
       "      <th>demo_present</th>\n",
       "      <th>login_present</th>\n",
       "      <th>pricing_present</th>\n",
       "      <th>score</th>\n",
       "      <th>website_text</th>\n",
       "      <th>saas_subscription</th>\n",
       "    </tr>\n",
       "  </thead>\n",
       "  <tbody>\n",
       "    <tr>\n",
       "      <th>0</th>\n",
       "      <td>http://www.ultracartstore.com</td>\n",
       "      <td>False</td>\n",
       "      <td>False</td>\n",
       "      <td>False</td>\n",
       "      <td>0.0</td>\n",
       "      <td>404 - Object Not Found</td>\n",
       "      <td>False</td>\n",
       "    </tr>\n",
       "    <tr>\n",
       "      <th>1</th>\n",
       "      <td>http://www.borathyun.wordpress.com</td>\n",
       "      <td>True</td>\n",
       "      <td>True</td>\n",
       "      <td>True</td>\n",
       "      <td>41.0</td>\n",
       "      <td>Bienvenue – toujours de l'avant et plus déterm...</td>\n",
       "      <td>False</td>\n",
       "    </tr>\n",
       "    <tr>\n",
       "      <th>2</th>\n",
       "      <td>http://www.globalmillennials.org</td>\n",
       "      <td>False</td>\n",
       "      <td>False</td>\n",
       "      <td>False</td>\n",
       "      <td>0.0</td>\n",
       "      <td>Global Millennials For Progress Home About Us ...</td>\n",
       "      <td>False</td>\n",
       "    </tr>\n",
       "    <tr>\n",
       "      <th>3</th>\n",
       "      <td>http://www.les-artisans-francais.fr</td>\n",
       "      <td>False</td>\n",
       "      <td>False</td>\n",
       "      <td>False</td>\n",
       "      <td>0.0</td>\n",
       "      <td>Artisans-francais, l'annuaire des professionne...</td>\n",
       "      <td>False</td>\n",
       "    </tr>\n",
       "    <tr>\n",
       "      <th>4</th>\n",
       "      <td>http://www.nedboxgroup.com</td>\n",
       "      <td>False</td>\n",
       "      <td>False</td>\n",
       "      <td>False</td>\n",
       "      <td>0.0</td>\n",
       "      <td>Nedboxgroup Ltd. Группа компаний Nedboxgroup L...</td>\n",
       "      <td>False</td>\n",
       "    </tr>\n",
       "  </tbody>\n",
       "</table>\n",
       "</div>"
      ],
      "text/plain": [
       "                               website demo_present login_present  \\\n",
       "0        http://www.ultracartstore.com        False         False   \n",
       "1   http://www.borathyun.wordpress.com         True          True   \n",
       "2     http://www.globalmillennials.org        False         False   \n",
       "3  http://www.les-artisans-francais.fr        False         False   \n",
       "4           http://www.nedboxgroup.com        False         False   \n",
       "\n",
       "  pricing_present  score                                       website_text  \\\n",
       "0           False    0.0                             404 - Object Not Found   \n",
       "1            True   41.0  Bienvenue – toujours de l'avant et plus déterm...   \n",
       "2           False    0.0  Global Millennials For Progress Home About Us ...   \n",
       "3           False    0.0  Artisans-francais, l'annuaire des professionne...   \n",
       "4           False    0.0  Nedboxgroup Ltd. Группа компаний Nedboxgroup L...   \n",
       "\n",
       "  saas_subscription  \n",
       "0             False  \n",
       "1             False  \n",
       "2             False  \n",
       "3             False  \n",
       "4             False  "
      ]
     },
     "execution_count": 129,
     "metadata": {},
     "output_type": "execute_result"
    }
   ],
   "source": [
    "tmp1.head()"
   ]
  },
  {
   "cell_type": "code",
   "execution_count": 130,
   "metadata": {
    "collapsed": false
   },
   "outputs": [
    {
     "data": {
      "text/html": [
       "<div>\n",
       "<table border=\"1\" class=\"dataframe\">\n",
       "  <thead>\n",
       "    <tr style=\"text-align: right;\">\n",
       "      <th></th>\n",
       "      <th>website</th>\n",
       "      <th>demo_present</th>\n",
       "      <th>login_present</th>\n",
       "      <th>pricing_present</th>\n",
       "      <th>score</th>\n",
       "      <th>website_text</th>\n",
       "      <th>saas_subscription</th>\n",
       "    </tr>\n",
       "  </thead>\n",
       "  <tbody>\n",
       "    <tr>\n",
       "      <th>0</th>\n",
       "      <td>atlantatechvillage.com</td>\n",
       "      <td>False</td>\n",
       "      <td>True</td>\n",
       "      <td>True</td>\n",
       "      <td>4.2</td>\n",
       "      <td>Atlanta's Startup Hub | Atlanta Tech Village A...</td>\n",
       "      <td>False</td>\n",
       "    </tr>\n",
       "    <tr>\n",
       "      <th>1</th>\n",
       "      <td>founderdating.com</td>\n",
       "      <td>False</td>\n",
       "      <td>True</td>\n",
       "      <td>False</td>\n",
       "      <td>0.0</td>\n",
       "      <td>Connect with Entrepreneurs, Startup founders a...</td>\n",
       "      <td>False</td>\n",
       "    </tr>\n",
       "    <tr>\n",
       "      <th>2</th>\n",
       "      <td>swbcf.org</td>\n",
       "      <td>False</td>\n",
       "      <td>False</td>\n",
       "      <td>False</td>\n",
       "      <td>0.0</td>\n",
       "      <td>SWBCF Home Program Pathway Mentors Become a Me...</td>\n",
       "      <td>False</td>\n",
       "    </tr>\n",
       "    <tr>\n",
       "      <th>3</th>\n",
       "      <td>www.trend-tribe.com</td>\n",
       "      <td>False</td>\n",
       "      <td>False</td>\n",
       "      <td>False</td>\n",
       "      <td>0.0</td>\n",
       "      <td>Trend Tribe – NYC Accessories Trend Tribe NYC ...</td>\n",
       "      <td>False</td>\n",
       "    </tr>\n",
       "    <tr>\n",
       "      <th>4</th>\n",
       "      <td>www.kpmg.com.au</td>\n",
       "      <td>False</td>\n",
       "      <td>False</td>\n",
       "      <td>False</td>\n",
       "      <td>0.0</td>\n",
       "      <td>KPMG Australia | KPMG | AU Insights Industries...</td>\n",
       "      <td>False</td>\n",
       "    </tr>\n",
       "  </tbody>\n",
       "</table>\n",
       "</div>"
      ],
      "text/plain": [
       "                  website demo_present login_present pricing_present  score  \\\n",
       "0  atlantatechvillage.com        False          True            True    4.2   \n",
       "1       founderdating.com        False          True           False    0.0   \n",
       "2               swbcf.org        False         False           False    0.0   \n",
       "3     www.trend-tribe.com        False         False           False    0.0   \n",
       "4         www.kpmg.com.au        False         False           False    0.0   \n",
       "\n",
       "                                        website_text saas_subscription  \n",
       "0  Atlanta's Startup Hub | Atlanta Tech Village A...             False  \n",
       "1  Connect with Entrepreneurs, Startup founders a...             False  \n",
       "2  SWBCF Home Program Pathway Mentors Become a Me...             False  \n",
       "3  Trend Tribe – NYC Accessories Trend Tribe NYC ...             False  \n",
       "4  KPMG Australia | KPMG | AU Insights Industries...             False  "
      ]
     },
     "execution_count": 130,
     "metadata": {},
     "output_type": "execute_result"
    }
   ],
   "source": [
    "tmp2.head()"
   ]
  },
  {
   "cell_type": "code",
   "execution_count": 26,
   "metadata": {
    "collapsed": false
   },
   "outputs": [
    {
     "data": {
      "text/plain": [
       "Index([u'id', u'company_name', u'website_x', u'SaaS type',\n",
       "       u'Online Payments Classifications', u'company_linkedin_url_x',\n",
       "       u'company_linkedin_url_y', u'demo_present', u'emails', u'login_present',\n",
       "       u'match_texts_test', u'pricing_present', u'score', u'urls',\n",
       "       u'website_y', u'website', u'website_text', u'saas_subscription'],\n",
       "      dtype='object')"
      ]
     },
     "execution_count": 26,
     "metadata": {},
     "output_type": "execute_result"
    }
   ],
   "source": [
    "df_new_full_text.columns"
   ]
  }
 ],
 "metadata": {
  "kernelspec": {
   "display_name": "Python 2",
   "language": "python",
   "name": "python2"
  },
  "language_info": {
   "codemirror_mode": {
    "name": "ipython",
    "version": 2
   },
   "file_extension": ".py",
   "mimetype": "text/x-python",
   "name": "python",
   "nbconvert_exporter": "python",
   "pygments_lexer": "ipython2",
   "version": "2.7.3"
  }
 },
 "nbformat": 4,
 "nbformat_minor": 1
}
