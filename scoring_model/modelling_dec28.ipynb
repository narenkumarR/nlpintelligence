{
 "cells": [
  {
   "cell_type": "code",
   "execution_count": 1,
   "metadata": {
    "collapsed": true
   },
   "outputs": [],
   "source": [
    "import pandas as pd,numpy as np"
   ]
  },
  {
   "cell_type": "code",
   "execution_count": 2,
   "metadata": {
    "collapsed": true
   },
   "outputs": [],
   "source": [
    "tmp1 = pd.read_csv('CB_Nov16_Enrich_02Websites_final_data_dec28.csv')\n",
    "tmp2 = pd.read_csv('SAAS_Classified_final_data_dec28.csv')\n",
    "df = pd.concat([tmp1,tmp2],ignore_index=True)"
   ]
  },
  {
   "cell_type": "code",
   "execution_count": 16,
   "metadata": {
    "collapsed": false
   },
   "outputs": [
    {
     "data": {
      "text/plain": [
       "(885, 7)"
      ]
     },
     "execution_count": 16,
     "metadata": {},
     "output_type": "execute_result"
    }
   ],
   "source": [
    "df.shape"
   ]
  },
  {
   "cell_type": "code",
   "execution_count": 7,
   "metadata": {
    "collapsed": false
   },
   "outputs": [],
   "source": [
    "df.ix[df['website_text']=='404 - Object Not Found','website_text'] = ''"
   ]
  },
  {
   "cell_type": "code",
   "execution_count": 10,
   "metadata": {
    "collapsed": false,
    "scrolled": true
   },
   "outputs": [
    {
     "data": {
      "text/html": [
       "<div>\n",
       "<table border=\"1\" class=\"dataframe\">\n",
       "  <thead>\n",
       "    <tr style=\"text-align: right;\">\n",
       "      <th></th>\n",
       "      <th>website</th>\n",
       "      <th>demo_present</th>\n",
       "      <th>login_present</th>\n",
       "      <th>pricing_present</th>\n",
       "      <th>score</th>\n",
       "      <th>website_text</th>\n",
       "      <th>saas_subscription</th>\n",
       "    </tr>\n",
       "  </thead>\n",
       "  <tbody>\n",
       "    <tr>\n",
       "      <th>0</th>\n",
       "      <td>http://www.ultracartstore.com</td>\n",
       "      <td>False</td>\n",
       "      <td>False</td>\n",
       "      <td>False</td>\n",
       "      <td>0.0</td>\n",
       "      <td></td>\n",
       "      <td>False</td>\n",
       "    </tr>\n",
       "    <tr>\n",
       "      <th>1</th>\n",
       "      <td>http://www.borathyun.wordpress.com</td>\n",
       "      <td>True</td>\n",
       "      <td>True</td>\n",
       "      <td>True</td>\n",
       "      <td>41.0</td>\n",
       "      <td>Bienvenue – toujours de l'avant et plus déterm...</td>\n",
       "      <td>False</td>\n",
       "    </tr>\n",
       "    <tr>\n",
       "      <th>2</th>\n",
       "      <td>http://www.globalmillennials.org</td>\n",
       "      <td>False</td>\n",
       "      <td>False</td>\n",
       "      <td>False</td>\n",
       "      <td>0.0</td>\n",
       "      <td>Global Millennials For Progress Home About Us ...</td>\n",
       "      <td>False</td>\n",
       "    </tr>\n",
       "    <tr>\n",
       "      <th>3</th>\n",
       "      <td>http://www.les-artisans-francais.fr</td>\n",
       "      <td>False</td>\n",
       "      <td>False</td>\n",
       "      <td>False</td>\n",
       "      <td>0.0</td>\n",
       "      <td>Artisans-francais, l'annuaire des professionne...</td>\n",
       "      <td>False</td>\n",
       "    </tr>\n",
       "    <tr>\n",
       "      <th>4</th>\n",
       "      <td>http://www.nedboxgroup.com</td>\n",
       "      <td>False</td>\n",
       "      <td>False</td>\n",
       "      <td>False</td>\n",
       "      <td>0.0</td>\n",
       "      <td>Nedboxgroup Ltd. Группа компаний Nedboxgroup L...</td>\n",
       "      <td>False</td>\n",
       "    </tr>\n",
       "  </tbody>\n",
       "</table>\n",
       "</div>"
      ],
      "text/plain": [
       "                               website demo_present login_present  \\\n",
       "0        http://www.ultracartstore.com        False         False   \n",
       "1   http://www.borathyun.wordpress.com         True          True   \n",
       "2     http://www.globalmillennials.org        False         False   \n",
       "3  http://www.les-artisans-francais.fr        False         False   \n",
       "4           http://www.nedboxgroup.com        False         False   \n",
       "\n",
       "  pricing_present  score                                       website_text  \\\n",
       "0           False    0.0                                                      \n",
       "1            True   41.0  Bienvenue – toujours de l'avant et plus déterm...   \n",
       "2           False    0.0  Global Millennials For Progress Home About Us ...   \n",
       "3           False    0.0  Artisans-francais, l'annuaire des professionne...   \n",
       "4           False    0.0  Nedboxgroup Ltd. Группа компаний Nedboxgroup L...   \n",
       "\n",
       "  saas_subscription  \n",
       "0             False  \n",
       "1             False  \n",
       "2             False  \n",
       "3             False  \n",
       "4             False  "
      ]
     },
     "execution_count": 10,
     "metadata": {},
     "output_type": "execute_result"
    }
   ],
   "source": [
    "df.head()"
   ]
  },
  {
   "cell_type": "code",
   "execution_count": 19,
   "metadata": {
    "collapsed": false
   },
   "outputs": [
    {
     "data": {
      "text/plain": [
       "(885, 7)"
      ]
     },
     "execution_count": 19,
     "metadata": {},
     "output_type": "execute_result"
    }
   ],
   "source": [
    "df = df.drop_duplicates('website')\n",
    "df.shape"
   ]
  },
  {
   "cell_type": "code",
   "execution_count": 2,
   "metadata": {
    "collapsed": false
   },
   "outputs": [],
   "source": [
    "#text processing\n",
    "import nltk,re\n",
    "from nltk.corpus import stopwords\n",
    "from nltk.stem import SnowballStemmer\n",
    "from text_processing import extract_phrases\n",
    "from sklearn.feature_extraction.text import TfidfVectorizer,CountVectorizer\n",
    "import nltk,re\n",
    "from nltk.corpus import stopwords\n",
    "from nltk.stem import SnowballStemmer\n",
    "from nltk.stem.wordnet import WordNetLemmatizer\n",
    "from text_processing import extract_phrases"
   ]
  },
  {
   "cell_type": "code",
   "execution_count": 25,
   "metadata": {
    "collapsed": true
   },
   "outputs": [],
   "source": [
    "grammar = r\"\"\"\n",
    "  NP1: {<JJ><NN.*>+}          # Chunk sequences of JJ, NN\n",
    "  NP2: {<NN.*>+<JJ>}          # Chunk sequences of NN and JJ\n",
    "  NP3: {<NN.*>+}                  #Noun phrases\n",
    "  VP: {<VB.*><NN.*>+} # Chunk verbs and their arguments\n",
    "  \"\"\"\n",
    "phr_list = ['NP1','NP2','NP3','VP']\n",
    "tag_list = ['NN','NNS','NNP','NNPS','VB','VBD','VBG','VBN','VBP','VBZ']\n",
    "stop_words = stopwords.words()+['http','https','goo','isnt','wwwfacebookcomtr','wwwgoogletagmanagercomnshtml',\n",
    "                               'and','be','do','facebook','for','in','is','inc','linkedin','of','the','to']\n",
    "cp = nltk.RegexpParser(grammar)\n",
    "pe = extract_phrases.PhraseExtractor()\n",
    "snowball_stemmer = SnowballStemmer('english')\n",
    "wordnet_lemmatizer = WordNetLemmatizer()\n",
    "reg_exp = re.compile('[^a-zA-Z ]',re.IGNORECASE)\n",
    "def tokenizer(text,stem_type='lemmatize'):\n",
    "    pos_tags = nltk.pos_tag(nltk.word_tokenize(text))\n",
    "    phrs = pe.extract_phrase_treeinput(cp.parse(pos_tags),['NP1','NP2','VP'])\n",
    "    if stem_type == 'stem':\n",
    "        wrds = [snowball_stemmer.stem(i[0]) for i in pos_tags if i[1] in tag_list]\n",
    "    elif stem_type == 'lemmatize':\n",
    "        wrds = [wordnet_lemmatizer.lemmatize(i[0]) for i in pos_tags if i[1] in tag_list]\n",
    "    wrds = [wrd for wrd in wrds if wrd.lower() not in stop_words]\n",
    "    if stem_type == 'stem':\n",
    "        phrs = ['_'.join([snowball_stemmer.stem(wrd) for wrd in nltk.word_tokenize(phr)]) for phr in phrs]\n",
    "    elif stem_type == 'lemmatize':\n",
    "        phrs = ['_'.join([wordnet_lemmatizer.lemmatize(wrd) for wrd in nltk.word_tokenize(phr)]) for phr in phrs]\n",
    "    else:\n",
    "        phrs = ['_'.join([wrd for wrd in nltk.word_tokenize(phr)]) for phr in phrs]\n",
    "    wrds = [reg_exp.sub('',i) for i in wrds]\n",
    "    return wrds+phrs"
   ]
  },
  {
   "cell_type": "code",
   "execution_count": 27,
   "metadata": {
    "collapsed": false,
    "scrolled": true
   },
   "outputs": [
    {
     "name": "stdout",
     "output_type": "stream",
     "text": [
      "Warning: parsing empty text\n",
      "Warning: parsing empty text\n",
      "Warning: parsing empty text\n",
      "Warning: parsing empty text\n",
      "Warning: parsing empty text\n",
      "Warning: parsing empty text\n",
      "Warning: parsing empty text\n",
      "Warning: parsing empty text\n",
      "Warning: parsing empty text\n",
      "Warning: parsing empty text\n",
      "Warning: parsing empty text\n",
      "Warning: parsing empty text\n",
      "Warning: parsing empty text\n",
      "Warning: parsing empty text\n",
      "Warning: parsing empty text\n",
      "Warning: parsing empty text\n",
      "Warning: parsing empty text\n",
      "Warning: parsing empty text\n",
      "Warning: parsing empty text\n",
      "Warning: parsing empty text\n",
      "Warning: parsing empty text\n",
      "Warning: parsing empty text\n",
      "Warning: parsing empty text\n",
      "Warning: parsing empty text\n",
      "Warning: parsing empty text\n",
      "Warning: parsing empty text\n",
      "Warning: parsing empty text\n",
      "Warning: parsing empty text\n",
      "Warning: parsing empty text\n",
      "Warning: parsing empty text\n",
      "Warning: parsing empty text\n",
      "Warning: parsing empty text\n",
      "Warning: parsing empty text\n",
      "Warning: parsing empty text\n",
      "Warning: parsing empty text\n",
      "Warning: parsing empty text\n",
      "Warning: parsing empty text\n",
      "Warning: parsing empty text\n",
      "Warning: parsing empty text\n",
      "Warning: parsing empty text\n",
      "Warning: parsing empty text\n",
      "Warning: parsing empty text\n",
      "Warning: parsing empty text\n",
      "Warning: parsing empty text\n",
      "Warning: parsing empty text\n",
      "Warning: parsing empty text\n",
      "Warning: parsing empty text\n",
      "Warning: parsing empty text\n"
     ]
    }
   ],
   "source": [
    "df['website_text_phrases'] = df['website_text'].fillna('').\\\n",
    "    apply(lambda x: ' '.join(tokenizer(unicode(x,'ascii','ignore'))))"
   ]
  },
  {
   "cell_type": "code",
   "execution_count": 29,
   "metadata": {
    "collapsed": true
   },
   "outputs": [],
   "source": [
    "df.to_csv('final_data_used_dec28.csv',index=False,quoting=1,encoding='utf-8')"
   ]
  },
  {
   "cell_type": "code",
   "execution_count": 3,
   "metadata": {
    "collapsed": true
   },
   "outputs": [],
   "source": [
    "df = pd.read_csv('final_data_used_dec28.csv')"
   ]
  },
  {
   "cell_type": "code",
   "execution_count": 4,
   "metadata": {
    "collapsed": false,
    "scrolled": true
   },
   "outputs": [
    {
     "data": {
      "text/plain": [
       "(885, 692)"
      ]
     },
     "execution_count": 4,
     "metadata": {},
     "output_type": "execute_result"
    }
   ],
   "source": [
    "stop_words = stopwords.words()+['http','https','goo','isnt','wwwfacebookcomtr','wwwgoogletagmanagercomnshtml',\n",
    "                               'and','be','do','facebook','for','in','is','inc','linkedin','of','the','to',\n",
    "                               'using','use','home','get','us']\n",
    "tfidf_vectorizer = TfidfVectorizer(max_df=0.95, min_df=0.1,stop_words=stop_words)\n",
    "tfidf = tfidf_vectorizer.fit_transform(df['website_text'].fillna(''))\n",
    "tfidf.shape"
   ]
  },
  {
   "cell_type": "code",
   "execution_count": 70,
   "metadata": {
    "collapsed": false
   },
   "outputs": [
    {
     "data": {
      "text/plain": [
       "(885, 695)"
      ]
     },
     "execution_count": 70,
     "metadata": {},
     "output_type": "execute_result"
    }
   ],
   "source": [
    "from scipy.sparse import hstack\n",
    "from scipy.sparse.csr import csr_matrix\n",
    "tfidf_n_vars = hstack([tfidf,\n",
    "        csr_matrix(df[['demo_present','login_present','pricing_present']].values.astype(float))])\n",
    "tfidf_n_vars.shape\n",
    "# tfidf_n_vars = tfidf"
   ]
  },
  {
   "cell_type": "code",
   "execution_count": 57,
   "metadata": {
    "collapsed": false
   },
   "outputs": [
    {
     "name": "stderr",
     "output_type": "stream",
     "text": [
      "/usr/local/lib/python2.7/dist-packages/ipykernel/__main__.py:3: UserWarning: This pattern has match groups. To actually get the groups, use str.extract.\n",
      "  app.launch_new_instance()\n"
     ]
    },
    {
     "data": {
      "text/plain": [
       "(885, 696)"
      ]
     },
     "execution_count": 57,
     "metadata": {},
     "output_type": "execute_result"
    }
   ],
   "source": [
    "#new variables\n",
    "reg_text = r'(([0-9]|$|\\b)per|/)(\\b| |\\n|\\r){0,2}(month|year|\\bmo)\\b'\n",
    "df['per_month_present'] = df['website_text'].fillna('').str.contains(reg_text,case=False)\n",
    "tfidf_n_vars = hstack([tfidf,\n",
    "        csr_matrix(df[['demo_present','login_present','pricing_present','per_month_present']].values.astype(float))])\n",
    "tfidf_n_vars.shape"
   ]
  },
  {
   "cell_type": "code",
   "execution_count": 59,
   "metadata": {
    "collapsed": false
   },
   "outputs": [
    {
     "data": {
      "text/plain": [
       "per_month_present  saas_subscription\n",
       "False              False                435\n",
       "                   True                 306\n",
       "True               False                 47\n",
       "                   True                  97\n",
       "dtype: int64"
      ]
     },
     "execution_count": 59,
     "metadata": {},
     "output_type": "execute_result"
    }
   ],
   "source": [
    "df.groupby(['per_month_present','saas_subscription']).size()"
   ]
  },
  {
   "cell_type": "code",
   "execution_count": 60,
   "metadata": {
    "collapsed": false
   },
   "outputs": [
    {
     "data": {
      "text/html": [
       "<div>\n",
       "<table border=\"1\" class=\"dataframe\">\n",
       "  <thead>\n",
       "    <tr style=\"text-align: right;\">\n",
       "      <th></th>\n",
       "      <th>website</th>\n",
       "      <th>demo_present</th>\n",
       "      <th>login_present</th>\n",
       "      <th>pricing_present</th>\n",
       "      <th>score</th>\n",
       "      <th>website_text</th>\n",
       "      <th>saas_subscription</th>\n",
       "      <th>website_text_phrases</th>\n",
       "      <th>naive_bayes_predictions</th>\n",
       "      <th>random_forest_prediction</th>\n",
       "      <th>linear_svm_prediction</th>\n",
       "      <th>per_month_present</th>\n",
       "    </tr>\n",
       "  </thead>\n",
       "  <tbody>\n",
       "    <tr>\n",
       "      <th>1</th>\n",
       "      <td>http://www.borathyun.wordpress.com</td>\n",
       "      <td>True</td>\n",
       "      <td>True</td>\n",
       "      <td>True</td>\n",
       "      <td>41.0</td>\n",
       "      <td>Bienvenue – toujours de l'avant et plus déterm...</td>\n",
       "      <td>False</td>\n",
       "      <td>Bienvenue toujours jamais Skip content Bienven...</td>\n",
       "      <td>3.683605e-28</td>\n",
       "      <td>0.44</td>\n",
       "      <td>0.203320</td>\n",
       "      <td>True</td>\n",
       "    </tr>\n",
       "    <tr>\n",
       "      <th>5</th>\n",
       "      <td>http://www.pagey.io</td>\n",
       "      <td>False</td>\n",
       "      <td>True</td>\n",
       "      <td>True</td>\n",
       "      <td>8.4</td>\n",
       "      <td>Pagey Features Pricing Our Story Login Promote...</td>\n",
       "      <td>False</td>\n",
       "      <td>Pagey Features Pricing Story Login Promote ser...</td>\n",
       "      <td>3.745751e-02</td>\n",
       "      <td>0.51</td>\n",
       "      <td>0.480254</td>\n",
       "      <td>True</td>\n",
       "    </tr>\n",
       "    <tr>\n",
       "      <th>6</th>\n",
       "      <td>http://www.ninjatoolsuite.net</td>\n",
       "      <td>True</td>\n",
       "      <td>True</td>\n",
       "      <td>True</td>\n",
       "      <td>12.4</td>\n",
       "      <td>Ninja Tool Suite - HOME HOME View Pages DEMO S...</td>\n",
       "      <td>False</td>\n",
       "      <td>Ninja Tool Suite HOME HOME View Pages DEMO SIG...</td>\n",
       "      <td>1.000000e+00</td>\n",
       "      <td>0.56</td>\n",
       "      <td>0.680157</td>\n",
       "      <td>True</td>\n",
       "    </tr>\n",
       "    <tr>\n",
       "      <th>7</th>\n",
       "      <td>http://www.graphicbees.com</td>\n",
       "      <td>False</td>\n",
       "      <td>True</td>\n",
       "      <td>True</td>\n",
       "      <td>11.8</td>\n",
       "      <td>Graphic Bees – Unlimited Graphic Design Guaran...</td>\n",
       "      <td>False</td>\n",
       "      <td>Graphic Bees Unlimited Graphic Design Guarante...</td>\n",
       "      <td>4.197286e-15</td>\n",
       "      <td>0.39</td>\n",
       "      <td>0.202910</td>\n",
       "      <td>True</td>\n",
       "    </tr>\n",
       "    <tr>\n",
       "      <th>15</th>\n",
       "      <td>http://www.eveassist.com</td>\n",
       "      <td>False</td>\n",
       "      <td>False</td>\n",
       "      <td>True</td>\n",
       "      <td>21.6</td>\n",
       "      <td>EveAssist &lt;div style=\"display:inline;\"&gt; &lt;img h...</td>\n",
       "      <td>False</td>\n",
       "      <td>EveAssist  div style display inline   img heig...</td>\n",
       "      <td>1.000000e+00</td>\n",
       "      <td>0.51</td>\n",
       "      <td>0.618383</td>\n",
       "      <td>True</td>\n",
       "    </tr>\n",
       "  </tbody>\n",
       "</table>\n",
       "</div>"
      ],
      "text/plain": [
       "                               website demo_present login_present  \\\n",
       "1   http://www.borathyun.wordpress.com         True          True   \n",
       "5                  http://www.pagey.io        False          True   \n",
       "6        http://www.ninjatoolsuite.net         True          True   \n",
       "7           http://www.graphicbees.com        False          True   \n",
       "15            http://www.eveassist.com        False         False   \n",
       "\n",
       "   pricing_present  score                                       website_text  \\\n",
       "1             True   41.0  Bienvenue – toujours de l'avant et plus déterm...   \n",
       "5             True    8.4  Pagey Features Pricing Our Story Login Promote...   \n",
       "6             True   12.4  Ninja Tool Suite - HOME HOME View Pages DEMO S...   \n",
       "7             True   11.8  Graphic Bees – Unlimited Graphic Design Guaran...   \n",
       "15            True   21.6  EveAssist <div style=\"display:inline;\"> <img h...   \n",
       "\n",
       "   saas_subscription                               website_text_phrases  \\\n",
       "1              False  Bienvenue toujours jamais Skip content Bienven...   \n",
       "5              False  Pagey Features Pricing Story Login Promote ser...   \n",
       "6              False  Ninja Tool Suite HOME HOME View Pages DEMO SIG...   \n",
       "7              False  Graphic Bees Unlimited Graphic Design Guarante...   \n",
       "15             False  EveAssist  div style display inline   img heig...   \n",
       "\n",
       "    naive_bayes_predictions  random_forest_prediction  linear_svm_prediction  \\\n",
       "1              3.683605e-28                      0.44               0.203320   \n",
       "5              3.745751e-02                      0.51               0.480254   \n",
       "6              1.000000e+00                      0.56               0.680157   \n",
       "7              4.197286e-15                      0.39               0.202910   \n",
       "15             1.000000e+00                      0.51               0.618383   \n",
       "\n",
       "   per_month_present  \n",
       "1               True  \n",
       "5               True  \n",
       "6               True  \n",
       "7               True  \n",
       "15              True  "
      ]
     },
     "execution_count": 60,
     "metadata": {},
     "output_type": "execute_result"
    }
   ],
   "source": [
    "df[(df['per_month_present'] == True)&(df['saas_subscription'] == False)].head()"
   ]
  },
  {
   "cell_type": "code",
   "execution_count": 44,
   "metadata": {
    "collapsed": true
   },
   "outputs": [],
   "source": [
    "from sklearn.naive_bayes import GaussianNB,MultinomialNB\n",
    "from sklearn.metrics import classification_report\n",
    "from sklearn import tree\n",
    "from sklearn.model_selection import cross_val_predict\n",
    "from sklearn.svm import LinearSVC,SVC\n",
    "from sklearn.ensemble import RandomForestClassifier\n",
    "from sklearn.neural_network import MLPClassifier\n",
    "from sklearn.pipeline import make_pipeline\n",
    "from sklearn.preprocessing import StandardScaler\n",
    "from sklearn.feature_selection import SelectFromModel,RFE"
   ]
  },
  {
   "cell_type": "code",
   "execution_count": 61,
   "metadata": {
    "collapsed": false
   },
   "outputs": [
    {
     "name": "stdout",
     "output_type": "stream",
     "text": [
      "traing predictions\n",
      "             precision    recall  f1-score   support\n",
      "\n",
      "      False       0.85      0.78      0.81       482\n",
      "       True       0.76      0.83      0.80       403\n",
      "\n",
      "avg / total       0.81      0.81      0.81       885\n",
      "\n",
      "cross-validation predictions\n",
      "             precision    recall  f1-score   support\n",
      "\n",
      "      False       0.78      0.71      0.74       482\n",
      "       True       0.68      0.76      0.72       403\n",
      "\n",
      "avg / total       0.74      0.73      0.73       885\n",
      "\n"
     ]
    }
   ],
   "source": [
    "clf = make_pipeline(StandardScaler(with_mean=False),MultinomialNB()) \n",
    "clf.fit(tfidf_n_vars,df['saas_subscription'])\n",
    "print 'traing predictions'\n",
    "print classification_report(df['saas_subscription'],clf.predict(tfidf_n_vars))\n",
    "print 'cross-validation predictions'\n",
    "print classification_report(df['saas_subscription'],cross_val_predict(clf,\n",
    "                                                     tfidf_n_vars,df['saas_subscription'],cv=10))"
   ]
  },
  {
   "cell_type": "code",
   "execution_count": 350,
   "metadata": {
    "collapsed": false
   },
   "outputs": [
    {
     "name": "stdout",
     "output_type": "stream",
     "text": [
      "traing predictions\n",
      "             precision    recall  f1-score   support\n",
      "\n",
      "      False       0.98      0.99      0.99       482\n",
      "       True       0.99      0.98      0.98       403\n",
      "\n",
      "avg / total       0.98      0.98      0.98       885\n",
      "\n",
      "cross-validation predictions\n",
      "             precision    recall  f1-score   support\n",
      "\n",
      "      False       0.70      0.72      0.71       482\n",
      "       True       0.65      0.63      0.64       403\n",
      "\n",
      "avg / total       0.68      0.68      0.68       885\n",
      "\n"
     ]
    }
   ],
   "source": [
    "hidden_layer_sizes=(10,)\n",
    "alpha = 1\n",
    "clf = make_pipeline(StandardScaler(with_mean=False),MLPClassifier(hidden_layer_sizes=hidden_layer_sizes,alpha=alpha)) \n",
    "clf.fit(tfidf_n_vars,df['saas_subscription'])\n",
    "print 'traing predictions'\n",
    "print classification_report(df['saas_subscription'],clf.predict(tfidf_n_vars))\n",
    "print 'cross-validation predictions'\n",
    "print classification_report(df['saas_subscription'],cross_val_predict(clf,\n",
    "                                                     tfidf_n_vars,df['saas_subscription'],cv=10))"
   ]
  },
  {
   "cell_type": "code",
   "execution_count": 46,
   "metadata": {
    "collapsed": false
   },
   "outputs": [
    {
     "name": "stdout",
     "output_type": "stream",
     "text": [
      "traing predictions\n",
      "             precision    recall  f1-score   support\n",
      "\n",
      "      False       0.87      0.82      0.84       482\n",
      "       True       0.79      0.86      0.82       403\n",
      "\n",
      "avg / total       0.84      0.83      0.83       885\n",
      "\n",
      "cross-validation predictions\n",
      "             precision    recall  f1-score   support\n",
      "\n",
      "      False       0.79      0.71      0.74       482\n",
      "       True       0.69      0.77      0.73       403\n",
      "\n",
      "avg / total       0.74      0.74      0.74       885\n",
      "\n"
     ]
    }
   ],
   "source": [
    "C = 0.00005\n",
    "clf = make_pipeline(StandardScaler(with_mean=False),LinearSVC(C=C)) \n",
    "clf.fit(tfidf_n_vars,df['saas_subscription'])\n",
    "print 'traing predictions'\n",
    "print classification_report(df['saas_subscription'],clf.predict(tfidf_n_vars))\n",
    "print 'cross-validation predictions'\n",
    "print classification_report(df['saas_subscription'],cross_val_predict(clf,\n",
    "                                                     tfidf_n_vars,df['saas_subscription'],cv=10))"
   ]
  },
  {
   "cell_type": "code",
   "execution_count": 71,
   "metadata": {
    "collapsed": false
   },
   "outputs": [
    {
     "name": "stdout",
     "output_type": "stream",
     "text": [
      "traing predictions\n",
      "             precision    recall  f1-score   support\n",
      "\n",
      "      False       0.86      0.89      0.87       482\n",
      "       True       0.86      0.83      0.84       403\n",
      "\n",
      "avg / total       0.86      0.86      0.86       885\n",
      "\n",
      "cross-validation predictions\n",
      "             precision    recall  f1-score   support\n",
      "\n",
      "      False       0.77      0.77      0.77       482\n",
      "       True       0.72      0.72      0.72       403\n",
      "\n",
      "avg / total       0.75      0.75      0.75       885\n",
      "\n"
     ]
    }
   ],
   "source": [
    "C = 0.001\n",
    "clf = make_pipeline(StandardScaler(with_mean=False),SVC(C=C,kernel='linear')) \n",
    "clf.fit(tfidf_n_vars,df['saas_subscription'])\n",
    "print 'traing predictions'\n",
    "print classification_report(df['saas_subscription'],clf.predict(tfidf_n_vars))\n",
    "print 'cross-validation predictions'\n",
    "print classification_report(df['saas_subscription'],cross_val_predict(clf,\n",
    "                                                     tfidf_n_vars,df['saas_subscription'],cv=10))"
   ]
  },
  {
   "cell_type": "code",
   "execution_count": 10,
   "metadata": {
    "collapsed": false
   },
   "outputs": [
    {
     "name": "stdout",
     "output_type": "stream",
     "text": [
      "traing predictions\n",
      "             precision    recall  f1-score   support\n",
      "\n",
      "      False       0.98      1.00      0.99       482\n",
      "       True       0.99      0.98      0.99       403\n",
      "\n",
      "avg / total       0.99      0.99      0.99       885\n",
      "\n",
      "cross-validation predictions\n",
      "             precision    recall  f1-score   support\n",
      "\n",
      "      False       0.76      0.78      0.77       482\n",
      "       True       0.72      0.70      0.71       403\n",
      "\n",
      "avg / total       0.74      0.74      0.74       885\n",
      "\n"
     ]
    }
   ],
   "source": [
    "n_estimators = 100\n",
    "min_samples_split=2\n",
    "min_samples_leaf=1\n",
    "max_depth = None\n",
    "clf = make_pipeline(StandardScaler(with_mean=False),RandomForestClassifier(\n",
    "    n_estimators=n_estimators,min_samples_split=min_samples_split,\n",
    "                            min_samples_leaf=min_samples_leaf,max_depth=max_depth)) \n",
    "clf.fit(tfidf_n_vars,df['saas_subscription'])\n",
    "print 'traing predictions'\n",
    "print classification_report(df['saas_subscription'],clf.predict(tfidf_n_vars))\n",
    "print 'cross-validation predictions'\n",
    "print classification_report(df['saas_subscription'],cross_val_predict(clf,\n",
    "                                                     tfidf_n_vars,df['saas_subscription'],cv=10))"
   ]
  },
  {
   "cell_type": "markdown",
   "metadata": {},
   "source": [
    "identifying important features"
   ]
  },
  {
   "cell_type": "code",
   "execution_count": 48,
   "metadata": {
    "collapsed": true
   },
   "outputs": [],
   "source": [
    "vocab_list = [0]*len(tfidf_vectorizer.vocabulary_)\n",
    "for wrd in tfidf_vectorizer.vocabulary_:\n",
    "    vocab_list[tfidf_vectorizer.vocabulary_[wrd]] = wrd\n",
    "vocab_list.extend(['demo_present','login_present','pricing_present','per_month_present'])"
   ]
  },
  {
   "cell_type": "code",
   "execution_count": 50,
   "metadata": {
    "collapsed": false
   },
   "outputs": [
    {
     "name": "stdout",
     "output_type": "stream",
     "text": [
      "Features sorted by their score:\n",
      "[(0.0167, u'demo'), (0.0149, u'platform'), (0.0127, u'data'), (0.0123, 'demo_present'), (0.0097, u'blog'), (0.0083, u'careers'), (0.008, u'time'), (0.0078, u'request'), (0.0077, u'learn'), (0.007, u'mobile'), (0.0066, u'privacy'), (0.0064, u'works'), (0.0064, u'software'), (0.0063, u'features'), (0.0062, u'terms'), (0.0057, u'solution'), (0.0057, u'resources'), (0.0057, u'automatically'), (0.0056, u'enjoy'), (0.0055, u'app'), (0.0053, u'integrations'), (0.0053, u'company'), (0.0053, u'across'), (0.0052, u'management'), (0.005, u'found'), (0.0049, u'used'), (0.0049, u'tools'), (0.0049, u'integration'), (0.0045, u'technology'), (0.0045, u'contact'), (0.0043, u'performance'), (0.0043, u'analytics'), (0.0042, u'manager'), (0.004, u'team'), (0.0039, u'users'), (0.0038, u'within'), (0.0038, u'security'), (0.0038, u'api'), (0.0037, u'benefits'), (0.0036, u'noscript'), (0.0034, u'pricing'), (0.0034, u'entire'), (0.0034, u'email'), (0.0033, u'increase'), (0.0033, u'customers'), (0.0031, u'work'), (0.0031, u'trial'), (0.0031, u'helps'), (0.003, u'view'), (0.003, u'toggle'), (0.003, u'press'), (0.0029, u'www'), (0.0029, u'review'), (0.0029, u'one'), (0.0029, u'identify'), (0.0029, u'experience'), (0.0029, u'download'), (0.0029, u'2016'), (0.0028, u'system'), (0.0028, u'san'), (0.0028, u'power'), (0.0028, u'long'), (0.0028, u'id'), (0.0028, u'help'), (0.0027, u'teams'), (0.0027, u'services'), (0.0027, u'next'), (0.0027, u'full'), (0.0027, u'code'), (0.0026, u'web'), (0.0026, u'real'), (0.0026, u'multiple'), (0.0026, u'make'), (0.0026, u'information'), (0.0026, u'first'), (0.0026, u'create'), (0.0025, u'tool'), (0.0025, u'sales'), (0.0025, u'img'), (0.0025, u'content'), (0.0025, u'based'), (0.0025, u'access'), (0.0024, u'unlimited'), (0.0024, u'send'), (0.0024, u'partners'), (0.0024, u'manage'), (0.0024, u'industry'), (0.0024, u'design'), (0.0024, u'cannot'), (0.0023, u'site'), (0.0023, u'navigation'), (0.0023, u'great'), (0.0023, u'display'), (0.0023, u'cloud'), (0.0023, u'back'), (0.0023, u'available'), (0.0022, u'style'), (0.0022, u'simple'), (0.0022, u'rights'), (0.0022, u'product'), (0.0022, u'page'), (0.0022, u'new'), (0.0022, u'leading'), (0.0022, u'improve'), (0.0022, u'could'), (0.0021, u'well'), (0.0021, u'solutions'), (0.0021, u'policy'), (0.0021, u'copyright'), (0.0021, u'card'), (0.0021, u'advanced'), (0.002, u'working'), (0.002, u'visibility'), (0.002, u'received'), (0.002, u'process'), (0.002, u'popular'), (0.002, u'payments'), (0.002, u'name'), (0.002, u'message'), (0.002, u'know'), (0.002, u'feature'), (0.002, u'engagement'), (0.002, u'easy'), (0.002, u'control'), (0.002, u'complete'), (0.002, u'account'), (0.002, u'100'), (0.0019, u'website'), (0.0019, u'way'), (0.0019, u'user'), (0.0019, u'start'), (0.0019, u'share'), (0.0019, u'service'), (0.0019, u'reserved'), (0.0019, u'rate'), (0.0019, u'overview'), (0.0019, u'login'), (0.0019, u'integrated'), (0.0019, u'html'), (0.0019, u'free'), (0.0019, u'enterprise'), (0.0019, u'day'), (0.0019, u'amp'), (0.0019, u'always'), (0.0018, u'world'), (0.0018, u'street'), (0.0018, u'src'), (0.0018, u'sign'), (0.0018, u'sending'), (0.0018, u'search'), (0.0018, u'please'), (0.0018, u'payment'), (0.0018, u'need'), (0.0018, u'marketing'), (0.0018, u'mail'), (0.0018, u'insights'), (0.0018, u'find'), (0.0018, u'easily'), (0.0018, u'address'), (0.0017, u'unique'), (0.0017, u'try'), (0.0017, u'things'), (0.0017, u'take'), (0.0017, u'support'), (0.0017, u'shop'), (0.0017, u'right'), (0.0017, u'required'), (0.0017, u're'), (0.0017, u'purchase'), (0.0017, u'online'), (0.0017, u'offer'), (0.0017, u'feedback'), (0.0017, u'drive'), (0.0017, u'change'), (0.0017, u'box'), (0.0017, u'10'), (0.0016, u'show'), (0.0016, u'see'), (0.0016, u'secure'), (0.0016, u'open'), (0.0016, u'none'), (0.0016, u'life'), (0.0016, u'job'), (0.0016, u'height'), (0.0016, u'events'), (0.0016, u'done'), (0.0016, u'call'), (0.0016, u'best'), (0.0016, u'become'), (0.0016, u'around'), (0.0016, u'able'), (0.0015, u'yet'), (0.0015, u'top'), (0.0015, u'read'), (0.0015, u'project'), (0.0015, u'pages'), (0.0015, u'market'), (0.0015, u'makes'), (0.0015, u'made'), (0.0015, u'learning'), (0.0015, u'internet'), (0.0015, u'interested'), (0.0015, u'explore'), (0.0015, u'employees'), (0.0015, u'developer'), (0.0015, u'click'), (0.0015, u'built'), (0.0015, u'area'), (0.0015, u'add'), (0.0015, u'12'), (0.0014, u'width'), (0.0014, u'visit'), (0.0014, u'suite'), (0.0014, u'set'), (0.0014, u'report'), (0.0014, u'quickly'), (0.0014, u'questions'), (0.0014, u'much'), (0.0014, u'meet'), (0.0014, u'location'), (0.0014, u'including'), (0.0014, u'important'), (0.0014, u'good'), (0.0014, u'every'), (0.0014, u'connection'), (0.0014, u'chat'), (0.0014, u'browser'), (0.0014, u'approach'), (0.0014, u'apply'), (0.0014, u'24'), (0.0014, u'20'), (0.0014, u'13'), (0.0014, u'000'), (0.0013, u'via'), (0.0013, u'touch'), (0.0013, u'stay'), (0.0013, u'spend'), (0.0013, u'quick'), (0.0013, u'provides'), (0.0013, u'platforms'), (0.0013, u'people'), (0.0013, u'media'), (0.0013, u'jobs'), (0.0013, u'future'), (0.0013, u'even'), (0.0013, u'conditions'), (0.0013, u'client'), (0.0013, u'changing'), (0.0013, u'building'), (0.0013, u'500'), (0.0013, u'2015'), (0.0012, u'would'), (0.0012, u'uses'), (0.0012, u'track'), (0.0012, u'today'), (0.0012, u'text'), (0.0012, u'technologies'), (0.0012, u'systems'), (0.0012, u'sure'), (0.0012, u'started'), (0.0012, u'smart'), (0.0012, u'reports'), (0.0012, u'really'), (0.0012, 'pricing_present'), (0.0012, u'powerful'), (0.0012, u'powered'), (0.0012, u'place'), (0.0012, u'news'), (0.0012, u'net'), (0.0012, u'may'), (0.0012, u'link'), (0.0012, u'let'), (0.0012, u'less'), (0.0012, u'key'), (0.0012, u'includes'), (0.0012, u'growth'), (0.0012, u'founder'), (0.0012, u'everything'), (0.0012, u'devices'), (0.0012, u'choose'), (0.0012, u'check'), (0.0012, u'amazing'), (0.0012, u'additional'), (0.0011, u'without'), (0.0011, u'websites'), (0.0011, u'value'), (0.0011, u'trust'), (0.0011, u'times'), (0.0011, u'think'), (0.0011, u'still'), (0.0011, u'small'), (0.0011, u'schedule'), (0.0011, u'requirements'), (0.0011, u'professional'), (0.0011, u'plus'), (0.0011, u'person'), (0.0011, u'organizations'), (0.0011, u'network'), (0.0011, u'money'), (0.0011, u'love'), (0.0011, u'lot'), (0.0011, u'like'), (0.0011, u'lead'), (0.0011, u'global'), (0.0011, u'friends'), (0.0011, u'event'), (0.0011, u'engage'), (0.0011, u'developers'), (0.0011, u'details'), (0.0011, u'customer'), (0.0011, u'companies'), (0.0011, u'collect'), (0.0011, u'case'), (0.0011, u'ca'), (0.0011, u'buy'), (0.0011, u'business'), (0.0011, u'applications'), (0.0011, u'allows'), (0.0011, u'ability'), (0.0011, u'21'), (0.0011, u'11'), (0.001, u'whole'), (0.001, u'subscribe'), (0.001, u'submit'), (0.001, u'store'), (0.001, u'select'), (0.001, u'results'), (0.001, u'related'), (0.001, u'register'), (0.001, u'receive'), (0.001, u'public'), (0.001, u'problem'), (0.001, u'private'), (0.001, u'perfect'), (0.001, u'pay'), (0.001, u'past'), (0.001, u'part'), (0.001, u'organization'), (0.001, u'operations'), (0.001, u'ns'), (0.001, u'newsletter'), (0.001, u'month'), (0.001, u'menu'), (0.001, u'member'), (0.001, u'means'), (0.001, u'matter'), (0.001, u'many'), (0.001, u'll'), (0.001, u'live'), (0.001, u'info'), (0.001, u'iframe'), (0.001, u'high'), (0.001, u'helping'), (0.001, u'gtm'), (0.001, u'google'), (0.001, u'go'), (0.001, u'give'), (0.001, u'getting'), (0.001, u'general'), (0.001, u'focus'), (0.001, u'example'), (0.001, u'error'), (0.001, u'emails'), (0.001, u'director'), (0.001, u'develop'), (0.001, u'designed'), (0.001, u'delivered'), (0.001, u'current'), (0.001, u'connect'), (0.001, u'coming'), (0.001, u'city'), (0.001, u'bring'), (0.001, u'better'), (0.001, u'anywhere'), (0.001, u'analysis'), (0.001, u'activity'), (0.001, u'25'), (0.001, u'18'), (0.0009, u'year'), (0.0009, u'video'), (0.0009, u'type'), (0.0009, u'title'), (0.0009, u'step'), (0.0009, u'soon'), (0.0009, u'someone'), (0.0009, u'social'), (0.0009, u'save'), (0.0009, u'risk'), (0.0009, u'result'), (0.0009, u'provided'), (0.0009, u'provide'), (0.0009, u'products'), (0.0009, u'play'), (0.0009, u'phone'), (0.0009, u'personal'), (0.0009, u'partner'), (0.0009, u'pageview'), (0.0009, u'others'), (0.0009, u'order'), (0.0009, u'opportunity'), (0.0009, u'opportunities'), (0.0009, u'old'), (0.0009, u'necessary'), (0.0009, u'must'), (0.0009, u'model'), (0.0009, u'log'), (0.0009, u'local'), (0.0009, u'launch'), (0.0009, u'join'), (0.0009, u'highly'), (0.0009, u'happy'), (0.0009, u'group'), (0.0009, u'googletagmanager'), (0.0009, u'going'), (0.0009, u'gives'), (0.0009, u'feel'), (0.0009, u'featured'), (0.0009, u'family'), (0.0009, u'digital'), (0.0009, u'custom'), (0.0009, u'currently'), (0.0009, u'continue'), (0.0009, u'connected'), (0.0009, u'communication'), (0.0009, u'comes'), (0.0009, u'clients'), (0.0009, u'businesses'), (0.0009, u'build'), (0.0009, u'believe'), (0.0009, u'automated'), (0.0009, u'ask'), (0.0009, u'apps'), (0.0009, u'anything'), (0.0009, u'30'), (0.0008, u'whether'), (0.0008, u'twitter'), (0.0008, u'total'), (0.0008, u'three'), (0.0008, u'thank'), (0.0008, u'test'), (0.0008, u'takes'), (0.0008, u'success'), (0.0008, u'story'), (0.0008, u'standard'), (0.0008, u'size'), (0.0008, u'sites'), (0.0008, u'single'), (0.0008, u'server'), (0.0008, u'sent'), (0.0008, u'say'), (0.0008, u'reporting'), (0.0008, u'ready'), (0.0008, u'reach'), (0.0008, u'quality'), (0.0008, u'providing'), (0.0008, u'password'), (0.0008, u'paid'), (0.0008, u'note'), (0.0008, u'needs'), (0.0008, u'monitor'), (0.0008, u'map'), (0.0008, u'little'), (0.0008, u'knowledge'), (0.0008, u'international'), (0.0008, u'hidden'), (0.0008, u'fully'), (0.0008, u'ev'), (0.0008, u'enter'), (0.0008, u'ensure'), (0.0008, u'discover'), (0.0008, u'different'), (0.0008, u'development'), (0.0008, u'date'), (0.0008, u'creating'), (0.0008, u'country'), (0.0008, u'cookies'), (0.0008, u'computer'), (0.0008, u'ceo'), (0.0008, u'center'), (0.0008, u'border'), (0.0008, u'areas'), (0.0008, u'already'), (0.0008, u'addition'), (0.0008, u'50'), (0.0008, u'15'), (0.0007, u'welcome'), (0.0007, u'updates'), (0.0007, u'united'), (0.0007, u'understand'), (0.0007, u'successful'), (0.0007, u'subject'), (0.0007, u'specific'), (0.0007, u'something'), (0.0007, u'skills'), (0.0007, u'simply'), (0.0007, u'program'), (0.0007, u'previous'), (0.0007, u'practices'), (0.0007, u'point'), (0.0007, u'office'), (0.0007, u'offers'), (0.0007, u'number'), (0.0007, u'monthly'), (0.0007, 'login_present'), (0.0007, u'list'), (0.0007, u'limited'), (0.0007, u'last'), (0.0007, u'keep'), (0.0007, u'items'), (0.0007, u'included'), (0.0007, u'immediately'), (0.0007, u'ideas'), (0.0007, u'however'), (0.0007, u'hours'), (0.0007, u'frequently'), (0.0007, u'following'), (0.0007, u'fit'), (0.0007, u'field'), (0.0007, u'fees'), (0.0007, u'fee'), (0.0007, u'fast'), (0.0007, u'faq'), (0.0007, u'effective'), (0.0007, u'directly'), (0.0007, u'deliver'), (0.0007, u'decisions'), (0.0007, u'daily'), (0.0007, u'credit'), (0.0007, u'community'), (0.0007, u'close'), (0.0007, u'away'), (0.0007, u'asked'), (0.0007, u'allow'), (0.0007, u'agree'), (0.0007, u'action'), (0.0007, u'accounts'), (0.0007, u'00'), (0.0006, u'ways'), (0.0006, u'videos'), (0.0006, u'turn'), (0.0006, u'tracking'), (0.0006, u'tr'), (0.0006, u'together'), (0.0006, u'thanks'), (0.0006, u'technical'), (0.0006, u'tech'), (0.0006, u'subscription'), (0.0006, u'staff'), (0.0006, u'source'), (0.0006, u'sell'), (0.0006, u'research'), (0.0006, u'relevant'), (0.0006, u'problems'), (0.0006, u'price'), (0.0006, u'possible'), (0.0006, u'needed'), (0.0006, u'members'), (0.0006, u'managing'), (0.0006, u'making'), (0.0006, u'line'), (0.0006, u'level'), (0.0006, u'legal'), (0.0006, u'interest'), (0.0006, u'integrate'), (0.0006, u'grow'), (0.0006, u'forward'), (0.0006, u'financial'), (0.0006, u'faster'), (0.0006, u'days'), (0.0006, u'cost'), (0.0006, u'class'), (0.0006, u'big'), (0.0006, u'beyond'), (0.0006, u'application'), (0.0006, u'16'), (0.0005, u'written'), (0.0005, u'update'), (0.0005, u'types'), (0.0005, u'stop'), (0.0005, u'since'), (0.0005, u'run'), (0.0005, u'responsible'), (0.0005, u'reason'), (0.0005, u'post'), (0.0005, u'party'), (0.0005, u'often'), (0.0005, u'months'), (0.0005, u'minutes'), (0.0005, u'might'), (0.0005, u'low'), (0.0005, u'looking'), (0.0005, u'individual'), (0.0005, u'hard'), (0.0005, u'growing'), (0.0005, u'got'), (0.0005, u'form'), (0.0005, u'follow'), (0.0005, u'extra'), (0.0005, u'experts'), (0.0005, u'ever'), (0.0005, u'easier'), (0.0005, u'created'), (0.0005, u'comments'), (0.0005, u'co'), (0.0005, u'care'), (0.0005, u'cancel'), (0.0005, u'anyone'), (0.0005, u'another'), (0.0005, u'amount'), (0.0005, u'22'), (0.0005, u'19'), (0.0005, u'14'), (0.0004, u'yes'), (0.0004, u'years'), (0.0004, u'watch'), (0.0004, u'trusted'), (0.0004, u'transfer'), (0.0004, u'training'), (0.0004, u'talk'), (0.0004, u'settings'), (0.0004, u'running'), (0.0004, u'reviews'), (0.0004, u'revenue'), (0.0004, u'property'), (0.0004, u'programs'), (0.0004, u'profile'), (0.0004, u'plan'), (0.0004, u'owners'), (0.0004, u'never'), (0.0004, u'mission'), (0.0004, u'links'), (0.0004, u'latest'), (0.0004, u'later'), (0.0004, u'include'), (0.0004, u'hand'), (0.0004, u'giving'), (0.0004, u'friendly'), (0.0004, u'everyone'), (0.0004, u'etc'), (0.0004, u'due'), (0.0004, u'direct'), (0.0004, u'delivery'), (0.0004, u'dashboard'), (0.0004, u'course'), (0.0004, u'costs'), (0.0004, u'completely'), (0.0004, u'changes'), (0.0004, u'accept'), (0.0004, u'99'), (0.0004, u'40'), (0.0004, u'17'), (0.0003, u'two'), (0.0003, u'third'), (0.0003, u'target'), (0.0003, u'states'), (0.0003, u'state'), (0.0003, u'safe'), (0.0003, u'remove'), (0.0003, u'question'), (0.0003, u'providers'), (0.0003, u'potential'), (0.0003, u'plans'), (0.0003, 'per_month_present'), (0.0003, u'modern'), (0.0003, u'look'), (0.0003, u'law'), (0.0003, u'issues'), (0.0003, u'impact'), (0.0003, u'history'), (0.0003, u'guide'), (0.0003, u'fill'), (0.0003, u'file'), (0.0003, u'expert'), (0.0003, u'div'), (0.0003, u'device'), (0.0003, u'dedicated'), (0.0003, u'collection'), (0.0003, u'brand'), (0.0003, u'book'), (0.0002, u'strategy'), (0.0002, u'speed'), (0.0002, u'put'), (0.0002, u'projects'), (0.0002, u'options'), (0.0002, u'leave'), (0.0002, u'large'), (0.0002, u'hello'), (0.0002, u'health'), (0.0002, u'given'), (0.0002, u'existing'), (0.0002, u'enable'), (0.0002, u'creative'), (0.0001, u'week'), (0.0001, u'tell'), (0.0001, u'special'), (0.0001, u'activities')]\n"
     ]
    }
   ],
   "source": [
    "n_estimators = 100\n",
    "min_samples_split=2\n",
    "min_samples_leaf=1\n",
    "max_depth = None\n",
    "clf = RandomForestClassifier(\n",
    "    n_estimators=n_estimators,min_samples_split=min_samples_split,\n",
    "                            min_samples_leaf=min_samples_leaf,max_depth=max_depth)\n",
    "clf.fit(tfidf_n_vars,df['saas_subscription'])\n",
    "print \"Features sorted by their score:\"\n",
    "print sorted(zip(map(lambda x: round(x, 4), clf.feature_importances_), vocab_list), \n",
    "             reverse=True)"
   ]
  },
  {
   "cell_type": "code",
   "execution_count": 11,
   "metadata": {
    "collapsed": false
   },
   "outputs": [],
   "source": [
    "#predicted scores\n",
    "class MNB_Prob_pred(MultinomialNB):\n",
    "    def predict(self, X):\n",
    "        return MultinomialNB.predict_proba(self, X)[:,1]\n",
    "clf = make_pipeline(StandardScaler(with_mean=False),MNB_Prob_pred()) \n",
    "nb_preds = cross_val_predict(clf,tfidf_n_vars,df['saas_subscription'],cv=10)"
   ]
  },
  {
   "cell_type": "code",
   "execution_count": 12,
   "metadata": {
    "collapsed": false
   },
   "outputs": [],
   "source": [
    "#predicted scores\n",
    "class RF_Prob_pred(RandomForestClassifier):\n",
    "    def __init__(self, n_estimators=100):\n",
    "        RandomForestClassifier.__init__(self, n_estimators=100)\n",
    "    def predict(self, X):\n",
    "        return RandomForestClassifier.predict_proba(self, X)[:,1]\n",
    "clf = make_pipeline(StandardScaler(with_mean=False),RF_Prob_pred()) \n",
    "rf_preds = cross_val_predict(clf,tfidf_n_vars,df['saas_subscription'],cv=10)"
   ]
  },
  {
   "cell_type": "code",
   "execution_count": 13,
   "metadata": {
    "collapsed": false
   },
   "outputs": [],
   "source": [
    "# #predicted scores\n",
    "# class SVM_Prob_pred():\n",
    "#     def __init__(self):\n",
    "#         self.svc = SVC(C=0.002,probability=True,kernel='linear')\n",
    "# #         SVC.__init__(self, C=0.002,probability=True,kernel='linear')\n",
    "#     def fit(X,y):\n",
    "#         self.svc.fit(X,y)\n",
    "#     def predict(self, X):\n",
    "#         return self.svc.predict_proba(self, X)[:,1]\n",
    "#     def get_params(self,**kwargs):\n",
    "#         self.svc.get_params(**kwargs)\n",
    "#     def set_params(self,**params):\n",
    "#         self.svc.set_params(**params)\n",
    "clf = make_pipeline(StandardScaler(with_mean=False),SVC(C=0.001,probability=True,kernel='linear'))\n",
    "svm_preds = cross_val_predict(clf,tfidf_n_vars,df['saas_subscription'],cv=10,method='predict_proba')[:,1]"
   ]
  },
  {
   "cell_type": "code",
   "execution_count": 14,
   "metadata": {
    "collapsed": false
   },
   "outputs": [
    {
     "data": {
      "text/plain": [
       "((885, 8), (885,), (885,))"
      ]
     },
     "execution_count": 14,
     "metadata": {},
     "output_type": "execute_result"
    }
   ],
   "source": [
    "df.shape,nb_preds.shape,rf_preds.shape"
   ]
  },
  {
   "cell_type": "code",
   "execution_count": 15,
   "metadata": {
    "collapsed": false,
    "scrolled": true
   },
   "outputs": [
    {
     "data": {
      "text/html": [
       "<div>\n",
       "<table border=\"1\" class=\"dataframe\">\n",
       "  <thead>\n",
       "    <tr style=\"text-align: right;\">\n",
       "      <th></th>\n",
       "      <th>website</th>\n",
       "      <th>demo_present</th>\n",
       "      <th>login_present</th>\n",
       "      <th>pricing_present</th>\n",
       "      <th>score</th>\n",
       "      <th>website_text</th>\n",
       "      <th>saas_subscription</th>\n",
       "      <th>website_text_phrases</th>\n",
       "      <th>naive_bayes_predictions</th>\n",
       "      <th>random_forest_prediction</th>\n",
       "      <th>linear_svm_prediction</th>\n",
       "    </tr>\n",
       "  </thead>\n",
       "  <tbody>\n",
       "    <tr>\n",
       "      <th>0</th>\n",
       "      <td>http://www.ultracartstore.com</td>\n",
       "      <td>False</td>\n",
       "      <td>False</td>\n",
       "      <td>False</td>\n",
       "      <td>0.0</td>\n",
       "      <td>NaN</td>\n",
       "      <td>False</td>\n",
       "      <td>NaN</td>\n",
       "      <td>4.553459e-01</td>\n",
       "      <td>0.242584</td>\n",
       "      <td>0.173000</td>\n",
       "    </tr>\n",
       "    <tr>\n",
       "      <th>1</th>\n",
       "      <td>http://www.borathyun.wordpress.com</td>\n",
       "      <td>True</td>\n",
       "      <td>True</td>\n",
       "      <td>True</td>\n",
       "      <td>41.0</td>\n",
       "      <td>Bienvenue – toujours de l'avant et plus déterm...</td>\n",
       "      <td>False</td>\n",
       "      <td>Bienvenue toujours jamais Skip content Bienven...</td>\n",
       "      <td>3.683605e-28</td>\n",
       "      <td>0.440000</td>\n",
       "      <td>0.203320</td>\n",
       "    </tr>\n",
       "    <tr>\n",
       "      <th>2</th>\n",
       "      <td>http://www.globalmillennials.org</td>\n",
       "      <td>False</td>\n",
       "      <td>False</td>\n",
       "      <td>False</td>\n",
       "      <td>0.0</td>\n",
       "      <td>Global Millennials For Progress Home About Us ...</td>\n",
       "      <td>False</td>\n",
       "      <td>Millennials Progress Home Us Team Contribute T...</td>\n",
       "      <td>4.069766e-20</td>\n",
       "      <td>0.369833</td>\n",
       "      <td>0.183740</td>\n",
       "    </tr>\n",
       "    <tr>\n",
       "      <th>3</th>\n",
       "      <td>http://www.les-artisans-francais.fr</td>\n",
       "      <td>False</td>\n",
       "      <td>False</td>\n",
       "      <td>False</td>\n",
       "      <td>0.0</td>\n",
       "      <td>Artisans-francais, l'annuaire des professionne...</td>\n",
       "      <td>False</td>\n",
       "      <td>Artisansfrancais lannuaire professionnels part...</td>\n",
       "      <td>7.103737e-19</td>\n",
       "      <td>0.302893</td>\n",
       "      <td>0.124414</td>\n",
       "    </tr>\n",
       "    <tr>\n",
       "      <th>4</th>\n",
       "      <td>http://www.nedboxgroup.com</td>\n",
       "      <td>False</td>\n",
       "      <td>False</td>\n",
       "      <td>False</td>\n",
       "      <td>0.0</td>\n",
       "      <td>Nedboxgroup Ltd. Группа компаний Nedboxgroup L...</td>\n",
       "      <td>False</td>\n",
       "      <td>Nedboxgroup Ltd Nedboxgroup Ltd email info   n...</td>\n",
       "      <td>9.841287e-02</td>\n",
       "      <td>0.357591</td>\n",
       "      <td>0.425876</td>\n",
       "    </tr>\n",
       "  </tbody>\n",
       "</table>\n",
       "</div>"
      ],
      "text/plain": [
       "                               website demo_present login_present  \\\n",
       "0        http://www.ultracartstore.com        False         False   \n",
       "1   http://www.borathyun.wordpress.com         True          True   \n",
       "2     http://www.globalmillennials.org        False         False   \n",
       "3  http://www.les-artisans-francais.fr        False         False   \n",
       "4           http://www.nedboxgroup.com        False         False   \n",
       "\n",
       "  pricing_present  score                                       website_text  \\\n",
       "0           False    0.0                                                NaN   \n",
       "1            True   41.0  Bienvenue – toujours de l'avant et plus déterm...   \n",
       "2           False    0.0  Global Millennials For Progress Home About Us ...   \n",
       "3           False    0.0  Artisans-francais, l'annuaire des professionne...   \n",
       "4           False    0.0  Nedboxgroup Ltd. Группа компаний Nedboxgroup L...   \n",
       "\n",
       "  saas_subscription                               website_text_phrases  \\\n",
       "0             False                                                NaN   \n",
       "1             False  Bienvenue toujours jamais Skip content Bienven...   \n",
       "2             False  Millennials Progress Home Us Team Contribute T...   \n",
       "3             False  Artisansfrancais lannuaire professionnels part...   \n",
       "4             False  Nedboxgroup Ltd Nedboxgroup Ltd email info   n...   \n",
       "\n",
       "   naive_bayes_predictions  random_forest_prediction  linear_svm_prediction  \n",
       "0             4.553459e-01                  0.242584               0.173000  \n",
       "1             3.683605e-28                  0.440000               0.203320  \n",
       "2             4.069766e-20                  0.369833               0.183740  \n",
       "3             7.103737e-19                  0.302893               0.124414  \n",
       "4             9.841287e-02                  0.357591               0.425876  "
      ]
     },
     "execution_count": 15,
     "metadata": {},
     "output_type": "execute_result"
    }
   ],
   "source": [
    "df['naive_bayes_predictions'] = nb_preds\n",
    "df['random_forest_prediction'] = rf_preds\n",
    "df['linear_svm_prediction'] = svm_preds\n",
    "df.head()"
   ]
  },
  {
   "cell_type": "code",
   "execution_count": 317,
   "metadata": {
    "collapsed": false
   },
   "outputs": [],
   "source": [
    "df[['website','demo_present','login_present','pricing_present','score',\\\n",
    "    'saas_subscription','naive_bayes_predictions','random_forest_prediction']].to_excel(\\\n",
    "        'final_data_predicted_scores_dec29.xls',index=False)"
   ]
  },
  {
   "cell_type": "code",
   "execution_count": 73,
   "metadata": {
    "collapsed": true
   },
   "outputs": [],
   "source": [
    "import matplotlib.pyplot as plt\n",
    "import matplotlib\n",
    "matplotlib.style.use('ggplot')"
   ]
  },
  {
   "cell_type": "code",
   "execution_count": 75,
   "metadata": {
    "collapsed": false
   },
   "outputs": [
    {
     "data": {
      "image/png": "[encoded data removed]",
      "text/plain": [
       "<matplotlib.figure.Figure at 0xac73610>"
      ]
     },
     "metadata": {},
     "output_type": "display_data"
    },
    {
     "data": {
      "image/png": "[encoded data removed]",
      "text/plain": [
       "<matplotlib.figure.Figure at 0xac73a50>"
      ]
     },
     "metadata": {},
     "output_type": "display_data"
    },
    {
     "data": {
      "image/png": "[encoded data removed]",
      "text/plain": [
       "<matplotlib.figure.Figure at 0xb24cf90>"
      ]
     },
     "metadata": {},
     "output_type": "display_data"
    }
   ],
   "source": [
    "df.plot.scatter(x='naive_bayes_predictions',y='random_forest_prediction')\n",
    "df.plot.scatter(x='naive_bayes_predictions',y='linear_svm_prediction')\n",
    "df.plot.scatter(x='linear_svm_prediction',y='random_forest_prediction')\n",
    "plt.show()"
   ]
  },
  {
   "cell_type": "code",
   "execution_count": 78,
   "metadata": {
    "collapsed": false
   },
   "outputs": [
    {
     "data": {
      "image/png": "[encoded data removed]",
      "text/plain": [
       "<matplotlib.figure.Figure at 0xaf17690>"
      ]
     },
     "metadata": {},
     "output_type": "display_data"
    }
   ],
   "source": [
    "groups = df.groupby('saas_subscription')\n",
    "fig, ax = plt.subplots()\n",
    "ax.margins(0.05) # Optional, just adds 5% padding to the autoscaling\n",
    "for name, group in groups:\n",
    "    ax.plot(group.linear_svm_prediction, group.random_forest_prediction, marker='o', linestyle='', ms=3, label=name,\n",
    "           )\n",
    "ax.legend(loc='upper left')\n",
    "ax.set_xlabel(\"SVM\")\n",
    "ax.set_ylabel(\"Random Forest\")\n",
    "plt.show()"
   ]
  },
  {
   "cell_type": "code",
   "execution_count": 294,
   "metadata": {
    "collapsed": false
   },
   "outputs": [
    {
     "name": "stdout",
     "output_type": "stream",
     "text": [
      "traing predictions\n",
      "             precision    recall  f1-score   support\n",
      "\n",
      "      False       0.77      0.76      0.77       482\n",
      "       True       0.72      0.73      0.72       403\n",
      "\n",
      "avg / total       0.75      0.75      0.75       885\n",
      "\n",
      "cross-validation predictions\n",
      "             precision    recall  f1-score   support\n",
      "\n",
      "      False       0.77      0.76      0.76       482\n",
      "       True       0.71      0.73      0.72       403\n",
      "\n",
      "avg / total       0.74      0.74      0.74       885\n",
      "\n"
     ]
    }
   ],
   "source": [
    "#stacking using logistic regression\n",
    "from sklearn.linear_model import LogisticRegression\n",
    "clf = LogisticRegression()\n",
    "clf.fit(df[['naive_bayes_predictions','random_forest_prediction','linear_svm_prediction']],df['saas_subscription'])\n",
    "print 'traing predictions'\n",
    "print classification_report(df['saas_subscription'],\n",
    "                clf.predict(df[['naive_bayes_predictions','random_forest_prediction','linear_svm_prediction']]))\n",
    "print 'cross-validation predictions'\n",
    "print classification_report(df['saas_subscription'],cross_val_predict(clf,\n",
    "        df[['naive_bayes_predictions','random_forest_prediction','linear_svm_prediction']],df['saas_subscription'],cv=10))"
   ]
  },
  {
   "cell_type": "code",
   "execution_count": 295,
   "metadata": {
    "collapsed": false
   },
   "outputs": [
    {
     "name": "stdout",
     "output_type": "stream",
     "text": [
      "traing predictions\n",
      "             precision    recall  f1-score   support\n",
      "\n",
      "      False       0.98      0.99      0.99       482\n",
      "       True       0.99      0.98      0.98       403\n",
      "\n",
      "avg / total       0.98      0.98      0.98       885\n",
      "\n",
      "cross-validation predictions\n",
      "             precision    recall  f1-score   support\n",
      "\n",
      "      False       0.74      0.73      0.74       482\n",
      "       True       0.68      0.68      0.68       403\n",
      "\n",
      "avg / total       0.71      0.71      0.71       885\n",
      "\n"
     ]
    }
   ],
   "source": [
    "#stacking using random forest\n",
    "clf = RandomForestClassifier(n_estimators=200)\n",
    "clf.fit(df[['naive_bayes_predictions','random_forest_prediction','linear_svm_prediction']],df['saas_subscription'])\n",
    "print 'traing predictions'\n",
    "print classification_report(df['saas_subscription'],\n",
    "                clf.predict(df[['naive_bayes_predictions','random_forest_prediction','linear_svm_prediction']]))\n",
    "print 'cross-validation predictions'\n",
    "print classification_report(df['saas_subscription'],cross_val_predict(clf,\n",
    "        df[['naive_bayes_predictions','random_forest_prediction','linear_svm_prediction']],df['saas_subscription'],cv=10))"
   ]
  },
  {
   "cell_type": "code",
   "execution_count": 296,
   "metadata": {
    "collapsed": false
   },
   "outputs": [
    {
     "name": "stdout",
     "output_type": "stream",
     "text": [
      "traing predictions\n",
      "             precision    recall  f1-score   support\n",
      "\n",
      "      False       0.78      0.72      0.75       482\n",
      "       True       0.69      0.76      0.72       403\n",
      "\n",
      "avg / total       0.74      0.74      0.74       885\n",
      "\n",
      "cross-validation predictions\n",
      "             precision    recall  f1-score   support\n",
      "\n",
      "      False       0.78      0.72      0.75       482\n",
      "       True       0.69      0.76      0.72       403\n",
      "\n",
      "avg / total       0.74      0.74      0.74       885\n",
      "\n"
     ]
    }
   ],
   "source": [
    "#stacking using svm\n",
    "C=0.01\n",
    "clf = SVC(C=C,kernel='linear')\n",
    "clf.fit(df[['naive_bayes_predictions','random_forest_prediction','linear_svm_prediction']],df['saas_subscription'])\n",
    "print 'traing predictions'\n",
    "print classification_report(df['saas_subscription'],\n",
    "                clf.predict(df[['naive_bayes_predictions','random_forest_prediction','linear_svm_prediction']]))\n",
    "print 'cross-validation predictions'\n",
    "print classification_report(df['saas_subscription'],cross_val_predict(clf,\n",
    "        df[['naive_bayes_predictions','random_forest_prediction','linear_svm_prediction']],df['saas_subscription'],cv=10))"
   ]
  },
  {
   "cell_type": "code",
   "execution_count": 259,
   "metadata": {
    "collapsed": true
   },
   "outputs": [],
   "source": [
    "#majority voting\n",
    "def get_majority_pred(pred1,pred2,pred3):\n",
    "    pred1_class,pred2_class,pred3_class = pred1>0.5,pred2>0.5,pred3>0.5\n",
    "    if (pred1_class and pred2_class) or (pred1_class and pred3_class) or (pred2_class and pred3_class):\n",
    "        return True\n",
    "    else:\n",
    "        return False\n",
    "# df.apply(lambda row: \n",
    "#          get_majority_pred(row['naive_bayes_predictions'],row['random_forest_prediction'],row['linear_svm_prediction']))"
   ]
  },
  {
   "cell_type": "code",
   "execution_count": 306,
   "metadata": {
    "collapsed": false
   },
   "outputs": [
    {
     "name": "stdout",
     "output_type": "stream",
     "text": [
      "             precision    recall  f1-score   support\n",
      "\n",
      "      False       0.77      0.77      0.77       482\n",
      "       True       0.73      0.73      0.73       403\n",
      "\n",
      "avg / total       0.75      0.75      0.75       885\n",
      "\n"
     ]
    }
   ],
   "source": [
    "# majority voting\n",
    "print classification_report(df['saas_subscription'],\n",
    "                            ((df['naive_bayes_predictions']>0.5) & (df['random_forest_prediction']>0.5))|\\\n",
    "                            ((df['linear_svm_prediction']>0.5) & (df['random_forest_prediction']>0.5))|\\\n",
    "                            ((df['naive_bayes_predictions']>0.5) & (df['linear_svm_prediction']>0.5)))"
   ]
  },
  {
   "cell_type": "code",
   "execution_count": 307,
   "metadata": {
    "collapsed": false
   },
   "outputs": [
    {
     "name": "stdout",
     "output_type": "stream",
     "text": [
      "             precision    recall  f1-score   support\n",
      "\n",
      "      False       0.83      0.64      0.72       482\n",
      "       True       0.66      0.85      0.74       403\n",
      "\n",
      "avg / total       0.75      0.73      0.73       885\n",
      "\n"
     ]
    }
   ],
   "source": [
    "# any true voting\n",
    "print classification_report(df['saas_subscription'],\n",
    "       (df['naive_bayes_predictions']>0.5) | (df['random_forest_prediction']>0.5)|(df['linear_svm_prediction']>0.5))"
   ]
  },
  {
   "cell_type": "code",
   "execution_count": 325,
   "metadata": {
    "collapsed": false
   },
   "outputs": [
    {
     "name": "stdout",
     "output_type": "stream",
     "text": [
      "True,nb pred<0.1: (76, 11)\n",
      "True,nb pred<0.2: (79, 11)\n",
      "True,nb pred<0.4: (86, 11)\n",
      "False,nb pred>0.9: (128, 11)\n",
      "False,nb pred>0.8: (133, 11)\n",
      "False,nb pred>0.6: (137, 11)\n",
      "False,nb pred<0.2: (297, 11)\n",
      "True,nb pred>0.8: (302, 11)\n"
     ]
    }
   ],
   "source": [
    "print 'True,nb pred<0.1: {}'.format(df[(df['saas_subscription']==True) &(df['naive_bayes_predictions']<0.1)].shape)\n",
    "print 'True,nb pred<0.2: {}'.format(df[(df['saas_subscription']==True) &(df['naive_bayes_predictions']<0.2)].shape)\n",
    "print 'True,nb pred<0.4: {}'.format(df[(df['saas_subscription']==True) &(df['naive_bayes_predictions']<0.4)].shape)\n",
    "print 'False,nb pred>0.9: {}'.format(df[(df['saas_subscription']==False) &(df['naive_bayes_predictions']>0.9)].shape)\n",
    "print 'False,nb pred>0.8: {}'.format(df[(df['saas_subscription']==False) &(df['naive_bayes_predictions']>0.8)].shape)\n",
    "print 'False,nb pred>0.6: {}'.format(df[(df['saas_subscription']==False) &(df['naive_bayes_predictions']>0.6)].shape)\n",
    "print 'False,nb pred<0.2: {}'.format(df[(df['saas_subscription']==False) &(df['naive_bayes_predictions']<0.1)].shape)\n",
    "print 'True,nb pred>0.8: {}'.format(df[(df['saas_subscription']==True) &(df['naive_bayes_predictions']>0.8)].shape)"
   ]
  },
  {
   "cell_type": "code",
   "execution_count": 326,
   "metadata": {
    "collapsed": false
   },
   "outputs": [
    {
     "name": "stdout",
     "output_type": "stream",
     "text": [
      "True,svm pred<0.1: (5, 11)\n",
      "True,svm pred<0.2: (38, 11)\n",
      "True,svm pred<0.4: (79, 11)\n",
      "False,svm pred>0.9: (8, 11)\n",
      "False,svm pred>0.8: (29, 11)\n",
      "False,svm pred>0.6: (80, 11)\n",
      "False,svm pred<0.2: (176, 11)\n",
      "True,svm pred>0.8: (106, 11)\n"
     ]
    }
   ],
   "source": [
    "print 'True,svm pred<0.1: {}'.format(df[(df['saas_subscription']==True) &(df['linear_svm_prediction']<0.1)].shape)\n",
    "print 'True,svm pred<0.2: {}'.format(df[(df['saas_subscription']==True) &(df['linear_svm_prediction']<0.2)].shape)\n",
    "print 'True,svm pred<0.4: {}'.format(df[(df['saas_subscription']==True) &(df['linear_svm_prediction']<0.4)].shape)\n",
    "print 'False,svm pred>0.9: {}'.format(df[(df['saas_subscription']==False) &(df['linear_svm_prediction']>0.9)].shape)\n",
    "print 'False,svm pred>0.8: {}'.format(df[(df['saas_subscription']==False) &(df['linear_svm_prediction']>0.8)].shape)\n",
    "print 'False,svm pred>0.6: {}'.format(df[(df['saas_subscription']==False) &(df['linear_svm_prediction']>0.6)].shape)\n",
    "print 'False,svm pred<0.2: {}'.format(df[(df['saas_subscription']==False) &(df['linear_svm_prediction']<0.2)].shape)\n",
    "print 'True,svm pred>0.8: {}'.format(df[(df['saas_subscription']==True) &(df['linear_svm_prediction']>0.8)].shape)"
   ]
  },
  {
   "cell_type": "code",
   "execution_count": 16,
   "metadata": {
    "collapsed": true
   },
   "outputs": [],
   "source": [
    "def ks_statistic(score,dv):\n",
    "    ''' assumes 1 as good and 0 as bad'''\n",
    "    data = pd.DataFrame({'score':score,'dv':dv})\n",
    "    data['good'] = data['dv']\n",
    "    data['bad'] = 1-data['good']\n",
    "    # data['bucket'] = pd.qcut(data.score, 10) #causing error\n",
    "    bins = pd.core.algorithms.quantile(np.unique(data['score']), np.linspace(0, 1, 11))\n",
    "    data['bucket'] = pd.tools.tile._bins_to_cuts(data['score'], bins, include_lowest=True)\n",
    "    grouped = data.groupby('bucket', as_index = False)\n",
    "    agg1 = pd.DataFrame({'min_scr':grouped.min().score})\n",
    "    agg1['max_scr'] = grouped.max().score\n",
    "    agg1['goods'] = grouped.sum().good\n",
    "    agg1['bads'] = grouped.sum().bad\n",
    "    agg1['total'] = agg1.bads + agg1.goods\n",
    "    agg2 = (agg1.sort_index(by = 'min_scr')).reset_index(drop = True)\n",
    "    agg2['odds'] = (agg2.goods / agg2.bads).apply('{0:.2f}'.format)\n",
    "    agg2['bad_rate'] = (agg2.bads / agg2.total).apply('{0:.2%}'.format)\n",
    "    agg2['ks'] = np.round(((agg2.bads / data.bad.sum()).cumsum() - (agg2.goods / data.good.sum()).cumsum()), 4) * 100\n",
    "    flag = lambda x: '<----' if x == agg2.ks.max() else ''\n",
    "    agg2['max_ks'] = agg2.ks.apply(flag)\n",
    "    return agg2"
   ]
  },
  {
   "cell_type": "code",
   "execution_count": 346,
   "metadata": {
    "collapsed": false
   },
   "outputs": [
    {
     "name": "stderr",
     "output_type": "stream",
     "text": [
      "/usr/local/lib/python2.7/dist-packages/ipykernel/__main__.py:15: FutureWarning: by argument to sort_index is deprecated, pls use .sort_values(by=...)\n"
     ]
    },
    {
     "data": {
      "text/html": [
       "<div>\n",
       "<table border=\"1\" class=\"dataframe\">\n",
       "  <thead>\n",
       "    <tr style=\"text-align: right;\">\n",
       "      <th></th>\n",
       "      <th>min_scr</th>\n",
       "      <th>max_scr</th>\n",
       "      <th>goods</th>\n",
       "      <th>bads</th>\n",
       "      <th>total</th>\n",
       "      <th>odds</th>\n",
       "      <th>bad_rate</th>\n",
       "      <th>ks</th>\n",
       "      <th>max_ks</th>\n",
       "    </tr>\n",
       "  </thead>\n",
       "  <tbody>\n",
       "    <tr>\n",
       "      <th>0</th>\n",
       "      <td>1.143976e-43</td>\n",
       "      <td>8.846557e-18</td>\n",
       "      <td>12.0</td>\n",
       "      <td>54</td>\n",
       "      <td>66.0</td>\n",
       "      <td>0.22</td>\n",
       "      <td>81.82%</td>\n",
       "      <td>8.23</td>\n",
       "      <td></td>\n",
       "    </tr>\n",
       "    <tr>\n",
       "      <th>1</th>\n",
       "      <td>1.067158e-17</td>\n",
       "      <td>3.182243e-13</td>\n",
       "      <td>10.0</td>\n",
       "      <td>56</td>\n",
       "      <td>66.0</td>\n",
       "      <td>0.18</td>\n",
       "      <td>84.85%</td>\n",
       "      <td>17.36</td>\n",
       "      <td></td>\n",
       "    </tr>\n",
       "    <tr>\n",
       "      <th>2</th>\n",
       "      <td>3.438283e-13</td>\n",
       "      <td>4.611275e-10</td>\n",
       "      <td>7.0</td>\n",
       "      <td>59</td>\n",
       "      <td>66.0</td>\n",
       "      <td>0.12</td>\n",
       "      <td>89.39%</td>\n",
       "      <td>27.87</td>\n",
       "      <td></td>\n",
       "    </tr>\n",
       "    <tr>\n",
       "      <th>3</th>\n",
       "      <td>4.776421e-10</td>\n",
       "      <td>1.282843e-06</td>\n",
       "      <td>17.0</td>\n",
       "      <td>52</td>\n",
       "      <td>69.0</td>\n",
       "      <td>0.33</td>\n",
       "      <td>75.36%</td>\n",
       "      <td>34.44</td>\n",
       "      <td></td>\n",
       "    </tr>\n",
       "    <tr>\n",
       "      <th>4</th>\n",
       "      <td>1.531423e-06</td>\n",
       "      <td>1.931688e-03</td>\n",
       "      <td>18.0</td>\n",
       "      <td>48</td>\n",
       "      <td>66.0</td>\n",
       "      <td>0.38</td>\n",
       "      <td>72.73%</td>\n",
       "      <td>39.93</td>\n",
       "      <td></td>\n",
       "    </tr>\n",
       "    <tr>\n",
       "      <th>5</th>\n",
       "      <td>2.605968e-03</td>\n",
       "      <td>3.621328e-01</td>\n",
       "      <td>22.0</td>\n",
       "      <td>43</td>\n",
       "      <td>65.0</td>\n",
       "      <td>0.51</td>\n",
       "      <td>66.15%</td>\n",
       "      <td>43.39</td>\n",
       "      <td></td>\n",
       "    </tr>\n",
       "    <tr>\n",
       "      <th>6</th>\n",
       "      <td>3.970038e-01</td>\n",
       "      <td>9.940223e-01</td>\n",
       "      <td>35.0</td>\n",
       "      <td>60</td>\n",
       "      <td>95.0</td>\n",
       "      <td>0.58</td>\n",
       "      <td>63.16%</td>\n",
       "      <td>47.15</td>\n",
       "      <td>&lt;----</td>\n",
       "    </tr>\n",
       "    <tr>\n",
       "      <th>7</th>\n",
       "      <td>9.963162e-01</td>\n",
       "      <td>9.999984e-01</td>\n",
       "      <td>39.0</td>\n",
       "      <td>27</td>\n",
       "      <td>66.0</td>\n",
       "      <td>1.44</td>\n",
       "      <td>40.91%</td>\n",
       "      <td>43.08</td>\n",
       "      <td></td>\n",
       "    </tr>\n",
       "    <tr>\n",
       "      <th>8</th>\n",
       "      <td>9.999986e-01</td>\n",
       "      <td>1.000000e+00</td>\n",
       "      <td>39.0</td>\n",
       "      <td>28</td>\n",
       "      <td>67.0</td>\n",
       "      <td>1.39</td>\n",
       "      <td>41.79%</td>\n",
       "      <td>39.21</td>\n",
       "      <td></td>\n",
       "    </tr>\n",
       "    <tr>\n",
       "      <th>9</th>\n",
       "      <td>1.000000e+00</td>\n",
       "      <td>1.000000e+00</td>\n",
       "      <td>204.0</td>\n",
       "      <td>55</td>\n",
       "      <td>259.0</td>\n",
       "      <td>3.71</td>\n",
       "      <td>21.24%</td>\n",
       "      <td>0.00</td>\n",
       "      <td></td>\n",
       "    </tr>\n",
       "  </tbody>\n",
       "</table>\n",
       "</div>"
      ],
      "text/plain": [
       "        min_scr       max_scr  goods  bads  total  odds bad_rate     ks max_ks\n",
       "0  1.143976e-43  8.846557e-18   12.0    54   66.0  0.22   81.82%   8.23       \n",
       "1  1.067158e-17  3.182243e-13   10.0    56   66.0  0.18   84.85%  17.36       \n",
       "2  3.438283e-13  4.611275e-10    7.0    59   66.0  0.12   89.39%  27.87       \n",
       "3  4.776421e-10  1.282843e-06   17.0    52   69.0  0.33   75.36%  34.44       \n",
       "4  1.531423e-06  1.931688e-03   18.0    48   66.0  0.38   72.73%  39.93       \n",
       "5  2.605968e-03  3.621328e-01   22.0    43   65.0  0.51   66.15%  43.39       \n",
       "6  3.970038e-01  9.940223e-01   35.0    60   95.0  0.58   63.16%  47.15  <----\n",
       "7  9.963162e-01  9.999984e-01   39.0    27   66.0  1.44   40.91%  43.08       \n",
       "8  9.999986e-01  1.000000e+00   39.0    28   67.0  1.39   41.79%  39.21       \n",
       "9  1.000000e+00  1.000000e+00  204.0    55  259.0  3.71   21.24%   0.00       "
      ]
     },
     "execution_count": 346,
     "metadata": {},
     "output_type": "execute_result"
    }
   ],
   "source": [
    "ks_statistic(df['naive_bayes_predictions'],df['saas_subscription'])"
   ]
  },
  {
   "cell_type": "code",
   "execution_count": 20,
   "metadata": {
    "collapsed": false
   },
   "outputs": [
    {
     "name": "stderr",
     "output_type": "stream",
     "text": [
      "/usr/local/lib/python2.7/dist-packages/ipykernel/__main__.py:15: FutureWarning: by argument to sort_index is deprecated, pls use .sort_values(by=...)\n"
     ]
    },
    {
     "data": {
      "text/html": [
       "<div>\n",
       "<table border=\"1\" class=\"dataframe\">\n",
       "  <thead>\n",
       "    <tr style=\"text-align: right;\">\n",
       "      <th></th>\n",
       "      <th>min_scr</th>\n",
       "      <th>max_scr</th>\n",
       "      <th>goods</th>\n",
       "      <th>bads</th>\n",
       "      <th>total</th>\n",
       "      <th>odds</th>\n",
       "      <th>bad_rate</th>\n",
       "      <th>ks</th>\n",
       "      <th>max_ks</th>\n",
       "    </tr>\n",
       "  </thead>\n",
       "  <tbody>\n",
       "    <tr>\n",
       "      <th>0</th>\n",
       "      <td>0.021285</td>\n",
       "      <td>0.134246</td>\n",
       "      <td>13.0</td>\n",
       "      <td>72</td>\n",
       "      <td>85.0</td>\n",
       "      <td>0.18</td>\n",
       "      <td>84.71%</td>\n",
       "      <td>11.71</td>\n",
       "      <td></td>\n",
       "    </tr>\n",
       "    <tr>\n",
       "      <th>1</th>\n",
       "      <td>0.135640</td>\n",
       "      <td>0.189011</td>\n",
       "      <td>17.0</td>\n",
       "      <td>85</td>\n",
       "      <td>102.0</td>\n",
       "      <td>0.20</td>\n",
       "      <td>83.33%</td>\n",
       "      <td>25.13</td>\n",
       "      <td></td>\n",
       "    </tr>\n",
       "    <tr>\n",
       "      <th>2</th>\n",
       "      <td>0.189617</td>\n",
       "      <td>0.245498</td>\n",
       "      <td>22.0</td>\n",
       "      <td>69</td>\n",
       "      <td>91.0</td>\n",
       "      <td>0.32</td>\n",
       "      <td>75.82%</td>\n",
       "      <td>33.98</td>\n",
       "      <td></td>\n",
       "    </tr>\n",
       "    <tr>\n",
       "      <th>3</th>\n",
       "      <td>0.245562</td>\n",
       "      <td>0.339939</td>\n",
       "      <td>19.0</td>\n",
       "      <td>66</td>\n",
       "      <td>85.0</td>\n",
       "      <td>0.29</td>\n",
       "      <td>77.65%</td>\n",
       "      <td>42.96</td>\n",
       "      <td></td>\n",
       "    </tr>\n",
       "    <tr>\n",
       "      <th>4</th>\n",
       "      <td>0.341498</td>\n",
       "      <td>0.446306</td>\n",
       "      <td>25.0</td>\n",
       "      <td>60</td>\n",
       "      <td>85.0</td>\n",
       "      <td>0.42</td>\n",
       "      <td>70.59%</td>\n",
       "      <td>49.21</td>\n",
       "      <td>&lt;----</td>\n",
       "    </tr>\n",
       "    <tr>\n",
       "      <th>5</th>\n",
       "      <td>0.448330</td>\n",
       "      <td>0.570784</td>\n",
       "      <td>48.0</td>\n",
       "      <td>46</td>\n",
       "      <td>94.0</td>\n",
       "      <td>1.04</td>\n",
       "      <td>48.94%</td>\n",
       "      <td>46.84</td>\n",
       "      <td></td>\n",
       "    </tr>\n",
       "    <tr>\n",
       "      <th>6</th>\n",
       "      <td>0.573070</td>\n",
       "      <td>0.678260</td>\n",
       "      <td>60.0</td>\n",
       "      <td>26</td>\n",
       "      <td>86.0</td>\n",
       "      <td>2.31</td>\n",
       "      <td>30.23%</td>\n",
       "      <td>37.35</td>\n",
       "      <td></td>\n",
       "    </tr>\n",
       "    <tr>\n",
       "      <th>7</th>\n",
       "      <td>0.679574</td>\n",
       "      <td>0.766390</td>\n",
       "      <td>67.0</td>\n",
       "      <td>19</td>\n",
       "      <td>86.0</td>\n",
       "      <td>3.53</td>\n",
       "      <td>22.09%</td>\n",
       "      <td>24.66</td>\n",
       "      <td></td>\n",
       "    </tr>\n",
       "    <tr>\n",
       "      <th>8</th>\n",
       "      <td>0.766872</td>\n",
       "      <td>0.831766</td>\n",
       "      <td>64.0</td>\n",
       "      <td>22</td>\n",
       "      <td>86.0</td>\n",
       "      <td>2.91</td>\n",
       "      <td>25.58%</td>\n",
       "      <td>13.35</td>\n",
       "      <td></td>\n",
       "    </tr>\n",
       "    <tr>\n",
       "      <th>9</th>\n",
       "      <td>0.832168</td>\n",
       "      <td>0.984072</td>\n",
       "      <td>68.0</td>\n",
       "      <td>17</td>\n",
       "      <td>85.0</td>\n",
       "      <td>4.00</td>\n",
       "      <td>20.00%</td>\n",
       "      <td>0.00</td>\n",
       "      <td></td>\n",
       "    </tr>\n",
       "  </tbody>\n",
       "</table>\n",
       "</div>"
      ],
      "text/plain": [
       "    min_scr   max_scr  goods  bads  total  odds bad_rate     ks max_ks\n",
       "0  0.021285  0.134246   13.0    72   85.0  0.18   84.71%  11.71       \n",
       "1  0.135640  0.189011   17.0    85  102.0  0.20   83.33%  25.13       \n",
       "2  0.189617  0.245498   22.0    69   91.0  0.32   75.82%  33.98       \n",
       "3  0.245562  0.339939   19.0    66   85.0  0.29   77.65%  42.96       \n",
       "4  0.341498  0.446306   25.0    60   85.0  0.42   70.59%  49.21  <----\n",
       "5  0.448330  0.570784   48.0    46   94.0  1.04   48.94%  46.84       \n",
       "6  0.573070  0.678260   60.0    26   86.0  2.31   30.23%  37.35       \n",
       "7  0.679574  0.766390   67.0    19   86.0  3.53   22.09%  24.66       \n",
       "8  0.766872  0.831766   64.0    22   86.0  2.91   25.58%  13.35       \n",
       "9  0.832168  0.984072   68.0    17   85.0  4.00   20.00%   0.00       "
      ]
     },
     "execution_count": 20,
     "metadata": {},
     "output_type": "execute_result"
    }
   ],
   "source": [
    "ks_statistic(df['linear_svm_prediction'],df['saas_subscription'])"
   ]
  },
  {
   "cell_type": "code",
   "execution_count": 21,
   "metadata": {
    "collapsed": false
   },
   "outputs": [
    {
     "data": {
      "text/plain": [
       "Pipeline(steps=[('standardscaler', StandardScaler(copy=True, with_mean=False, with_std=True)), ('svc', SVC(C=0.001, cache_size=200, class_weight=None, coef0=0.0,\n",
       "  decision_function_shape=None, degree=3, gamma='auto', kernel='linear',\n",
       "  max_iter=-1, probability=True, random_state=None, shrinking=True,\n",
       "  tol=0.001, verbose=False))])"
      ]
     },
     "execution_count": 21,
     "metadata": {},
     "output_type": "execute_result"
    }
   ],
   "source": [
    "#going with svm\n",
    "#tfidf_vectorizer\n",
    "C = 0.001\n",
    "svm_model = make_pipeline(StandardScaler(with_mean=False),SVC(C=C,kernel='linear',probability=True)) \n",
    "svm_model.fit(tfidf_n_vars,df['saas_subscription'])"
   ]
  },
  {
   "cell_type": "code",
   "execution_count": null,
   "metadata": {
    "collapsed": true
   },
   "outputs": [],
   "source": [
    "ks_dets = ks_statistic(df['linear_svm_prediction'],df['saas_subscription'])"
   ]
  },
  {
   "cell_type": "code",
   "execution_count": 35,
   "metadata": {
    "collapsed": false
   },
   "outputs": [
    {
     "data": {
      "text/plain": [
       "0    1\n",
       "1    2\n",
       "2    1\n",
       "3    0\n",
       "4    4\n",
       "Name: linear_svm_prediction, dtype: category\n",
       "Categories (10, int64): [0 < 1 < 2 < 3 ... 6 < 7 < 8 < 9]"
      ]
     },
     "execution_count": 35,
     "metadata": {},
     "output_type": "execute_result"
    }
   ],
   "source": [
    "bin_boundaries = [0]+list(ks_dets['max_scr'])[:-1]+[1]\n",
    "bin_labels = range(10)\n",
    "pd.cut(df['linear_svm_prediction'], bin_boundaries,labels=bin_labels).head()"
   ]
  },
  {
   "cell_type": "code",
   "execution_count": 36,
   "metadata": {
    "collapsed": false
   },
   "outputs": [
    {
     "data": {
      "text/plain": [
       "1    102\n",
       "5     94\n",
       "2     91\n",
       "8     86\n",
       "7     86\n",
       "6     86\n",
       "9     85\n",
       "4     85\n",
       "3     85\n",
       "0     85\n",
       "Name: linear_svm_prediction, dtype: int64"
      ]
     },
     "execution_count": 36,
     "metadata": {},
     "output_type": "execute_result"
    }
   ],
   "source": [
    "pd.cut(df['linear_svm_prediction'], bin_boundaries,labels=bin_labels).value_counts()"
   ]
  },
  {
   "cell_type": "code",
   "execution_count": 68,
   "metadata": {
    "collapsed": false
   },
   "outputs": [
    {
     "data": {
      "text/html": [
       "<div>\n",
       "<table border=\"1\" class=\"dataframe\">\n",
       "  <thead>\n",
       "    <tr style=\"text-align: right;\">\n",
       "      <th></th>\n",
       "      <th>website</th>\n",
       "      <th>demo_present</th>\n",
       "      <th>login_present</th>\n",
       "      <th>pricing_present</th>\n",
       "      <th>score</th>\n",
       "      <th>website_text</th>\n",
       "      <th>saas_subscription</th>\n",
       "      <th>website_text_phrases</th>\n",
       "      <th>naive_bayes_predictions</th>\n",
       "      <th>random_forest_prediction</th>\n",
       "      <th>linear_svm_prediction</th>\n",
       "      <th>per_month_present</th>\n",
       "    </tr>\n",
       "  </thead>\n",
       "  <tbody>\n",
       "    <tr>\n",
       "      <th>293</th>\n",
       "      <td>http://www.triumphcoffeelab.com</td>\n",
       "      <td>False</td>\n",
       "      <td>False</td>\n",
       "      <td>False</td>\n",
       "      <td>0.9</td>\n",
       "      <td>Triumph Coffee Lab Triumph Coffee Lab Our Stor...</td>\n",
       "      <td>False</td>\n",
       "      <td>Triumph Coffee Lab Triumph Coffee Lab Story Wh...</td>\n",
       "      <td>5.010761e-26</td>\n",
       "      <td>0.263478</td>\n",
       "      <td>0.123807</td>\n",
       "      <td>False</td>\n",
       "    </tr>\n",
       "  </tbody>\n",
       "</table>\n",
       "</div>"
      ],
      "text/plain": [
       "                             website demo_present login_present  \\\n",
       "293  http://www.triumphcoffeelab.com        False         False   \n",
       "\n",
       "    pricing_present  score                                       website_text  \\\n",
       "293           False    0.9  Triumph Coffee Lab Triumph Coffee Lab Our Stor...   \n",
       "\n",
       "    saas_subscription                               website_text_phrases  \\\n",
       "293             False  Triumph Coffee Lab Triumph Coffee Lab Story Wh...   \n",
       "\n",
       "     naive_bayes_predictions  random_forest_prediction  linear_svm_prediction  \\\n",
       "293             5.010761e-26                  0.263478               0.123807   \n",
       "\n",
       "    per_month_present  \n",
       "293             False  "
      ]
     },
     "execution_count": 68,
     "metadata": {},
     "output_type": "execute_result"
    }
   ],
   "source": [
    "df[df['website'].str.contains('triumphcoffeelab.com')]"
   ]
  },
  {
   "cell_type": "code",
   "execution_count": 38,
   "metadata": {
    "collapsed": false
   },
   "outputs": [],
   "source": [
    "import pickle\n",
    "with open('chargebee_model_objects.pkl','w') as f:\n",
    "    pickle.dump({'vectorizer':tfidf_vectorizer,'model':svm_model,'bin_boundaries':bin_boundaries,\n",
    "                'bin_labels':bin_labels},f)"
   ]
  }
 ],
 "metadata": {
  "kernelspec": {
   "display_name": "Python 2",
   "language": "python",
   "name": "python2"
  },
  "language_info": {
   "codemirror_mode": {
    "name": "ipython",
    "version": 2
   },
   "file_extension": ".py",
   "mimetype": "text/x-python",
   "name": "python",
   "nbconvert_exporter": "python",
   "pygments_lexer": "ipython2",
   "version": "2.7.3"
  }
 },
 "nbformat": 4,
 "nbformat_minor": 1
}
