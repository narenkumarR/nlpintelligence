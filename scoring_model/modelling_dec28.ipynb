{
 "cells": [
  {
   "cell_type": "code",
   "execution_count": 45,
   "metadata": {
    "collapsed": true
   },
   "outputs": [],
   "source": [
    "import pandas as pd,numpy as np,sklearn\n",
    "from sklearn.metrics import roc_curve, auc\n",
    "import matplotlib.pyplot as plt\n",
    "import matplotlib\n",
    "matplotlib.style.use('ggplot')"
   ]
  },
  {
   "cell_type": "code",
   "execution_count": 2,
   "metadata": {
    "collapsed": true
   },
   "outputs": [],
   "source": [
    "tmp1 = pd.read_csv('CB_Nov16_Enrich_02Websites_final_data_dec28.csv')\n",
    "tmp2 = pd.read_csv('SAAS_Classified_final_data_dec28.csv')\n",
    "df = pd.concat([tmp1,tmp2],ignore_index=True)"
   ]
  },
  {
   "cell_type": "code",
   "execution_count": 16,
   "metadata": {
    "collapsed": false
   },
   "outputs": [
    {
     "data": {
      "text/plain": [
       "(885, 7)"
      ]
     },
     "execution_count": 16,
     "metadata": {},
     "output_type": "execute_result"
    }
   ],
   "source": [
    "df.shape"
   ]
  },
  {
   "cell_type": "code",
   "execution_count": 7,
   "metadata": {
    "collapsed": false
   },
   "outputs": [],
   "source": [
    "df.ix[df['website_text']=='404 - Object Not Found','website_text'] = ''"
   ]
  },
  {
   "cell_type": "code",
   "execution_count": 10,
   "metadata": {
    "collapsed": false,
    "scrolled": true
   },
   "outputs": [
    {
     "data": {
      "text/html": [
       "<div>\n",
       "<table border=\"1\" class=\"dataframe\">\n",
       "  <thead>\n",
       "    <tr style=\"text-align: right;\">\n",
       "      <th></th>\n",
       "      <th>website</th>\n",
       "      <th>demo_present</th>\n",
       "      <th>login_present</th>\n",
       "      <th>pricing_present</th>\n",
       "      <th>score</th>\n",
       "      <th>website_text</th>\n",
       "      <th>saas_subscription</th>\n",
       "    </tr>\n",
       "  </thead>\n",
       "  <tbody>\n",
       "    <tr>\n",
       "      <th>0</th>\n",
       "      <td>http://www.ultracartstore.com</td>\n",
       "      <td>False</td>\n",
       "      <td>False</td>\n",
       "      <td>False</td>\n",
       "      <td>0.0</td>\n",
       "      <td></td>\n",
       "      <td>False</td>\n",
       "    </tr>\n",
       "    <tr>\n",
       "      <th>1</th>\n",
       "      <td>http://www.borathyun.wordpress.com</td>\n",
       "      <td>True</td>\n",
       "      <td>True</td>\n",
       "      <td>True</td>\n",
       "      <td>41.0</td>\n",
       "      <td>Bienvenue – toujours de l'avant et plus déterm...</td>\n",
       "      <td>False</td>\n",
       "    </tr>\n",
       "    <tr>\n",
       "      <th>2</th>\n",
       "      <td>http://www.globalmillennials.org</td>\n",
       "      <td>False</td>\n",
       "      <td>False</td>\n",
       "      <td>False</td>\n",
       "      <td>0.0</td>\n",
       "      <td>Global Millennials For Progress Home About Us ...</td>\n",
       "      <td>False</td>\n",
       "    </tr>\n",
       "    <tr>\n",
       "      <th>3</th>\n",
       "      <td>http://www.les-artisans-francais.fr</td>\n",
       "      <td>False</td>\n",
       "      <td>False</td>\n",
       "      <td>False</td>\n",
       "      <td>0.0</td>\n",
       "      <td>Artisans-francais, l'annuaire des professionne...</td>\n",
       "      <td>False</td>\n",
       "    </tr>\n",
       "    <tr>\n",
       "      <th>4</th>\n",
       "      <td>http://www.nedboxgroup.com</td>\n",
       "      <td>False</td>\n",
       "      <td>False</td>\n",
       "      <td>False</td>\n",
       "      <td>0.0</td>\n",
       "      <td>Nedboxgroup Ltd. Группа компаний Nedboxgroup L...</td>\n",
       "      <td>False</td>\n",
       "    </tr>\n",
       "  </tbody>\n",
       "</table>\n",
       "</div>"
      ],
      "text/plain": [
       "                               website demo_present login_present  \\\n",
       "0        http://www.ultracartstore.com        False         False   \n",
       "1   http://www.borathyun.wordpress.com         True          True   \n",
       "2     http://www.globalmillennials.org        False         False   \n",
       "3  http://www.les-artisans-francais.fr        False         False   \n",
       "4           http://www.nedboxgroup.com        False         False   \n",
       "\n",
       "  pricing_present  score                                       website_text  \\\n",
       "0           False    0.0                                                      \n",
       "1            True   41.0  Bienvenue – toujours de l'avant et plus déterm...   \n",
       "2           False    0.0  Global Millennials For Progress Home About Us ...   \n",
       "3           False    0.0  Artisans-francais, l'annuaire des professionne...   \n",
       "4           False    0.0  Nedboxgroup Ltd. Группа компаний Nedboxgroup L...   \n",
       "\n",
       "  saas_subscription  \n",
       "0             False  \n",
       "1             False  \n",
       "2             False  \n",
       "3             False  \n",
       "4             False  "
      ]
     },
     "execution_count": 10,
     "metadata": {},
     "output_type": "execute_result"
    }
   ],
   "source": [
    "df.head()"
   ]
  },
  {
   "cell_type": "code",
   "execution_count": 19,
   "metadata": {
    "collapsed": false
   },
   "outputs": [
    {
     "data": {
      "text/plain": [
       "(885, 7)"
      ]
     },
     "execution_count": 19,
     "metadata": {},
     "output_type": "execute_result"
    }
   ],
   "source": [
    "df = df.drop_duplicates('website')\n",
    "df.shape"
   ]
  },
  {
   "cell_type": "code",
   "execution_count": 2,
   "metadata": {
    "collapsed": false
   },
   "outputs": [],
   "source": [
    "#text processing\n",
    "import nltk,re\n",
    "from nltk.corpus import stopwords\n",
    "from nltk.stem import SnowballStemmer\n",
    "from text_processing import extract_phrases\n",
    "from sklearn.feature_extraction.text import TfidfVectorizer,CountVectorizer\n",
    "import nltk,re\n",
    "from nltk.corpus import stopwords\n",
    "from nltk.stem import SnowballStemmer\n",
    "from nltk.stem.wordnet import WordNetLemmatizer\n",
    "from text_processing import extract_phrases"
   ]
  },
  {
   "cell_type": "code",
   "execution_count": 7,
   "metadata": {
    "collapsed": false
   },
   "outputs": [],
   "source": [
    "grammar = r\"\"\"\n",
    "  NP1: {<JJ><NN.*>+}          # Chunk sequences of JJ, NN\n",
    "  NP2: {<NN.*>+<JJ>}          # Chunk sequences of NN and JJ\n",
    "  NP3: {<NN.*>+}                  #Noun phrases\n",
    "  VP: {<VB.*><NN.*>+} # Chunk verbs and their arguments\n",
    "  \"\"\"\n",
    "phr_list = ['NP1','NP2','NP3','VP']\n",
    "tag_list = ['NN','NNS','NNP','NNPS','VB','VBD','VBG','VBN','VBP','VBZ']\n",
    "stop_words = stopwords.words()+['http','https','goo','isnt','wwwfacebookcomtr','wwwgoogletagmanagercomnshtml',\n",
    "                               'and','be','do','facebook','for','in','is','inc','linkedin','of','the','to']\n",
    "cp = nltk.RegexpParser(grammar)\n",
    "pe = extract_phrases.PhraseExtractor()\n",
    "snowball_stemmer = SnowballStemmer('english')\n",
    "wordnet_lemmatizer = WordNetLemmatizer()\n",
    "reg_exp = re.compile('[^a-zA-Z ]',re.IGNORECASE)\n",
    "def tokenizer(text,stem_type='lemmatize'):\n",
    "    pos_tags = nltk.pos_tag(nltk.word_tokenize(text))\n",
    "    phrs = pe.extract_phrase_treeinput(cp.parse(pos_tags),['NP1','NP2','VP'])\n",
    "    if stem_type == 'stem':\n",
    "        wrds = [snowball_stemmer.stem(i[0]) for i in pos_tags if i[1] in tag_list]\n",
    "    elif stem_type == 'lemmatize':\n",
    "        wrds = [wordnet_lemmatizer.lemmatize(i[0]) for i in pos_tags if i[1] in tag_list]\n",
    "    wrds = [wrd for wrd in wrds if wrd.lower() not in stop_words]\n",
    "    if stem_type == 'stem':\n",
    "        phrs = ['_'.join([snowball_stemmer.stem(wrd) for wrd in nltk.word_tokenize(phr)]) for phr in phrs]\n",
    "    elif stem_type == 'lemmatize':\n",
    "        phrs = ['_'.join([wordnet_lemmatizer.lemmatize(wrd) for wrd in nltk.word_tokenize(phr)]) for phr in phrs]\n",
    "    else:\n",
    "        phrs = ['_'.join([wrd for wrd in nltk.word_tokenize(phr)]) for phr in phrs]\n",
    "    wrds = [reg_exp.sub('',i) for i in wrds]\n",
    "    return wrds+phrs"
   ]
  },
  {
   "cell_type": "code",
   "execution_count": 27,
   "metadata": {
    "collapsed": false,
    "scrolled": true
   },
   "outputs": [
    {
     "name": "stdout",
     "output_type": "stream",
     "text": [
      "Warning: parsing empty text\n",
      "Warning: parsing empty text\n",
      "Warning: parsing empty text\n",
      "Warning: parsing empty text\n",
      "Warning: parsing empty text\n",
      "Warning: parsing empty text\n",
      "Warning: parsing empty text\n",
      "Warning: parsing empty text\n",
      "Warning: parsing empty text\n",
      "Warning: parsing empty text\n",
      "Warning: parsing empty text\n",
      "Warning: parsing empty text\n",
      "Warning: parsing empty text\n",
      "Warning: parsing empty text\n",
      "Warning: parsing empty text\n",
      "Warning: parsing empty text\n",
      "Warning: parsing empty text\n",
      "Warning: parsing empty text\n",
      "Warning: parsing empty text\n",
      "Warning: parsing empty text\n",
      "Warning: parsing empty text\n",
      "Warning: parsing empty text\n",
      "Warning: parsing empty text\n",
      "Warning: parsing empty text\n",
      "Warning: parsing empty text\n",
      "Warning: parsing empty text\n",
      "Warning: parsing empty text\n",
      "Warning: parsing empty text\n",
      "Warning: parsing empty text\n",
      "Warning: parsing empty text\n",
      "Warning: parsing empty text\n",
      "Warning: parsing empty text\n",
      "Warning: parsing empty text\n",
      "Warning: parsing empty text\n",
      "Warning: parsing empty text\n",
      "Warning: parsing empty text\n",
      "Warning: parsing empty text\n",
      "Warning: parsing empty text\n",
      "Warning: parsing empty text\n",
      "Warning: parsing empty text\n",
      "Warning: parsing empty text\n",
      "Warning: parsing empty text\n",
      "Warning: parsing empty text\n",
      "Warning: parsing empty text\n",
      "Warning: parsing empty text\n",
      "Warning: parsing empty text\n",
      "Warning: parsing empty text\n",
      "Warning: parsing empty text\n"
     ]
    }
   ],
   "source": [
    "df['website_text_phrases'] = df['website_text'].fillna('').\\\n",
    "    apply(lambda x: ' '.join(tokenizer(unicode(x,'ascii','ignore'))))"
   ]
  },
  {
   "cell_type": "code",
   "execution_count": 178,
   "metadata": {
    "collapsed": false
   },
   "outputs": [],
   "source": [
    "df['website_text_stemmed'] = df['website_text'].fillna('').apply(\n",
    "    lambda x:' '.join([snowball_stemmer.stem(wrd) for wrd in nltk.word_tokenize(x.decode('utf-8','ignore'))]))"
   ]
  },
  {
   "cell_type": "code",
   "execution_count": 179,
   "metadata": {
    "collapsed": true
   },
   "outputs": [],
   "source": [
    "df.to_csv('final_data_used_dec28.csv',index=False,quoting=1,encoding='utf-8')"
   ]
  },
  {
   "cell_type": "code",
   "execution_count": 21,
   "metadata": {
    "collapsed": true
   },
   "outputs": [],
   "source": [
    "df = pd.read_csv('final_data_used_dec28.csv')\n",
    "feat_names = pd.read_csv('feature_names_stem.csv')['word']"
   ]
  },
  {
   "cell_type": "code",
   "execution_count": 20,
   "metadata": {
    "collapsed": false,
    "scrolled": true
   },
   "outputs": [
    {
     "data": {
      "text/plain": [
       "(885, 692)"
      ]
     },
     "execution_count": 20,
     "metadata": {},
     "output_type": "execute_result"
    }
   ],
   "source": [
    "stop_words = stopwords.words()+['http','https','goo','isnt','wwwfacebookcomtr','wwwgoogletagmanagercomnshtml',\n",
    "                               'and','be','do','facebook','for','in','is','inc','linkedin','of','the','to',\n",
    "                               'using','use','home','get','us']\n",
    "tfidf_vectorizer = TfidfVectorizer(max_df=0.95, min_df=0.1,stop_words=stop_words)\n",
    "tfidf = tfidf_vectorizer.fit_transform(df['website_text'].fillna(''))\n",
    "tfidf.shape"
   ]
  },
  {
   "cell_type": "code",
   "execution_count": 22,
   "metadata": {
    "collapsed": false
   },
   "outputs": [
    {
     "data": {
      "text/plain": [
       "(885, 709)"
      ]
     },
     "execution_count": 22,
     "metadata": {},
     "output_type": "execute_result"
    }
   ],
   "source": [
    "stop_words = stopwords.words()+['http','https','goo','isnt','wwwfacebookcomtr','wwwgoogletagmanagercomnshtml',\n",
    "                               'and','be','do','facebook','for','in','is','inc','linkedin','of','the','to',\n",
    "                               'using','use','home','get','us']\n",
    "tfidf_vectorizer = TfidfVectorizer(max_df=0.95, min_df=0.1,stop_words=stop_words,vocabulary=feat_names)\n",
    "tfidf = tfidf_vectorizer.fit_transform(df['website_text_stemmed'].fillna(''))\n",
    "tfidf.shape"
   ]
  },
  {
   "cell_type": "code",
   "execution_count": 23,
   "metadata": {
    "collapsed": false
   },
   "outputs": [
    {
     "data": {
      "text/plain": [
       "(885, 712)"
      ]
     },
     "execution_count": 23,
     "metadata": {},
     "output_type": "execute_result"
    }
   ],
   "source": [
    "from scipy.sparse import hstack\n",
    "from scipy.sparse.csr import csr_matrix\n",
    "tfidf_n_vars = hstack([tfidf,\n",
    "        csr_matrix(df[['demo_present','login_present','pricing_present']].values.astype(float))])\n",
    "tfidf_n_vars.shape\n",
    "# tfidf_n_vars = tfidf"
   ]
  },
  {
   "cell_type": "code",
   "execution_count": 24,
   "metadata": {
    "collapsed": false
   },
   "outputs": [
    {
     "name": "stderr",
     "output_type": "stream",
     "text": [
      "/usr/local/lib/python2.7/dist-packages/ipykernel/__main__.py:3: UserWarning: This pattern has match groups. To actually get the groups, use str.extract.\n",
      "  app.launch_new_instance()\n"
     ]
    },
    {
     "data": {
      "text/plain": [
       "(885, 714)"
      ]
     },
     "execution_count": 24,
     "metadata": {},
     "output_type": "execute_result"
    }
   ],
   "source": [
    "#new variables (not used currently in the final model)\n",
    "reg_text = r'(([0-9]|\\$|\\b|/)per|/)(\\b| |\\n|\\r){0,2}(month|year|\\bmo)\\b'\n",
    "df['per_month_present'] = df['website_text'].fillna('').str.contains(reg_text,case=False)\n",
    "#coming soon\n",
    "df['coming_soon'] = df['website_text'].fillna('').str.contains(r'coming soon',case=False)\n",
    "\n",
    "#combining all\n",
    "tfidf_n_vars = hstack([tfidf,\n",
    "        csr_matrix(df[['demo_present','login_present','pricing_present','per_month_present','coming_soon']].values.astype(float))])\n",
    "tfidf_n_vars.shape"
   ]
  },
  {
   "cell_type": "code",
   "execution_count": 50,
   "metadata": {
    "collapsed": false
   },
   "outputs": [
    {
     "data": {
      "text/plain": [
       "per_month_present  saas_subscription\n",
       "False              False                435\n",
       "                   True                 306\n",
       "True               False                 47\n",
       "                   True                  97\n",
       "dtype: int64"
      ]
     },
     "execution_count": 50,
     "metadata": {},
     "output_type": "execute_result"
    }
   ],
   "source": [
    "df.groupby(['per_month_present','saas_subscription']).size()"
   ]
  },
  {
   "cell_type": "code",
   "execution_count": 14,
   "metadata": {
    "collapsed": false
   },
   "outputs": [
    {
     "data": {
      "text/html": [
       "<div>\n",
       "<table border=\"1\" class=\"dataframe\">\n",
       "  <thead>\n",
       "    <tr style=\"text-align: right;\">\n",
       "      <th></th>\n",
       "      <th>website</th>\n",
       "      <th>demo_present</th>\n",
       "      <th>login_present</th>\n",
       "      <th>pricing_present</th>\n",
       "      <th>score</th>\n",
       "      <th>website_text</th>\n",
       "      <th>saas_subscription</th>\n",
       "      <th>website_text_phrases</th>\n",
       "      <th>per_month_present</th>\n",
       "    </tr>\n",
       "  </thead>\n",
       "  <tbody>\n",
       "    <tr>\n",
       "      <th>1</th>\n",
       "      <td>http://www.borathyun.wordpress.com</td>\n",
       "      <td>True</td>\n",
       "      <td>True</td>\n",
       "      <td>True</td>\n",
       "      <td>41.0</td>\n",
       "      <td>Bienvenue – toujours de l'avant et plus déterm...</td>\n",
       "      <td>False</td>\n",
       "      <td>Bienvenue toujours jamais Skip content Bienven...</td>\n",
       "      <td>True</td>\n",
       "    </tr>\n",
       "    <tr>\n",
       "      <th>5</th>\n",
       "      <td>http://www.pagey.io</td>\n",
       "      <td>False</td>\n",
       "      <td>True</td>\n",
       "      <td>True</td>\n",
       "      <td>8.4</td>\n",
       "      <td>Pagey Features Pricing Our Story Login Promote...</td>\n",
       "      <td>False</td>\n",
       "      <td>Pagey Features Pricing Story Login Promote ser...</td>\n",
       "      <td>True</td>\n",
       "    </tr>\n",
       "    <tr>\n",
       "      <th>6</th>\n",
       "      <td>http://www.ninjatoolsuite.net</td>\n",
       "      <td>True</td>\n",
       "      <td>True</td>\n",
       "      <td>True</td>\n",
       "      <td>12.4</td>\n",
       "      <td>Ninja Tool Suite - HOME HOME View Pages DEMO S...</td>\n",
       "      <td>False</td>\n",
       "      <td>Ninja Tool Suite HOME HOME View Pages DEMO SIG...</td>\n",
       "      <td>True</td>\n",
       "    </tr>\n",
       "    <tr>\n",
       "      <th>7</th>\n",
       "      <td>http://www.graphicbees.com</td>\n",
       "      <td>False</td>\n",
       "      <td>True</td>\n",
       "      <td>True</td>\n",
       "      <td>11.8</td>\n",
       "      <td>Graphic Bees – Unlimited Graphic Design Guaran...</td>\n",
       "      <td>False</td>\n",
       "      <td>Graphic Bees Unlimited Graphic Design Guarante...</td>\n",
       "      <td>True</td>\n",
       "    </tr>\n",
       "    <tr>\n",
       "      <th>15</th>\n",
       "      <td>http://www.eveassist.com</td>\n",
       "      <td>False</td>\n",
       "      <td>False</td>\n",
       "      <td>True</td>\n",
       "      <td>21.6</td>\n",
       "      <td>EveAssist &lt;div style=\"display:inline;\"&gt; &lt;img h...</td>\n",
       "      <td>False</td>\n",
       "      <td>EveAssist  div style display inline   img heig...</td>\n",
       "      <td>True</td>\n",
       "    </tr>\n",
       "  </tbody>\n",
       "</table>\n",
       "</div>"
      ],
      "text/plain": [
       "                               website demo_present login_present  \\\n",
       "1   http://www.borathyun.wordpress.com         True          True   \n",
       "5                  http://www.pagey.io        False          True   \n",
       "6        http://www.ninjatoolsuite.net         True          True   \n",
       "7           http://www.graphicbees.com        False          True   \n",
       "15            http://www.eveassist.com        False         False   \n",
       "\n",
       "   pricing_present  score                                       website_text  \\\n",
       "1             True   41.0  Bienvenue – toujours de l'avant et plus déterm...   \n",
       "5             True    8.4  Pagey Features Pricing Our Story Login Promote...   \n",
       "6             True   12.4  Ninja Tool Suite - HOME HOME View Pages DEMO S...   \n",
       "7             True   11.8  Graphic Bees – Unlimited Graphic Design Guaran...   \n",
       "15            True   21.6  EveAssist <div style=\"display:inline;\"> <img h...   \n",
       "\n",
       "   saas_subscription                               website_text_phrases  \\\n",
       "1              False  Bienvenue toujours jamais Skip content Bienven...   \n",
       "5              False  Pagey Features Pricing Story Login Promote ser...   \n",
       "6              False  Ninja Tool Suite HOME HOME View Pages DEMO SIG...   \n",
       "7              False  Graphic Bees Unlimited Graphic Design Guarante...   \n",
       "15             False  EveAssist  div style display inline   img heig...   \n",
       "\n",
       "   per_month_present  \n",
       "1               True  \n",
       "5               True  \n",
       "6               True  \n",
       "7               True  \n",
       "15              True  "
      ]
     },
     "execution_count": 14,
     "metadata": {},
     "output_type": "execute_result"
    }
   ],
   "source": [
    "df[(df['per_month_present'] == True)&(df['saas_subscription'] == False)].head()"
   ]
  },
  {
   "cell_type": "code",
   "execution_count": 7,
   "metadata": {
    "collapsed": true
   },
   "outputs": [],
   "source": [
    "from sklearn.naive_bayes import GaussianNB,MultinomialNB\n",
    "from sklearn.linear_model import LogisticRegressionCV\n",
    "from sklearn.metrics import classification_report\n",
    "from sklearn import tree\n",
    "from sklearn.model_selection import cross_val_predict\n",
    "from sklearn.svm import LinearSVC,SVC\n",
    "from sklearn.ensemble import RandomForestClassifier\n",
    "from sklearn.neural_network import MLPClassifier\n",
    "from sklearn.pipeline import make_pipeline\n",
    "from sklearn.preprocessing import StandardScaler\n",
    "from sklearn.feature_selection import SelectFromModel,RFE"
   ]
  },
  {
   "cell_type": "code",
   "execution_count": 50,
   "metadata": {
    "collapsed": false
   },
   "outputs": [
    {
     "name": "stdout",
     "output_type": "stream",
     "text": [
      "traing predictions\n",
      "             precision    recall  f1-score   support\n",
      "\n",
      "      False       0.86      0.80      0.83       482\n",
      "       True       0.78      0.84      0.81       403\n",
      "\n",
      "avg / total       0.82      0.82      0.82       885\n",
      "\n",
      "cross-validation predictions\n",
      "             precision    recall  f1-score   support\n",
      "\n",
      "      False       0.78      0.69      0.73       482\n",
      "       True       0.67      0.77      0.72       403\n",
      "\n",
      "avg / total       0.73      0.72      0.72       885\n",
      "\n",
      "42.5\n"
     ]
    },
    {
     "data": {
      "image/png": "[encoded data removed]",
      "text/plain": [
       "<matplotlib.figure.Figure at 0xbfbdfd0>"
      ]
     },
     "metadata": {},
     "output_type": "display_data"
    }
   ],
   "source": [
    "clf = make_pipeline(StandardScaler(with_mean=False),MultinomialNB()) \n",
    "clf.fit(tfidf_n_vars,df['saas_subscription'])\n",
    "print 'traing predictions'\n",
    "print classification_report(df['saas_subscription'],clf.predict(tfidf_n_vars))\n",
    "print 'cross-validation predictions'\n",
    "cv_pred = cross_val_predict(clf,tfidf_n_vars,df['saas_subscription'],cv=10)\n",
    "print classification_report(df['saas_subscription'],cv_pred)\n",
    "print auc(df['saas_subscription'],cv_pred)\n",
    "cv_pred_prob = cross_val_predict(clf,tfidf_n_vars,df['saas_subscription'],cv=10,method='predict_proba')[:,1]\n",
    "fpr, tpr, _ = roc_curve(df['saas_subscription'], cv_pred_prob)\n",
    "plt.figure()\n",
    "lw = 2\n",
    "plt.plot(fpr, tpr, color='darkorange',\n",
    "         lw=lw, label='ROC curve (area = %0.2f)' % auc(df['saas_subscription'],cv_pred))\n",
    "plt.plot([0, 1], [0, 1], color='navy', lw=lw, linestyle='--')\n",
    "plt.xlim([0.0, 1.0])\n",
    "plt.ylim([0.0, 1.05])\n",
    "plt.xlabel('False Positive Rate')\n",
    "plt.ylabel('True Positive Rate')\n",
    "plt.title('Receiver operating characteristic example')\n",
    "plt.legend(loc=\"lower right\")\n",
    "plt.show()"
   ]
  },
  {
   "cell_type": "code",
   "execution_count": null,
   "metadata": {
    "collapsed": false
   },
   "outputs": [
    {
     "name": "stdout",
     "output_type": "stream",
     "text": [
      "traing predictions\n",
      "             precision    recall  f1-score   support\n",
      "\n",
      "      False       0.84      0.88      0.86       482\n",
      "       True       0.85      0.79      0.82       403\n",
      "\n",
      "avg / total       0.84      0.84      0.84       885\n",
      "\n",
      "cross-validation predictions\n",
      "             precision    recall  f1-score   support\n",
      "\n",
      "      False       0.74      0.78      0.76       482\n",
      "       True       0.72      0.68      0.70       403\n",
      "\n",
      "avg / total       0.73      0.73      0.73       885\n",
      "\n",
      "40.0\n"
     ]
    }
   ],
   "source": [
    "clf = make_pipeline(StandardScaler(with_mean=False),LogisticRegressionCV(Cs=10)) \n",
    "clf.fit(tfidf_n_vars,df['saas_subscription'])\n",
    "print 'traing predictions'\n",
    "print classification_report(df['saas_subscription'],clf.predict(tfidf_n_vars))\n",
    "print 'cross-validation predictions'\n",
    "cv_pred = cross_val_predict(clf,tfidf_n_vars,df['saas_subscription'],cv=10)\n",
    "print classification_report(df['saas_subscription'],cv_pred)\n",
    "print auc(df['saas_subscription'],cv_pred)\n",
    "cv_pred_prob = cross_val_predict(clf,tfidf_n_vars,df['saas_subscription'],cv=10,method='predict_proba')[:,1]\n",
    "fpr, tpr, _ = roc_curve(df['saas_subscription'], cv_pred_prob)\n",
    "plt.figure()\n",
    "lw = 2\n",
    "plt.plot(fpr, tpr, color='darkorange',\n",
    "         lw=lw, label='ROC curve (area = %0.2f)' % auc(df['saas_subscription'],cv_pred))\n",
    "plt.plot([0, 1], [0, 1], color='navy', lw=lw, linestyle='--')\n",
    "plt.xlim([0.0, 1.0])\n",
    "plt.ylim([0.0, 1.05])\n",
    "plt.xlabel('False Positive Rate')\n",
    "plt.ylabel('True Positive Rate')\n",
    "plt.title('Receiver operating characteristic example')\n",
    "plt.legend(loc=\"lower right\")\n",
    "plt.show()"
   ]
  },
  {
   "cell_type": "code",
   "execution_count": 264,
   "metadata": {
    "collapsed": false
   },
   "outputs": [
    {
     "name": "stdout",
     "output_type": "stream",
     "text": [
      "traing predictions\n",
      "             precision    recall  f1-score   support\n",
      "\n",
      "      False       0.91      0.85      0.88       482\n",
      "       True       0.83      0.90      0.87       403\n",
      "\n",
      "avg / total       0.88      0.87      0.87       885\n",
      "\n",
      "cross-validation predictions\n",
      "             precision    recall  f1-score   support\n",
      "\n",
      "      False       0.76      0.77      0.76       482\n",
      "       True       0.72      0.70      0.71       403\n",
      "\n",
      "avg / total       0.74      0.74      0.74       885\n",
      "\n"
     ]
    }
   ],
   "source": [
    "hidden_layer_sizes=(50,)\n",
    "alpha = 50\n",
    "clf = make_pipeline(StandardScaler(with_mean=False),MLPClassifier(hidden_layer_sizes=hidden_layer_sizes,alpha=alpha)) \n",
    "clf.fit(tfidf_n_vars,df['saas_subscription'])\n",
    "print 'traing predictions'\n",
    "print classification_report(df['saas_subscription'],clf.predict(tfidf_n_vars))\n",
    "print 'cross-validation predictions'\n",
    "print classification_report(df['saas_subscription'],cross_val_predict(clf,\n",
    "                                                     tfidf_n_vars,df['saas_subscription'],cv=10))"
   ]
  },
  {
   "cell_type": "code",
   "execution_count": 78,
   "metadata": {
    "collapsed": false
   },
   "outputs": [
    {
     "name": "stdout",
     "output_type": "stream",
     "text": [
      "traing predictions\n",
      "             precision    recall  f1-score   support\n",
      "\n",
      "      False       0.87      0.82      0.84       482\n",
      "       True       0.79      0.86      0.82       403\n",
      "\n",
      "avg / total       0.84      0.83      0.83       885\n",
      "\n",
      "cross-validation predictions\n",
      "             precision    recall  f1-score   support\n",
      "\n",
      "      False       0.79      0.71      0.75       482\n",
      "       True       0.69      0.78      0.73       403\n",
      "\n",
      "avg / total       0.74      0.74      0.74       885\n",
      "\n"
     ]
    }
   ],
   "source": [
    "C = 0.00005\n",
    "clf = make_pipeline(StandardScaler(with_mean=False),LinearSVC(C=C)) \n",
    "clf.fit(tfidf_n_vars,df['saas_subscription'])\n",
    "print 'traing predictions'\n",
    "print classification_report(df['saas_subscription'],clf.predict(tfidf_n_vars))\n",
    "print 'cross-validation predictions'\n",
    "print classification_report(df['saas_subscription'],cross_val_predict(clf,\n",
    "                                                     tfidf_n_vars,df['saas_subscription'],cv=10))"
   ]
  },
  {
   "cell_type": "code",
   "execution_count": 48,
   "metadata": {
    "collapsed": false
   },
   "outputs": [
    {
     "name": "stdout",
     "output_type": "stream",
     "text": [
      "traing predictions\n",
      "             precision    recall  f1-score   support\n",
      "\n",
      "      False       0.87      0.88      0.87       482\n",
      "       True       0.86      0.84      0.85       403\n",
      "\n",
      "avg / total       0.86      0.86      0.86       885\n",
      "\n",
      "cross-validation predictions\n",
      "             precision    recall  f1-score   support\n",
      "\n",
      "      False       0.78      0.79      0.78       482\n",
      "       True       0.74      0.74      0.74       403\n",
      "\n",
      "avg / total       0.76      0.76      0.76       885\n",
      "\n",
      "42.5\n"
     ]
    },
    {
     "data": {
      "image/png": "[encoded data removed]",
      "text/plain": [
       "<matplotlib.figure.Figure at 0x8189950>"
      ]
     },
     "metadata": {},
     "output_type": "display_data"
    }
   ],
   "source": [
    "C = 0.00085\n",
    "clf = make_pipeline(StandardScaler(with_mean=False),SVC(C=C,kernel='linear',probability=True)) \n",
    "clf.fit(tfidf_n_vars,df['saas_subscription'])\n",
    "print 'traing predictions'\n",
    "print classification_report(df['saas_subscription'],clf.predict(tfidf_n_vars))\n",
    "print 'cross-validation predictions'\n",
    "cv_pred = cross_val_predict(clf,tfidf_n_vars,df['saas_subscription'],cv=10)\n",
    "print classification_report(df['saas_subscription'],cv_pred)\n",
    "print auc(df['saas_subscription'],cv_pred)\n",
    "cv_pred_prob = cross_val_predict(clf,tfidf_n_vars,df['saas_subscription'],cv=10,method='predict_proba')[:,1]\n",
    "fpr, tpr, _ = roc_curve(df['saas_subscription'], cv_pred_prob)\n",
    "plt.figure()\n",
    "lw = 2\n",
    "plt.plot(fpr, tpr, color='darkorange',\n",
    "         lw=lw, label='ROC curve (area = %0.2f)' % auc(df['saas_subscription'],cv_pred))\n",
    "plt.plot([0, 1], [0, 1], color='navy', lw=lw, linestyle='--')\n",
    "plt.xlim([0.0, 1.0])\n",
    "plt.ylim([0.0, 1.05])\n",
    "plt.xlabel('False Positive Rate')\n",
    "plt.ylabel('True Positive Rate')\n",
    "plt.title('Receiver operating characteristic example')\n",
    "plt.legend(loc=\"lower right\")\n",
    "plt.show()"
   ]
  },
  {
   "cell_type": "code",
   "execution_count": 42,
   "metadata": {
    "collapsed": false
   },
   "outputs": [
    {
     "name": "stdout",
     "output_type": "stream",
     "text": [
      "traing predictions\n",
      "             precision    recall  f1-score   support\n",
      "\n",
      "      False       0.90      0.97      0.94       482\n",
      "       True       0.96      0.87      0.92       403\n",
      "\n",
      "avg / total       0.93      0.93      0.93       885\n",
      "\n",
      "cross-validation predictions\n",
      "             precision    recall  f1-score   support\n",
      "\n",
      "      False       0.75      0.78      0.77       482\n",
      "       True       0.73      0.69      0.71       403\n",
      "\n",
      "avg / total       0.74      0.74      0.74       885\n",
      "\n"
     ]
    }
   ],
   "source": [
    "n_estimators = 100\n",
    "min_samples_split=2\n",
    "min_samples_leaf=9\n",
    "max_depth = None\n",
    "clf = make_pipeline(StandardScaler(with_mean=False),RandomForestClassifier(\n",
    "    n_estimators=n_estimators,min_samples_split=min_samples_split,\n",
    "                            min_samples_leaf=min_samples_leaf,max_depth=max_depth)) \n",
    "clf.fit(tfidf_n_vars,df['saas_subscription'])\n",
    "print 'traing predictions'\n",
    "print classification_report(df['saas_subscription'],clf.predict(tfidf_n_vars))\n",
    "print 'cross-validation predictions'\n",
    "print classification_report(df['saas_subscription'],cross_val_predict(clf,\n",
    "                                                     tfidf_n_vars,df['saas_subscription'],cv=10))"
   ]
  },
  {
   "cell_type": "markdown",
   "metadata": {},
   "source": [
    "identifying important features"
   ]
  },
  {
   "cell_type": "code",
   "execution_count": 235,
   "metadata": {
    "collapsed": true
   },
   "outputs": [],
   "source": [
    "vocab_list = [0]*len(tfidf_vectorizer.vocabulary_)\n",
    "for wrd in tfidf_vectorizer.vocabulary_:\n",
    "    vocab_list[tfidf_vectorizer.vocabulary_[wrd]] = wrd\n",
    "vocab_list.extend(['demo_present','login_present','pricing_present','per_month_present'])"
   ]
  },
  {
   "cell_type": "code",
   "execution_count": 236,
   "metadata": {
    "collapsed": false,
    "scrolled": true
   },
   "outputs": [
    {
     "name": "stdout",
     "output_type": "stream",
     "text": [
      "Features sorted by their score:\n",
      "[(0.0163, u'demo'), (0.0145, u'tool'), (0.0145, 'demo_present'), (0.0094, u'tim'), (0.0088, u'integr'), (0.0088, u'data'), (0.0082, u'automat'), (0.008, u'manag'), (0.008, u'load'), (0.0077, u'app'), (0.0075, u'term'), (0.0071, u'learn'), (0.007, u'platform'), (0.007, u'featur'), (0.0064, u'blog'), (0.0058, u'process'), (0.0057, u'privaci'), (0.0056, u'game'), (0.0056, u'enjoy'), (0.0055, u'compani'), (0.0054, u'within'), (0.0054, u'mobil'), (0.0051, u'softwar'), (0.0046, u'solut'), (0.0045, u'trial'), (0.0045, u'secur'), (0.0045, u'benefit'), (0.0044, u'team'), (0.0043, u'request'), (0.0042, u'career')]\n"
     ]
    }
   ],
   "source": [
    "n_estimators = 100\n",
    "min_samples_split=2\n",
    "min_samples_leaf=1\n",
    "max_depth = None\n",
    "clf = RandomForestClassifier(\n",
    "    n_estimators=n_estimators,min_samples_split=min_samples_split,\n",
    "                            min_samples_leaf=min_samples_leaf,max_depth=max_depth)\n",
    "clf.fit(tfidf_n_vars,df['saas_subscription'])\n",
    "print \"Features sorted by their score:\"\n",
    "print sorted(zip(map(lambda x: round(x, 4), clf.feature_importances_), vocab_list), \n",
    "             reverse=True)[:30]"
   ]
  },
  {
   "cell_type": "code",
   "execution_count": 237,
   "metadata": {
    "collapsed": false
   },
   "outputs": [
    {
     "name": "stdout",
     "output_type": "stream",
     "text": [
      "[(0.1271, 'demo_present'), (0.1142, u'api'), (0.1138, u'prevent'), (0.1075, u'load'), (0.1056, u'demo'), (0.105, u'game'), (0.1029, u'cours'), (0.0982, u'perform'), (0.0958, u'term'), (0.0905, u'feedback'), (0.089, u'data'), (0.0866, u'contain'), (0.0851, u'multipl'), (0.0842, u'annual'), (0.0817, u'purchas'), (0.0816, u'privaci'), (0.0815, u'transact'), (0.081, u'full'), (0.0794, u'mobil'), (0.0778, u'tim'), (0.0769, u'san'), (0.0752, u'field'), (0.0745, u'around'), (0.0736, u'within'), (0.0736, u'user'), (0.0716, u'posit'), (0.071, u'owner'), (0.0687, 'per_month_present'), (0.0686, u'drive'), (0.0684, u'respons')]\n"
     ]
    }
   ],
   "source": [
    "#using logistic regression\n",
    "from sklearn.feature_selection import SelectFromModel\n",
    "clf = LogisticRegressionCV(Cs=10)\n",
    "sfm = SelectFromModel(clf, threshold=0.05)\n",
    "sfm.fit(StandardScaler(with_mean=False).fit_transform(tfidf_n_vars),df['saas_subscription'])\n",
    "# n_features = sfm.transform(X).shape[1]\n",
    "print sorted(zip(map(lambda x: round(x, 4), sfm.estimator_.coef_[0,:]), vocab_list), \n",
    "             reverse=True)[:30]"
   ]
  },
  {
   "cell_type": "code",
   "execution_count": 238,
   "metadata": {
    "collapsed": false
   },
   "outputs": [],
   "source": [
    "#predicted scores\n",
    "class MNB_Prob_pred(MultinomialNB):\n",
    "    def predict(self, X):\n",
    "        return MultinomialNB.predict_proba(self, X)[:,1]\n",
    "clf = make_pipeline(StandardScaler(with_mean=False),MNB_Prob_pred()) \n",
    "nb_preds = cross_val_predict(clf,tfidf_n_vars,df['saas_subscription'],cv=10)"
   ]
  },
  {
   "cell_type": "code",
   "execution_count": 239,
   "metadata": {
    "collapsed": false
   },
   "outputs": [],
   "source": [
    "#predicted scores\n",
    "class RF_Prob_pred(RandomForestClassifier):\n",
    "    def __init__(self, n_estimators=100):\n",
    "        RandomForestClassifier.__init__(self, n_estimators=100)\n",
    "    def predict(self, X):\n",
    "        return RandomForestClassifier.predict_proba(self, X)[:,1]\n",
    "clf = make_pipeline(StandardScaler(with_mean=False),RF_Prob_pred()) \n",
    "rf_preds = cross_val_predict(clf,tfidf_n_vars,df['saas_subscription'],cv=10)"
   ]
  },
  {
   "cell_type": "code",
   "execution_count": 240,
   "metadata": {
    "collapsed": false
   },
   "outputs": [],
   "source": [
    "# #predicted scores\n",
    "# class SVM_Prob_pred():\n",
    "#     def __init__(self):\n",
    "#         self.svc = SVC(C=0.002,probability=True,kernel='linear')\n",
    "# #         SVC.__init__(self, C=0.002,probability=True,kernel='linear')\n",
    "#     def fit(X,y):\n",
    "#         self.svc.fit(X,y)\n",
    "#     def predict(self, X):\n",
    "#         return self.svc.predict_proba(self, X)[:,1]\n",
    "#     def get_params(self,**kwargs):\n",
    "#         self.svc.get_params(**kwargs)\n",
    "#     def set_params(self,**params):\n",
    "#         self.svc.set_params(**params)\n",
    "clf = make_pipeline(StandardScaler(with_mean=False),SVC(C=0.001,probability=True,kernel='linear'))\n",
    "svm_preds = cross_val_predict(clf,tfidf_n_vars,df['saas_subscription'],cv=10,method='predict_proba')[:,1]"
   ]
  },
  {
   "cell_type": "code",
   "execution_count": 241,
   "metadata": {
    "collapsed": true
   },
   "outputs": [],
   "source": [
    "clf = make_pipeline(StandardScaler(with_mean=False),LogisticRegressionCV(Cs=10))\n",
    "logistic_preds = cross_val_predict(clf,tfidf_n_vars,df['saas_subscription'],cv=10,method='predict_proba')[:,1]"
   ]
  },
  {
   "cell_type": "code",
   "execution_count": 242,
   "metadata": {
    "collapsed": false
   },
   "outputs": [
    {
     "data": {
      "text/plain": [
       "((885, 15), (885,), (885,), (885,))"
      ]
     },
     "execution_count": 242,
     "metadata": {},
     "output_type": "execute_result"
    }
   ],
   "source": [
    "df.shape,nb_preds.shape,rf_preds.shape,logistic_preds.shape"
   ]
  },
  {
   "cell_type": "code",
   "execution_count": 243,
   "metadata": {
    "collapsed": false,
    "scrolled": true
   },
   "outputs": [
    {
     "data": {
      "text/html": [
       "<div>\n",
       "<table border=\"1\" class=\"dataframe\">\n",
       "  <thead>\n",
       "    <tr style=\"text-align: right;\">\n",
       "      <th></th>\n",
       "      <th>website</th>\n",
       "      <th>demo_present</th>\n",
       "      <th>login_present</th>\n",
       "      <th>pricing_present</th>\n",
       "      <th>score</th>\n",
       "      <th>website_text</th>\n",
       "      <th>saas_subscription</th>\n",
       "      <th>website_text_phrases</th>\n",
       "      <th>website_text_stemmed</th>\n",
       "      <th>per_month_present</th>\n",
       "      <th>coming_soon</th>\n",
       "      <th>naive_bayes_predictions</th>\n",
       "      <th>random_forest_prediction</th>\n",
       "      <th>linear_svm_prediction</th>\n",
       "      <th>logistic_prediction</th>\n",
       "    </tr>\n",
       "  </thead>\n",
       "  <tbody>\n",
       "    <tr>\n",
       "      <th>0</th>\n",
       "      <td>http://www.ultracartstore.com</td>\n",
       "      <td>False</td>\n",
       "      <td>False</td>\n",
       "      <td>False</td>\n",
       "      <td>0.0</td>\n",
       "      <td>NaN</td>\n",
       "      <td>False</td>\n",
       "      <td>NaN</td>\n",
       "      <td></td>\n",
       "      <td>False</td>\n",
       "      <td>False</td>\n",
       "      <td>4.553459e-01</td>\n",
       "      <td>0.164677</td>\n",
       "      <td>0.150420</td>\n",
       "      <td>0.269833</td>\n",
       "    </tr>\n",
       "    <tr>\n",
       "      <th>1</th>\n",
       "      <td>http://www.borathyun.wordpress.com</td>\n",
       "      <td>True</td>\n",
       "      <td>True</td>\n",
       "      <td>True</td>\n",
       "      <td>41.0</td>\n",
       "      <td>Bienvenue – toujours de l'avant et plus déterm...</td>\n",
       "      <td>False</td>\n",
       "      <td>Bienvenue toujours jamais Skip content Bienven...</td>\n",
       "      <td>bienvenu – toujour de l'avant et plus détermin...</td>\n",
       "      <td>True</td>\n",
       "      <td>False</td>\n",
       "      <td>2.258689e-31</td>\n",
       "      <td>0.500000</td>\n",
       "      <td>0.174478</td>\n",
       "      <td>0.311809</td>\n",
       "    </tr>\n",
       "    <tr>\n",
       "      <th>2</th>\n",
       "      <td>http://www.globalmillennials.org</td>\n",
       "      <td>False</td>\n",
       "      <td>False</td>\n",
       "      <td>False</td>\n",
       "      <td>0.0</td>\n",
       "      <td>Global Millennials For Progress Home About Us ...</td>\n",
       "      <td>False</td>\n",
       "      <td>Millennials Progress Home Us Team Contribute T...</td>\n",
       "      <td>global millenni for progress home about us our...</td>\n",
       "      <td>False</td>\n",
       "      <td>True</td>\n",
       "      <td>1.079722e-08</td>\n",
       "      <td>0.430000</td>\n",
       "      <td>0.345552</td>\n",
       "      <td>0.392669</td>\n",
       "    </tr>\n",
       "    <tr>\n",
       "      <th>3</th>\n",
       "      <td>http://www.les-artisans-francais.fr</td>\n",
       "      <td>False</td>\n",
       "      <td>False</td>\n",
       "      <td>False</td>\n",
       "      <td>0.0</td>\n",
       "      <td>Artisans-francais, l'annuaire des professionne...</td>\n",
       "      <td>False</td>\n",
       "      <td>Artisansfrancais lannuaire professionnels part...</td>\n",
       "      <td>artisans-francai , l'annuair des professionnel...</td>\n",
       "      <td>False</td>\n",
       "      <td>False</td>\n",
       "      <td>2.851695e-22</td>\n",
       "      <td>0.412676</td>\n",
       "      <td>0.062182</td>\n",
       "      <td>0.235249</td>\n",
       "    </tr>\n",
       "    <tr>\n",
       "      <th>4</th>\n",
       "      <td>http://www.nedboxgroup.com</td>\n",
       "      <td>False</td>\n",
       "      <td>False</td>\n",
       "      <td>False</td>\n",
       "      <td>0.0</td>\n",
       "      <td>Nedboxgroup Ltd. Группа компаний Nedboxgroup L...</td>\n",
       "      <td>False</td>\n",
       "      <td>Nedboxgroup Ltd Nedboxgroup Ltd email info   n...</td>\n",
       "      <td>nedboxgroup ltd. группа компаний nedboxgroup l...</td>\n",
       "      <td>False</td>\n",
       "      <td>False</td>\n",
       "      <td>5.223478e-04</td>\n",
       "      <td>0.399614</td>\n",
       "      <td>0.141615</td>\n",
       "      <td>0.321304</td>\n",
       "    </tr>\n",
       "  </tbody>\n",
       "</table>\n",
       "</div>"
      ],
      "text/plain": [
       "                               website demo_present login_present  \\\n",
       "0        http://www.ultracartstore.com        False         False   \n",
       "1   http://www.borathyun.wordpress.com         True          True   \n",
       "2     http://www.globalmillennials.org        False         False   \n",
       "3  http://www.les-artisans-francais.fr        False         False   \n",
       "4           http://www.nedboxgroup.com        False         False   \n",
       "\n",
       "  pricing_present  score                                       website_text  \\\n",
       "0           False    0.0                                                NaN   \n",
       "1            True   41.0  Bienvenue – toujours de l'avant et plus déterm...   \n",
       "2           False    0.0  Global Millennials For Progress Home About Us ...   \n",
       "3           False    0.0  Artisans-francais, l'annuaire des professionne...   \n",
       "4           False    0.0  Nedboxgroup Ltd. Группа компаний Nedboxgroup L...   \n",
       "\n",
       "  saas_subscription                               website_text_phrases  \\\n",
       "0             False                                                NaN   \n",
       "1             False  Bienvenue toujours jamais Skip content Bienven...   \n",
       "2             False  Millennials Progress Home Us Team Contribute T...   \n",
       "3             False  Artisansfrancais lannuaire professionnels part...   \n",
       "4             False  Nedboxgroup Ltd Nedboxgroup Ltd email info   n...   \n",
       "\n",
       "                                website_text_stemmed per_month_present  \\\n",
       "0                                                                False   \n",
       "1  bienvenu – toujour de l'avant et plus détermin...              True   \n",
       "2  global millenni for progress home about us our...             False   \n",
       "3  artisans-francai , l'annuair des professionnel...             False   \n",
       "4  nedboxgroup ltd. группа компаний nedboxgroup l...             False   \n",
       "\n",
       "  coming_soon  naive_bayes_predictions  random_forest_prediction  \\\n",
       "0       False             4.553459e-01                  0.164677   \n",
       "1       False             2.258689e-31                  0.500000   \n",
       "2        True             1.079722e-08                  0.430000   \n",
       "3       False             2.851695e-22                  0.412676   \n",
       "4       False             5.223478e-04                  0.399614   \n",
       "\n",
       "   linear_svm_prediction  logistic_prediction  \n",
       "0               0.150420             0.269833  \n",
       "1               0.174478             0.311809  \n",
       "2               0.345552             0.392669  \n",
       "3               0.062182             0.235249  \n",
       "4               0.141615             0.321304  "
      ]
     },
     "execution_count": 243,
     "metadata": {},
     "output_type": "execute_result"
    }
   ],
   "source": [
    "df['naive_bayes_predictions'] = nb_preds\n",
    "df['random_forest_prediction'] = rf_preds\n",
    "df['linear_svm_prediction'] = svm_preds\n",
    "df['logistic_prediction'] = logistic_preds\n",
    "df.head()"
   ]
  },
  {
   "cell_type": "code",
   "execution_count": 244,
   "metadata": {
    "collapsed": false
   },
   "outputs": [],
   "source": [
    "df[['website','demo_present','login_present','pricing_present','per_month_present','coming_soon','score',\n",
    "    'saas_subscription','naive_bayes_predictions','random_forest_prediction','linear_svm_prediction','logistic_prediction']].to_excel(\n",
    "        'final_data_predicted_scores_jan2_stem.xls',index=False)"
   ]
  },
  {
   "cell_type": "code",
   "execution_count": 245,
   "metadata": {
    "collapsed": true
   },
   "outputs": [],
   "source": [
    "import matplotlib.pyplot as plt\n",
    "import matplotlib\n",
    "matplotlib.style.use('ggplot')"
   ]
  },
  {
   "cell_type": "code",
   "execution_count": 246,
   "metadata": {
    "collapsed": false,
    "scrolled": true
   },
   "outputs": [
    {
     "data": {
      "image/png": "[encoded data removed]",
      "text/plain": [
       "<matplotlib.figure.Figure at 0xa839210>"
      ]
     },
     "metadata": {},
     "output_type": "display_data"
    },
    {
     "data": {
      "image/png": "[encoded data removed]",
      "text/plain": [
       "<matplotlib.figure.Figure at 0xb46ecd0>"
      ]
     },
     "metadata": {},
     "output_type": "display_data"
    },
    {
     "data": {
      "image/png": "[encoded data removed]",
      "text/plain": [
       "<matplotlib.figure.Figure at 0xbd9ef10>"
      ]
     },
     "metadata": {},
     "output_type": "display_data"
    }
   ],
   "source": [
    "df.plot.scatter(x='naive_bayes_predictions',y='random_forest_prediction')\n",
    "df.plot.scatter(x='naive_bayes_predictions',y='linear_svm_prediction')\n",
    "df.plot.scatter(x='linear_svm_prediction',y='random_forest_prediction')\n",
    "plt.show()"
   ]
  },
  {
   "cell_type": "code",
   "execution_count": 247,
   "metadata": {
    "collapsed": false
   },
   "outputs": [
    {
     "data": {
      "image/png": "[encoded data removed]",
      "text/plain": [
       "<matplotlib.figure.Figure at 0xbd9e110>"
      ]
     },
     "metadata": {},
     "output_type": "display_data"
    }
   ],
   "source": [
    "groups = df.groupby('saas_subscription')\n",
    "fig, ax = plt.subplots()\n",
    "ax.margins(0.05) # Optional, just adds 5% padding to the autoscaling\n",
    "for name, group in groups:\n",
    "    ax.plot(group.linear_svm_prediction, group.random_forest_prediction, marker='o', linestyle='', ms=3, label=name,\n",
    "           )\n",
    "ax.legend(loc='upper left')\n",
    "ax.set_xlabel(\"SVM\")\n",
    "ax.set_ylabel(\"Random Forest\")\n",
    "plt.show()"
   ]
  },
  {
   "cell_type": "code",
   "execution_count": 248,
   "metadata": {
    "collapsed": false
   },
   "outputs": [
    {
     "name": "stdout",
     "output_type": "stream",
     "text": [
      "traing predictions\n",
      "             precision    recall  f1-score   support\n",
      "\n",
      "      False       0.78      0.77      0.78       482\n",
      "       True       0.73      0.74      0.74       403\n",
      "\n",
      "avg / total       0.76      0.76      0.76       885\n",
      "\n",
      "cross-validation predictions\n",
      "             precision    recall  f1-score   support\n",
      "\n",
      "      False       0.78      0.74      0.76       482\n",
      "       True       0.71      0.75      0.73       403\n",
      "\n",
      "avg / total       0.75      0.74      0.75       885\n",
      "\n"
     ]
    }
   ],
   "source": [
    "#stacking using logistic regression\n",
    "from sklearn.linear_model import LogisticRegression\n",
    "clf = LogisticRegressionCV(Cs=10)\n",
    "clf.fit(df[['naive_bayes_predictions','random_forest_prediction','linear_svm_prediction']],df['saas_subscription'])\n",
    "print 'traing predictions'\n",
    "print classification_report(df['saas_subscription'],\n",
    "                clf.predict(df[['naive_bayes_predictions','random_forest_prediction','linear_svm_prediction']]))\n",
    "print 'cross-validation predictions'\n",
    "print classification_report(df['saas_subscription'],cross_val_predict(clf,\n",
    "        df[['naive_bayes_predictions','random_forest_prediction','linear_svm_prediction']],df['saas_subscription'],cv=10))"
   ]
  },
  {
   "cell_type": "code",
   "execution_count": 249,
   "metadata": {
    "collapsed": false
   },
   "outputs": [
    {
     "name": "stdout",
     "output_type": "stream",
     "text": [
      "traing predictions\n",
      "             precision    recall  f1-score   support\n",
      "\n",
      "      False       0.99      0.98      0.99       482\n",
      "       True       0.98      0.99      0.98       403\n",
      "\n",
      "avg / total       0.99      0.99      0.99       885\n",
      "\n",
      "cross-validation predictions\n",
      "             precision    recall  f1-score   support\n",
      "\n",
      "      False       0.72      0.74      0.73       482\n",
      "       True       0.68      0.66      0.67       403\n",
      "\n",
      "avg / total       0.70      0.70      0.70       885\n",
      "\n"
     ]
    }
   ],
   "source": [
    "#stacking using random forest\n",
    "clf = RandomForestClassifier(n_estimators=200)\n",
    "clf.fit(df[['naive_bayes_predictions','random_forest_prediction','linear_svm_prediction']],df['saas_subscription'])\n",
    "print 'traing predictions'\n",
    "print classification_report(df['saas_subscription'],\n",
    "                clf.predict(df[['naive_bayes_predictions','random_forest_prediction','linear_svm_prediction']]))\n",
    "print 'cross-validation predictions'\n",
    "print classification_report(df['saas_subscription'],cross_val_predict(clf,\n",
    "        df[['naive_bayes_predictions','random_forest_prediction','linear_svm_prediction']],df['saas_subscription'],cv=10))"
   ]
  },
  {
   "cell_type": "code",
   "execution_count": 250,
   "metadata": {
    "collapsed": false
   },
   "outputs": [
    {
     "name": "stdout",
     "output_type": "stream",
     "text": [
      "traing predictions\n",
      "             precision    recall  f1-score   support\n",
      "\n",
      "      False       0.80      0.70      0.74       482\n",
      "       True       0.69      0.79      0.73       403\n",
      "\n",
      "avg / total       0.75      0.74      0.74       885\n",
      "\n",
      "cross-validation predictions\n",
      "             precision    recall  f1-score   support\n",
      "\n",
      "      False       0.79      0.70      0.74       482\n",
      "       True       0.68      0.78      0.73       403\n",
      "\n",
      "avg / total       0.74      0.74      0.74       885\n",
      "\n"
     ]
    }
   ],
   "source": [
    "#stacking using svm\n",
    "C=0.1\n",
    "clf = SVC(C=C,kernel='linear')\n",
    "clf.fit(df[['naive_bayes_predictions','random_forest_prediction','linear_svm_prediction']],df['saas_subscription'])\n",
    "print 'traing predictions'\n",
    "print classification_report(df['saas_subscription'],\n",
    "                clf.predict(df[['naive_bayes_predictions','random_forest_prediction','linear_svm_prediction']]))\n",
    "print 'cross-validation predictions'\n",
    "print classification_report(df['saas_subscription'],cross_val_predict(clf,\n",
    "        df[['naive_bayes_predictions','random_forest_prediction','linear_svm_prediction']],df['saas_subscription'],cv=10))"
   ]
  },
  {
   "cell_type": "code",
   "execution_count": 251,
   "metadata": {
    "collapsed": true
   },
   "outputs": [],
   "source": [
    "#majority voting\n",
    "def get_majority_pred(pred1,pred2,pred3):\n",
    "    pred1_class,pred2_class,pred3_class = pred1>0.5,pred2>0.5,pred3>0.5\n",
    "    if (pred1_class and pred2_class) or (pred1_class and pred3_class) or (pred2_class and pred3_class):\n",
    "        return True\n",
    "    else:\n",
    "        return False\n",
    "# df.apply(lambda row: \n",
    "#          get_majority_pred(row['naive_bayes_predictions'],row['random_forest_prediction'],row['linear_svm_prediction']))"
   ]
  },
  {
   "cell_type": "code",
   "execution_count": 252,
   "metadata": {
    "collapsed": false
   },
   "outputs": [
    {
     "name": "stdout",
     "output_type": "stream",
     "text": [
      "             precision    recall  f1-score   support\n",
      "\n",
      "      False       0.78      0.77      0.78       482\n",
      "       True       0.73      0.74      0.74       403\n",
      "\n",
      "avg / total       0.76      0.76      0.76       885\n",
      "\n"
     ]
    }
   ],
   "source": [
    "# majority voting\n",
    "print classification_report(df['saas_subscription'],\n",
    "                            ((df['naive_bayes_predictions']>0.5) & (df['random_forest_prediction']>0.5))|\\\n",
    "                            ((df['linear_svm_prediction']>0.5) & (df['random_forest_prediction']>0.5))|\\\n",
    "                            ((df['naive_bayes_predictions']>0.5) & (df['linear_svm_prediction']>0.5)))"
   ]
  },
  {
   "cell_type": "code",
   "execution_count": 253,
   "metadata": {
    "collapsed": false
   },
   "outputs": [
    {
     "name": "stdout",
     "output_type": "stream",
     "text": [
      "             precision    recall  f1-score   support\n",
      "\n",
      "      False       0.84      0.63      0.72       482\n",
      "       True       0.66      0.86      0.74       403\n",
      "\n",
      "avg / total       0.76      0.73      0.73       885\n",
      "\n"
     ]
    }
   ],
   "source": [
    "# any true voting\n",
    "print classification_report(df['saas_subscription'],\n",
    "       (df['naive_bayes_predictions']>0.5) | (df['random_forest_prediction']>0.5)|(df['linear_svm_prediction']>0.5))"
   ]
  },
  {
   "cell_type": "code",
   "execution_count": 325,
   "metadata": {
    "collapsed": false
   },
   "outputs": [
    {
     "name": "stdout",
     "output_type": "stream",
     "text": [
      "True,nb pred<0.1: (76, 11)\n",
      "True,nb pred<0.2: (79, 11)\n",
      "True,nb pred<0.4: (86, 11)\n",
      "False,nb pred>0.9: (128, 11)\n",
      "False,nb pred>0.8: (133, 11)\n",
      "False,nb pred>0.6: (137, 11)\n",
      "False,nb pred<0.2: (297, 11)\n",
      "True,nb pred>0.8: (302, 11)\n"
     ]
    }
   ],
   "source": [
    "print 'True,nb pred<0.1: {}'.format(df[(df['saas_subscription']==True) &(df['naive_bayes_predictions']<0.1)].shape)\n",
    "print 'True,nb pred<0.2: {}'.format(df[(df['saas_subscription']==True) &(df['naive_bayes_predictions']<0.2)].shape)\n",
    "print 'True,nb pred<0.4: {}'.format(df[(df['saas_subscription']==True) &(df['naive_bayes_predictions']<0.4)].shape)\n",
    "print 'False,nb pred>0.9: {}'.format(df[(df['saas_subscription']==False) &(df['naive_bayes_predictions']>0.9)].shape)\n",
    "print 'False,nb pred>0.8: {}'.format(df[(df['saas_subscription']==False) &(df['naive_bayes_predictions']>0.8)].shape)\n",
    "print 'False,nb pred>0.6: {}'.format(df[(df['saas_subscription']==False) &(df['naive_bayes_predictions']>0.6)].shape)\n",
    "print 'False,nb pred<0.2: {}'.format(df[(df['saas_subscription']==False) &(df['naive_bayes_predictions']<0.1)].shape)\n",
    "print 'True,nb pred>0.8: {}'.format(df[(df['saas_subscription']==True) &(df['naive_bayes_predictions']>0.8)].shape)"
   ]
  },
  {
   "cell_type": "code",
   "execution_count": 326,
   "metadata": {
    "collapsed": false
   },
   "outputs": [
    {
     "name": "stdout",
     "output_type": "stream",
     "text": [
      "True,svm pred<0.1: (5, 11)\n",
      "True,svm pred<0.2: (38, 11)\n",
      "True,svm pred<0.4: (79, 11)\n",
      "False,svm pred>0.9: (8, 11)\n",
      "False,svm pred>0.8: (29, 11)\n",
      "False,svm pred>0.6: (80, 11)\n",
      "False,svm pred<0.2: (176, 11)\n",
      "True,svm pred>0.8: (106, 11)\n"
     ]
    }
   ],
   "source": [
    "print 'True,svm pred<0.1: {}'.format(df[(df['saas_subscription']==True) &(df['linear_svm_prediction']<0.1)].shape)\n",
    "print 'True,svm pred<0.2: {}'.format(df[(df['saas_subscription']==True) &(df['linear_svm_prediction']<0.2)].shape)\n",
    "print 'True,svm pred<0.4: {}'.format(df[(df['saas_subscription']==True) &(df['linear_svm_prediction']<0.4)].shape)\n",
    "print 'False,svm pred>0.9: {}'.format(df[(df['saas_subscription']==False) &(df['linear_svm_prediction']>0.9)].shape)\n",
    "print 'False,svm pred>0.8: {}'.format(df[(df['saas_subscription']==False) &(df['linear_svm_prediction']>0.8)].shape)\n",
    "print 'False,svm pred>0.6: {}'.format(df[(df['saas_subscription']==False) &(df['linear_svm_prediction']>0.6)].shape)\n",
    "print 'False,svm pred<0.2: {}'.format(df[(df['saas_subscription']==False) &(df['linear_svm_prediction']<0.2)].shape)\n",
    "print 'True,svm pred>0.8: {}'.format(df[(df['saas_subscription']==True) &(df['linear_svm_prediction']>0.8)].shape)"
   ]
  },
  {
   "cell_type": "code",
   "execution_count": 119,
   "metadata": {
    "collapsed": true
   },
   "outputs": [],
   "source": [
    "def ks_statistic(score,dv):\n",
    "    ''' assumes 1 as good and 0 as bad'''\n",
    "    data = pd.DataFrame({'score':score,'dv':dv})\n",
    "    data['good'] = data['dv']\n",
    "    data['bad'] = 1-data['good']\n",
    "    # data['bucket'] = pd.qcut(data.score, 10) #causing error\n",
    "    bins = pd.core.algorithms.quantile(np.unique(data['score']), np.linspace(0, 1, 11))\n",
    "    data['bucket'] = pd.tools.tile._bins_to_cuts(data['score'], bins, include_lowest=True)\n",
    "    grouped = data.groupby('bucket', as_index = False)\n",
    "    agg1 = pd.DataFrame({'min_scr':grouped.min().score})\n",
    "    agg1['max_scr'] = grouped.max().score\n",
    "    agg1['goods'] = grouped.sum().good\n",
    "    agg1['bads'] = grouped.sum().bad\n",
    "    agg1['total'] = agg1.bads + agg1.goods\n",
    "    agg2 = (agg1.sort_index(by = 'min_scr')).reset_index(drop = True)\n",
    "    agg2['odds'] = (agg2.goods / agg2.bads).apply('{0:.2f}'.format)\n",
    "    agg2['bad_rate'] = (agg2.bads / agg2.total).apply('{0:.2%}'.format)\n",
    "    agg2['ks'] = np.round(((agg2.bads / data.bad.sum()).cumsum() - (agg2.goods / data.good.sum()).cumsum()), 4) * 100\n",
    "    flag = lambda x: '<----' if x == agg2.ks.max() else ''\n",
    "    agg2['max_ks'] = agg2.ks.apply(flag)\n",
    "    return agg2"
   ]
  },
  {
   "cell_type": "code",
   "execution_count": 254,
   "metadata": {
    "collapsed": false,
    "scrolled": true
   },
   "outputs": [
    {
     "name": "stderr",
     "output_type": "stream",
     "text": [
      "/usr/local/lib/python2.7/dist-packages/ipykernel/__main__.py:15: FutureWarning: by argument to sort_index is deprecated, pls use .sort_values(by=...)\n"
     ]
    },
    {
     "data": {
      "text/html": [
       "<div>\n",
       "<table border=\"1\" class=\"dataframe\">\n",
       "  <thead>\n",
       "    <tr style=\"text-align: right;\">\n",
       "      <th></th>\n",
       "      <th>min_scr</th>\n",
       "      <th>max_scr</th>\n",
       "      <th>goods</th>\n",
       "      <th>bads</th>\n",
       "      <th>total</th>\n",
       "      <th>odds</th>\n",
       "      <th>bad_rate</th>\n",
       "      <th>ks</th>\n",
       "      <th>max_ks</th>\n",
       "    </tr>\n",
       "  </thead>\n",
       "  <tbody>\n",
       "    <tr>\n",
       "      <th>0</th>\n",
       "      <td>1.139993e-47</td>\n",
       "      <td>4.605852e-19</td>\n",
       "      <td>10.0</td>\n",
       "      <td>57</td>\n",
       "      <td>67.0</td>\n",
       "      <td>0.18</td>\n",
       "      <td>85.07%</td>\n",
       "      <td>9.34</td>\n",
       "      <td></td>\n",
       "    </tr>\n",
       "    <tr>\n",
       "      <th>1</th>\n",
       "      <td>4.730440e-19</td>\n",
       "      <td>3.063629e-13</td>\n",
       "      <td>9.0</td>\n",
       "      <td>57</td>\n",
       "      <td>66.0</td>\n",
       "      <td>0.16</td>\n",
       "      <td>86.36%</td>\n",
       "      <td>18.94</td>\n",
       "      <td></td>\n",
       "    </tr>\n",
       "    <tr>\n",
       "      <th>2</th>\n",
       "      <td>3.348004e-13</td>\n",
       "      <td>1.680206e-09</td>\n",
       "      <td>13.0</td>\n",
       "      <td>53</td>\n",
       "      <td>66.0</td>\n",
       "      <td>0.25</td>\n",
       "      <td>80.30%</td>\n",
       "      <td>26.71</td>\n",
       "      <td></td>\n",
       "    </tr>\n",
       "    <tr>\n",
       "      <th>3</th>\n",
       "      <td>1.975444e-09</td>\n",
       "      <td>1.179233e-06</td>\n",
       "      <td>12.0</td>\n",
       "      <td>58</td>\n",
       "      <td>70.0</td>\n",
       "      <td>0.21</td>\n",
       "      <td>82.86%</td>\n",
       "      <td>35.76</td>\n",
       "      <td></td>\n",
       "    </tr>\n",
       "    <tr>\n",
       "      <th>4</th>\n",
       "      <td>1.391534e-06</td>\n",
       "      <td>1.832299e-03</td>\n",
       "      <td>19.0</td>\n",
       "      <td>47</td>\n",
       "      <td>66.0</td>\n",
       "      <td>0.40</td>\n",
       "      <td>71.21%</td>\n",
       "      <td>40.80</td>\n",
       "      <td></td>\n",
       "    </tr>\n",
       "    <tr>\n",
       "      <th>5</th>\n",
       "      <td>2.005382e-03</td>\n",
       "      <td>6.129896e-01</td>\n",
       "      <td>25.0</td>\n",
       "      <td>64</td>\n",
       "      <td>89.0</td>\n",
       "      <td>0.39</td>\n",
       "      <td>71.91%</td>\n",
       "      <td>47.87</td>\n",
       "      <td>&lt;----</td>\n",
       "    </tr>\n",
       "    <tr>\n",
       "      <th>6</th>\n",
       "      <td>6.739523e-01</td>\n",
       "      <td>9.988775e-01</td>\n",
       "      <td>32.0</td>\n",
       "      <td>37</td>\n",
       "      <td>69.0</td>\n",
       "      <td>0.86</td>\n",
       "      <td>53.62%</td>\n",
       "      <td>47.61</td>\n",
       "      <td></td>\n",
       "    </tr>\n",
       "    <tr>\n",
       "      <th>7</th>\n",
       "      <td>9.989057e-01</td>\n",
       "      <td>9.999988e-01</td>\n",
       "      <td>40.0</td>\n",
       "      <td>27</td>\n",
       "      <td>67.0</td>\n",
       "      <td>1.48</td>\n",
       "      <td>40.30%</td>\n",
       "      <td>43.29</td>\n",
       "      <td></td>\n",
       "    </tr>\n",
       "    <tr>\n",
       "      <th>8</th>\n",
       "      <td>9.999990e-01</td>\n",
       "      <td>1.000000e+00</td>\n",
       "      <td>38.0</td>\n",
       "      <td>29</td>\n",
       "      <td>67.0</td>\n",
       "      <td>1.31</td>\n",
       "      <td>43.28%</td>\n",
       "      <td>39.87</td>\n",
       "      <td></td>\n",
       "    </tr>\n",
       "    <tr>\n",
       "      <th>9</th>\n",
       "      <td>1.000000e+00</td>\n",
       "      <td>1.000000e+00</td>\n",
       "      <td>205.0</td>\n",
       "      <td>53</td>\n",
       "      <td>258.0</td>\n",
       "      <td>3.87</td>\n",
       "      <td>20.54%</td>\n",
       "      <td>0.00</td>\n",
       "      <td></td>\n",
       "    </tr>\n",
       "  </tbody>\n",
       "</table>\n",
       "</div>"
      ],
      "text/plain": [
       "        min_scr       max_scr  goods  bads  total  odds bad_rate     ks max_ks\n",
       "0  1.139993e-47  4.605852e-19   10.0    57   67.0  0.18   85.07%   9.34       \n",
       "1  4.730440e-19  3.063629e-13    9.0    57   66.0  0.16   86.36%  18.94       \n",
       "2  3.348004e-13  1.680206e-09   13.0    53   66.0  0.25   80.30%  26.71       \n",
       "3  1.975444e-09  1.179233e-06   12.0    58   70.0  0.21   82.86%  35.76       \n",
       "4  1.391534e-06  1.832299e-03   19.0    47   66.0  0.40   71.21%  40.80       \n",
       "5  2.005382e-03  6.129896e-01   25.0    64   89.0  0.39   71.91%  47.87  <----\n",
       "6  6.739523e-01  9.988775e-01   32.0    37   69.0  0.86   53.62%  47.61       \n",
       "7  9.989057e-01  9.999988e-01   40.0    27   67.0  1.48   40.30%  43.29       \n",
       "8  9.999990e-01  1.000000e+00   38.0    29   67.0  1.31   43.28%  39.87       \n",
       "9  1.000000e+00  1.000000e+00  205.0    53  258.0  3.87   20.54%   0.00       "
      ]
     },
     "execution_count": 254,
     "metadata": {},
     "output_type": "execute_result"
    }
   ],
   "source": [
    "ks_statistic(df['naive_bayes_predictions'],df['saas_subscription'])"
   ]
  },
  {
   "cell_type": "code",
   "execution_count": 255,
   "metadata": {
    "collapsed": false,
    "scrolled": false
   },
   "outputs": [
    {
     "name": "stderr",
     "output_type": "stream",
     "text": [
      "/usr/local/lib/python2.7/dist-packages/ipykernel/__main__.py:15: FutureWarning: by argument to sort_index is deprecated, pls use .sort_values(by=...)\n"
     ]
    },
    {
     "data": {
      "text/html": [
       "<div>\n",
       "<table border=\"1\" class=\"dataframe\">\n",
       "  <thead>\n",
       "    <tr style=\"text-align: right;\">\n",
       "      <th></th>\n",
       "      <th>min_scr</th>\n",
       "      <th>max_scr</th>\n",
       "      <th>goods</th>\n",
       "      <th>bads</th>\n",
       "      <th>total</th>\n",
       "      <th>odds</th>\n",
       "      <th>bad_rate</th>\n",
       "      <th>ks</th>\n",
       "      <th>max_ks</th>\n",
       "    </tr>\n",
       "  </thead>\n",
       "  <tbody>\n",
       "    <tr>\n",
       "      <th>0</th>\n",
       "      <td>0.015285</td>\n",
       "      <td>0.115147</td>\n",
       "      <td>13.0</td>\n",
       "      <td>73</td>\n",
       "      <td>86.0</td>\n",
       "      <td>0.18</td>\n",
       "      <td>84.88%</td>\n",
       "      <td>11.92</td>\n",
       "      <td></td>\n",
       "    </tr>\n",
       "    <tr>\n",
       "      <th>1</th>\n",
       "      <td>0.115381</td>\n",
       "      <td>0.171029</td>\n",
       "      <td>10.0</td>\n",
       "      <td>93</td>\n",
       "      <td>103.0</td>\n",
       "      <td>0.11</td>\n",
       "      <td>90.29%</td>\n",
       "      <td>28.73</td>\n",
       "      <td></td>\n",
       "    </tr>\n",
       "    <tr>\n",
       "      <th>2</th>\n",
       "      <td>0.172064</td>\n",
       "      <td>0.239572</td>\n",
       "      <td>20.0</td>\n",
       "      <td>67</td>\n",
       "      <td>87.0</td>\n",
       "      <td>0.30</td>\n",
       "      <td>77.01%</td>\n",
       "      <td>37.67</td>\n",
       "      <td></td>\n",
       "    </tr>\n",
       "    <tr>\n",
       "      <th>3</th>\n",
       "      <td>0.239751</td>\n",
       "      <td>0.319352</td>\n",
       "      <td>19.0</td>\n",
       "      <td>66</td>\n",
       "      <td>85.0</td>\n",
       "      <td>0.29</td>\n",
       "      <td>77.65%</td>\n",
       "      <td>46.65</td>\n",
       "      <td></td>\n",
       "    </tr>\n",
       "    <tr>\n",
       "      <th>4</th>\n",
       "      <td>0.319671</td>\n",
       "      <td>0.433676</td>\n",
       "      <td>31.0</td>\n",
       "      <td>55</td>\n",
       "      <td>86.0</td>\n",
       "      <td>0.56</td>\n",
       "      <td>63.95%</td>\n",
       "      <td>50.37</td>\n",
       "      <td>&lt;----</td>\n",
       "    </tr>\n",
       "    <tr>\n",
       "      <th>5</th>\n",
       "      <td>0.433747</td>\n",
       "      <td>0.570492</td>\n",
       "      <td>49.0</td>\n",
       "      <td>43</td>\n",
       "      <td>92.0</td>\n",
       "      <td>1.14</td>\n",
       "      <td>46.74%</td>\n",
       "      <td>47.13</td>\n",
       "      <td></td>\n",
       "    </tr>\n",
       "    <tr>\n",
       "      <th>6</th>\n",
       "      <td>0.570678</td>\n",
       "      <td>0.694060</td>\n",
       "      <td>54.0</td>\n",
       "      <td>33</td>\n",
       "      <td>87.0</td>\n",
       "      <td>1.64</td>\n",
       "      <td>37.93%</td>\n",
       "      <td>40.58</td>\n",
       "      <td></td>\n",
       "    </tr>\n",
       "    <tr>\n",
       "      <th>7</th>\n",
       "      <td>0.696394</td>\n",
       "      <td>0.779188</td>\n",
       "      <td>68.0</td>\n",
       "      <td>18</td>\n",
       "      <td>86.0</td>\n",
       "      <td>3.78</td>\n",
       "      <td>20.93%</td>\n",
       "      <td>27.44</td>\n",
       "      <td></td>\n",
       "    </tr>\n",
       "    <tr>\n",
       "      <th>8</th>\n",
       "      <td>0.779924</td>\n",
       "      <td>0.863435</td>\n",
       "      <td>66.0</td>\n",
       "      <td>21</td>\n",
       "      <td>87.0</td>\n",
       "      <td>3.14</td>\n",
       "      <td>24.14%</td>\n",
       "      <td>15.42</td>\n",
       "      <td></td>\n",
       "    </tr>\n",
       "    <tr>\n",
       "      <th>9</th>\n",
       "      <td>0.863758</td>\n",
       "      <td>0.981533</td>\n",
       "      <td>73.0</td>\n",
       "      <td>13</td>\n",
       "      <td>86.0</td>\n",
       "      <td>5.62</td>\n",
       "      <td>15.12%</td>\n",
       "      <td>0.00</td>\n",
       "      <td></td>\n",
       "    </tr>\n",
       "  </tbody>\n",
       "</table>\n",
       "</div>"
      ],
      "text/plain": [
       "    min_scr   max_scr  goods  bads  total  odds bad_rate     ks max_ks\n",
       "0  0.015285  0.115147   13.0    73   86.0  0.18   84.88%  11.92       \n",
       "1  0.115381  0.171029   10.0    93  103.0  0.11   90.29%  28.73       \n",
       "2  0.172064  0.239572   20.0    67   87.0  0.30   77.01%  37.67       \n",
       "3  0.239751  0.319352   19.0    66   85.0  0.29   77.65%  46.65       \n",
       "4  0.319671  0.433676   31.0    55   86.0  0.56   63.95%  50.37  <----\n",
       "5  0.433747  0.570492   49.0    43   92.0  1.14   46.74%  47.13       \n",
       "6  0.570678  0.694060   54.0    33   87.0  1.64   37.93%  40.58       \n",
       "7  0.696394  0.779188   68.0    18   86.0  3.78   20.93%  27.44       \n",
       "8  0.779924  0.863435   66.0    21   87.0  3.14   24.14%  15.42       \n",
       "9  0.863758  0.981533   73.0    13   86.0  5.62   15.12%   0.00       "
      ]
     },
     "execution_count": 255,
     "metadata": {},
     "output_type": "execute_result"
    }
   ],
   "source": [
    "ks_statistic(df['linear_svm_prediction'],df['saas_subscription'])"
   ]
  },
  {
   "cell_type": "code",
   "execution_count": 256,
   "metadata": {
    "collapsed": false
   },
   "outputs": [
    {
     "name": "stderr",
     "output_type": "stream",
     "text": [
      "/usr/local/lib/python2.7/dist-packages/ipykernel/__main__.py:15: FutureWarning: by argument to sort_index is deprecated, pls use .sort_values(by=...)\n"
     ]
    },
    {
     "data": {
      "text/html": [
       "<div>\n",
       "<table border=\"1\" class=\"dataframe\">\n",
       "  <thead>\n",
       "    <tr style=\"text-align: right;\">\n",
       "      <th></th>\n",
       "      <th>min_scr</th>\n",
       "      <th>max_scr</th>\n",
       "      <th>goods</th>\n",
       "      <th>bads</th>\n",
       "      <th>total</th>\n",
       "      <th>odds</th>\n",
       "      <th>bad_rate</th>\n",
       "      <th>ks</th>\n",
       "      <th>max_ks</th>\n",
       "    </tr>\n",
       "  </thead>\n",
       "  <tbody>\n",
       "    <tr>\n",
       "      <th>0</th>\n",
       "      <td>0.040263</td>\n",
       "      <td>0.128847</td>\n",
       "      <td>12.0</td>\n",
       "      <td>78</td>\n",
       "      <td>90.0</td>\n",
       "      <td>0.15</td>\n",
       "      <td>86.67%</td>\n",
       "      <td>13.20</td>\n",
       "      <td></td>\n",
       "    </tr>\n",
       "    <tr>\n",
       "      <th>1</th>\n",
       "      <td>0.128999</td>\n",
       "      <td>0.181748</td>\n",
       "      <td>13.0</td>\n",
       "      <td>88</td>\n",
       "      <td>101.0</td>\n",
       "      <td>0.15</td>\n",
       "      <td>87.13%</td>\n",
       "      <td>28.24</td>\n",
       "      <td></td>\n",
       "    </tr>\n",
       "    <tr>\n",
       "      <th>2</th>\n",
       "      <td>0.182313</td>\n",
       "      <td>0.239054</td>\n",
       "      <td>19.0</td>\n",
       "      <td>66</td>\n",
       "      <td>85.0</td>\n",
       "      <td>0.29</td>\n",
       "      <td>77.65%</td>\n",
       "      <td>37.21</td>\n",
       "      <td></td>\n",
       "    </tr>\n",
       "    <tr>\n",
       "      <th>3</th>\n",
       "      <td>0.239158</td>\n",
       "      <td>0.346182</td>\n",
       "      <td>20.0</td>\n",
       "      <td>65</td>\n",
       "      <td>85.0</td>\n",
       "      <td>0.31</td>\n",
       "      <td>76.47%</td>\n",
       "      <td>45.74</td>\n",
       "      <td></td>\n",
       "    </tr>\n",
       "    <tr>\n",
       "      <th>4</th>\n",
       "      <td>0.347518</td>\n",
       "      <td>0.458431</td>\n",
       "      <td>30.0</td>\n",
       "      <td>57</td>\n",
       "      <td>87.0</td>\n",
       "      <td>0.53</td>\n",
       "      <td>65.52%</td>\n",
       "      <td>50.12</td>\n",
       "      <td>&lt;----</td>\n",
       "    </tr>\n",
       "    <tr>\n",
       "      <th>5</th>\n",
       "      <td>0.458975</td>\n",
       "      <td>0.595255</td>\n",
       "      <td>46.0</td>\n",
       "      <td>48</td>\n",
       "      <td>94.0</td>\n",
       "      <td>0.96</td>\n",
       "      <td>51.06%</td>\n",
       "      <td>48.66</td>\n",
       "      <td></td>\n",
       "    </tr>\n",
       "    <tr>\n",
       "      <th>6</th>\n",
       "      <td>0.595292</td>\n",
       "      <td>0.706430</td>\n",
       "      <td>56.0</td>\n",
       "      <td>30</td>\n",
       "      <td>86.0</td>\n",
       "      <td>1.87</td>\n",
       "      <td>34.88%</td>\n",
       "      <td>40.99</td>\n",
       "      <td></td>\n",
       "    </tr>\n",
       "    <tr>\n",
       "      <th>7</th>\n",
       "      <td>0.707329</td>\n",
       "      <td>0.789604</td>\n",
       "      <td>66.0</td>\n",
       "      <td>21</td>\n",
       "      <td>87.0</td>\n",
       "      <td>3.14</td>\n",
       "      <td>24.14%</td>\n",
       "      <td>28.97</td>\n",
       "      <td></td>\n",
       "    </tr>\n",
       "    <tr>\n",
       "      <th>8</th>\n",
       "      <td>0.793494</td>\n",
       "      <td>0.870330</td>\n",
       "      <td>66.0</td>\n",
       "      <td>19</td>\n",
       "      <td>85.0</td>\n",
       "      <td>3.47</td>\n",
       "      <td>22.35%</td>\n",
       "      <td>16.54</td>\n",
       "      <td></td>\n",
       "    </tr>\n",
       "    <tr>\n",
       "      <th>9</th>\n",
       "      <td>0.870334</td>\n",
       "      <td>0.983829</td>\n",
       "      <td>75.0</td>\n",
       "      <td>10</td>\n",
       "      <td>85.0</td>\n",
       "      <td>7.50</td>\n",
       "      <td>11.76%</td>\n",
       "      <td>0.00</td>\n",
       "      <td></td>\n",
       "    </tr>\n",
       "  </tbody>\n",
       "</table>\n",
       "</div>"
      ],
      "text/plain": [
       "    min_scr   max_scr  goods  bads  total  odds bad_rate     ks max_ks\n",
       "0  0.040263  0.128847   12.0    78   90.0  0.15   86.67%  13.20       \n",
       "1  0.128999  0.181748   13.0    88  101.0  0.15   87.13%  28.24       \n",
       "2  0.182313  0.239054   19.0    66   85.0  0.29   77.65%  37.21       \n",
       "3  0.239158  0.346182   20.0    65   85.0  0.31   76.47%  45.74       \n",
       "4  0.347518  0.458431   30.0    57   87.0  0.53   65.52%  50.12  <----\n",
       "5  0.458975  0.595255   46.0    48   94.0  0.96   51.06%  48.66       \n",
       "6  0.595292  0.706430   56.0    30   86.0  1.87   34.88%  40.99       \n",
       "7  0.707329  0.789604   66.0    21   87.0  3.14   24.14%  28.97       \n",
       "8  0.793494  0.870330   66.0    19   85.0  3.47   22.35%  16.54       \n",
       "9  0.870334  0.983829   75.0    10   85.0  7.50   11.76%   0.00       "
      ]
     },
     "execution_count": 256,
     "metadata": {},
     "output_type": "execute_result"
    }
   ],
   "source": [
    "#0.0003\n",
    "clf = make_pipeline(StandardScaler(with_mean=False),SVC(C=0.0003,probability=True,kernel='linear'))\n",
    "ks_statistic(cross_val_predict(clf,tfidf_n_vars,df['saas_subscription'],cv=10,method='predict_proba')[:,1],\n",
    "             df['saas_subscription'])"
   ]
  },
  {
   "cell_type": "code",
   "execution_count": 257,
   "metadata": {
    "collapsed": false
   },
   "outputs": [
    {
     "name": "stderr",
     "output_type": "stream",
     "text": [
      "/usr/local/lib/python2.7/dist-packages/ipykernel/__main__.py:15: FutureWarning: by argument to sort_index is deprecated, pls use .sort_values(by=...)\n"
     ]
    },
    {
     "data": {
      "text/html": [
       "<div>\n",
       "<table border=\"1\" class=\"dataframe\">\n",
       "  <thead>\n",
       "    <tr style=\"text-align: right;\">\n",
       "      <th></th>\n",
       "      <th>min_scr</th>\n",
       "      <th>max_scr</th>\n",
       "      <th>goods</th>\n",
       "      <th>bads</th>\n",
       "      <th>total</th>\n",
       "      <th>odds</th>\n",
       "      <th>bad_rate</th>\n",
       "      <th>ks</th>\n",
       "      <th>max_ks</th>\n",
       "    </tr>\n",
       "  </thead>\n",
       "  <tbody>\n",
       "    <tr>\n",
       "      <th>0</th>\n",
       "      <td>0.000000</td>\n",
       "      <td>0.126315</td>\n",
       "      <td>7.0</td>\n",
       "      <td>37</td>\n",
       "      <td>44.0</td>\n",
       "      <td>0.19</td>\n",
       "      <td>84.09%</td>\n",
       "      <td>5.94</td>\n",
       "      <td></td>\n",
       "    </tr>\n",
       "    <tr>\n",
       "      <th>1</th>\n",
       "      <td>0.127834</td>\n",
       "      <td>0.168008</td>\n",
       "      <td>8.0</td>\n",
       "      <td>42</td>\n",
       "      <td>50.0</td>\n",
       "      <td>0.19</td>\n",
       "      <td>84.00%</td>\n",
       "      <td>12.67</td>\n",
       "      <td></td>\n",
       "    </tr>\n",
       "    <tr>\n",
       "      <th>2</th>\n",
       "      <td>0.168692</td>\n",
       "      <td>0.210000</td>\n",
       "      <td>7.0</td>\n",
       "      <td>36</td>\n",
       "      <td>43.0</td>\n",
       "      <td>0.19</td>\n",
       "      <td>83.72%</td>\n",
       "      <td>18.40</td>\n",
       "      <td></td>\n",
       "    </tr>\n",
       "    <tr>\n",
       "      <th>3</th>\n",
       "      <td>0.210555</td>\n",
       "      <td>0.261500</td>\n",
       "      <td>8.0</td>\n",
       "      <td>42</td>\n",
       "      <td>50.0</td>\n",
       "      <td>0.19</td>\n",
       "      <td>84.00%</td>\n",
       "      <td>25.13</td>\n",
       "      <td></td>\n",
       "    </tr>\n",
       "    <tr>\n",
       "      <th>4</th>\n",
       "      <td>0.262256</td>\n",
       "      <td>0.307797</td>\n",
       "      <td>12.0</td>\n",
       "      <td>39</td>\n",
       "      <td>51.0</td>\n",
       "      <td>0.31</td>\n",
       "      <td>76.47%</td>\n",
       "      <td>30.24</td>\n",
       "      <td></td>\n",
       "    </tr>\n",
       "    <tr>\n",
       "      <th>5</th>\n",
       "      <td>0.310000</td>\n",
       "      <td>0.380000</td>\n",
       "      <td>16.0</td>\n",
       "      <td>62</td>\n",
       "      <td>78.0</td>\n",
       "      <td>0.26</td>\n",
       "      <td>79.49%</td>\n",
       "      <td>39.13</td>\n",
       "      <td></td>\n",
       "    </tr>\n",
       "    <tr>\n",
       "      <th>6</th>\n",
       "      <td>0.381842</td>\n",
       "      <td>0.441429</td>\n",
       "      <td>28.0</td>\n",
       "      <td>62</td>\n",
       "      <td>90.0</td>\n",
       "      <td>0.45</td>\n",
       "      <td>68.89%</td>\n",
       "      <td>45.05</td>\n",
       "      <td>&lt;----</td>\n",
       "    </tr>\n",
       "    <tr>\n",
       "      <th>7</th>\n",
       "      <td>0.442222</td>\n",
       "      <td>0.530235</td>\n",
       "      <td>63.0</td>\n",
       "      <td>71</td>\n",
       "      <td>134.0</td>\n",
       "      <td>0.89</td>\n",
       "      <td>52.99%</td>\n",
       "      <td>44.15</td>\n",
       "      <td></td>\n",
       "    </tr>\n",
       "    <tr>\n",
       "      <th>8</th>\n",
       "      <td>0.532414</td>\n",
       "      <td>0.660000</td>\n",
       "      <td>127.0</td>\n",
       "      <td>64</td>\n",
       "      <td>191.0</td>\n",
       "      <td>1.98</td>\n",
       "      <td>33.51%</td>\n",
       "      <td>25.91</td>\n",
       "      <td></td>\n",
       "    </tr>\n",
       "    <tr>\n",
       "      <th>9</th>\n",
       "      <td>0.661667</td>\n",
       "      <td>0.977143</td>\n",
       "      <td>127.0</td>\n",
       "      <td>27</td>\n",
       "      <td>154.0</td>\n",
       "      <td>4.70</td>\n",
       "      <td>17.53%</td>\n",
       "      <td>-0.00</td>\n",
       "      <td></td>\n",
       "    </tr>\n",
       "  </tbody>\n",
       "</table>\n",
       "</div>"
      ],
      "text/plain": [
       "    min_scr   max_scr  goods  bads  total  odds bad_rate     ks max_ks\n",
       "0  0.000000  0.126315    7.0    37   44.0  0.19   84.09%   5.94       \n",
       "1  0.127834  0.168008    8.0    42   50.0  0.19   84.00%  12.67       \n",
       "2  0.168692  0.210000    7.0    36   43.0  0.19   83.72%  18.40       \n",
       "3  0.210555  0.261500    8.0    42   50.0  0.19   84.00%  25.13       \n",
       "4  0.262256  0.307797   12.0    39   51.0  0.31   76.47%  30.24       \n",
       "5  0.310000  0.380000   16.0    62   78.0  0.26   79.49%  39.13       \n",
       "6  0.381842  0.441429   28.0    62   90.0  0.45   68.89%  45.05  <----\n",
       "7  0.442222  0.530235   63.0    71  134.0  0.89   52.99%  44.15       \n",
       "8  0.532414  0.660000  127.0    64  191.0  1.98   33.51%  25.91       \n",
       "9  0.661667  0.977143  127.0    27  154.0  4.70   17.53%  -0.00       "
      ]
     },
     "execution_count": 257,
     "metadata": {},
     "output_type": "execute_result"
    }
   ],
   "source": [
    "ks_statistic(df['random_forest_prediction'],df['saas_subscription'])"
   ]
  },
  {
   "cell_type": "code",
   "execution_count": 258,
   "metadata": {
    "collapsed": false
   },
   "outputs": [
    {
     "name": "stderr",
     "output_type": "stream",
     "text": [
      "/usr/local/lib/python2.7/dist-packages/ipykernel/__main__.py:15: FutureWarning: by argument to sort_index is deprecated, pls use .sort_values(by=...)\n"
     ]
    },
    {
     "data": {
      "text/html": [
       "<div>\n",
       "<table border=\"1\" class=\"dataframe\">\n",
       "  <thead>\n",
       "    <tr style=\"text-align: right;\">\n",
       "      <th></th>\n",
       "      <th>min_scr</th>\n",
       "      <th>max_scr</th>\n",
       "      <th>goods</th>\n",
       "      <th>bads</th>\n",
       "      <th>total</th>\n",
       "      <th>odds</th>\n",
       "      <th>bad_rate</th>\n",
       "      <th>ks</th>\n",
       "      <th>max_ks</th>\n",
       "    </tr>\n",
       "  </thead>\n",
       "  <tbody>\n",
       "    <tr>\n",
       "      <th>0</th>\n",
       "      <td>0.008877</td>\n",
       "      <td>0.202647</td>\n",
       "      <td>12.0</td>\n",
       "      <td>77</td>\n",
       "      <td>89.0</td>\n",
       "      <td>0.16</td>\n",
       "      <td>86.52%</td>\n",
       "      <td>13.00</td>\n",
       "      <td></td>\n",
       "    </tr>\n",
       "    <tr>\n",
       "      <th>1</th>\n",
       "      <td>0.204396</td>\n",
       "      <td>0.262079</td>\n",
       "      <td>9.0</td>\n",
       "      <td>81</td>\n",
       "      <td>90.0</td>\n",
       "      <td>0.11</td>\n",
       "      <td>90.00%</td>\n",
       "      <td>27.57</td>\n",
       "      <td></td>\n",
       "    </tr>\n",
       "    <tr>\n",
       "      <th>2</th>\n",
       "      <td>0.262418</td>\n",
       "      <td>0.310021</td>\n",
       "      <td>22.0</td>\n",
       "      <td>77</td>\n",
       "      <td>99.0</td>\n",
       "      <td>0.29</td>\n",
       "      <td>77.78%</td>\n",
       "      <td>38.09</td>\n",
       "      <td></td>\n",
       "    </tr>\n",
       "    <tr>\n",
       "      <th>3</th>\n",
       "      <td>0.311354</td>\n",
       "      <td>0.381606</td>\n",
       "      <td>19.0</td>\n",
       "      <td>67</td>\n",
       "      <td>86.0</td>\n",
       "      <td>0.28</td>\n",
       "      <td>77.91%</td>\n",
       "      <td>47.27</td>\n",
       "      <td></td>\n",
       "    </tr>\n",
       "    <tr>\n",
       "      <th>4</th>\n",
       "      <td>0.382535</td>\n",
       "      <td>0.461577</td>\n",
       "      <td>34.0</td>\n",
       "      <td>52</td>\n",
       "      <td>86.0</td>\n",
       "      <td>0.65</td>\n",
       "      <td>60.47%</td>\n",
       "      <td>49.62</td>\n",
       "      <td>&lt;----</td>\n",
       "    </tr>\n",
       "    <tr>\n",
       "      <th>5</th>\n",
       "      <td>0.461610</td>\n",
       "      <td>0.531089</td>\n",
       "      <td>50.0</td>\n",
       "      <td>38</td>\n",
       "      <td>88.0</td>\n",
       "      <td>1.32</td>\n",
       "      <td>43.18%</td>\n",
       "      <td>45.10</td>\n",
       "      <td></td>\n",
       "    </tr>\n",
       "    <tr>\n",
       "      <th>6</th>\n",
       "      <td>0.531156</td>\n",
       "      <td>0.603254</td>\n",
       "      <td>51.0</td>\n",
       "      <td>37</td>\n",
       "      <td>88.0</td>\n",
       "      <td>1.38</td>\n",
       "      <td>42.05%</td>\n",
       "      <td>40.12</td>\n",
       "      <td></td>\n",
       "    </tr>\n",
       "    <tr>\n",
       "      <th>7</th>\n",
       "      <td>0.604588</td>\n",
       "      <td>0.684441</td>\n",
       "      <td>61.0</td>\n",
       "      <td>26</td>\n",
       "      <td>87.0</td>\n",
       "      <td>2.35</td>\n",
       "      <td>29.89%</td>\n",
       "      <td>30.38</td>\n",
       "      <td></td>\n",
       "    </tr>\n",
       "    <tr>\n",
       "      <th>8</th>\n",
       "      <td>0.684509</td>\n",
       "      <td>0.782735</td>\n",
       "      <td>68.0</td>\n",
       "      <td>18</td>\n",
       "      <td>86.0</td>\n",
       "      <td>3.78</td>\n",
       "      <td>20.93%</td>\n",
       "      <td>17.24</td>\n",
       "      <td></td>\n",
       "    </tr>\n",
       "    <tr>\n",
       "      <th>9</th>\n",
       "      <td>0.783207</td>\n",
       "      <td>0.976260</td>\n",
       "      <td>77.0</td>\n",
       "      <td>9</td>\n",
       "      <td>86.0</td>\n",
       "      <td>8.56</td>\n",
       "      <td>10.47%</td>\n",
       "      <td>0.00</td>\n",
       "      <td></td>\n",
       "    </tr>\n",
       "  </tbody>\n",
       "</table>\n",
       "</div>"
      ],
      "text/plain": [
       "    min_scr   max_scr  goods  bads  total  odds bad_rate     ks max_ks\n",
       "0  0.008877  0.202647   12.0    77   89.0  0.16   86.52%  13.00       \n",
       "1  0.204396  0.262079    9.0    81   90.0  0.11   90.00%  27.57       \n",
       "2  0.262418  0.310021   22.0    77   99.0  0.29   77.78%  38.09       \n",
       "3  0.311354  0.381606   19.0    67   86.0  0.28   77.91%  47.27       \n",
       "4  0.382535  0.461577   34.0    52   86.0  0.65   60.47%  49.62  <----\n",
       "5  0.461610  0.531089   50.0    38   88.0  1.32   43.18%  45.10       \n",
       "6  0.531156  0.603254   51.0    37   88.0  1.38   42.05%  40.12       \n",
       "7  0.604588  0.684441   61.0    26   87.0  2.35   29.89%  30.38       \n",
       "8  0.684509  0.782735   68.0    18   86.0  3.78   20.93%  17.24       \n",
       "9  0.783207  0.976260   77.0     9   86.0  8.56   10.47%   0.00       "
      ]
     },
     "execution_count": 258,
     "metadata": {},
     "output_type": "execute_result"
    }
   ],
   "source": [
    "ks_statistic(df['logistic_prediction'],df['saas_subscription'])"
   ]
  },
  {
   "cell_type": "code",
   "execution_count": 21,
   "metadata": {
    "collapsed": false
   },
   "outputs": [
    {
     "data": {
      "text/plain": [
       "Pipeline(steps=[('standardscaler', StandardScaler(copy=True, with_mean=False, with_std=True)), ('svc', SVC(C=0.001, cache_size=200, class_weight=None, coef0=0.0,\n",
       "  decision_function_shape=None, degree=3, gamma='auto', kernel='linear',\n",
       "  max_iter=-1, probability=True, random_state=None, shrinking=True,\n",
       "  tol=0.001, verbose=False))])"
      ]
     },
     "execution_count": 21,
     "metadata": {},
     "output_type": "execute_result"
    }
   ],
   "source": [
    "#going with svm\n",
    "#tfidf_vectorizer\n",
    "C = 0.001\n",
    "svm_model = make_pipeline(StandardScaler(with_mean=False),SVC(C=C,kernel='linear',probability=True)) \n",
    "svm_model.fit(tfidf_n_vars,df['saas_subscription'])"
   ]
  },
  {
   "cell_type": "code",
   "execution_count": null,
   "metadata": {
    "collapsed": true
   },
   "outputs": [],
   "source": [
    "ks_dets = ks_statistic(df['linear_svm_prediction'],df['saas_subscription'])"
   ]
  },
  {
   "cell_type": "code",
   "execution_count": 35,
   "metadata": {
    "collapsed": false
   },
   "outputs": [
    {
     "data": {
      "text/plain": [
       "0    1\n",
       "1    2\n",
       "2    1\n",
       "3    0\n",
       "4    4\n",
       "Name: linear_svm_prediction, dtype: category\n",
       "Categories (10, int64): [0 < 1 < 2 < 3 ... 6 < 7 < 8 < 9]"
      ]
     },
     "execution_count": 35,
     "metadata": {},
     "output_type": "execute_result"
    }
   ],
   "source": [
    "bin_boundaries = [0]+list(ks_dets['max_scr'])[:-1]+[1]\n",
    "bin_labels = range(10)\n",
    "pd.cut(df['linear_svm_prediction'], bin_boundaries,labels=bin_labels).head()"
   ]
  },
  {
   "cell_type": "code",
   "execution_count": 36,
   "metadata": {
    "collapsed": false
   },
   "outputs": [
    {
     "data": {
      "text/plain": [
       "1    102\n",
       "5     94\n",
       "2     91\n",
       "8     86\n",
       "7     86\n",
       "6     86\n",
       "9     85\n",
       "4     85\n",
       "3     85\n",
       "0     85\n",
       "Name: linear_svm_prediction, dtype: int64"
      ]
     },
     "execution_count": 36,
     "metadata": {},
     "output_type": "execute_result"
    }
   ],
   "source": [
    "pd.cut(df['linear_svm_prediction'], bin_boundaries,labels=bin_labels).value_counts()"
   ]
  },
  {
   "cell_type": "code",
   "execution_count": 68,
   "metadata": {
    "collapsed": false
   },
   "outputs": [
    {
     "data": {
      "text/html": [
       "<div>\n",
       "<table border=\"1\" class=\"dataframe\">\n",
       "  <thead>\n",
       "    <tr style=\"text-align: right;\">\n",
       "      <th></th>\n",
       "      <th>website</th>\n",
       "      <th>demo_present</th>\n",
       "      <th>login_present</th>\n",
       "      <th>pricing_present</th>\n",
       "      <th>score</th>\n",
       "      <th>website_text</th>\n",
       "      <th>saas_subscription</th>\n",
       "      <th>website_text_phrases</th>\n",
       "      <th>naive_bayes_predictions</th>\n",
       "      <th>random_forest_prediction</th>\n",
       "      <th>linear_svm_prediction</th>\n",
       "      <th>per_month_present</th>\n",
       "    </tr>\n",
       "  </thead>\n",
       "  <tbody>\n",
       "    <tr>\n",
       "      <th>293</th>\n",
       "      <td>http://www.triumphcoffeelab.com</td>\n",
       "      <td>False</td>\n",
       "      <td>False</td>\n",
       "      <td>False</td>\n",
       "      <td>0.9</td>\n",
       "      <td>Triumph Coffee Lab Triumph Coffee Lab Our Stor...</td>\n",
       "      <td>False</td>\n",
       "      <td>Triumph Coffee Lab Triumph Coffee Lab Story Wh...</td>\n",
       "      <td>5.010761e-26</td>\n",
       "      <td>0.263478</td>\n",
       "      <td>0.123807</td>\n",
       "      <td>False</td>\n",
       "    </tr>\n",
       "  </tbody>\n",
       "</table>\n",
       "</div>"
      ],
      "text/plain": [
       "                             website demo_present login_present  \\\n",
       "293  http://www.triumphcoffeelab.com        False         False   \n",
       "\n",
       "    pricing_present  score                                       website_text  \\\n",
       "293           False    0.9  Triumph Coffee Lab Triumph Coffee Lab Our Stor...   \n",
       "\n",
       "    saas_subscription                               website_text_phrases  \\\n",
       "293             False  Triumph Coffee Lab Triumph Coffee Lab Story Wh...   \n",
       "\n",
       "     naive_bayes_predictions  random_forest_prediction  linear_svm_prediction  \\\n",
       "293             5.010761e-26                  0.263478               0.123807   \n",
       "\n",
       "    per_month_present  \n",
       "293             False  "
      ]
     },
     "execution_count": 68,
     "metadata": {},
     "output_type": "execute_result"
    }
   ],
   "source": [
    "df[df['website'].str.contains('triumphcoffeelab.com')]"
   ]
  },
  {
   "cell_type": "code",
   "execution_count": 38,
   "metadata": {
    "collapsed": false
   },
   "outputs": [],
   "source": [
    "import pickle\n",
    "with open('chargebee_model_objects.pkl','w') as f:\n",
    "    pickle.dump({'vectorizer':tfidf_vectorizer,'model':svm_model,'bin_boundaries':bin_boundaries,\n",
    "                'bin_labels':bin_labels},f)"
   ]
  },
  {
   "cell_type": "markdown",
   "metadata": {},
   "source": [
    "### plotting learning curves"
   ]
  },
  {
   "cell_type": "code",
   "execution_count": 28,
   "metadata": {
    "collapsed": false
   },
   "outputs": [],
   "source": [
    "from learning_curves import plot_learning_curve\n",
    "from sklearn.model_selection import ShuffleSplit\n",
    "import matplotlib.pyplot as plt"
   ]
  },
  {
   "cell_type": "code",
   "execution_count": 42,
   "metadata": {
    "collapsed": false
   },
   "outputs": [
    {
     "data": {
      "image/png": "[encoded data removed]",
      "text/plain": [
       "<matplotlib.figure.Figure at 0x7b38810>"
      ]
     },
     "metadata": {},
     "output_type": "display_data"
    }
   ],
   "source": [
    "title = \"Learning Curves (Naive Bayes)\"\n",
    "# Cross validation with 100 iterations to get smoother mean test and train\n",
    "# score curves, each time with 20% data randomly selected as a validation set.\n",
    "cv = ShuffleSplit(n_splits=100, test_size=0.2, random_state=0)\n",
    "\n",
    "estimator = MultinomialNB()\n",
    "plot_learning_curve(estimator, title, tfidf_n_vars, df['saas_subscription'], cv=cv, n_jobs=4)\n",
    "plt.show()"
   ]
  },
  {
   "cell_type": "code",
   "execution_count": 43,
   "metadata": {
    "collapsed": false
   },
   "outputs": [
    {
     "data": {
      "image/png": "[encoded data removed]",
      "text/plain": [
       "<matplotlib.figure.Figure at 0xafe2290>"
      ]
     },
     "metadata": {},
     "output_type": "display_data"
    }
   ],
   "source": [
    "title = \"Learning Curves (SVM)\"\n",
    "# SVC is more expensive so we do a lower number of CV iterations:\n",
    "cv = ShuffleSplit(n_splits=10, test_size=0.2, random_state=0)\n",
    "estimator = make_pipeline(StandardScaler(with_mean=False),SVC(C = 0.001,kernel='linear'))\n",
    "# plot_learning_curve(estimator, title, X, y, (0.7, 1.01), cv=cv, n_jobs=4)\n",
    "plot_learning_curve(estimator=estimator,\n",
    "                         title='SVM linear kernel',X=tfidf_n_vars,y=df['saas_subscription'],cv=cv)\n",
    "\n",
    "plt.show()"
   ]
  },
  {
   "cell_type": "markdown",
   "metadata": {},
   "source": [
    "### looking at misclassified items"
   ]
  },
  {
   "cell_type": "code",
   "execution_count": 48,
   "metadata": {
    "collapsed": true
   },
   "outputs": [],
   "source": [
    "#trying in excel\n",
    "df[['website','demo_present','login_present','pricing_present','score',\n",
    "    'saas_subscription','naive_bayes_predictions','random_forest_prediction','linear_svm_prediction','website_text_phrases']].to_csv(\n",
    "        'final_data_predicted_scores_dec29.csv',index=False,quoting=1)"
   ]
  },
  {
   "cell_type": "markdown",
   "metadata": {
    "collapsed": true
   },
   "source": [
    "### validation curve"
   ]
  },
  {
   "cell_type": "code",
   "execution_count": 30,
   "metadata": {
    "collapsed": false
   },
   "outputs": [
    {
     "data": {
      "image/png": "[encoded data removed]",
      "text/plain": [
       "<matplotlib.figure.Figure at 0xbf97850>"
      ]
     },
     "metadata": {},
     "output_type": "display_data"
    }
   ],
   "source": [
    "from sklearn.model_selection import validation_curve\n",
    "param_range = np.logspace(-4, -3, 5)\n",
    "# param_range = np.arange(0.0001,0.0006,0.00001)\n",
    "# clf = make_pipeline(StandardScaler(with_mean=False),SVC(C=C,kernel='linear'))\n",
    "#                     tfidf_n_vars,df['saas_subscription']\n",
    "train_scores, test_scores = validation_curve(\n",
    "    SVC(kernel='linear'), StandardScaler(with_mean=False).fit_transform(tfidf_n_vars),\n",
    "    df['saas_subscription'], param_name=\"C\", param_range=param_range,\n",
    "    cv=10, scoring=\"f1\", n_jobs=1)\n",
    "train_scores_mean = np.mean(train_scores, axis=1)\n",
    "train_scores_std = np.std(train_scores, axis=1)\n",
    "test_scores_mean = np.mean(test_scores, axis=1)\n",
    "test_scores_std = np.std(test_scores, axis=1)\n",
    "\n",
    "plt.title(\"Validation Curve with SVM\")\n",
    "plt.xlabel(\"C values\")\n",
    "plt.ylabel(\"Score\")\n",
    "plt.ylim(0.0, 1.1)\n",
    "lw = 2\n",
    "plt.semilogx(param_range, train_scores_mean, label=\"Training score\",\n",
    "             color=\"darkorange\", lw=lw)\n",
    "plt.fill_between(param_range, train_scores_mean - train_scores_std,\n",
    "                 train_scores_mean + train_scores_std, alpha=0.2,\n",
    "                 color=\"darkorange\", lw=lw)\n",
    "plt.semilogx(param_range, test_scores_mean, label=\"Cross-validation score\",\n",
    "             color=\"navy\", lw=lw)\n",
    "plt.fill_between(param_range, test_scores_mean - test_scores_std,\n",
    "                 test_scores_mean + test_scores_std, alpha=0.2,\n",
    "                 color=\"navy\", lw=lw)\n",
    "# plt.plot(param_range, train_scores_mean, label=\"Training score\",\n",
    "#              color=\"darkorange\", lw=lw)\n",
    "# plt.fill_between(param_range, train_scores_mean - train_scores_std,\n",
    "#                  train_scores_mean + train_scores_std, alpha=0.2,\n",
    "#                  color=\"darkorange\", lw=lw)\n",
    "# plt.plot(param_range, test_scores_mean, label=\"Cross-validation score\",\n",
    "#              color=\"navy\", lw=lw)\n",
    "# plt.fill_between(param_range, test_scores_mean - test_scores_std,\n",
    "#                  test_scores_mean + test_scores_std, alpha=0.2,\n",
    "#                  color=\"navy\", lw=lw)\n",
    "#plotting the actual points(not working)\n",
    "# for xy in zip(param_range, train_scores_mean):                                       \n",
    "#     plt.annotate('{}'.format(round(x,5)),xy=xy, textcoords='data') \n",
    "# for xy in zip(param_range, test_scores_mean):                                       \n",
    "#     plt.annotate('{}'.format(round(x,5)),xy=xy, textcoords='data') \n",
    "\n",
    "plt.xticks(param_range, param_range,rotation=45)\n",
    "plt.legend(loc=\"best\")\n",
    "plt.show()\n"
   ]
  },
  {
   "cell_type": "code",
   "execution_count": 43,
   "metadata": {
    "collapsed": false
   },
   "outputs": [
    {
     "data": {
      "image/png": "[encoded data removed]",
      "text/plain": [
       "<matplotlib.figure.Figure at 0x8144a90>"
      ]
     },
     "metadata": {},
     "output_type": "display_data"
    }
   ],
   "source": [
    "from sklearn.model_selection import validation_curve\n",
    "# param_range = np.logspace(-4, -3, 5)\n",
    "param_range = np.arange(2,11)\n",
    "# clf = make_pipeline(StandardScaler(with_mean=False),SVC(C=C,kernel='linear'))\n",
    "#                     tfidf_n_vars,df['saas_subscription']\n",
    "train_scores, test_scores = validation_curve(\n",
    "    RandomForestClassifier(n_estimators=100), StandardScaler(with_mean=False).fit_transform(tfidf_n_vars),\n",
    "    df['saas_subscription'], param_name=\"min_samples_split\", param_range=param_range,\n",
    "    cv=10, scoring=\"f1\", n_jobs=1)\n",
    "train_scores_mean = np.mean(train_scores, axis=1)\n",
    "train_scores_std = np.std(train_scores, axis=1)\n",
    "test_scores_mean = np.mean(test_scores, axis=1)\n",
    "test_scores_std = np.std(test_scores, axis=1)\n",
    "\n",
    "plt.title(\"Validation Curve with RandomForest\")\n",
    "plt.xlabel(\"min_samples_split\")\n",
    "plt.ylabel(\"Score\")\n",
    "plt.ylim(0.0, 1.1)\n",
    "lw = 2\n",
    "# plt.semilogx(param_range, train_scores_mean, label=\"Training score\",\n",
    "#              color=\"darkorange\", lw=lw)\n",
    "# plt.fill_between(param_range, train_scores_mean - train_scores_std,\n",
    "#                  train_scores_mean + train_scores_std, alpha=0.2,\n",
    "#                  color=\"darkorange\", lw=lw)\n",
    "# plt.semilogx(param_range, test_scores_mean, label=\"Cross-validation score\",\n",
    "#              color=\"navy\", lw=lw)\n",
    "# plt.fill_between(param_range, test_scores_mean - test_scores_std,\n",
    "#                  test_scores_mean + test_scores_std, alpha=0.2,\n",
    "#                  color=\"navy\", lw=lw)\n",
    "\n",
    "plt.plot(param_range, train_scores_mean, label=\"Training score\",\n",
    "             color=\"darkorange\", lw=lw)\n",
    "plt.fill_between(param_range, train_scores_mean - train_scores_std,\n",
    "                 train_scores_mean + train_scores_std, alpha=0.2,\n",
    "                 color=\"darkorange\", lw=lw)\n",
    "plt.plot(param_range, test_scores_mean, label=\"Cross-validation score\",\n",
    "             color=\"navy\", lw=lw)\n",
    "plt.fill_between(param_range, test_scores_mean - test_scores_std,\n",
    "                 test_scores_mean + test_scores_std, alpha=0.2,\n",
    "                 color=\"navy\", lw=lw)\n",
    "\n",
    "#plotting the actual points(not working)\n",
    "# for xy in zip(param_range, train_scores_mean):                                       \n",
    "#     plt.annotate('{}'.format(round(x,5)),xy=xy, textcoords='data') \n",
    "# for xy in zip(param_range, test_scores_mean):                                       \n",
    "#     plt.annotate('{}'.format(round(x,5)),xy=xy, textcoords='data') \n",
    "\n",
    "plt.xticks(param_range, param_range,rotation=45)\n",
    "plt.legend(loc=\"best\")\n",
    "plt.show()\n"
   ]
  },
  {
   "cell_type": "code",
   "execution_count": 200,
   "metadata": {
    "collapsed": false
   },
   "outputs": [
    {
     "data": {
      "text/html": [
       "<div>\n",
       "<table border=\"1\" class=\"dataframe\">\n",
       "  <thead>\n",
       "    <tr style=\"text-align: right;\">\n",
       "      <th></th>\n",
       "      <th>param_value</th>\n",
       "      <th>test_score</th>\n",
       "      <th>train_score</th>\n",
       "    </tr>\n",
       "  </thead>\n",
       "  <tbody>\n",
       "    <tr>\n",
       "      <th>0</th>\n",
       "      <td>0.000100</td>\n",
       "      <td>0.447081</td>\n",
       "      <td>0.554571</td>\n",
       "    </tr>\n",
       "    <tr>\n",
       "      <th>1</th>\n",
       "      <td>0.000167</td>\n",
       "      <td>0.666101</td>\n",
       "      <td>0.758568</td>\n",
       "    </tr>\n",
       "    <tr>\n",
       "      <th>2</th>\n",
       "      <td>0.000278</td>\n",
       "      <td>0.717568</td>\n",
       "      <td>0.806471</td>\n",
       "    </tr>\n",
       "    <tr>\n",
       "      <th>3</th>\n",
       "      <td>0.000464</td>\n",
       "      <td>0.713540</td>\n",
       "      <td>0.825668</td>\n",
       "    </tr>\n",
       "    <tr>\n",
       "      <th>4</th>\n",
       "      <td>0.000774</td>\n",
       "      <td>0.736147</td>\n",
       "      <td>0.852058</td>\n",
       "    </tr>\n",
       "    <tr>\n",
       "      <th>5</th>\n",
       "      <td>0.001292</td>\n",
       "      <td>0.720906</td>\n",
       "      <td>0.880277</td>\n",
       "    </tr>\n",
       "    <tr>\n",
       "      <th>6</th>\n",
       "      <td>0.002154</td>\n",
       "      <td>0.705285</td>\n",
       "      <td>0.909952</td>\n",
       "    </tr>\n",
       "    <tr>\n",
       "      <th>7</th>\n",
       "      <td>0.003594</td>\n",
       "      <td>0.705058</td>\n",
       "      <td>0.937303</td>\n",
       "    </tr>\n",
       "    <tr>\n",
       "      <th>8</th>\n",
       "      <td>0.005995</td>\n",
       "      <td>0.694845</td>\n",
       "      <td>0.959115</td>\n",
       "    </tr>\n",
       "    <tr>\n",
       "      <th>9</th>\n",
       "      <td>0.010000</td>\n",
       "      <td>0.655717</td>\n",
       "      <td>0.971286</td>\n",
       "    </tr>\n",
       "  </tbody>\n",
       "</table>\n",
       "</div>"
      ],
      "text/plain": [
       "   param_value  test_score  train_score\n",
       "0     0.000100    0.447081     0.554571\n",
       "1     0.000167    0.666101     0.758568\n",
       "2     0.000278    0.717568     0.806471\n",
       "3     0.000464    0.713540     0.825668\n",
       "4     0.000774    0.736147     0.852058\n",
       "5     0.001292    0.720906     0.880277\n",
       "6     0.002154    0.705285     0.909952\n",
       "7     0.003594    0.705058     0.937303\n",
       "8     0.005995    0.694845     0.959115\n",
       "9     0.010000    0.655717     0.971286"
      ]
     },
     "execution_count": 200,
     "metadata": {},
     "output_type": "execute_result"
    }
   ],
   "source": [
    "pd.DataFrame({'param_value':param_range, 'train_score':train_scores_mean,'test_score':test_scores_mean})"
   ]
  },
  {
   "cell_type": "markdown",
   "metadata": {},
   "source": [
    "### try stacking using brew package"
   ]
  },
  {
   "cell_type": "code",
   "execution_count": 9,
   "metadata": {
    "collapsed": false
   },
   "outputs": [],
   "source": [
    "import brew\n",
    "from brew.base import Ensemble\n",
    "from brew.combination.combiner import Combiner\n",
    "from brew.stacking.stacker import EnsembleStack\n",
    "from brew.stacking.stacker import EnsembleStackClassifier\n",
    "\n",
    "layer_1 = [SVC(probability=True,C=0.00035),\n",
    "           RandomForestClassifier(n_estimators=100), \n",
    "           MultinomialNB(),\n",
    "           MLPClassifier(hidden_layer_sizes=(50,),alpha=50)\n",
    "           ]\n",
    "\n",
    "layer_2 = [SVC(probability=True), LogisticRegressionCV(max_iter=500,Cs=10)]\n",
    "\n",
    "stack = EnsembleStack(cv=10) # number of folds per layer\n",
    "stack.add_layer(Ensemble(layer_1))\n",
    "stack.add_layer(Ensemble(layer_2))\n",
    "\n",
    "clf = EnsembleStackClassifier(stack, Combiner('mean'))"
   ]
  },
  {
   "cell_type": "code",
   "execution_count": 10,
   "metadata": {
    "collapsed": false
   },
   "outputs": [
    {
     "ename": "TypeError",
     "evalue": "only integer arrays with one element can be converted to an index",
     "output_type": "error",
     "traceback": [
      "\u001b[0;31m---------------------------------------------------------------------------\u001b[0m",
      "\u001b[0;31mTypeError\u001b[0m                                 Traceback (most recent call last)",
      "\u001b[0;32m<ipython-input-10-5985af09ce1c>\u001b[0m in \u001b[0;36m<module>\u001b[0;34m()\u001b[0m\n\u001b[0;32m----> 1\u001b[0;31m \u001b[0mclf\u001b[0m\u001b[0;34m.\u001b[0m\u001b[0mfit\u001b[0m\u001b[0;34m(\u001b[0m\u001b[0mtfidf_n_vars\u001b[0m\u001b[0;34m,\u001b[0m\u001b[0mdf\u001b[0m\u001b[0;34m[\u001b[0m\u001b[0;34m'saas_subscription'\u001b[0m\u001b[0;34m]\u001b[0m\u001b[0;34m)\u001b[0m\u001b[0;34m\u001b[0m\u001b[0m\n\u001b[0m",
      "\u001b[0;32m/usr/local/lib/python2.7/dist-packages/brew-0.1.4-py2.7.egg/brew/stacking/stacker.pyc\u001b[0m in \u001b[0;36mfit\u001b[0;34m(self, X, y)\u001b[0m\n\u001b[1;32m     81\u001b[0m \u001b[0;34m\u001b[0m\u001b[0m\n\u001b[1;32m     82\u001b[0m     \u001b[0;32mdef\u001b[0m \u001b[0mfit\u001b[0m\u001b[0;34m(\u001b[0m\u001b[0mself\u001b[0m\u001b[0;34m,\u001b[0m \u001b[0mX\u001b[0m\u001b[0;34m,\u001b[0m \u001b[0my\u001b[0m\u001b[0;34m)\u001b[0m\u001b[0;34m:\u001b[0m\u001b[0;34m\u001b[0m\u001b[0m\n\u001b[0;32m---> 83\u001b[0;31m         \u001b[0mself\u001b[0m\u001b[0;34m.\u001b[0m\u001b[0mstack\u001b[0m\u001b[0;34m.\u001b[0m\u001b[0mfit\u001b[0m\u001b[0;34m(\u001b[0m\u001b[0mX\u001b[0m\u001b[0;34m,\u001b[0m \u001b[0my\u001b[0m\u001b[0;34m)\u001b[0m\u001b[0;34m\u001b[0m\u001b[0m\n\u001b[0m\u001b[1;32m     84\u001b[0m         \u001b[0;32mreturn\u001b[0m \u001b[0mself\u001b[0m\u001b[0;34m\u001b[0m\u001b[0m\n\u001b[1;32m     85\u001b[0m \u001b[0;34m\u001b[0m\u001b[0m\n",
      "\u001b[0;32m/usr/local/lib/python2.7/dist-packages/brew-0.1.4-py2.7.egg/brew/stacking/stacker.pyc\u001b[0m in \u001b[0;36mfit\u001b[0;34m(self, X, y)\u001b[0m\n\u001b[1;32m     41\u001b[0m     \u001b[0;32mdef\u001b[0m \u001b[0mfit\u001b[0m\u001b[0;34m(\u001b[0m\u001b[0mself\u001b[0m\u001b[0;34m,\u001b[0m \u001b[0mX\u001b[0m\u001b[0;34m,\u001b[0m \u001b[0my\u001b[0m\u001b[0;34m)\u001b[0m\u001b[0;34m:\u001b[0m\u001b[0;34m\u001b[0m\u001b[0m\n\u001b[1;32m     42\u001b[0m         \u001b[0;32mif\u001b[0m \u001b[0mself\u001b[0m\u001b[0;34m.\u001b[0m\u001b[0mcv\u001b[0m \u001b[0;34m>\u001b[0m \u001b[0;36m1\u001b[0m\u001b[0;34m:\u001b[0m\u001b[0;34m\u001b[0m\u001b[0m\n\u001b[0;32m---> 43\u001b[0;31m             \u001b[0mself\u001b[0m\u001b[0;34m.\u001b[0m\u001b[0mfit_layer\u001b[0m\u001b[0;34m(\u001b[0m\u001b[0;36m0\u001b[0m\u001b[0;34m,\u001b[0m \u001b[0mX\u001b[0m\u001b[0;34m,\u001b[0m \u001b[0my\u001b[0m\u001b[0;34m)\u001b[0m\u001b[0;34m\u001b[0m\u001b[0m\n\u001b[0m\u001b[1;32m     44\u001b[0m         \u001b[0;32melse\u001b[0m\u001b[0;34m:\u001b[0m\u001b[0;34m\u001b[0m\u001b[0m\n\u001b[1;32m     45\u001b[0m             \u001b[0mX_\u001b[0m \u001b[0;34m=\u001b[0m \u001b[0mX\u001b[0m\u001b[0;34m\u001b[0m\u001b[0m\n",
      "\u001b[0;32m/usr/local/lib/python2.7/dist-packages/brew-0.1.4-py2.7.egg/brew/stacking/stacker.pyc\u001b[0m in \u001b[0;36mfit_layer\u001b[0;34m(self, layer_idx, X, y)\u001b[0m\n\u001b[1;32m     31\u001b[0m             \u001b[0mskf\u001b[0m \u001b[0;34m=\u001b[0m \u001b[0mcross_validation\u001b[0m\u001b[0;34m.\u001b[0m\u001b[0mStratifiedKFold\u001b[0m\u001b[0;34m(\u001b[0m\u001b[0my\u001b[0m\u001b[0;34m,\u001b[0m \u001b[0mself\u001b[0m\u001b[0;34m.\u001b[0m\u001b[0mcv\u001b[0m\u001b[0;34m)\u001b[0m\u001b[0;34m\u001b[0m\u001b[0m\n\u001b[1;32m     32\u001b[0m             \u001b[0;32mfor\u001b[0m \u001b[0mtra\u001b[0m\u001b[0;34m,\u001b[0m \u001b[0mtst\u001b[0m \u001b[0;32min\u001b[0m \u001b[0mskf\u001b[0m\u001b[0;34m:\u001b[0m\u001b[0;34m\u001b[0m\u001b[0m\n\u001b[0;32m---> 33\u001b[0;31m                 \u001b[0mself\u001b[0m\u001b[0;34m.\u001b[0m\u001b[0mlayers\u001b[0m\u001b[0;34m[\u001b[0m\u001b[0mlayer_idx\u001b[0m\u001b[0;34m]\u001b[0m\u001b[0;34m.\u001b[0m\u001b[0mfit\u001b[0m\u001b[0;34m(\u001b[0m\u001b[0mX\u001b[0m\u001b[0;34m[\u001b[0m\u001b[0mtra\u001b[0m\u001b[0;34m]\u001b[0m\u001b[0;34m,\u001b[0m \u001b[0my\u001b[0m\u001b[0;34m[\u001b[0m\u001b[0mtra\u001b[0m\u001b[0;34m]\u001b[0m\u001b[0;34m)\u001b[0m\u001b[0;34m\u001b[0m\u001b[0m\n\u001b[0m\u001b[1;32m     34\u001b[0m                 \u001b[0mout\u001b[0m \u001b[0;34m=\u001b[0m \u001b[0mself\u001b[0m\u001b[0;34m.\u001b[0m\u001b[0mlayers\u001b[0m\u001b[0;34m[\u001b[0m\u001b[0mlayer_idx\u001b[0m\u001b[0;34m]\u001b[0m\u001b[0;34m.\u001b[0m\u001b[0moutput\u001b[0m\u001b[0;34m(\u001b[0m\u001b[0mX\u001b[0m\u001b[0;34m[\u001b[0m\u001b[0mtst\u001b[0m\u001b[0;34m]\u001b[0m\u001b[0;34m,\u001b[0m \u001b[0mmode\u001b[0m\u001b[0;34m=\u001b[0m\u001b[0mself\u001b[0m\u001b[0;34m.\u001b[0m\u001b[0mmode\u001b[0m\u001b[0;34m)\u001b[0m\u001b[0;34m\u001b[0m\u001b[0m\n\u001b[1;32m     35\u001b[0m                 output[tst, :] = out[:, 1:, :].reshape(\n",
      "\u001b[0;31mTypeError\u001b[0m: only integer arrays with one element can be converted to an index"
     ]
    }
   ],
   "source": [
    "clf.fit(tfidf_n_vars,df['saas_subscription'])"
   ]
  },
  {
   "cell_type": "code",
   "execution_count": 20,
   "metadata": {
    "collapsed": false
   },
   "outputs": [
    {
     "name": "stderr",
     "output_type": "stream",
     "text": [
      "/usr/local/lib/python2.7/dist-packages/ipykernel/__main__.py:1: FutureWarning: sort(columns=....) is deprecated, use sort_values(by=.....)\n",
      "  if __name__ == '__main__':\n"
     ]
    }
   ],
   "source": [
    "pd.DataFrame(tfidf_vectorizer.vocabulary_.keys(),columns=['word']).sort('word').to_csv('feature_names.csv',index=False)"
   ]
  }
 ],
 "metadata": {
  "kernelspec": {
   "display_name": "Python 2",
   "language": "python",
   "name": "python2"
  },
  "language_info": {
   "codemirror_mode": {
    "name": "ipython",
    "version": 2
   },
   "file_extension": ".py",
   "mimetype": "text/x-python",
   "name": "python",
   "nbconvert_exporter": "python",
   "pygments_lexer": "ipython2",
   "version": "2.7.3"
  }
 },
 "nbformat": 4,
 "nbformat_minor": 1
}
