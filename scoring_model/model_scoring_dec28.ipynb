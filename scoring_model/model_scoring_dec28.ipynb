{
 "cells": [
  {
   "cell_type": "code",
   "execution_count": 22,
   "metadata": {
    "collapsed": true
   },
   "outputs": [],
   "source": [
    "import pickle\n",
    "import pandas as pd\n",
    "from scipy.sparse import hstack\n",
    "from scipy.sparse.csr import csr_matrix\n",
    "import tldextract"
   ]
  },
  {
   "cell_type": "code",
   "execution_count": 31,
   "metadata": {
    "collapsed": true
   },
   "outputs": [],
   "source": [
    "with open('chargebee_model_objects.pkl','r') as f:\n",
    "    tmp = pickle.load(f)\n",
    "vectorizer,model,bin_boundaries,bin_labels = tmp['vectorizer'],tmp['model'],tmp['bin_boundaries'],tmp['bin_labels']"
   ]
  },
  {
   "cell_type": "markdown",
   "metadata": {},
   "source": [
    "### dec 28 list for scoring"
   ]
  },
  {
   "cell_type": "code",
   "execution_count": 10,
   "metadata": {
    "collapsed": false
   },
   "outputs": [],
   "source": [
    "df1 = pd.read_excel('/home/madan/Desktop/joswin_bck/toPendrive/works/chargebee_enrichment/scoring_lists/dec28/Saas_data_for_scoring_output.xls')\n",
    "df2 = pd.read_csv('/home/madan/Desktop/joswin_bck/toPendrive/works/chargebee_enrichment/scoring_lists/dec28/Saas_data_for_scoring_output_all_texts.csv',\n",
    "                 names = ['website','website_text'])"
   ]
  },
  {
   "cell_type": "code",
   "execution_count": 13,
   "metadata": {
    "collapsed": false
   },
   "outputs": [
    {
     "name": "stderr",
     "output_type": "stream",
     "text": [
      "No handlers could be found for logger \"tldextract\"\n"
     ]
    }
   ],
   "source": [
    "df1['domain'] = df1['website'].apply(lambda x: tldextract.extract(x).domain)\n",
    "df2['domain'] = df2['website'].apply(lambda x: tldextract.extract(x).domain)"
   ]
  },
  {
   "cell_type": "code",
   "execution_count": 14,
   "metadata": {
    "collapsed": false,
    "scrolled": true
   },
   "outputs": [
    {
     "data": {
      "text/html": [
       "<div>\n",
       "<table border=\"1\" class=\"dataframe\">\n",
       "  <thead>\n",
       "    <tr style=\"text-align: right;\">\n",
       "      <th></th>\n",
       "      <th>company_linkedin_url</th>\n",
       "      <th>demo_present</th>\n",
       "      <th>emails</th>\n",
       "      <th>id</th>\n",
       "      <th>login_present</th>\n",
       "      <th>match_texts_test</th>\n",
       "      <th>pricing_present</th>\n",
       "      <th>score</th>\n",
       "      <th>urls</th>\n",
       "      <th>website</th>\n",
       "      <th>domain</th>\n",
       "    </tr>\n",
       "  </thead>\n",
       "  <tbody>\n",
       "    <tr>\n",
       "      <th>0</th>\n",
       "      <td>NaN</td>\n",
       "      <td>True</td>\n",
       "      <td>[u'https://conversionista.se/en/conversion-jam...</td>\n",
       "      <td>850</td>\n",
       "      <td>True</td>\n",
       "      <td>[((u'Pricing',), u\"There were some fabulous su...</td>\n",
       "      <td>True</td>\n",
       "      <td>127.5</td>\n",
       "      <td>[u'https://www.twitter.com/jbmoreno/status/251...</td>\n",
       "      <td>http://www.bryaneisenberg.com</td>\n",
       "      <td>bryaneisenberg</td>\n",
       "    </tr>\n",
       "    <tr>\n",
       "      <th>1</th>\n",
       "      <td>NaN</td>\n",
       "      <td>True</td>\n",
       "      <td>[]</td>\n",
       "      <td>2180</td>\n",
       "      <td>True</td>\n",
       "      <td>[((u'trial',), u'Reviewsnap Performance Manage...</td>\n",
       "      <td>True</td>\n",
       "      <td>102.4</td>\n",
       "      <td>[u'https://www.twitter.com/reviewsnap', u'http...</td>\n",
       "      <td>http://www.reviewsnap.com</td>\n",
       "      <td>reviewsnap</td>\n",
       "    </tr>\n",
       "    <tr>\n",
       "      <th>2</th>\n",
       "      <td>NaN</td>\n",
       "      <td>True</td>\n",
       "      <td>[]</td>\n",
       "      <td>219</td>\n",
       "      <td>True</td>\n",
       "      <td>[((u'SaaS',), u\"We 'cloudify' over 60 best-of-...</td>\n",
       "      <td>False</td>\n",
       "      <td>74.0</td>\n",
       "      <td>[u'https://www.linkedin.com/company/avanan-inc...</td>\n",
       "      <td>http://www.avanan.com</td>\n",
       "      <td>avanan</td>\n",
       "    </tr>\n",
       "    <tr>\n",
       "      <th>3</th>\n",
       "      <td>NaN</td>\n",
       "      <td>True</td>\n",
       "      <td>[]</td>\n",
       "      <td>218</td>\n",
       "      <td>True</td>\n",
       "      <td>[((u'SaaS',), u\"We 'cloudify' over 60 best-of-...</td>\n",
       "      <td>False</td>\n",
       "      <td>72.5</td>\n",
       "      <td>[u'https://www.linkedin.com/company/avanan-inc...</td>\n",
       "      <td>http://www.avanan.com</td>\n",
       "      <td>avanan</td>\n",
       "    </tr>\n",
       "    <tr>\n",
       "      <th>4</th>\n",
       "      <td>NaN</td>\n",
       "      <td>False</td>\n",
       "      <td>[]</td>\n",
       "      <td>1557</td>\n",
       "      <td>True</td>\n",
       "      <td>[((u'subscription',), u'Cancel Anytime\\nCancel...</td>\n",
       "      <td>False</td>\n",
       "      <td>60.3</td>\n",
       "      <td>[u'https://www.facebook.com/lootcrate', u'http...</td>\n",
       "      <td>http://www.lootcrate.com</td>\n",
       "      <td>lootcrate</td>\n",
       "    </tr>\n",
       "  </tbody>\n",
       "</table>\n",
       "</div>"
      ],
      "text/plain": [
       "   company_linkedin_url demo_present  \\\n",
       "0                   NaN         True   \n",
       "1                   NaN         True   \n",
       "2                   NaN         True   \n",
       "3                   NaN         True   \n",
       "4                   NaN        False   \n",
       "\n",
       "                                              emails    id login_present  \\\n",
       "0  [u'https://conversionista.se/en/conversion-jam...   850          True   \n",
       "1                                                 []  2180          True   \n",
       "2                                                 []   219          True   \n",
       "3                                                 []   218          True   \n",
       "4                                                 []  1557          True   \n",
       "\n",
       "                                    match_texts_test pricing_present  score  \\\n",
       "0  [((u'Pricing',), u\"There were some fabulous su...            True  127.5   \n",
       "1  [((u'trial',), u'Reviewsnap Performance Manage...            True  102.4   \n",
       "2  [((u'SaaS',), u\"We 'cloudify' over 60 best-of-...           False   74.0   \n",
       "3  [((u'SaaS',), u\"We 'cloudify' over 60 best-of-...           False   72.5   \n",
       "4  [((u'subscription',), u'Cancel Anytime\\nCancel...           False   60.3   \n",
       "\n",
       "                                                urls  \\\n",
       "0  [u'https://www.twitter.com/jbmoreno/status/251...   \n",
       "1  [u'https://www.twitter.com/reviewsnap', u'http...   \n",
       "2  [u'https://www.linkedin.com/company/avanan-inc...   \n",
       "3  [u'https://www.linkedin.com/company/avanan-inc...   \n",
       "4  [u'https://www.facebook.com/lootcrate', u'http...   \n",
       "\n",
       "                         website          domain  \n",
       "0  http://www.bryaneisenberg.com  bryaneisenberg  \n",
       "1      http://www.reviewsnap.com      reviewsnap  \n",
       "2          http://www.avanan.com          avanan  \n",
       "3          http://www.avanan.com          avanan  \n",
       "4       http://www.lootcrate.com       lootcrate  "
      ]
     },
     "execution_count": 14,
     "metadata": {},
     "output_type": "execute_result"
    }
   ],
   "source": [
    "df1.head()"
   ]
  },
  {
   "cell_type": "code",
   "execution_count": 15,
   "metadata": {
    "collapsed": false,
    "scrolled": true
   },
   "outputs": [
    {
     "data": {
      "text/html": [
       "<div>\n",
       "<table border=\"1\" class=\"dataframe\">\n",
       "  <thead>\n",
       "    <tr style=\"text-align: right;\">\n",
       "      <th></th>\n",
       "      <th>website</th>\n",
       "      <th>website_text</th>\n",
       "      <th>domain</th>\n",
       "    </tr>\n",
       "  </thead>\n",
       "  <tbody>\n",
       "    <tr>\n",
       "      <th>0</th>\n",
       "      <td>http://www.101edu.co</td>\n",
       "      <td>101 - Mobile-first learning tools built specif...</td>\n",
       "      <td>101edu</td>\n",
       "    </tr>\n",
       "    <tr>\n",
       "      <th>1</th>\n",
       "      <td>http://www.1776.vc</td>\n",
       "      <td>Where Innovation Begins | 1776 Startup Incubat...</td>\n",
       "      <td>1776</td>\n",
       "    </tr>\n",
       "    <tr>\n",
       "      <th>2</th>\n",
       "      <td>http://www.1871.com</td>\n",
       "      <td>1871 - Chicago's Technology &amp; Entrepreneurship...</td>\n",
       "      <td>1871</td>\n",
       "    </tr>\n",
       "    <tr>\n",
       "      <th>3</th>\n",
       "      <td>http://www.sero.uy</td>\n",
       "      <td>$ERO, la cuenta para los que no tienen cuenta ...</td>\n",
       "      <td>sero</td>\n",
       "    </tr>\n",
       "    <tr>\n",
       "      <th>4</th>\n",
       "      <td>http://www.tapslash.com</td>\n",
       "      <td>NaN</td>\n",
       "      <td>tapslash</td>\n",
       "    </tr>\n",
       "  </tbody>\n",
       "</table>\n",
       "</div>"
      ],
      "text/plain": [
       "                   website                                       website_text  \\\n",
       "0     http://www.101edu.co  101 - Mobile-first learning tools built specif...   \n",
       "1       http://www.1776.vc  Where Innovation Begins | 1776 Startup Incubat...   \n",
       "2      http://www.1871.com  1871 - Chicago's Technology & Entrepreneurship...   \n",
       "3       http://www.sero.uy  $ERO, la cuenta para los que no tienen cuenta ...   \n",
       "4  http://www.tapslash.com                                                NaN   \n",
       "\n",
       "     domain  \n",
       "0    101edu  \n",
       "1      1776  \n",
       "2      1871  \n",
       "3      sero  \n",
       "4  tapslash  "
      ]
     },
     "execution_count": 15,
     "metadata": {},
     "output_type": "execute_result"
    }
   ],
   "source": [
    "df2.head()"
   ]
  },
  {
   "cell_type": "code",
   "execution_count": 18,
   "metadata": {
    "collapsed": false
   },
   "outputs": [],
   "source": [
    "df = pd.merge(df1,df2,on='domain')"
   ]
  },
  {
   "cell_type": "code",
   "execution_count": 19,
   "metadata": {
    "collapsed": false,
    "scrolled": true
   },
   "outputs": [
    {
     "data": {
      "text/html": [
       "<div>\n",
       "<table border=\"1\" class=\"dataframe\">\n",
       "  <thead>\n",
       "    <tr style=\"text-align: right;\">\n",
       "      <th></th>\n",
       "      <th>company_linkedin_url</th>\n",
       "      <th>demo_present</th>\n",
       "      <th>emails</th>\n",
       "      <th>id</th>\n",
       "      <th>login_present</th>\n",
       "      <th>match_texts_test</th>\n",
       "      <th>pricing_present</th>\n",
       "      <th>score</th>\n",
       "      <th>urls</th>\n",
       "      <th>website_x</th>\n",
       "      <th>domain</th>\n",
       "      <th>website_y</th>\n",
       "      <th>website_text</th>\n",
       "    </tr>\n",
       "  </thead>\n",
       "  <tbody>\n",
       "    <tr>\n",
       "      <th>0</th>\n",
       "      <td>NaN</td>\n",
       "      <td>True</td>\n",
       "      <td>[u'https://conversionista.se/en/conversion-jam...</td>\n",
       "      <td>850</td>\n",
       "      <td>True</td>\n",
       "      <td>[((u'Pricing',), u\"There were some fabulous su...</td>\n",
       "      <td>True</td>\n",
       "      <td>127.5</td>\n",
       "      <td>[u'https://www.twitter.com/jbmoreno/status/251...</td>\n",
       "      <td>http://www.bryaneisenberg.com</td>\n",
       "      <td>bryaneisenberg</td>\n",
       "      <td>http://www.bryaneisenberg.com</td>\n",
       "      <td>Bryan &amp; Jeffrey Eisenberg - Professional Speak...</td>\n",
       "    </tr>\n",
       "    <tr>\n",
       "      <th>1</th>\n",
       "      <td>NaN</td>\n",
       "      <td>True</td>\n",
       "      <td>[]</td>\n",
       "      <td>2180</td>\n",
       "      <td>True</td>\n",
       "      <td>[((u'trial',), u'Reviewsnap Performance Manage...</td>\n",
       "      <td>True</td>\n",
       "      <td>102.4</td>\n",
       "      <td>[u'https://www.twitter.com/reviewsnap', u'http...</td>\n",
       "      <td>http://www.reviewsnap.com</td>\n",
       "      <td>reviewsnap</td>\n",
       "      <td>http://www.reviewsnap.com</td>\n",
       "      <td>Employee Performance Management Software Syste...</td>\n",
       "    </tr>\n",
       "    <tr>\n",
       "      <th>2</th>\n",
       "      <td>NaN</td>\n",
       "      <td>True</td>\n",
       "      <td>[]</td>\n",
       "      <td>219</td>\n",
       "      <td>True</td>\n",
       "      <td>[((u'SaaS',), u\"We 'cloudify' over 60 best-of-...</td>\n",
       "      <td>False</td>\n",
       "      <td>74.0</td>\n",
       "      <td>[u'https://www.linkedin.com/company/avanan-inc...</td>\n",
       "      <td>http://www.avanan.com</td>\n",
       "      <td>avanan</td>\n",
       "      <td>http://www.avanan.com</td>\n",
       "      <td>Avanan - The Cloud Security Platform\\n+1.855.5...</td>\n",
       "    </tr>\n",
       "    <tr>\n",
       "      <th>3</th>\n",
       "      <td>NaN</td>\n",
       "      <td>True</td>\n",
       "      <td>[]</td>\n",
       "      <td>219</td>\n",
       "      <td>True</td>\n",
       "      <td>[((u'SaaS',), u\"We 'cloudify' over 60 best-of-...</td>\n",
       "      <td>False</td>\n",
       "      <td>74.0</td>\n",
       "      <td>[u'https://www.linkedin.com/company/avanan-inc...</td>\n",
       "      <td>http://www.avanan.com</td>\n",
       "      <td>avanan</td>\n",
       "      <td>http://www.avanan.com</td>\n",
       "      <td>Avanan - The Cloud Security Platform\\n+1.855.5...</td>\n",
       "    </tr>\n",
       "    <tr>\n",
       "      <th>4</th>\n",
       "      <td>NaN</td>\n",
       "      <td>True</td>\n",
       "      <td>[]</td>\n",
       "      <td>218</td>\n",
       "      <td>True</td>\n",
       "      <td>[((u'SaaS',), u\"We 'cloudify' over 60 best-of-...</td>\n",
       "      <td>False</td>\n",
       "      <td>72.5</td>\n",
       "      <td>[u'https://www.linkedin.com/company/avanan-inc...</td>\n",
       "      <td>http://www.avanan.com</td>\n",
       "      <td>avanan</td>\n",
       "      <td>http://www.avanan.com</td>\n",
       "      <td>Avanan - The Cloud Security Platform\\n+1.855.5...</td>\n",
       "    </tr>\n",
       "  </tbody>\n",
       "</table>\n",
       "</div>"
      ],
      "text/plain": [
       "   company_linkedin_url demo_present  \\\n",
       "0                   NaN         True   \n",
       "1                   NaN         True   \n",
       "2                   NaN         True   \n",
       "3                   NaN         True   \n",
       "4                   NaN         True   \n",
       "\n",
       "                                              emails    id login_present  \\\n",
       "0  [u'https://conversionista.se/en/conversion-jam...   850          True   \n",
       "1                                                 []  2180          True   \n",
       "2                                                 []   219          True   \n",
       "3                                                 []   219          True   \n",
       "4                                                 []   218          True   \n",
       "\n",
       "                                    match_texts_test pricing_present  score  \\\n",
       "0  [((u'Pricing',), u\"There were some fabulous su...            True  127.5   \n",
       "1  [((u'trial',), u'Reviewsnap Performance Manage...            True  102.4   \n",
       "2  [((u'SaaS',), u\"We 'cloudify' over 60 best-of-...           False   74.0   \n",
       "3  [((u'SaaS',), u\"We 'cloudify' over 60 best-of-...           False   74.0   \n",
       "4  [((u'SaaS',), u\"We 'cloudify' over 60 best-of-...           False   72.5   \n",
       "\n",
       "                                                urls  \\\n",
       "0  [u'https://www.twitter.com/jbmoreno/status/251...   \n",
       "1  [u'https://www.twitter.com/reviewsnap', u'http...   \n",
       "2  [u'https://www.linkedin.com/company/avanan-inc...   \n",
       "3  [u'https://www.linkedin.com/company/avanan-inc...   \n",
       "4  [u'https://www.linkedin.com/company/avanan-inc...   \n",
       "\n",
       "                       website_x          domain  \\\n",
       "0  http://www.bryaneisenberg.com  bryaneisenberg   \n",
       "1      http://www.reviewsnap.com      reviewsnap   \n",
       "2          http://www.avanan.com          avanan   \n",
       "3          http://www.avanan.com          avanan   \n",
       "4          http://www.avanan.com          avanan   \n",
       "\n",
       "                       website_y  \\\n",
       "0  http://www.bryaneisenberg.com   \n",
       "1      http://www.reviewsnap.com   \n",
       "2          http://www.avanan.com   \n",
       "3          http://www.avanan.com   \n",
       "4          http://www.avanan.com   \n",
       "\n",
       "                                        website_text  \n",
       "0  Bryan & Jeffrey Eisenberg - Professional Speak...  \n",
       "1  Employee Performance Management Software Syste...  \n",
       "2  Avanan - The Cloud Security Platform\\n+1.855.5...  \n",
       "3  Avanan - The Cloud Security Platform\\n+1.855.5...  \n",
       "4  Avanan - The Cloud Security Platform\\n+1.855.5...  "
      ]
     },
     "execution_count": 19,
     "metadata": {},
     "output_type": "execute_result"
    }
   ],
   "source": [
    "df.head()"
   ]
  },
  {
   "cell_type": "code",
   "execution_count": 21,
   "metadata": {
    "collapsed": false
   },
   "outputs": [],
   "source": [
    "tfidf = vectorizer.transform(df['website_text'].fillna(''))"
   ]
  },
  {
   "cell_type": "code",
   "execution_count": 23,
   "metadata": {
    "collapsed": false
   },
   "outputs": [
    {
     "data": {
      "text/plain": [
       "(2322, 695)"
      ]
     },
     "execution_count": 23,
     "metadata": {},
     "output_type": "execute_result"
    }
   ],
   "source": [
    "tfidf_n_vars = hstack([tfidf,\n",
    "        csr_matrix(df[['demo_present','login_present','pricing_present']].values.astype(float))])\n",
    "tfidf_n_vars.shape"
   ]
  },
  {
   "cell_type": "code",
   "execution_count": 24,
   "metadata": {
    "collapsed": true
   },
   "outputs": [],
   "source": [
    "score = model.predict_proba(tfidf_n_vars)"
   ]
  },
  {
   "cell_type": "code",
   "execution_count": 32,
   "metadata": {
    "collapsed": false
   },
   "outputs": [],
   "source": [
    "df['saas_subscription_score'] = score[:,1]\n",
    "df['saas_subscription_score_bin'] = pd.cut(df['saas_subscription_score'],bin_boundaries,labels=bin_labels)"
   ]
  },
  {
   "cell_type": "code",
   "execution_count": 33,
   "metadata": {
    "collapsed": false
   },
   "outputs": [],
   "source": [
    "df_out = df[['id','website_x','domain','login_present','pricing_present','demo_present','score','saas_subscription_score','saas_subscription_score_bin']]\n",
    "df_out.columns = ['id','website','domain','login_present','pricing_present','demo_present','raw_score','saas_subscription_final_score','saas_subscription_score_bin']"
   ]
  },
  {
   "cell_type": "code",
   "execution_count": 34,
   "metadata": {
    "collapsed": true
   },
   "outputs": [],
   "source": [
    "df_out.to_excel('/home/madan/Desktop/joswin_bck/toPendrive/works/chargebee_enrichment/scoring_lists/dec28/Saas_data_for_scoring_with_scores.xls',index=False)"
   ]
  },
  {
   "cell_type": "code",
   "execution_count": 35,
   "metadata": {
    "collapsed": false
   },
   "outputs": [
    {
     "data": {
      "text/plain": [
       "1    357\n",
       "5    300\n",
       "4    267\n",
       "3    253\n",
       "6    232\n",
       "7    217\n",
       "0    192\n",
       "2    191\n",
       "9    187\n",
       "8    126\n",
       "Name: saas_subscription_score_bin, dtype: int64"
      ]
     },
     "execution_count": 35,
     "metadata": {},
     "output_type": "execute_result"
    }
   ],
   "source": [
    "df['saas_subscription_score_bin'].value_counts()"
   ]
  },
  {
   "cell_type": "code",
   "execution_count": 49,
   "metadata": {
    "collapsed": false
   },
   "outputs": [],
   "source": [
    "#second list\n",
    "df1 = pd.read_excel('/home/madan/Desktop/joswin_bck/toPendrive/works/chargebee_enrichment/scoring_lists/dec28/Saas_data_for_scoring_1_output.xls')\n",
    "df2 = pd.read_csv('/home/madan/Desktop/joswin_bck/toPendrive/works/chargebee_enrichment/scoring_lists/dec28/Saas_data_for_scoring_1_output_all_texts.csv',\n",
    "                 names = ['website','website_text'])"
   ]
  },
  {
   "cell_type": "code",
   "execution_count": 50,
   "metadata": {
    "collapsed": true
   },
   "outputs": [],
   "source": [
    "df1['domain'] = df1['website'].apply(lambda x: tldextract.extract(x).domain)\n",
    "df2['domain'] = df2['website'].apply(lambda x: tldextract.extract(x).domain)"
   ]
  },
  {
   "cell_type": "code",
   "execution_count": 51,
   "metadata": {
    "collapsed": true
   },
   "outputs": [],
   "source": [
    "df = pd.merge(df1,df2,on='domain')"
   ]
  },
  {
   "cell_type": "code",
   "execution_count": 52,
   "metadata": {
    "collapsed": false
   },
   "outputs": [
    {
     "data": {
      "text/plain": [
       "(127, 695)"
      ]
     },
     "execution_count": 52,
     "metadata": {},
     "output_type": "execute_result"
    }
   ],
   "source": [
    "tfidf = vectorizer.transform(df['website_text'].fillna(''))\n",
    "tfidf_n_vars = hstack([tfidf,\n",
    "        csr_matrix(df[['demo_present','login_present','pricing_present']].values.astype(float))])\n",
    "tfidf_n_vars.shape"
   ]
  },
  {
   "cell_type": "code",
   "execution_count": 53,
   "metadata": {
    "collapsed": true
   },
   "outputs": [],
   "source": [
    "score = model.predict_proba(tfidf_n_vars)\n",
    "df['saas_subscription_score'] = score[:,1]\n",
    "df['saas_subscription_score_bin'] = pd.cut(df['saas_subscription_score'],bin_boundaries,labels=bin_labels)"
   ]
  },
  {
   "cell_type": "code",
   "execution_count": 54,
   "metadata": {
    "collapsed": true
   },
   "outputs": [],
   "source": [
    "df_out = df[['id','website_x','domain','login_present','pricing_present','demo_present','score','saas_subscription_score','saas_subscription_score_bin']]\n",
    "df_out.columns = ['id','website','domain','login_present','pricing_present','demo_present','raw_score','saas_subscription_final_score','saas_subscription_score_bin']"
   ]
  },
  {
   "cell_type": "code",
   "execution_count": 55,
   "metadata": {
    "collapsed": true
   },
   "outputs": [],
   "source": [
    "df_out.to_excel('/home/madan/Desktop/joswin_bck/toPendrive/works/chargebee_enrichment/scoring_lists/dec28/Saas_data_for_scoring_1_with_scores.xls',index=False)"
   ]
  },
  {
   "cell_type": "code",
   "execution_count": 60,
   "metadata": {
    "collapsed": false
   },
   "outputs": [
    {
     "name": "stderr",
     "output_type": "stream",
     "text": [
      "/usr/local/lib/python2.7/dist-packages/ipykernel/__main__.py:1: FutureWarning: sort(....) is deprecated, use sort_index(.....)\n",
      "  if __name__ == '__main__':\n"
     ]
    },
    {
     "data": {
      "text/html": [
       "<div>\n",
       "<table border=\"1\" class=\"dataframe\">\n",
       "  <thead>\n",
       "    <tr style=\"text-align: right;\">\n",
       "      <th></th>\n",
       "      <th>saas_subscription_score_bin</th>\n",
       "    </tr>\n",
       "  </thead>\n",
       "  <tbody>\n",
       "    <tr>\n",
       "      <th>0</th>\n",
       "      <td>9</td>\n",
       "    </tr>\n",
       "    <tr>\n",
       "      <th>1</th>\n",
       "      <td>23</td>\n",
       "    </tr>\n",
       "    <tr>\n",
       "      <th>2</th>\n",
       "      <td>6</td>\n",
       "    </tr>\n",
       "    <tr>\n",
       "      <th>3</th>\n",
       "      <td>18</td>\n",
       "    </tr>\n",
       "    <tr>\n",
       "      <th>4</th>\n",
       "      <td>17</td>\n",
       "    </tr>\n",
       "    <tr>\n",
       "      <th>5</th>\n",
       "      <td>16</td>\n",
       "    </tr>\n",
       "    <tr>\n",
       "      <th>6</th>\n",
       "      <td>13</td>\n",
       "    </tr>\n",
       "    <tr>\n",
       "      <th>7</th>\n",
       "      <td>13</td>\n",
       "    </tr>\n",
       "    <tr>\n",
       "      <th>8</th>\n",
       "      <td>0</td>\n",
       "    </tr>\n",
       "    <tr>\n",
       "      <th>9</th>\n",
       "      <td>12</td>\n",
       "    </tr>\n",
       "  </tbody>\n",
       "</table>\n",
       "</div>"
      ],
      "text/plain": [
       "   saas_subscription_score_bin\n",
       "0                            9\n",
       "1                           23\n",
       "2                            6\n",
       "3                           18\n",
       "4                           17\n",
       "5                           16\n",
       "6                           13\n",
       "7                           13\n",
       "8                            0\n",
       "9                           12"
      ]
     },
     "execution_count": 60,
     "metadata": {},
     "output_type": "execute_result"
    }
   ],
   "source": [
    "pd.DataFrame(df['saas_subscription_score_bin'].value_counts()).sort()"
   ]
  }
 ],
 "metadata": {
  "kernelspec": {
   "display_name": "Python 2",
   "language": "python",
   "name": "python2"
  },
  "language_info": {
   "codemirror_mode": {
    "name": "ipython",
    "version": 2
   },
   "file_extension": ".py",
   "mimetype": "text/x-python",
   "name": "python",
   "nbconvert_exporter": "python",
   "pygments_lexer": "ipython2",
   "version": "2.7.3"
  }
 },
 "nbformat": 4,
 "nbformat_minor": 1
}
