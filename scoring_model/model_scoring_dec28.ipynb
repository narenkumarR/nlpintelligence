{
 "cells": [
  {
   "cell_type": "code",
   "execution_count": 1,
   "metadata": {
    "collapsed": true
   },
   "outputs": [],
   "source": [
    "import pickle\n",
    "import pandas as pd\n",
    "from scipy.sparse import hstack\n",
    "from scipy.sparse.csr import csr_matrix\n",
    "import tldextract"
   ]
  },
  {
   "cell_type": "code",
   "execution_count": 2,
   "metadata": {
    "collapsed": true
   },
   "outputs": [],
   "source": [
    "with open('chargebee_model_objects_jan5.pkl','r') as f:\n",
    "    tmp = pickle.load(f)\n",
    "vectorizer,model,bin_boundaries,bin_labels = tmp['vectorizer'],tmp['model'],tmp['bin_boundaries'],tmp['bin_labels']"
   ]
  },
  {
   "cell_type": "markdown",
   "metadata": {},
   "source": [
    "### dec 28 list for scoring"
   ]
  },
  {
   "cell_type": "code",
   "execution_count": 10,
   "metadata": {
    "collapsed": false
   },
   "outputs": [],
   "source": [
    "df1 = pd.read_excel('/home/madan/Desktop/joswin_bck/toPendrive/works/chargebee_enrichment/scoring_lists/dec28/Saas_data_for_scoring_output.xls')\n",
    "df2 = pd.read_csv('/home/madan/Desktop/joswin_bck/toPendrive/works/chargebee_enrichment/scoring_lists/dec28/Saas_data_for_scoring_output_all_texts.csv',\n",
    "                 names = ['website','website_text'])"
   ]
  },
  {
   "cell_type": "code",
   "execution_count": 13,
   "metadata": {
    "collapsed": false
   },
   "outputs": [
    {
     "name": "stderr",
     "output_type": "stream",
     "text": [
      "No handlers could be found for logger \"tldextract\"\n"
     ]
    }
   ],
   "source": [
    "df1['domain'] = df1['website'].apply(lambda x: tldextract.extract(x).domain)\n",
    "df2['domain'] = df2['website'].apply(lambda x: tldextract.extract(x).domain)"
   ]
  },
  {
   "cell_type": "code",
   "execution_count": 14,
   "metadata": {
    "collapsed": false,
    "scrolled": true
   },
   "outputs": [
    {
     "data": {
      "text/html": [
       "<div>\n",
       "<table border=\"1\" class=\"dataframe\">\n",
       "  <thead>\n",
       "    <tr style=\"text-align: right;\">\n",
       "      <th></th>\n",
       "      <th>company_linkedin_url</th>\n",
       "      <th>demo_present</th>\n",
       "      <th>emails</th>\n",
       "      <th>id</th>\n",
       "      <th>login_present</th>\n",
       "      <th>match_texts_test</th>\n",
       "      <th>pricing_present</th>\n",
       "      <th>score</th>\n",
       "      <th>urls</th>\n",
       "      <th>website</th>\n",
       "      <th>domain</th>\n",
       "    </tr>\n",
       "  </thead>\n",
       "  <tbody>\n",
       "    <tr>\n",
       "      <th>0</th>\n",
       "      <td>NaN</td>\n",
       "      <td>True</td>\n",
       "      <td>[u'https://conversionista.se/en/conversion-jam...</td>\n",
       "      <td>850</td>\n",
       "      <td>True</td>\n",
       "      <td>[((u'Pricing',), u\"There were some fabulous su...</td>\n",
       "      <td>True</td>\n",
       "      <td>127.5</td>\n",
       "      <td>[u'https://www.twitter.com/jbmoreno/status/251...</td>\n",
       "      <td>http://www.bryaneisenberg.com</td>\n",
       "      <td>bryaneisenberg</td>\n",
       "    </tr>\n",
       "    <tr>\n",
       "      <th>1</th>\n",
       "      <td>NaN</td>\n",
       "      <td>True</td>\n",
       "      <td>[]</td>\n",
       "      <td>2180</td>\n",
       "      <td>True</td>\n",
       "      <td>[((u'trial',), u'Reviewsnap Performance Manage...</td>\n",
       "      <td>True</td>\n",
       "      <td>102.4</td>\n",
       "      <td>[u'https://www.twitter.com/reviewsnap', u'http...</td>\n",
       "      <td>http://www.reviewsnap.com</td>\n",
       "      <td>reviewsnap</td>\n",
       "    </tr>\n",
       "    <tr>\n",
       "      <th>2</th>\n",
       "      <td>NaN</td>\n",
       "      <td>True</td>\n",
       "      <td>[]</td>\n",
       "      <td>219</td>\n",
       "      <td>True</td>\n",
       "      <td>[((u'SaaS',), u\"We 'cloudify' over 60 best-of-...</td>\n",
       "      <td>False</td>\n",
       "      <td>74.0</td>\n",
       "      <td>[u'https://www.linkedin.com/company/avanan-inc...</td>\n",
       "      <td>http://www.avanan.com</td>\n",
       "      <td>avanan</td>\n",
       "    </tr>\n",
       "    <tr>\n",
       "      <th>3</th>\n",
       "      <td>NaN</td>\n",
       "      <td>True</td>\n",
       "      <td>[]</td>\n",
       "      <td>218</td>\n",
       "      <td>True</td>\n",
       "      <td>[((u'SaaS',), u\"We 'cloudify' over 60 best-of-...</td>\n",
       "      <td>False</td>\n",
       "      <td>72.5</td>\n",
       "      <td>[u'https://www.linkedin.com/company/avanan-inc...</td>\n",
       "      <td>http://www.avanan.com</td>\n",
       "      <td>avanan</td>\n",
       "    </tr>\n",
       "    <tr>\n",
       "      <th>4</th>\n",
       "      <td>NaN</td>\n",
       "      <td>False</td>\n",
       "      <td>[]</td>\n",
       "      <td>1557</td>\n",
       "      <td>True</td>\n",
       "      <td>[((u'subscription',), u'Cancel Anytime\\nCancel...</td>\n",
       "      <td>False</td>\n",
       "      <td>60.3</td>\n",
       "      <td>[u'https://www.facebook.com/lootcrate', u'http...</td>\n",
       "      <td>http://www.lootcrate.com</td>\n",
       "      <td>lootcrate</td>\n",
       "    </tr>\n",
       "  </tbody>\n",
       "</table>\n",
       "</div>"
      ],
      "text/plain": [
       "   company_linkedin_url demo_present  \\\n",
       "0                   NaN         True   \n",
       "1                   NaN         True   \n",
       "2                   NaN         True   \n",
       "3                   NaN         True   \n",
       "4                   NaN        False   \n",
       "\n",
       "                                              emails    id login_present  \\\n",
       "0  [u'https://conversionista.se/en/conversion-jam...   850          True   \n",
       "1                                                 []  2180          True   \n",
       "2                                                 []   219          True   \n",
       "3                                                 []   218          True   \n",
       "4                                                 []  1557          True   \n",
       "\n",
       "                                    match_texts_test pricing_present  score  \\\n",
       "0  [((u'Pricing',), u\"There were some fabulous su...            True  127.5   \n",
       "1  [((u'trial',), u'Reviewsnap Performance Manage...            True  102.4   \n",
       "2  [((u'SaaS',), u\"We 'cloudify' over 60 best-of-...           False   74.0   \n",
       "3  [((u'SaaS',), u\"We 'cloudify' over 60 best-of-...           False   72.5   \n",
       "4  [((u'subscription',), u'Cancel Anytime\\nCancel...           False   60.3   \n",
       "\n",
       "                                                urls  \\\n",
       "0  [u'https://www.twitter.com/jbmoreno/status/251...   \n",
       "1  [u'https://www.twitter.com/reviewsnap', u'http...   \n",
       "2  [u'https://www.linkedin.com/company/avanan-inc...   \n",
       "3  [u'https://www.linkedin.com/company/avanan-inc...   \n",
       "4  [u'https://www.facebook.com/lootcrate', u'http...   \n",
       "\n",
       "                         website          domain  \n",
       "0  http://www.bryaneisenberg.com  bryaneisenberg  \n",
       "1      http://www.reviewsnap.com      reviewsnap  \n",
       "2          http://www.avanan.com          avanan  \n",
       "3          http://www.avanan.com          avanan  \n",
       "4       http://www.lootcrate.com       lootcrate  "
      ]
     },
     "execution_count": 14,
     "metadata": {},
     "output_type": "execute_result"
    }
   ],
   "source": [
    "df1.head()"
   ]
  },
  {
   "cell_type": "code",
   "execution_count": 15,
   "metadata": {
    "collapsed": false,
    "scrolled": true
   },
   "outputs": [
    {
     "data": {
      "text/html": [
       "<div>\n",
       "<table border=\"1\" class=\"dataframe\">\n",
       "  <thead>\n",
       "    <tr style=\"text-align: right;\">\n",
       "      <th></th>\n",
       "      <th>website</th>\n",
       "      <th>website_text</th>\n",
       "      <th>domain</th>\n",
       "    </tr>\n",
       "  </thead>\n",
       "  <tbody>\n",
       "    <tr>\n",
       "      <th>0</th>\n",
       "      <td>http://www.101edu.co</td>\n",
       "      <td>101 - Mobile-first learning tools built specif...</td>\n",
       "      <td>101edu</td>\n",
       "    </tr>\n",
       "    <tr>\n",
       "      <th>1</th>\n",
       "      <td>http://www.1776.vc</td>\n",
       "      <td>Where Innovation Begins | 1776 Startup Incubat...</td>\n",
       "      <td>1776</td>\n",
       "    </tr>\n",
       "    <tr>\n",
       "      <th>2</th>\n",
       "      <td>http://www.1871.com</td>\n",
       "      <td>1871 - Chicago's Technology &amp; Entrepreneurship...</td>\n",
       "      <td>1871</td>\n",
       "    </tr>\n",
       "    <tr>\n",
       "      <th>3</th>\n",
       "      <td>http://www.sero.uy</td>\n",
       "      <td>$ERO, la cuenta para los que no tienen cuenta ...</td>\n",
       "      <td>sero</td>\n",
       "    </tr>\n",
       "    <tr>\n",
       "      <th>4</th>\n",
       "      <td>http://www.tapslash.com</td>\n",
       "      <td>NaN</td>\n",
       "      <td>tapslash</td>\n",
       "    </tr>\n",
       "  </tbody>\n",
       "</table>\n",
       "</div>"
      ],
      "text/plain": [
       "                   website                                       website_text  \\\n",
       "0     http://www.101edu.co  101 - Mobile-first learning tools built specif...   \n",
       "1       http://www.1776.vc  Where Innovation Begins | 1776 Startup Incubat...   \n",
       "2      http://www.1871.com  1871 - Chicago's Technology & Entrepreneurship...   \n",
       "3       http://www.sero.uy  $ERO, la cuenta para los que no tienen cuenta ...   \n",
       "4  http://www.tapslash.com                                                NaN   \n",
       "\n",
       "     domain  \n",
       "0    101edu  \n",
       "1      1776  \n",
       "2      1871  \n",
       "3      sero  \n",
       "4  tapslash  "
      ]
     },
     "execution_count": 15,
     "metadata": {},
     "output_type": "execute_result"
    }
   ],
   "source": [
    "df2.head()"
   ]
  },
  {
   "cell_type": "code",
   "execution_count": 18,
   "metadata": {
    "collapsed": false
   },
   "outputs": [],
   "source": [
    "df = pd.merge(df1,df2,on='domain')"
   ]
  },
  {
   "cell_type": "code",
   "execution_count": 19,
   "metadata": {
    "collapsed": false,
    "scrolled": true
   },
   "outputs": [
    {
     "data": {
      "text/html": [
       "<div>\n",
       "<table border=\"1\" class=\"dataframe\">\n",
       "  <thead>\n",
       "    <tr style=\"text-align: right;\">\n",
       "      <th></th>\n",
       "      <th>company_linkedin_url</th>\n",
       "      <th>demo_present</th>\n",
       "      <th>emails</th>\n",
       "      <th>id</th>\n",
       "      <th>login_present</th>\n",
       "      <th>match_texts_test</th>\n",
       "      <th>pricing_present</th>\n",
       "      <th>score</th>\n",
       "      <th>urls</th>\n",
       "      <th>website_x</th>\n",
       "      <th>domain</th>\n",
       "      <th>website_y</th>\n",
       "      <th>website_text</th>\n",
       "    </tr>\n",
       "  </thead>\n",
       "  <tbody>\n",
       "    <tr>\n",
       "      <th>0</th>\n",
       "      <td>NaN</td>\n",
       "      <td>True</td>\n",
       "      <td>[u'https://conversionista.se/en/conversion-jam...</td>\n",
       "      <td>850</td>\n",
       "      <td>True</td>\n",
       "      <td>[((u'Pricing',), u\"There were some fabulous su...</td>\n",
       "      <td>True</td>\n",
       "      <td>127.5</td>\n",
       "      <td>[u'https://www.twitter.com/jbmoreno/status/251...</td>\n",
       "      <td>http://www.bryaneisenberg.com</td>\n",
       "      <td>bryaneisenberg</td>\n",
       "      <td>http://www.bryaneisenberg.com</td>\n",
       "      <td>Bryan &amp; Jeffrey Eisenberg - Professional Speak...</td>\n",
       "    </tr>\n",
       "    <tr>\n",
       "      <th>1</th>\n",
       "      <td>NaN</td>\n",
       "      <td>True</td>\n",
       "      <td>[]</td>\n",
       "      <td>2180</td>\n",
       "      <td>True</td>\n",
       "      <td>[((u'trial',), u'Reviewsnap Performance Manage...</td>\n",
       "      <td>True</td>\n",
       "      <td>102.4</td>\n",
       "      <td>[u'https://www.twitter.com/reviewsnap', u'http...</td>\n",
       "      <td>http://www.reviewsnap.com</td>\n",
       "      <td>reviewsnap</td>\n",
       "      <td>http://www.reviewsnap.com</td>\n",
       "      <td>Employee Performance Management Software Syste...</td>\n",
       "    </tr>\n",
       "    <tr>\n",
       "      <th>2</th>\n",
       "      <td>NaN</td>\n",
       "      <td>True</td>\n",
       "      <td>[]</td>\n",
       "      <td>219</td>\n",
       "      <td>True</td>\n",
       "      <td>[((u'SaaS',), u\"We 'cloudify' over 60 best-of-...</td>\n",
       "      <td>False</td>\n",
       "      <td>74.0</td>\n",
       "      <td>[u'https://www.linkedin.com/company/avanan-inc...</td>\n",
       "      <td>http://www.avanan.com</td>\n",
       "      <td>avanan</td>\n",
       "      <td>http://www.avanan.com</td>\n",
       "      <td>Avanan - The Cloud Security Platform\\n+1.855.5...</td>\n",
       "    </tr>\n",
       "    <tr>\n",
       "      <th>3</th>\n",
       "      <td>NaN</td>\n",
       "      <td>True</td>\n",
       "      <td>[]</td>\n",
       "      <td>219</td>\n",
       "      <td>True</td>\n",
       "      <td>[((u'SaaS',), u\"We 'cloudify' over 60 best-of-...</td>\n",
       "      <td>False</td>\n",
       "      <td>74.0</td>\n",
       "      <td>[u'https://www.linkedin.com/company/avanan-inc...</td>\n",
       "      <td>http://www.avanan.com</td>\n",
       "      <td>avanan</td>\n",
       "      <td>http://www.avanan.com</td>\n",
       "      <td>Avanan - The Cloud Security Platform\\n+1.855.5...</td>\n",
       "    </tr>\n",
       "    <tr>\n",
       "      <th>4</th>\n",
       "      <td>NaN</td>\n",
       "      <td>True</td>\n",
       "      <td>[]</td>\n",
       "      <td>218</td>\n",
       "      <td>True</td>\n",
       "      <td>[((u'SaaS',), u\"We 'cloudify' over 60 best-of-...</td>\n",
       "      <td>False</td>\n",
       "      <td>72.5</td>\n",
       "      <td>[u'https://www.linkedin.com/company/avanan-inc...</td>\n",
       "      <td>http://www.avanan.com</td>\n",
       "      <td>avanan</td>\n",
       "      <td>http://www.avanan.com</td>\n",
       "      <td>Avanan - The Cloud Security Platform\\n+1.855.5...</td>\n",
       "    </tr>\n",
       "  </tbody>\n",
       "</table>\n",
       "</div>"
      ],
      "text/plain": [
       "   company_linkedin_url demo_present  \\\n",
       "0                   NaN         True   \n",
       "1                   NaN         True   \n",
       "2                   NaN         True   \n",
       "3                   NaN         True   \n",
       "4                   NaN         True   \n",
       "\n",
       "                                              emails    id login_present  \\\n",
       "0  [u'https://conversionista.se/en/conversion-jam...   850          True   \n",
       "1                                                 []  2180          True   \n",
       "2                                                 []   219          True   \n",
       "3                                                 []   219          True   \n",
       "4                                                 []   218          True   \n",
       "\n",
       "                                    match_texts_test pricing_present  score  \\\n",
       "0  [((u'Pricing',), u\"There were some fabulous su...            True  127.5   \n",
       "1  [((u'trial',), u'Reviewsnap Performance Manage...            True  102.4   \n",
       "2  [((u'SaaS',), u\"We 'cloudify' over 60 best-of-...           False   74.0   \n",
       "3  [((u'SaaS',), u\"We 'cloudify' over 60 best-of-...           False   74.0   \n",
       "4  [((u'SaaS',), u\"We 'cloudify' over 60 best-of-...           False   72.5   \n",
       "\n",
       "                                                urls  \\\n",
       "0  [u'https://www.twitter.com/jbmoreno/status/251...   \n",
       "1  [u'https://www.twitter.com/reviewsnap', u'http...   \n",
       "2  [u'https://www.linkedin.com/company/avanan-inc...   \n",
       "3  [u'https://www.linkedin.com/company/avanan-inc...   \n",
       "4  [u'https://www.linkedin.com/company/avanan-inc...   \n",
       "\n",
       "                       website_x          domain  \\\n",
       "0  http://www.bryaneisenberg.com  bryaneisenberg   \n",
       "1      http://www.reviewsnap.com      reviewsnap   \n",
       "2          http://www.avanan.com          avanan   \n",
       "3          http://www.avanan.com          avanan   \n",
       "4          http://www.avanan.com          avanan   \n",
       "\n",
       "                       website_y  \\\n",
       "0  http://www.bryaneisenberg.com   \n",
       "1      http://www.reviewsnap.com   \n",
       "2          http://www.avanan.com   \n",
       "3          http://www.avanan.com   \n",
       "4          http://www.avanan.com   \n",
       "\n",
       "                                        website_text  \n",
       "0  Bryan & Jeffrey Eisenberg - Professional Speak...  \n",
       "1  Employee Performance Management Software Syste...  \n",
       "2  Avanan - The Cloud Security Platform\\n+1.855.5...  \n",
       "3  Avanan - The Cloud Security Platform\\n+1.855.5...  \n",
       "4  Avanan - The Cloud Security Platform\\n+1.855.5...  "
      ]
     },
     "execution_count": 19,
     "metadata": {},
     "output_type": "execute_result"
    }
   ],
   "source": [
    "df.head()"
   ]
  },
  {
   "cell_type": "code",
   "execution_count": 21,
   "metadata": {
    "collapsed": false
   },
   "outputs": [],
   "source": [
    "tfidf = vectorizer.transform(df['website_text'].fillna(''))"
   ]
  },
  {
   "cell_type": "code",
   "execution_count": 23,
   "metadata": {
    "collapsed": false
   },
   "outputs": [
    {
     "data": {
      "text/plain": [
       "(2322, 695)"
      ]
     },
     "execution_count": 23,
     "metadata": {},
     "output_type": "execute_result"
    }
   ],
   "source": [
    "tfidf_n_vars = hstack([tfidf,\n",
    "        csr_matrix(df[['demo_present','login_present','pricing_present']].values.astype(float))])\n",
    "tfidf_n_vars.shape"
   ]
  },
  {
   "cell_type": "code",
   "execution_count": 24,
   "metadata": {
    "collapsed": true
   },
   "outputs": [],
   "source": [
    "score = model.predict_proba(tfidf_n_vars)"
   ]
  },
  {
   "cell_type": "code",
   "execution_count": 32,
   "metadata": {
    "collapsed": false
   },
   "outputs": [],
   "source": [
    "df['saas_subscription_score'] = score[:,1]\n",
    "df['saas_subscription_score_bin'] = pd.cut(df['saas_subscription_score'],bin_boundaries,labels=bin_labels)"
   ]
  },
  {
   "cell_type": "code",
   "execution_count": 33,
   "metadata": {
    "collapsed": false
   },
   "outputs": [],
   "source": [
    "df_out = df[['id','website_x','domain','login_present','pricing_present','demo_present','score','saas_subscription_score','saas_subscription_score_bin']]\n",
    "df_out.columns = ['id','website','domain','login_present','pricing_present','demo_present','raw_score','saas_subscription_final_score','saas_subscription_score_bin']"
   ]
  },
  {
   "cell_type": "code",
   "execution_count": 34,
   "metadata": {
    "collapsed": true
   },
   "outputs": [],
   "source": [
    "df_out.to_excel('/home/madan/Desktop/joswin_bck/toPendrive/works/chargebee_enrichment/scoring_lists/dec28/Saas_data_for_scoring_with_scores.xls',index=False)"
   ]
  },
  {
   "cell_type": "code",
   "execution_count": 35,
   "metadata": {
    "collapsed": false
   },
   "outputs": [
    {
     "data": {
      "text/plain": [
       "1    357\n",
       "5    300\n",
       "4    267\n",
       "3    253\n",
       "6    232\n",
       "7    217\n",
       "0    192\n",
       "2    191\n",
       "9    187\n",
       "8    126\n",
       "Name: saas_subscription_score_bin, dtype: int64"
      ]
     },
     "execution_count": 35,
     "metadata": {},
     "output_type": "execute_result"
    }
   ],
   "source": [
    "df['saas_subscription_score_bin'].value_counts()"
   ]
  },
  {
   "cell_type": "code",
   "execution_count": 49,
   "metadata": {
    "collapsed": false
   },
   "outputs": [],
   "source": [
    "#second list\n",
    "df1 = pd.read_excel('/home/madan/Desktop/joswin_bck/toPendrive/works/chargebee_enrichment/scoring_lists/dec28/Saas_data_for_scoring_1_output.xls')\n",
    "df2 = pd.read_csv('/home/madan/Desktop/joswin_bck/toPendrive/works/chargebee_enrichment/scoring_lists/dec28/Saas_data_for_scoring_1_output_all_texts.csv',\n",
    "                 names = ['website','website_text'])"
   ]
  },
  {
   "cell_type": "code",
   "execution_count": 50,
   "metadata": {
    "collapsed": true
   },
   "outputs": [],
   "source": [
    "df1['domain'] = df1['website'].apply(lambda x: tldextract.extract(x).domain)\n",
    "df2['domain'] = df2['website'].apply(lambda x: tldextract.extract(x).domain)"
   ]
  },
  {
   "cell_type": "code",
   "execution_count": 51,
   "metadata": {
    "collapsed": true
   },
   "outputs": [],
   "source": [
    "df = pd.merge(df1,df2,on='domain')"
   ]
  },
  {
   "cell_type": "code",
   "execution_count": 52,
   "metadata": {
    "collapsed": false
   },
   "outputs": [
    {
     "data": {
      "text/plain": [
       "(127, 695)"
      ]
     },
     "execution_count": 52,
     "metadata": {},
     "output_type": "execute_result"
    }
   ],
   "source": [
    "tfidf = vectorizer.transform(df['website_text'].fillna(''))\n",
    "tfidf_n_vars = hstack([tfidf,\n",
    "        csr_matrix(df[['demo_present','login_present','pricing_present']].values.astype(float))])\n",
    "tfidf_n_vars.shape"
   ]
  },
  {
   "cell_type": "code",
   "execution_count": 53,
   "metadata": {
    "collapsed": true
   },
   "outputs": [],
   "source": [
    "score = model.predict_proba(tfidf_n_vars)\n",
    "df['saas_subscription_score'] = score[:,1]\n",
    "df['saas_subscription_score_bin'] = pd.cut(df['saas_subscription_score'],bin_boundaries,labels=bin_labels)"
   ]
  },
  {
   "cell_type": "code",
   "execution_count": 54,
   "metadata": {
    "collapsed": true
   },
   "outputs": [],
   "source": [
    "df_out = df[['id','website_x','domain','login_present','pricing_present','demo_present','score','saas_subscription_score','saas_subscription_score_bin']]\n",
    "df_out.columns = ['id','website','domain','login_present','pricing_present','demo_present','raw_score','saas_subscription_final_score','saas_subscription_score_bin']"
   ]
  },
  {
   "cell_type": "code",
   "execution_count": 55,
   "metadata": {
    "collapsed": true
   },
   "outputs": [],
   "source": [
    "df_out.to_excel('/home/madan/Desktop/joswin_bck/toPendrive/works/chargebee_enrichment/scoring_lists/dec28/Saas_data_for_scoring_1_with_scores.xls',index=False)"
   ]
  },
  {
   "cell_type": "code",
   "execution_count": 60,
   "metadata": {
    "collapsed": false
   },
   "outputs": [
    {
     "name": "stderr",
     "output_type": "stream",
     "text": [
      "/usr/local/lib/python2.7/dist-packages/ipykernel/__main__.py:1: FutureWarning: sort(....) is deprecated, use sort_index(.....)\n",
      "  if __name__ == '__main__':\n"
     ]
    },
    {
     "data": {
      "text/html": [
       "<div>\n",
       "<table border=\"1\" class=\"dataframe\">\n",
       "  <thead>\n",
       "    <tr style=\"text-align: right;\">\n",
       "      <th></th>\n",
       "      <th>saas_subscription_score_bin</th>\n",
       "    </tr>\n",
       "  </thead>\n",
       "  <tbody>\n",
       "    <tr>\n",
       "      <th>0</th>\n",
       "      <td>9</td>\n",
       "    </tr>\n",
       "    <tr>\n",
       "      <th>1</th>\n",
       "      <td>23</td>\n",
       "    </tr>\n",
       "    <tr>\n",
       "      <th>2</th>\n",
       "      <td>6</td>\n",
       "    </tr>\n",
       "    <tr>\n",
       "      <th>3</th>\n",
       "      <td>18</td>\n",
       "    </tr>\n",
       "    <tr>\n",
       "      <th>4</th>\n",
       "      <td>17</td>\n",
       "    </tr>\n",
       "    <tr>\n",
       "      <th>5</th>\n",
       "      <td>16</td>\n",
       "    </tr>\n",
       "    <tr>\n",
       "      <th>6</th>\n",
       "      <td>13</td>\n",
       "    </tr>\n",
       "    <tr>\n",
       "      <th>7</th>\n",
       "      <td>13</td>\n",
       "    </tr>\n",
       "    <tr>\n",
       "      <th>8</th>\n",
       "      <td>0</td>\n",
       "    </tr>\n",
       "    <tr>\n",
       "      <th>9</th>\n",
       "      <td>12</td>\n",
       "    </tr>\n",
       "  </tbody>\n",
       "</table>\n",
       "</div>"
      ],
      "text/plain": [
       "   saas_subscription_score_bin\n",
       "0                            9\n",
       "1                           23\n",
       "2                            6\n",
       "3                           18\n",
       "4                           17\n",
       "5                           16\n",
       "6                           13\n",
       "7                           13\n",
       "8                            0\n",
       "9                           12"
      ]
     },
     "execution_count": 60,
     "metadata": {},
     "output_type": "execute_result"
    }
   ],
   "source": [
    "pd.DataFrame(df['saas_subscription_score_bin'].value_counts()).sort()"
   ]
  },
  {
   "cell_type": "markdown",
   "metadata": {},
   "source": [
    "### jan2 list"
   ]
  },
  {
   "cell_type": "code",
   "execution_count": 7,
   "metadata": {
    "collapsed": true
   },
   "outputs": [],
   "source": [
    "tmp1 = pd.read_csv('/home/madan/Desktop/joswin_bck/toPendrive/works/chargebee_works/nlp-intelligence/scoring_lists/jan02_shrikanth/SFCustomers_Sample_out.csv')\n",
    "tmp2 = pd.read_csv('/home/madan/Desktop/joswin_bck/toPendrive/works/chargebee_works/nlp-intelligence/scoring_lists/jan02_shrikanth/SFCustomers_Sample1_out.csv')\n",
    "tmp11 = pd.read_csv('/home/madan/Desktop/joswin_bck/toPendrive/works/chargebee_works/nlp-intelligence/scoring_lists/jan02_shrikanth/SFCustomers_Sample_out_all_texts.csv',names=['website','website_text'])\n",
    "tmp21 = pd.read_csv('/home/madan/Desktop/joswin_bck/toPendrive/works/chargebee_works/nlp-intelligence/scoring_lists/jan02_shrikanth/SFCustomers_Sample1_out_all_texts.csv',names=['website','website_text'])"
   ]
  },
  {
   "cell_type": "code",
   "execution_count": 11,
   "metadata": {
    "collapsed": false
   },
   "outputs": [],
   "source": [
    "tmp1_1 = pd.merge(tmp1,tmp11,on='website')\n",
    "tmp2_1 = pd.merge(tmp2,tmp21,on='website')"
   ]
  },
  {
   "cell_type": "code",
   "execution_count": 16,
   "metadata": {
    "collapsed": false
   },
   "outputs": [
    {
     "data": {
      "text/plain": [
       "(64, 11)"
      ]
     },
     "execution_count": 16,
     "metadata": {},
     "output_type": "execute_result"
    }
   ],
   "source": [
    "tmp = pd.concat([tmp1_1,tmp2_1])\n",
    "tmp.shape"
   ]
  },
  {
   "cell_type": "code",
   "execution_count": 17,
   "metadata": {
    "collapsed": false
   },
   "outputs": [
    {
     "data": {
      "text/plain": [
       "(64, 695)"
      ]
     },
     "execution_count": 17,
     "metadata": {},
     "output_type": "execute_result"
    }
   ],
   "source": [
    "tfidf = vectorizer.transform(tmp['website_text'].fillna(''))\n",
    "tfidf_n_vars = hstack([tfidf,\n",
    "        csr_matrix(tmp[['demo_present','login_present','pricing_present']].values.astype(float))])\n",
    "tfidf_n_vars.shape"
   ]
  },
  {
   "cell_type": "code",
   "execution_count": 19,
   "metadata": {
    "collapsed": false
   },
   "outputs": [],
   "source": [
    "score = model.predict_proba(tfidf_n_vars)\n",
    "tmp['saas_subscription_score'] = score[:,1]\n",
    "tmp['saas_subscription_score_bin'] = pd.cut(tmp['saas_subscription_score'],bin_boundaries,labels=bin_labels)"
   ]
  },
  {
   "cell_type": "code",
   "execution_count": 20,
   "metadata": {
    "collapsed": false
   },
   "outputs": [
    {
     "name": "stderr",
     "output_type": "stream",
     "text": [
      "/usr/local/lib/python2.7/dist-packages/ipykernel/__main__.py:1: FutureWarning: sort(....) is deprecated, use sort_index(.....)\n",
      "  if __name__ == '__main__':\n"
     ]
    },
    {
     "data": {
      "text/html": [
       "<div>\n",
       "<table border=\"1\" class=\"dataframe\">\n",
       "  <thead>\n",
       "    <tr style=\"text-align: right;\">\n",
       "      <th></th>\n",
       "      <th>saas_subscription_score_bin</th>\n",
       "    </tr>\n",
       "  </thead>\n",
       "  <tbody>\n",
       "    <tr>\n",
       "      <th>0</th>\n",
       "      <td>3</td>\n",
       "    </tr>\n",
       "    <tr>\n",
       "      <th>1</th>\n",
       "      <td>9</td>\n",
       "    </tr>\n",
       "    <tr>\n",
       "      <th>2</th>\n",
       "      <td>7</td>\n",
       "    </tr>\n",
       "    <tr>\n",
       "      <th>3</th>\n",
       "      <td>4</td>\n",
       "    </tr>\n",
       "    <tr>\n",
       "      <th>4</th>\n",
       "      <td>12</td>\n",
       "    </tr>\n",
       "    <tr>\n",
       "      <th>5</th>\n",
       "      <td>13</td>\n",
       "    </tr>\n",
       "    <tr>\n",
       "      <th>6</th>\n",
       "      <td>7</td>\n",
       "    </tr>\n",
       "    <tr>\n",
       "      <th>7</th>\n",
       "      <td>5</td>\n",
       "    </tr>\n",
       "    <tr>\n",
       "      <th>8</th>\n",
       "      <td>3</td>\n",
       "    </tr>\n",
       "    <tr>\n",
       "      <th>9</th>\n",
       "      <td>1</td>\n",
       "    </tr>\n",
       "  </tbody>\n",
       "</table>\n",
       "</div>"
      ],
      "text/plain": [
       "   saas_subscription_score_bin\n",
       "0                            3\n",
       "1                            9\n",
       "2                            7\n",
       "3                            4\n",
       "4                           12\n",
       "5                           13\n",
       "6                            7\n",
       "7                            5\n",
       "8                            3\n",
       "9                            1"
      ]
     },
     "execution_count": 20,
     "metadata": {},
     "output_type": "execute_result"
    }
   ],
   "source": [
    "pd.DataFrame(tmp['saas_subscription_score_bin'].value_counts()).sort()"
   ]
  },
  {
   "cell_type": "code",
   "execution_count": 21,
   "metadata": {
    "collapsed": false,
    "scrolled": true
   },
   "outputs": [
    {
     "data": {
      "text/html": [
       "<div>\n",
       "<table border=\"1\" class=\"dataframe\">\n",
       "  <thead>\n",
       "    <tr style=\"text-align: right;\">\n",
       "      <th></th>\n",
       "      <th>company_linkedin_url</th>\n",
       "      <th>demo_present</th>\n",
       "      <th>emails</th>\n",
       "      <th>id</th>\n",
       "      <th>login_present</th>\n",
       "      <th>match_texts_test</th>\n",
       "      <th>pricing_present</th>\n",
       "      <th>score</th>\n",
       "      <th>urls</th>\n",
       "      <th>website</th>\n",
       "      <th>website_text</th>\n",
       "      <th>saas_subscription_score</th>\n",
       "      <th>saas_subscription_score_bin</th>\n",
       "    </tr>\n",
       "  </thead>\n",
       "  <tbody>\n",
       "    <tr>\n",
       "      <th>0</th>\n",
       "      <td>NaN</td>\n",
       "      <td>False</td>\n",
       "      <td>[u'mailto:LetUsHelpU@Cigna.com']</td>\n",
       "      <td>25</td>\n",
       "      <td>True</td>\n",
       "      <td>[((u'Plans', u'Plans', u'Plans', u'Plans'), u'...</td>\n",
       "      <td>True</td>\n",
       "      <td>309.2</td>\n",
       "      <td>[u'http://www.facebook.com/cigna', u'http://ww...</td>\n",
       "      <td>http://www.cigna.com</td>\n",
       "      <td>Cigna Health Insurance | Global Health Service...</td>\n",
       "      <td>0.391659</td>\n",
       "      <td>4</td>\n",
       "    </tr>\n",
       "    <tr>\n",
       "      <th>1</th>\n",
       "      <td>NaN</td>\n",
       "      <td>False</td>\n",
       "      <td>[]</td>\n",
       "      <td>63</td>\n",
       "      <td>False</td>\n",
       "      <td>[((u'Plans', u'Plans'), u'Log In\\nLog In to my...</td>\n",
       "      <td>True</td>\n",
       "      <td>79.9</td>\n",
       "      <td>[u'https://www.twitter.com/myUHC', u'https://w...</td>\n",
       "      <td>http://www.uhc.com</td>\n",
       "      <td>Health Insurance Plans for Individuals &amp; Famil...</td>\n",
       "      <td>0.412283</td>\n",
       "      <td>4</td>\n",
       "    </tr>\n",
       "    <tr>\n",
       "      <th>2</th>\n",
       "      <td>NaN</td>\n",
       "      <td>False</td>\n",
       "      <td>[u'mailto:custsvc@elavon.com?subject=Elavon Cu...</td>\n",
       "      <td>73</td>\n",
       "      <td>False</td>\n",
       "      <td>[((u'payment',), u'Our partnership model is de...</td>\n",
       "      <td>True</td>\n",
       "      <td>53.3</td>\n",
       "      <td>[]</td>\n",
       "      <td>http://www.elavon.com</td>\n",
       "      <td>Merchant Services | Elavon\\nCookie Policy\\nWhe...</td>\n",
       "      <td>0.668152</td>\n",
       "      <td>6</td>\n",
       "    </tr>\n",
       "    <tr>\n",
       "      <th>3</th>\n",
       "      <td>NaN</td>\n",
       "      <td>False</td>\n",
       "      <td>[u'mailto:SI.DRG@uhcsr.com', u'mailto:eftenrol...</td>\n",
       "      <td>60</td>\n",
       "      <td>True</td>\n",
       "      <td>[((u'payment',), u'In addition to receiving EF...</td>\n",
       "      <td>False</td>\n",
       "      <td>21.9</td>\n",
       "      <td>[u'http://www.facebook.com/changehealthcare', ...</td>\n",
       "      <td>http://www.uhcsr.com</td>\n",
       "      <td>Student Health Insurance - College Student Ins...</td>\n",
       "      <td>0.632146</td>\n",
       "      <td>6</td>\n",
       "    </tr>\n",
       "    <tr>\n",
       "      <th>4</th>\n",
       "      <td>NaN</td>\n",
       "      <td>False</td>\n",
       "      <td>[]</td>\n",
       "      <td>59</td>\n",
       "      <td>True</td>\n",
       "      <td>[((u'Payment',), u'AAPM: Advanced Alternative ...</td>\n",
       "      <td>True</td>\n",
       "      <td>17.8</td>\n",
       "      <td>[u'http://facebook.com/sharer.php?u=http://www...</td>\n",
       "      <td>http://www.optum.com</td>\n",
       "      <td>Health Services and Innovation Company\\nSkip t...</td>\n",
       "      <td>0.462763</td>\n",
       "      <td>5</td>\n",
       "    </tr>\n",
       "  </tbody>\n",
       "</table>\n",
       "</div>"
      ],
      "text/plain": [
       "   company_linkedin_url demo_present  \\\n",
       "0                   NaN        False   \n",
       "1                   NaN        False   \n",
       "2                   NaN        False   \n",
       "3                   NaN        False   \n",
       "4                   NaN        False   \n",
       "\n",
       "                                              emails  id login_present  \\\n",
       "0                   [u'mailto:LetUsHelpU@Cigna.com']  25          True   \n",
       "1                                                 []  63         False   \n",
       "2  [u'mailto:custsvc@elavon.com?subject=Elavon Cu...  73         False   \n",
       "3  [u'mailto:SI.DRG@uhcsr.com', u'mailto:eftenrol...  60          True   \n",
       "4                                                 []  59          True   \n",
       "\n",
       "                                    match_texts_test pricing_present  score  \\\n",
       "0  [((u'Plans', u'Plans', u'Plans', u'Plans'), u'...            True  309.2   \n",
       "1  [((u'Plans', u'Plans'), u'Log In\\nLog In to my...            True   79.9   \n",
       "2  [((u'payment',), u'Our partnership model is de...            True   53.3   \n",
       "3  [((u'payment',), u'In addition to receiving EF...           False   21.9   \n",
       "4  [((u'Payment',), u'AAPM: Advanced Alternative ...            True   17.8   \n",
       "\n",
       "                                                urls                website  \\\n",
       "0  [u'http://www.facebook.com/cigna', u'http://ww...   http://www.cigna.com   \n",
       "1  [u'https://www.twitter.com/myUHC', u'https://w...     http://www.uhc.com   \n",
       "2                                                 []  http://www.elavon.com   \n",
       "3  [u'http://www.facebook.com/changehealthcare', ...   http://www.uhcsr.com   \n",
       "4  [u'http://facebook.com/sharer.php?u=http://www...   http://www.optum.com   \n",
       "\n",
       "                                        website_text  saas_subscription_score  \\\n",
       "0  Cigna Health Insurance | Global Health Service...                 0.391659   \n",
       "1  Health Insurance Plans for Individuals & Famil...                 0.412283   \n",
       "2  Merchant Services | Elavon\\nCookie Policy\\nWhe...                 0.668152   \n",
       "3  Student Health Insurance - College Student Ins...                 0.632146   \n",
       "4  Health Services and Innovation Company\\nSkip t...                 0.462763   \n",
       "\n",
       "  saas_subscription_score_bin  \n",
       "0                           4  \n",
       "1                           4  \n",
       "2                           6  \n",
       "3                           6  \n",
       "4                           5  "
      ]
     },
     "execution_count": 21,
     "metadata": {},
     "output_type": "execute_result"
    }
   ],
   "source": [
    "tmp.head()"
   ]
  },
  {
   "cell_type": "code",
   "execution_count": 24,
   "metadata": {
    "collapsed": false
   },
   "outputs": [],
   "source": [
    "tmp[['id','website','login_present','pricing_present','demo_present','score','saas_subscription_score',\n",
    "     'saas_subscription_score_bin']].to_excel(\n",
    "    '/home/madan/Desktop/joswin_bck/toPendrive/works/chargebee_works/nlp-intelligence/scoring_lists/jan02_shrikanth/SFCustomers_Sample_scores.xlsx',\n",
    "index=False)"
   ]
  },
  {
   "cell_type": "markdown",
   "metadata": {},
   "source": [
    "### october list"
   ]
  },
  {
   "cell_type": "code",
   "execution_count": 55,
   "metadata": {
    "collapsed": true
   },
   "outputs": [],
   "source": [
    "df1 = pd.read_csv('/home/madan/Desktop/joswin_bck/toPendrive/works/chargebee_works/nlp-intelligence/scoring_lists/oct_list/OCT_2016_Subscriptions_for_scoring_crawler_output.csv')\n",
    "df2 = pd.read_csv('/home/madan/Desktop/joswin_bck/toPendrive/works/chargebee_works/nlp-intelligence/scoring_lists/oct_list/OCT_2016_Subscriptions_for_scoring_crawler_output_1.csv')\n",
    "df1_text = pd.read_csv('/home/madan/Desktop/joswin_bck/toPendrive/works/chargebee_works/nlp-intelligence/scoring_lists/oct_list/OCT_2016_Subscriptions_for_scoring_crawler_output_all_texts.csv',names=['website','website_text'])\n",
    "df2_text = pd.read_csv('/home/madan/Desktop/joswin_bck/toPendrive/works/chargebee_works/nlp-intelligence/scoring_lists/oct_list/OCT_2016_Subscriptions_for_scoring_crawler_output_1_all_texts.csv',names=['website','website_text'])"
   ]
  },
  {
   "cell_type": "code",
   "execution_count": 56,
   "metadata": {
    "collapsed": false
   },
   "outputs": [],
   "source": [
    "df1['domain'] = df1['website'].apply(lambda x: tldextract.extract(x).domain)\n",
    "df2['domain'] = df2['website'].apply(lambda x: tldextract.extract(x).domain)\n",
    "df1_text['domain'] = df1_text['website'].apply(lambda x: tldextract.extract(x).domain)\n",
    "df2_text['domain'] = df2_text['website'].apply(lambda x: tldextract.extract(x).domain)"
   ]
  },
  {
   "cell_type": "code",
   "execution_count": 57,
   "metadata": {
    "collapsed": false
   },
   "outputs": [
    {
     "data": {
      "text/html": [
       "<div>\n",
       "<table border=\"1\" class=\"dataframe\">\n",
       "  <thead>\n",
       "    <tr style=\"text-align: right;\">\n",
       "      <th></th>\n",
       "      <th>website</th>\n",
       "      <th>website_text</th>\n",
       "      <th>domain</th>\n",
       "    </tr>\n",
       "  </thead>\n",
       "  <tbody>\n",
       "    <tr>\n",
       "      <th>390</th>\n",
       "      <td>http://www.flexretentalsolutions.com</td>\n",
       "      <td>%htmlDTD;\\n%netErrorDTD;\\nCheck the address fo...</td>\n",
       "      <td>flexretentalsolutions</td>\n",
       "    </tr>\n",
       "  </tbody>\n",
       "</table>\n",
       "</div>"
      ],
      "text/plain": [
       "                                  website  \\\n",
       "390  http://www.flexretentalsolutions.com   \n",
       "\n",
       "                                          website_text                 domain  \n",
       "390  %htmlDTD;\\n%netErrorDTD;\\nCheck the address fo...  flexretentalsolutions  "
      ]
     },
     "execution_count": 57,
     "metadata": {},
     "output_type": "execute_result"
    }
   ],
   "source": [
    "df2_text[df2_text['domain']=='flexretentalsolutions']"
   ]
  },
  {
   "cell_type": "code",
   "execution_count": 10,
   "metadata": {
    "collapsed": false
   },
   "outputs": [
    {
     "data": {
      "text/plain": [
       "((471, 10), (471, 3), (794, 10), (794, 3))"
      ]
     },
     "execution_count": 10,
     "metadata": {},
     "output_type": "execute_result"
    }
   ],
   "source": [
    "df1.shape,df1_text.shape,df2.shape,df2_text.shape"
   ]
  },
  {
   "cell_type": "code",
   "execution_count": 58,
   "metadata": {
    "collapsed": false
   },
   "outputs": [
    {
     "data": {
      "text/plain": [
       "((533, 12), (471, 3), (890, 12), (794, 3))"
      ]
     },
     "execution_count": 58,
     "metadata": {},
     "output_type": "execute_result"
    }
   ],
   "source": [
    "df1 = pd.merge(df1,df1_text,on='domain')\n",
    "df2 = pd.merge(df2,df2_text,on='domain')\n",
    "df1.shape,df1_text.shape,df2.shape,df2_text.shape"
   ]
  },
  {
   "cell_type": "code",
   "execution_count": 59,
   "metadata": {
    "collapsed": false
   },
   "outputs": [
    {
     "data": {
      "text/plain": [
       "((450, 12), (759, 12))"
      ]
     },
     "execution_count": 59,
     "metadata": {},
     "output_type": "execute_result"
    }
   ],
   "source": [
    "df1 = df1.drop_duplicates('domain')\n",
    "df2 = df2.drop_duplicates('domain')\n",
    "df1.shape,df2.shape"
   ]
  },
  {
   "cell_type": "code",
   "execution_count": 60,
   "metadata": {
    "collapsed": false,
    "scrolled": true
   },
   "outputs": [
    {
     "data": {
      "text/html": [
       "<div>\n",
       "<table border=\"1\" class=\"dataframe\">\n",
       "  <thead>\n",
       "    <tr style=\"text-align: right;\">\n",
       "      <th></th>\n",
       "      <th>company_linkedin_url_x</th>\n",
       "      <th>demo_present_x</th>\n",
       "      <th>emails_x</th>\n",
       "      <th>id_x</th>\n",
       "      <th>login_present_x</th>\n",
       "      <th>pricing_present_x</th>\n",
       "      <th>score_x</th>\n",
       "      <th>urls_x</th>\n",
       "      <th>website_x_x</th>\n",
       "      <th>domain</th>\n",
       "      <th>...</th>\n",
       "      <th>demo_present_y</th>\n",
       "      <th>emails_y</th>\n",
       "      <th>id_y</th>\n",
       "      <th>login_present_y</th>\n",
       "      <th>pricing_present_y</th>\n",
       "      <th>score_y</th>\n",
       "      <th>urls_y</th>\n",
       "      <th>website_x_y</th>\n",
       "      <th>website_y_y</th>\n",
       "      <th>website_text_y</th>\n",
       "    </tr>\n",
       "  </thead>\n",
       "  <tbody>\n",
       "    <tr>\n",
       "      <th>439</th>\n",
       "      <td>NaN</td>\n",
       "      <td>False</td>\n",
       "      <td>[]</td>\n",
       "      <td>846</td>\n",
       "      <td>False</td>\n",
       "      <td>False</td>\n",
       "      <td>0.0</td>\n",
       "      <td>[]</td>\n",
       "      <td>http://www.sazedata.com</td>\n",
       "      <td>sazedata</td>\n",
       "      <td>...</td>\n",
       "      <td>NaN</td>\n",
       "      <td>NaN</td>\n",
       "      <td>NaN</td>\n",
       "      <td>NaN</td>\n",
       "      <td>NaN</td>\n",
       "      <td>NaN</td>\n",
       "      <td>NaN</td>\n",
       "      <td>NaN</td>\n",
       "      <td>NaN</td>\n",
       "      <td>NaN</td>\n",
       "    </tr>\n",
       "  </tbody>\n",
       "</table>\n",
       "<p>1 rows × 23 columns</p>\n",
       "</div>"
      ],
      "text/plain": [
       "     company_linkedin_url_x demo_present_x emails_x  id_x login_present_x  \\\n",
       "439                     NaN          False       []   846           False   \n",
       "\n",
       "    pricing_present_x  score_x urls_x              website_x_x    domain  \\\n",
       "439             False      0.0     []  http://www.sazedata.com  sazedata   \n",
       "\n",
       "         ...       demo_present_y emails_y  id_y login_present_y  \\\n",
       "439      ...                  NaN      NaN   NaN             NaN   \n",
       "\n",
       "    pricing_present_y  score_y urls_y website_x_y  website_y_y website_text_y  \n",
       "439               NaN      NaN    NaN         NaN          NaN            NaN  \n",
       "\n",
       "[1 rows x 23 columns]"
      ]
     },
     "execution_count": 60,
     "metadata": {},
     "output_type": "execute_result"
    }
   ],
   "source": [
    "# df2 has all data\n",
    "tmp = pd.merge(df1,df2,how='left',on='domain')\n",
    "tmp[pd.isnull(tmp['login_present_y'])]"
   ]
  },
  {
   "cell_type": "code",
   "execution_count": 61,
   "metadata": {
    "collapsed": false
   },
   "outputs": [
    {
     "data": {
      "text/plain": [
       "((760, 12), (450, 12), (759, 12))"
      ]
     },
     "execution_count": 61,
     "metadata": {},
     "output_type": "execute_result"
    }
   ],
   "source": [
    "df = pd.concat([df2,df1[df1['domain']=='sazedata']])\n",
    "df.shape,df1.shape,df2.shape"
   ]
  },
  {
   "cell_type": "code",
   "execution_count": 62,
   "metadata": {
    "collapsed": false
   },
   "outputs": [
    {
     "data": {
      "text/plain": [
       "(760, 12)"
      ]
     },
     "execution_count": 62,
     "metadata": {},
     "output_type": "execute_result"
    }
   ],
   "source": [
    "df = df.drop_duplicates('domain')\n",
    "df.shape"
   ]
  },
  {
   "cell_type": "code",
   "execution_count": 63,
   "metadata": {
    "collapsed": false
   },
   "outputs": [
    {
     "data": {
      "text/html": [
       "<div>\n",
       "<table border=\"1\" class=\"dataframe\">\n",
       "  <thead>\n",
       "    <tr style=\"text-align: right;\">\n",
       "      <th></th>\n",
       "      <th>company_linkedin_url</th>\n",
       "      <th>demo_present</th>\n",
       "      <th>emails</th>\n",
       "      <th>id</th>\n",
       "      <th>login_present</th>\n",
       "      <th>pricing_present</th>\n",
       "      <th>score</th>\n",
       "      <th>urls</th>\n",
       "      <th>website_x</th>\n",
       "      <th>domain</th>\n",
       "      <th>website_y</th>\n",
       "      <th>website_text</th>\n",
       "    </tr>\n",
       "  </thead>\n",
       "  <tbody>\n",
       "    <tr>\n",
       "      <th>0</th>\n",
       "      <td>NaN</td>\n",
       "      <td>False</td>\n",
       "      <td>[u'mailto:info@planhub.ca']</td>\n",
       "      <td>948</td>\n",
       "      <td>False</td>\n",
       "      <td>False</td>\n",
       "      <td>5968.4</td>\n",
       "      <td>[u'https://www.twitter.com/PlanHub_ca', u'http...</td>\n",
       "      <td>http://www.planhub.ca</td>\n",
       "      <td>planhub</td>\n",
       "      <td>http://www.planhub.ca</td>\n",
       "      <td>&lt;img height=\"1\" width=\"1\" alt=\"\" style=\"displa...</td>\n",
       "    </tr>\n",
       "    <tr>\n",
       "      <th>1</th>\n",
       "      <td>NaN</td>\n",
       "      <td>False</td>\n",
       "      <td>[u'mailto:legal@checkout.com', u'mailto:sales@...</td>\n",
       "      <td>743</td>\n",
       "      <td>True</td>\n",
       "      <td>True</td>\n",
       "      <td>85.1</td>\n",
       "      <td>[u'https://www.facebook.com/sharer/sharer.php?...</td>\n",
       "      <td>http://www.checkout.com</td>\n",
       "      <td>checkout</td>\n",
       "      <td>http://www.checkout.com</td>\n",
       "      <td>Checkout.com - Online Payments\\n&lt;img src=\"http...</td>\n",
       "    </tr>\n",
       "    <tr>\n",
       "      <th>5</th>\n",
       "      <td>NaN</td>\n",
       "      <td>True</td>\n",
       "      <td>[u'mailto:Accounts@deconetwork.com', u'mailto:...</td>\n",
       "      <td>436</td>\n",
       "      <td>True</td>\n",
       "      <td>True</td>\n",
       "      <td>80.4</td>\n",
       "      <td>[u'http://www.twitter.com/deconetwork', u'http...</td>\n",
       "      <td>http://www.deconetwork.com</td>\n",
       "      <td>deconetwork</td>\n",
       "      <td>http://www.deconetwork.com</td>\n",
       "      <td>Online T-Shirt Designer and Business Software ...</td>\n",
       "    </tr>\n",
       "    <tr>\n",
       "      <th>6</th>\n",
       "      <td>NaN</td>\n",
       "      <td>False</td>\n",
       "      <td>[]</td>\n",
       "      <td>374</td>\n",
       "      <td>True</td>\n",
       "      <td>True</td>\n",
       "      <td>76.6</td>\n",
       "      <td>[u'http://www.twitter.com/legalshield', u'http...</td>\n",
       "      <td>http://www.KeAndrea.com</td>\n",
       "      <td>KeAndrea</td>\n",
       "      <td>http://www.KeAndrea.com</td>\n",
       "      <td>Associate Page | LegalShield\\n&lt;iframe src=\"//w...</td>\n",
       "    </tr>\n",
       "    <tr>\n",
       "      <th>7</th>\n",
       "      <td>NaN</td>\n",
       "      <td>False</td>\n",
       "      <td>[u'mailto:sales@hiconversion.com?subject=Custo...</td>\n",
       "      <td>402</td>\n",
       "      <td>True</td>\n",
       "      <td>True</td>\n",
       "      <td>68.5</td>\n",
       "      <td>[u'http://www.twitter.com/HiConversion', u'htt...</td>\n",
       "      <td>http://www.hiconversion.com</td>\n",
       "      <td>hiconversion</td>\n",
       "      <td>http://www.hiconversion.com</td>\n",
       "      <td>­\\nHiConversion | Customer Experience Analytic...</td>\n",
       "    </tr>\n",
       "  </tbody>\n",
       "</table>\n",
       "</div>"
      ],
      "text/plain": [
       "   company_linkedin_url demo_present  \\\n",
       "0                   NaN        False   \n",
       "1                   NaN        False   \n",
       "5                   NaN         True   \n",
       "6                   NaN        False   \n",
       "7                   NaN        False   \n",
       "\n",
       "                                              emails   id login_present  \\\n",
       "0                        [u'mailto:info@planhub.ca']  948         False   \n",
       "1  [u'mailto:legal@checkout.com', u'mailto:sales@...  743          True   \n",
       "5  [u'mailto:Accounts@deconetwork.com', u'mailto:...  436          True   \n",
       "6                                                 []  374          True   \n",
       "7  [u'mailto:sales@hiconversion.com?subject=Custo...  402          True   \n",
       "\n",
       "  pricing_present   score                                               urls  \\\n",
       "0           False  5968.4  [u'https://www.twitter.com/PlanHub_ca', u'http...   \n",
       "1            True    85.1  [u'https://www.facebook.com/sharer/sharer.php?...   \n",
       "5            True    80.4  [u'http://www.twitter.com/deconetwork', u'http...   \n",
       "6            True    76.6  [u'http://www.twitter.com/legalshield', u'http...   \n",
       "7            True    68.5  [u'http://www.twitter.com/HiConversion', u'htt...   \n",
       "\n",
       "                     website_x        domain                    website_y  \\\n",
       "0        http://www.planhub.ca       planhub        http://www.planhub.ca   \n",
       "1      http://www.checkout.com      checkout      http://www.checkout.com   \n",
       "5   http://www.deconetwork.com   deconetwork   http://www.deconetwork.com   \n",
       "6      http://www.KeAndrea.com      KeAndrea      http://www.KeAndrea.com   \n",
       "7  http://www.hiconversion.com  hiconversion  http://www.hiconversion.com   \n",
       "\n",
       "                                        website_text  \n",
       "0  <img height=\"1\" width=\"1\" alt=\"\" style=\"displa...  \n",
       "1  Checkout.com - Online Payments\\n<img src=\"http...  \n",
       "5  Online T-Shirt Designer and Business Software ...  \n",
       "6  Associate Page | LegalShield\\n<iframe src=\"//w...  \n",
       "7  ­\\nHiConversion | Customer Experience Analytic...  "
      ]
     },
     "execution_count": 63,
     "metadata": {},
     "output_type": "execute_result"
    }
   ],
   "source": [
    "df.head()"
   ]
  },
  {
   "cell_type": "code",
   "execution_count": 65,
   "metadata": {
    "collapsed": false
   },
   "outputs": [
    {
     "data": {
      "text/html": [
       "<div>\n",
       "<table border=\"1\" class=\"dataframe\">\n",
       "  <thead>\n",
       "    <tr style=\"text-align: right;\">\n",
       "      <th></th>\n",
       "      <th>company_linkedin_url</th>\n",
       "      <th>demo_present</th>\n",
       "      <th>emails</th>\n",
       "      <th>id</th>\n",
       "      <th>login_present</th>\n",
       "      <th>pricing_present</th>\n",
       "      <th>score</th>\n",
       "      <th>urls</th>\n",
       "      <th>website_x</th>\n",
       "      <th>domain</th>\n",
       "      <th>website_y</th>\n",
       "      <th>website_text</th>\n",
       "    </tr>\n",
       "  </thead>\n",
       "  <tbody>\n",
       "  </tbody>\n",
       "</table>\n",
       "</div>"
      ],
      "text/plain": [
       "Empty DataFrame\n",
       "Columns: [company_linkedin_url, demo_present, emails, id, login_present, pricing_present, score, urls, website_x, domain, website_y, website_text]\n",
       "Index: []"
      ]
     },
     "execution_count": 65,
     "metadata": {},
     "output_type": "execute_result"
    }
   ],
   "source": [
    "df[df['website_x'].apply(lambda x: tldextract.extract(x).domain) != df['domain']]"
   ]
  },
  {
   "cell_type": "code",
   "execution_count": 66,
   "metadata": {
    "collapsed": false
   },
   "outputs": [
    {
     "name": "stderr",
     "output_type": "stream",
     "text": [
      "/usr/local/lib/python2.7/dist-packages/ipykernel/__main__.py:4: UserWarning: This pattern has match groups. To actually get the groups, use str.extract.\n"
     ]
    },
    {
     "data": {
      "text/plain": [
       "(760, 714)"
      ]
     },
     "execution_count": 66,
     "metadata": {},
     "output_type": "execute_result"
    }
   ],
   "source": [
    "tfidf = vectorizer.transform(df['website_text'].fillna(''))\n",
    "#new variables (not used currently in the final model)\n",
    "reg_text = r'(([0-9]|\\$|\\b|/)per|/)(\\b| |\\n|\\r){0,2}(month|year|\\bmo)\\b'\n",
    "df['per_month_present'] = df['website_text'].fillna('').str.contains(reg_text,case=False)\n",
    "#coming soon\n",
    "df['coming_soon'] = df['website_text'].fillna('').str.contains(r'coming soon',case=False)\n",
    "\n",
    "tfidf_n_vars = hstack([tfidf,\n",
    "        csr_matrix(df[['demo_present','login_present','pricing_present','per_month_present','coming_soon']].values.astype(float))])\n",
    "tfidf_n_vars.shape"
   ]
  },
  {
   "cell_type": "code",
   "execution_count": 67,
   "metadata": {
    "collapsed": false
   },
   "outputs": [],
   "source": [
    "score = model.predict_proba(tfidf_n_vars)\n",
    "df['saas_subscription_score'] = score[:,1]\n",
    "df['saas_subscription_score_bin'] = pd.cut(df['saas_subscription_score'],bin_boundaries,labels=bin_labels)"
   ]
  },
  {
   "cell_type": "code",
   "execution_count": 68,
   "metadata": {
    "collapsed": false
   },
   "outputs": [],
   "source": [
    "df[['id','website_x','login_present','pricing_present','demo_present','score','saas_subscription_score',\n",
    "     'saas_subscription_score_bin']].to_excel(\n",
    "    '/home/madan/Desktop/joswin_bck/toPendrive/works/chargebee_works/nlp-intelligence/scoring_lists/oct_list/OCT 2016 - Subscriptions - for processing_scores.xlsx',\n",
    "index=False)"
   ]
  },
  {
   "cell_type": "code",
   "execution_count": 44,
   "metadata": {
    "collapsed": false,
    "scrolled": true
   },
   "outputs": [
    {
     "data": {
      "text/plain": [
       "['accept',\n",
       " 'access',\n",
       " 'account',\n",
       " 'across',\n",
       " 'add',\n",
       " 'age',\n",
       " 'amount',\n",
       " 'api',\n",
       " 'app',\n",
       " 'blog',\n",
       " 'browser',\n",
       " 'built',\n",
       " 'call',\n",
       " 'card',\n",
       " 'center',\n",
       " 'ceo',\n",
       " 'chat',\n",
       " 'co',\n",
       " 'code',\n",
       " 'collect',\n",
       " 'contact',\n",
       " 'control',\n",
       " 'credit',\n",
       " 'dashboard',\n",
       " 'data',\n",
       " 'date',\n",
       " 'demo',\n",
       " 'digit',\n",
       " 'done',\n",
       " 'email',\n",
       " 'enter',\n",
       " 'extra',\n",
       " 'faq',\n",
       " 'fast',\n",
       " 'fill',\n",
       " 'find',\n",
       " 'first',\n",
       " 'focus',\n",
       " 'form',\n",
       " 'founder',\n",
       " 'free',\n",
       " 'full',\n",
       " 'global',\n",
       " 'go',\n",
       " 'great',\n",
       " 'head',\n",
       " 'help',\n",
       " 'high',\n",
       " 'id',\n",
       " 'internet',\n",
       " 'item',\n",
       " 'join',\n",
       " 'learn',\n",
       " 'level',\n",
       " 'line',\n",
       " 'live',\n",
       " 'log',\n",
       " 'long',\n",
       " 'major',\n",
       " 'make',\n",
       " 'money',\n",
       " 'must',\n",
       " 'need',\n",
       " 'net',\n",
       " 'never',\n",
       " 'new',\n",
       " 'next',\n",
       " 'number',\n",
       " 'one',\n",
       " 'order',\n",
       " 'page',\n",
       " 'part',\n",
       " 'partner',\n",
       " 'password',\n",
       " 'pay',\n",
       " 'payment',\n",
       " 'platform',\n",
       " 'popular',\n",
       " 'process',\n",
       " 'product',\n",
       " 'real',\n",
       " 'safe',\n",
       " 'save',\n",
       " 'say',\n",
       " 'seamless',\n",
       " 'send',\n",
       " 'sign',\n",
       " 'space',\n",
       " 'spend',\n",
       " 'standard',\n",
       " 'start',\n",
       " 'success',\n",
       " 'support',\n",
       " 'system',\n",
       " 'team',\n",
       " 'test',\n",
       " 'time',\n",
       " 'via',\n",
       " 'view',\n",
       " 'visit',\n",
       " 'way',\n",
       " 'week',\n",
       " 'within',\n",
       " 'without']"
      ]
     },
     "execution_count": 44,
     "metadata": {},
     "output_type": "execute_result"
    }
   ],
   "source": [
    "[vectorizer.get_feature_names()[ind] for ind in np.where(tfidf.toarray()[632,:]>0)[0]]"
   ]
  },
  {
   "cell_type": "code",
   "execution_count": 50,
   "metadata": {
    "collapsed": false
   },
   "outputs": [
    {
     "data": {
      "text/html": [
       "<div>\n",
       "<table border=\"1\" class=\"dataframe\">\n",
       "  <thead>\n",
       "    <tr style=\"text-align: right;\">\n",
       "      <th></th>\n",
       "      <th>company_linkedin_url</th>\n",
       "      <th>demo_present</th>\n",
       "      <th>emails</th>\n",
       "      <th>id</th>\n",
       "      <th>login_present</th>\n",
       "      <th>pricing_present</th>\n",
       "      <th>score</th>\n",
       "      <th>urls</th>\n",
       "      <th>website_x</th>\n",
       "      <th>domain</th>\n",
       "      <th>website_y</th>\n",
       "      <th>website_text</th>\n",
       "    </tr>\n",
       "  </thead>\n",
       "  <tbody>\n",
       "    <tr>\n",
       "      <th>760</th>\n",
       "      <td>NaN</td>\n",
       "      <td>False</td>\n",
       "      <td>[]</td>\n",
       "      <td>1106</td>\n",
       "      <td>False</td>\n",
       "      <td>False</td>\n",
       "      <td>0.0</td>\n",
       "      <td>[]</td>\n",
       "      <td>http://www.flexretentalsolutions.com</td>\n",
       "      <td>flexretentalsolutions</td>\n",
       "      <td>http://www.razorpay.com</td>\n",
       "      <td>Razorpay · Payment Gateway Solution for India ...</td>\n",
       "    </tr>\n",
       "  </tbody>\n",
       "</table>\n",
       "</div>"
      ],
      "text/plain": [
       "     company_linkedin_url demo_present emails    id login_present  \\\n",
       "760                   NaN        False     []  1106         False   \n",
       "\n",
       "    pricing_present  score urls                             website_x  \\\n",
       "760           False    0.0   []  http://www.flexretentalsolutions.com   \n",
       "\n",
       "                    domain                website_y  \\\n",
       "760  flexretentalsolutions  http://www.razorpay.com   \n",
       "\n",
       "                                          website_text  \n",
       "760  Razorpay · Payment Gateway Solution for India ...  "
      ]
     },
     "execution_count": 50,
     "metadata": {},
     "output_type": "execute_result"
    }
   ],
   "source": [
    "df2[df2['id']==1106]"
   ]
  }
 ],
 "metadata": {
  "kernelspec": {
   "display_name": "Python 2",
   "language": "python",
   "name": "python2"
  },
  "language_info": {
   "codemirror_mode": {
    "name": "ipython",
    "version": 2
   },
   "file_extension": ".py",
   "mimetype": "text/x-python",
   "name": "python",
   "nbconvert_exporter": "python",
   "pygments_lexer": "ipython2",
   "version": "2.7.3"
  }
 },
 "nbformat": 4,
 "nbformat_minor": 1
}
