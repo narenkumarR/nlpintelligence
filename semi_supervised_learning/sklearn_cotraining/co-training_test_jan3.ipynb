{
 "cells": [
  {
   "cell_type": "markdown",
   "metadata": {},
   "source": [
    "## use website text as one view and linkedin description as another view"
   ]
  },
  {
   "cell_type": "code",
   "execution_count": 1,
   "metadata": {
    "collapsed": true
   },
   "outputs": [],
   "source": [
    "import pandas as pd, numpy as np"
   ]
  },
  {
   "cell_type": "code",
   "execution_count": 2,
   "metadata": {
    "collapsed": false
   },
   "outputs": [
    {
     "data": {
      "text/plain": [
       "(2593, 20)"
      ]
     },
     "execution_count": 2,
     "metadata": {},
     "output_type": "execute_result"
    }
   ],
   "source": [
    "df = pd.read_excel('USA_SAAS_CB_10Dec16.xlsx')\n",
    "df.shape"
   ]
  },
  {
   "cell_type": "code",
   "execution_count": 3,
   "metadata": {
    "collapsed": false
   },
   "outputs": [
    {
     "data": {
      "text/plain": [
       "(2572, 20)"
      ]
     },
     "execution_count": 3,
     "metadata": {},
     "output_type": "execute_result"
    }
   ],
   "source": [
    "df = df.dropna(subset=['category_list'])\n",
    "df.index = range(len(df))\n",
    "df.shape"
   ]
  },
  {
   "cell_type": "code",
   "execution_count": 4,
   "metadata": {
    "collapsed": false
   },
   "outputs": [
    {
     "data": {
      "text/plain": [
       "0    1933\n",
       "1     639\n",
       "Name: enterprise_software_present, dtype: int64"
      ]
     },
     "execution_count": 4,
     "metadata": {},
     "output_type": "execute_result"
    }
   ],
   "source": [
    "df['enterprise_software_present'] = df['category_list'].apply(lambda x:1 if x and 'enterprise software' in x else 0)\n",
    "df['enterprise_software_present'].value_counts()"
   ]
  },
  {
   "cell_type": "code",
   "execution_count": 5,
   "metadata": {
    "collapsed": true
   },
   "outputs": [],
   "source": [
    "from sklearn.feature_extraction.text import TfidfVectorizer,CountVectorizer\n",
    "import nltk,re\n",
    "from scipy.sparse import hstack"
   ]
  },
  {
   "cell_type": "code",
   "execution_count": 6,
   "metadata": {
    "collapsed": false
   },
   "outputs": [
    {
     "data": {
      "text/plain": [
       "(2056, 2)"
      ]
     },
     "execution_count": 6,
     "metadata": {},
     "output_type": "execute_result"
    }
   ],
   "source": [
    "df1 = pd.read_csv('USA_SAAS_CB_10Dec16_website_text.csv')\n",
    "df1['website_text'] = df1['website_text'].fillna('').apply(lambda x: re.sub('\\n',' ',x.lower()))\n",
    "df1.shape"
   ]
  },
  {
   "cell_type": "code",
   "execution_count": 7,
   "metadata": {
    "collapsed": false
   },
   "outputs": [
    {
     "name": "stderr",
     "output_type": "stream",
     "text": [
      "No handlers could be found for logger \"tldextract\"\n"
     ]
    },
    {
     "data": {
      "text/html": [
       "<div>\n",
       "<table border=\"1\" class=\"dataframe\">\n",
       "  <thead>\n",
       "    <tr style=\"text-align: right;\">\n",
       "      <th></th>\n",
       "      <th>website</th>\n",
       "      <th>website_text</th>\n",
       "      <th>domain_cleaned</th>\n",
       "    </tr>\n",
       "  </thead>\n",
       "  <tbody>\n",
       "    <tr>\n",
       "      <th>2051</th>\n",
       "      <td>http://www.cisco.com/web/about/ac49/ac0/ac1/ac...</td>\n",
       "      <td>cisco announces acquisition of thinksmart tech...</td>\n",
       "      <td>cisco</td>\n",
       "    </tr>\n",
       "    <tr>\n",
       "      <th>2052</th>\n",
       "      <td>http://macheen.com</td>\n",
       "      <td>www.macheen.com</td>\n",
       "      <td>macheen</td>\n",
       "    </tr>\n",
       "    <tr>\n",
       "      <th>2053</th>\n",
       "      <td>http://www.rtpholdings.com</td>\n",
       "      <td>rtp holdings - rtp holdings home solution bene...</td>\n",
       "      <td>rtpholdings</td>\n",
       "    </tr>\n",
       "    <tr>\n",
       "      <th>2054</th>\n",
       "      <td>http://seatserve.com</td>\n",
       "      <td>seatserve - stay seated. in-seat delivery at y...</td>\n",
       "      <td>seatserve</td>\n",
       "    </tr>\n",
       "    <tr>\n",
       "      <th>2055</th>\n",
       "      <td>http://www.contentlaunch.com/</td>\n",
       "      <td>content marketing software | content writing s...</td>\n",
       "      <td>contentlaunch</td>\n",
       "    </tr>\n",
       "  </tbody>\n",
       "</table>\n",
       "</div>"
      ],
      "text/plain": [
       "                                                website  \\\n",
       "2051  http://www.cisco.com/web/about/ac49/ac0/ac1/ac...   \n",
       "2052                                 http://macheen.com   \n",
       "2053                         http://www.rtpholdings.com   \n",
       "2054                               http://seatserve.com   \n",
       "2055                      http://www.contentlaunch.com/   \n",
       "\n",
       "                                           website_text domain_cleaned  \n",
       "2051  cisco announces acquisition of thinksmart tech...          cisco  \n",
       "2052                                    www.macheen.com        macheen  \n",
       "2053  rtp holdings - rtp holdings home solution bene...    rtpholdings  \n",
       "2054  seatserve - stay seated. in-seat delivery at y...      seatserve  \n",
       "2055  content marketing software | content writing s...  contentlaunch  "
      ]
     },
     "execution_count": 7,
     "metadata": {},
     "output_type": "execute_result"
    }
   ],
   "source": [
    "import tldextract\n",
    "df1['domain_cleaned'] = df1['website'].apply(lambda x: tldextract.extract(x.lower()).domain)\n",
    "df1.tail()"
   ]
  },
  {
   "cell_type": "code",
   "execution_count": 8,
   "metadata": {
    "collapsed": false
   },
   "outputs": [
    {
     "data": {
      "text/plain": [
       "(1906, 3)"
      ]
     },
     "execution_count": 8,
     "metadata": {},
     "output_type": "execute_result"
    }
   ],
   "source": [
    "df1 = df1.drop_duplicates('domain_cleaned')\n",
    "df1.shape"
   ]
  },
  {
   "cell_type": "code",
   "execution_count": 9,
   "metadata": {
    "collapsed": false
   },
   "outputs": [
    {
     "data": {
      "text/plain": [
       "(2391, 22)"
      ]
     },
     "execution_count": 9,
     "metadata": {},
     "output_type": "execute_result"
    }
   ],
   "source": [
    "df['domain_cleaned'] = df['homepage_url'].apply(lambda x: tldextract.extract(x.lower()).domain)\n",
    "df = df.drop_duplicates('domain_cleaned')\n",
    "df.shape"
   ]
  },
  {
   "cell_type": "code",
   "execution_count": 10,
   "metadata": {
    "collapsed": false
   },
   "outputs": [
    {
     "data": {
      "text/plain": [
       "((2391, 22), (1906, 3), (1893, 24))"
      ]
     },
     "execution_count": 10,
     "metadata": {},
     "output_type": "execute_result"
    }
   ],
   "source": [
    "df_final = pd.merge(df,df1,on='domain_cleaned')\n",
    "df.shape,df1.shape,df_final.shape"
   ]
  },
  {
   "cell_type": "code",
   "execution_count": 11,
   "metadata": {
    "collapsed": false,
    "scrolled": true
   },
   "outputs": [
    {
     "data": {
      "text/html": [
       "<div>\n",
       "<table border=\"1\" class=\"dataframe\">\n",
       "  <thead>\n",
       "    <tr style=\"text-align: right;\">\n",
       "      <th></th>\n",
       "      <th>li_cpy_name</th>\n",
       "      <th>country_code</th>\n",
       "      <th>state_code</th>\n",
       "      <th>region</th>\n",
       "      <th>city</th>\n",
       "      <th>category_list</th>\n",
       "      <th>category_group_list</th>\n",
       "      <th>industry</th>\n",
       "      <th>short_description</th>\n",
       "      <th>description</th>\n",
       "      <th>...</th>\n",
       "      <th>funding_total_usd</th>\n",
       "      <th>last_funding_on</th>\n",
       "      <th>homepage_url</th>\n",
       "      <th>linkedin_url</th>\n",
       "      <th>domain</th>\n",
       "      <th>email</th>\n",
       "      <th>enterprise_software_present</th>\n",
       "      <th>domain_cleaned</th>\n",
       "      <th>website</th>\n",
       "      <th>website_text</th>\n",
       "    </tr>\n",
       "  </thead>\n",
       "  <tbody>\n",
       "    <tr>\n",
       "      <th>1888</th>\n",
       "      <td>NuORDER</td>\n",
       "      <td>USA</td>\n",
       "      <td>CA</td>\n",
       "      <td>Los Angeles</td>\n",
       "      <td>West Hollywood</td>\n",
       "      <td>b2b|e-commerce|fashion|internet|saas|wholesale</td>\n",
       "      <td>commerce and shopping|design|internet services</td>\n",
       "      <td>Wholesale</td>\n",
       "      <td>NuORDER is a cloud &amp; mobile B2B eCommerce plat...</td>\n",
       "      <td>NuORDER empowers B2B eCommerce sites for over ...</td>\n",
       "      <td>...</td>\n",
       "      <td>13900000.0</td>\n",
       "      <td>2015-02-01 00:00:00</td>\n",
       "      <td>http://www.nuorder.com</td>\n",
       "      <td>http://www.linkedin.com/company/2779405</td>\n",
       "      <td>nuorder.com</td>\n",
       "      <td>info@nuorder.com</td>\n",
       "      <td>0</td>\n",
       "      <td>nuorder</td>\n",
       "      <td>http://www.nuorder.com</td>\n",
       "      <td>nuorder #1 b2b ecommerce solution brands retai...</td>\n",
       "    </tr>\n",
       "    <tr>\n",
       "      <th>1889</th>\n",
       "      <td>EvoNexus (CommNexus)</td>\n",
       "      <td>USA</td>\n",
       "      <td>CA</td>\n",
       "      <td>San Diego</td>\n",
       "      <td>La Jolla</td>\n",
       "      <td>big data|cyber security|hardware|life science|...</td>\n",
       "      <td>biotechnology|data and analytics|hardware|info...</td>\n",
       "      <td>Wireless</td>\n",
       "      <td>EvoNexus is a non-profit technology incubator ...</td>\n",
       "      <td>EvoNexus (formerly CommNexus, formerly the Tel...</td>\n",
       "      <td>...</td>\n",
       "      <td>NaN</td>\n",
       "      <td>NaN</td>\n",
       "      <td>http://www.evonexus.org</td>\n",
       "      <td>http://www.linkedin.com/company/commnexus</td>\n",
       "      <td>evonexus.org</td>\n",
       "      <td>NaN</td>\n",
       "      <td>0</td>\n",
       "      <td>evonexus</td>\n",
       "      <td>http://www.evonexus.org</td>\n",
       "      <td>evonexus jobs contact us resources about about...</td>\n",
       "    </tr>\n",
       "    <tr>\n",
       "      <th>1890</th>\n",
       "      <td>Macheen Inc</td>\n",
       "      <td>USA</td>\n",
       "      <td>TX</td>\n",
       "      <td>Austin</td>\n",
       "      <td>Austin</td>\n",
       "      <td>enterprise software|internet|saas</td>\n",
       "      <td>internet services|software</td>\n",
       "      <td>Wireless</td>\n",
       "      <td>Macheen is a SaaS-based platform that brings m...</td>\n",
       "      <td>Macheen, Inc is a SaaS company that brings mob...</td>\n",
       "      <td>...</td>\n",
       "      <td>34394995.0</td>\n",
       "      <td>2013-12-01 00:00:00</td>\n",
       "      <td>http://macheen.com</td>\n",
       "      <td>https://www.linkedin.com/company/macheen-inc</td>\n",
       "      <td>macheen.com</td>\n",
       "      <td>info@macheen.com</td>\n",
       "      <td>1</td>\n",
       "      <td>macheen</td>\n",
       "      <td>http://macheen.com</td>\n",
       "      <td>www.macheen.com</td>\n",
       "    </tr>\n",
       "    <tr>\n",
       "      <th>1891</th>\n",
       "      <td>RTP Holdings</td>\n",
       "      <td>USA</td>\n",
       "      <td>PA</td>\n",
       "      <td>Philadelphia</td>\n",
       "      <td>Radnor</td>\n",
       "      <td>saas</td>\n",
       "      <td>NaN</td>\n",
       "      <td>Wireless</td>\n",
       "      <td>Indoor location services, strategy, solutions....</td>\n",
       "      <td>Indoor GPS makes everyday activities faster, e...</td>\n",
       "      <td>...</td>\n",
       "      <td>NaN</td>\n",
       "      <td>NaN</td>\n",
       "      <td>http://www.rtpholdings.com</td>\n",
       "      <td>http://www.linkedin.com/company/rtp-holdings</td>\n",
       "      <td>rtpholdings.com</td>\n",
       "      <td>NaN</td>\n",
       "      <td>0</td>\n",
       "      <td>rtpholdings</td>\n",
       "      <td>http://www.rtpholdings.com</td>\n",
       "      <td>rtp holdings - rtp holdings home solution bene...</td>\n",
       "    </tr>\n",
       "    <tr>\n",
       "      <th>1892</th>\n",
       "      <td>SeatServe</td>\n",
       "      <td>USA</td>\n",
       "      <td>NY</td>\n",
       "      <td>New York City</td>\n",
       "      <td>New York</td>\n",
       "      <td>e-commerce|mobile|sports</td>\n",
       "      <td>commerce and shopping|mobile|sports</td>\n",
       "      <td>Wireless</td>\n",
       "      <td>A real-time delivery SaaS solution designed fo...</td>\n",
       "      <td>SeatServe is a digital solutions provider base...</td>\n",
       "      <td>...</td>\n",
       "      <td>NaN</td>\n",
       "      <td>NaN</td>\n",
       "      <td>http://seatserve.com</td>\n",
       "      <td>https://www.linkedin.com/company/seatserve</td>\n",
       "      <td>seatserve.com</td>\n",
       "      <td>info@seatserve.com</td>\n",
       "      <td>0</td>\n",
       "      <td>seatserve</td>\n",
       "      <td>http://seatserve.com</td>\n",
       "      <td>seatserve - stay seated. in-seat delivery at y...</td>\n",
       "    </tr>\n",
       "  </tbody>\n",
       "</table>\n",
       "<p>5 rows × 24 columns</p>\n",
       "</div>"
      ],
      "text/plain": [
       "               li_cpy_name country_code state_code         region  \\\n",
       "1888               NuORDER          USA         CA    Los Angeles   \n",
       "1889  EvoNexus (CommNexus)          USA         CA      San Diego   \n",
       "1890           Macheen Inc          USA         TX         Austin   \n",
       "1891          RTP Holdings          USA         PA   Philadelphia   \n",
       "1892             SeatServe          USA         NY  New York City   \n",
       "\n",
       "                city                                      category_list  \\\n",
       "1888  West Hollywood     b2b|e-commerce|fashion|internet|saas|wholesale   \n",
       "1889        La Jolla  big data|cyber security|hardware|life science|...   \n",
       "1890          Austin                  enterprise software|internet|saas   \n",
       "1891          Radnor                                               saas   \n",
       "1892        New York                           e-commerce|mobile|sports   \n",
       "\n",
       "                                    category_group_list   industry  \\\n",
       "1888     commerce and shopping|design|internet services  Wholesale   \n",
       "1889  biotechnology|data and analytics|hardware|info...   Wireless   \n",
       "1890                         internet services|software   Wireless   \n",
       "1891                                                NaN   Wireless   \n",
       "1892                commerce and shopping|mobile|sports   Wireless   \n",
       "\n",
       "                                      short_description  \\\n",
       "1888  NuORDER is a cloud & mobile B2B eCommerce plat...   \n",
       "1889  EvoNexus is a non-profit technology incubator ...   \n",
       "1890  Macheen is a SaaS-based platform that brings m...   \n",
       "1891  Indoor location services, strategy, solutions....   \n",
       "1892  A real-time delivery SaaS solution designed fo...   \n",
       "\n",
       "                                            description  \\\n",
       "1888  NuORDER empowers B2B eCommerce sites for over ...   \n",
       "1889  EvoNexus (formerly CommNexus, formerly the Tel...   \n",
       "1890  Macheen, Inc is a SaaS company that brings mob...   \n",
       "1891  Indoor GPS makes everyday activities faster, e...   \n",
       "1892  SeatServe is a digital solutions provider base...   \n",
       "\n",
       "                            ...                         funding_total_usd  \\\n",
       "1888                        ...                                13900000.0   \n",
       "1889                        ...                                       NaN   \n",
       "1890                        ...                                34394995.0   \n",
       "1891                        ...                                       NaN   \n",
       "1892                        ...                                       NaN   \n",
       "\n",
       "          last_funding_on                homepage_url  \\\n",
       "1888  2015-02-01 00:00:00      http://www.nuorder.com   \n",
       "1889                  NaN     http://www.evonexus.org   \n",
       "1890  2013-12-01 00:00:00          http://macheen.com   \n",
       "1891                  NaN  http://www.rtpholdings.com   \n",
       "1892                  NaN        http://seatserve.com   \n",
       "\n",
       "                                      linkedin_url           domain  \\\n",
       "1888       http://www.linkedin.com/company/2779405      nuorder.com   \n",
       "1889     http://www.linkedin.com/company/commnexus     evonexus.org   \n",
       "1890  https://www.linkedin.com/company/macheen-inc      macheen.com   \n",
       "1891  http://www.linkedin.com/company/rtp-holdings  rtpholdings.com   \n",
       "1892    https://www.linkedin.com/company/seatserve    seatserve.com   \n",
       "\n",
       "                   email enterprise_software_present domain_cleaned  \\\n",
       "1888    info@nuorder.com                           0        nuorder   \n",
       "1889                 NaN                           0       evonexus   \n",
       "1890    info@macheen.com                           1        macheen   \n",
       "1891                 NaN                           0    rtpholdings   \n",
       "1892  info@seatserve.com                           0      seatserve   \n",
       "\n",
       "                         website  \\\n",
       "1888      http://www.nuorder.com   \n",
       "1889     http://www.evonexus.org   \n",
       "1890          http://macheen.com   \n",
       "1891  http://www.rtpholdings.com   \n",
       "1892        http://seatserve.com   \n",
       "\n",
       "                                           website_text  \n",
       "1888  nuorder #1 b2b ecommerce solution brands retai...  \n",
       "1889  evonexus jobs contact us resources about about...  \n",
       "1890                                    www.macheen.com  \n",
       "1891  rtp holdings - rtp holdings home solution bene...  \n",
       "1892  seatserve - stay seated. in-seat delivery at y...  \n",
       "\n",
       "[5 rows x 24 columns]"
      ]
     },
     "execution_count": 11,
     "metadata": {},
     "output_type": "execute_result"
    }
   ],
   "source": [
    "df_final.tail()"
   ]
  },
  {
   "cell_type": "code",
   "execution_count": 25,
   "metadata": {
    "collapsed": false
   },
   "outputs": [
    {
     "data": {
      "text/plain": [
       "<module 'sklearn_cotraining.classifiers' from 'sklearn_cotraining/classifiers.pyc'>"
      ]
     },
     "execution_count": 25,
     "metadata": {},
     "output_type": "execute_result"
    }
   ],
   "source": [
    "from sklearn.metrics import classification_report\n",
    "from sklearn.linear_model import LogisticRegressionCV,LogisticRegression\n",
    "from sklearn.naive_bayes import MultinomialNB\n",
    "from sklearn.svm import LinearSVC,SVC\n",
    "from sklearn_cotraining.classifiers import CoTrainingClassifier\n",
    "import sklearn_cotraining.classifiers\n",
    "reload(sklearn_cotraining.classifiers)"
   ]
  },
  {
   "cell_type": "code",
   "execution_count": 19,
   "metadata": {
    "collapsed": false
   },
   "outputs": [
    {
     "name": "stdout",
     "output_type": "stream",
     "text": [
      "(1506, 1199) (1506, 7435) (387, 1199) (387, 7435)\n"
     ]
    }
   ],
   "source": [
    "# train test split\n",
    "np.random.seed(5)\n",
    "msk = np.random.rand(len(df_final)) < 0.8\n",
    "train = df_final[msk]\n",
    "test = df_final[~msk]\n",
    "train.index = range(len(train))\n",
    "test.index = range(len(test))\n",
    "\n",
    "tfidf_vectorizer_descr = TfidfVectorizer(max_df=0.8, min_df=0.01,stop_words='english',ngram_range=(1,2))\n",
    "X_descr_train = tfidf_vectorizer_descr.fit_transform(train['description'].fillna(''))\n",
    "X_descr_test = tfidf_vectorizer_descr.transform(test['description'].fillna(''))\n",
    "\n",
    "tfidf_vectorizer_website_text = TfidfVectorizer(max_df=0.8, min_df=0.01,stop_words='english',ngram_range=(1,2))\n",
    "X_website_text_train = tfidf_vectorizer_website_text.fit_transform(train['website_text'].fillna(''))\n",
    "X_website_text_test = tfidf_vectorizer_website_text.transform(test['website_text'].fillna(''))\n",
    "\n",
    "print X_descr_train.shape,X_website_text_train.shape,X_descr_test.shape,X_website_text_test.shape"
   ]
  },
  {
   "cell_type": "code",
   "execution_count": 20,
   "metadata": {
    "collapsed": false
   },
   "outputs": [
    {
     "data": {
      "text/plain": [
       "0    1117\n",
       "1     389\n",
       "Name: enterprise_software_present, dtype: int64"
      ]
     },
     "execution_count": 20,
     "metadata": {},
     "output_type": "execute_result"
    }
   ],
   "source": [
    "train = df_final[msk]\n",
    "test = df_final[~msk]\n",
    "train.index = range(len(train))\n",
    "test.index = range(len(test))\n",
    "y_train,y_test = train['enterprise_software_present'],test['enterprise_software_present']\n",
    "y_train_copy = y_train.copy()\n",
    "y_train.value_counts()"
   ]
  },
  {
   "cell_type": "code",
   "execution_count": 21,
   "metadata": {
    "collapsed": false
   },
   "outputs": [
    {
     "name": "stderr",
     "output_type": "stream",
     "text": [
      "/usr/local/lib/python2.7/dist-packages/ipykernel/__main__.py:4: SettingWithCopyWarning: \n",
      "A value is trying to be set on a copy of a slice from a DataFrame\n",
      "\n",
      "See the caveats in the documentation: http://pandas.pydata.org/pandas-docs/stable/indexing.html#indexing-view-versus-copy\n"
     ]
    },
    {
     "data": {
      "text/plain": [
       "-1    1051\n",
       " 0     335\n",
       " 1     120\n",
       "Name: enterprise_software_present, dtype: int64"
      ]
     },
     "execution_count": 21,
     "metadata": {},
     "output_type": "execute_result"
    }
   ],
   "source": [
    "#setting random 70% y_train as -1 (unlabelled)\n",
    "np.random.seed(5)\n",
    "msk1 = np.random.rand(len(y_train)) < 0.7\n",
    "y_train[msk1] = -1\n",
    "X_train_labelled = hstack([X_descr_train[~msk1,:],X_website_text_train[~msk1,:]])\n",
    "y_train_labelled = y_train[~msk1]\n",
    "X_test = hstack([X_descr_test,X_website_text_test])\n",
    "y_train.value_counts()"
   ]
  },
  {
   "cell_type": "code",
   "execution_count": 28,
   "metadata": {
    "collapsed": false
   },
   "outputs": [
    {
     "name": "stdout",
     "output_type": "stream",
     "text": [
      "\n",
      "\n",
      "naive bayes\n",
      "    training set unlabelled\n",
      "             precision    recall  f1-score   support\n",
      "\n",
      "          0       0.74      1.00      0.85       782\n",
      "          1       0.33      0.00      0.01       269\n",
      "\n",
      "avg / total       0.64      0.74      0.64      1051\n",
      "\n",
      "    testing set\n",
      "             precision    recall  f1-score   support\n",
      "\n",
      "          0       0.78      0.99      0.87       302\n",
      "          1       0.25      0.01      0.02        85\n",
      "\n",
      "avg / total       0.66      0.78      0.69       387\n",
      "\n",
      "\n",
      "\n",
      "naive bayes cotraining\n",
      "no of iterations took for fitting:176\n",
      "    training set unlabelled\n",
      "             precision    recall  f1-score   support\n",
      "\n",
      "          0       0.75      0.81      0.78       782\n",
      "          1       0.29      0.23      0.26       269\n",
      "\n",
      "avg / total       0.64      0.66      0.65      1051\n",
      "\n",
      "    testing set\n",
      "             precision    recall  f1-score   support\n",
      "\n",
      "          0       0.80      0.83      0.81       302\n",
      "          1       0.31      0.27      0.29        85\n",
      "\n",
      "avg / total       0.69      0.71      0.70       387\n",
      "\n",
      "\n",
      "\n",
      "Logistic\n"
     ]
    },
    {
     "name": "stderr",
     "output_type": "stream",
     "text": [
      "/usr/local/lib/python2.7/dist-packages/sklearn/utils/validation.py:395: DeprecationWarning: Passing 1d arrays as data is deprecated in 0.17 and will raise ValueError in 0.19. Reshape your data either using X.reshape(-1, 1) if your data has a single feature or X.reshape(1, -1) if it contains a single sample.\n",
      "  DeprecationWarning)\n",
      "/usr/local/lib/python2.7/dist-packages/sklearn/utils/validation.py:395: DeprecationWarning: Passing 1d arrays as data is deprecated in 0.17 and will raise ValueError in 0.19. Reshape your data either using X.reshape(-1, 1) if your data has a single feature or X.reshape(1, -1) if it contains a single sample.\n",
      "  DeprecationWarning)\n"
     ]
    },
    {
     "name": "stdout",
     "output_type": "stream",
     "text": [
      "    training set unlabelled\n",
      "             precision    recall  f1-score   support\n",
      "\n",
      "          0       0.77      0.86      0.81       782\n",
      "          1       0.37      0.25      0.30       269\n",
      "\n",
      "avg / total       0.67      0.70      0.68      1051\n",
      "\n",
      "    testing set\n",
      "             precision    recall  f1-score   support\n",
      "\n",
      "          0       0.80      0.86      0.83       302\n",
      "          1       0.34      0.26      0.30        85\n",
      "\n",
      "avg / total       0.70      0.73      0.71       387\n",
      "\n",
      "\n",
      "\n",
      "Logistic CoTraining\n",
      "no of iterations took for fitting:158\n",
      "    training set unlabelled\n",
      "             precision    recall  f1-score   support\n",
      "\n",
      "          0       0.79      0.76      0.77       782\n",
      "          1       0.36      0.39      0.38       269\n",
      "\n",
      "avg / total       0.68      0.67      0.67      1051\n",
      "\n",
      "    testing set\n",
      "             precision    recall  f1-score   support\n",
      "\n",
      "          0       0.81      0.75      0.78       302\n",
      "          1       0.30      0.38      0.34        85\n",
      "\n",
      "avg / total       0.70      0.67      0.68       387\n",
      "\n"
     ]
    },
    {
     "name": "stderr",
     "output_type": "stream",
     "text": [
      "/usr/local/lib/python2.7/dist-packages/sklearn/utils/validation.py:395: DeprecationWarning: Passing 1d arrays as data is deprecated in 0.17 and will raise ValueError in 0.19. Reshape your data either using X.reshape(-1, 1) if your data has a single feature or X.reshape(1, -1) if it contains a single sample.\n",
      "  DeprecationWarning)\n",
      "/usr/local/lib/python2.7/dist-packages/sklearn/utils/validation.py:395: DeprecationWarning: Passing 1d arrays as data is deprecated in 0.17 and will raise ValueError in 0.19. Reshape your data either using X.reshape(-1, 1) if your data has a single feature or X.reshape(1, -1) if it contains a single sample.\n",
      "  DeprecationWarning)\n"
     ]
    }
   ],
   "source": [
    "print '\\n\\nnaive bayes'\n",
    "clf = MultinomialNB(fit_prior=False)\n",
    "clf.fit(X_train_labelled, y_train_labelled)\n",
    "print('    training set unlabelled')\n",
    "y_pred = clf.predict(hstack([X_descr_train[msk1,:],X_website_text_train[msk1,:]]))\n",
    "print classification_report(y_train_copy[msk1], y_pred)\n",
    "print('    testing set')\n",
    "y_pred = clf.predict(X_test)\n",
    "print classification_report(y_test, y_pred)\n",
    "\n",
    "print '\\n\\nnaive bayes cotraining'\n",
    "clf = sklearn_cotraining.classifiers.CoTrainingClassifier(MultinomialNB(fit_prior=False), \n",
    "                                                                u=len(y_train)//10,k=1000)\n",
    "clf.fit(X_website_text_train, X_descr_train, y_train)\n",
    "print('    training set unlabelled')\n",
    "y_pred = clf.predict(X_website_text_train[msk1,:], X_descr_train[msk1,:])\n",
    "print classification_report(y_train_copy[msk1], y_pred)\n",
    "print('    testing set')\n",
    "y_pred = clf.predict(X_website_text_test, X_descr_test)\n",
    "print classification_report(y_test, y_pred)\n",
    "\n",
    "print '\\n\\nLogistic'\n",
    "base_lr = LogisticRegressionCV(class_weight='balanced',Cs=10)\n",
    "base_lr.fit(X_train_labelled, y_train_labelled)\n",
    "print('    training set unlabelled')\n",
    "y_pred = base_lr.predict(hstack([X_descr_train[msk1,:],X_website_text_train[msk1,:]]))\n",
    "print classification_report(y_train_copy[msk1], y_pred)\n",
    "print('    testing set')\n",
    "y_pred = base_lr.predict(X_test)\n",
    "print classification_report(y_test, y_pred)\n",
    "\n",
    "print '\\n\\nLogistic CoTraining'\n",
    "lg_co_clf = sklearn_cotraining.classifiers.CoTrainingClassifier(LogisticRegression(class_weight='balanced',\n",
    "                    C=base_lr.C_[0]),u=len(y_train)//10,k=1000)\n",
    "lg_co_clf.fit(X_website_text_train, X_descr_train, y_train)\n",
    "print('    training set unlabelled')\n",
    "y_pred = lg_co_clf.predict(X_website_text_train[msk1,:], X_descr_train[msk1,:])\n",
    "print classification_report(y_train_copy[msk1], y_pred)\n",
    "print('    testing set')\n",
    "y_pred = lg_co_clf.predict(X_website_text_test, X_descr_test)\n",
    "print classification_report(y_test, y_pred)\n"
   ]
  },
  {
   "cell_type": "code",
   "execution_count": 29,
   "metadata": {
    "collapsed": false
   },
   "outputs": [
    {
     "name": "stdout",
     "output_type": "stream",
     "text": [
      "classifiers not using balanced class option\n",
      "\n",
      "\n",
      "naive bayes\n",
      "    training set unlabelled\n",
      "             precision    recall  f1-score   support\n",
      "\n",
      "          0       0.74      1.00      0.85       782\n",
      "          1       0.00      0.00      0.00       269\n",
      "\n",
      "avg / total       0.55      0.74      0.63      1051\n",
      "\n",
      "    testing set\n",
      "             precision    recall  f1-score   support\n",
      "\n",
      "          0       0.78      1.00      0.88       302\n",
      "          1       0.00      0.00      0.00        85\n",
      "\n",
      "avg / total       0.61      0.78      0.68       387\n",
      "\n",
      "\n",
      "\n",
      "naive bayes cotraining\n"
     ]
    },
    {
     "name": "stderr",
     "output_type": "stream",
     "text": [
      "/usr/local/lib/python2.7/dist-packages/sklearn/metrics/classification.py:1113: UndefinedMetricWarning: Precision and F-score are ill-defined and being set to 0.0 in labels with no predicted samples.\n",
      "  'precision', 'predicted', average, warn_for)\n"
     ]
    },
    {
     "name": "stdout",
     "output_type": "stream",
     "text": [
      "no of iterations took for fitting:211\n",
      "    training set unlabelled\n",
      "             precision    recall  f1-score   support\n",
      "\n",
      "          0       0.74      1.00      0.85       782\n",
      "          1       0.00      0.00      0.00       269\n",
      "\n",
      "avg / total       0.55      0.74      0.63      1051\n",
      "\n",
      "    testing set\n",
      "             precision    recall  f1-score   support\n",
      "\n",
      "          0       0.78      1.00      0.88       302\n",
      "          1       0.00      0.00      0.00        85\n",
      "\n",
      "avg / total       0.61      0.78      0.68       387\n",
      "\n",
      "\n",
      "\n",
      "Logistic\n"
     ]
    },
    {
     "name": "stderr",
     "output_type": "stream",
     "text": [
      "/usr/local/lib/python2.7/dist-packages/sklearn/utils/validation.py:395: DeprecationWarning: Passing 1d arrays as data is deprecated in 0.17 and will raise ValueError in 0.19. Reshape your data either using X.reshape(-1, 1) if your data has a single feature or X.reshape(1, -1) if it contains a single sample.\n",
      "  DeprecationWarning)\n",
      "/usr/local/lib/python2.7/dist-packages/sklearn/utils/validation.py:395: DeprecationWarning: Passing 1d arrays as data is deprecated in 0.17 and will raise ValueError in 0.19. Reshape your data either using X.reshape(-1, 1) if your data has a single feature or X.reshape(1, -1) if it contains a single sample.\n",
      "  DeprecationWarning)\n"
     ]
    },
    {
     "name": "stdout",
     "output_type": "stream",
     "text": [
      "    training set unlabelled\n",
      "             precision    recall  f1-score   support\n",
      "\n",
      "          0       0.74      1.00      0.85       782\n",
      "          1       0.00      0.00      0.00       269\n",
      "\n",
      "avg / total       0.55      0.74      0.63      1051\n",
      "\n",
      "    testing set\n",
      "             precision    recall  f1-score   support\n",
      "\n",
      "          0       0.78      1.00      0.88       302\n",
      "          1       0.00      0.00      0.00        85\n",
      "\n",
      "avg / total       0.61      0.78      0.68       387\n",
      "\n",
      "\n",
      "\n",
      "Logistic CoTraining\n",
      "no of iterations took for fitting:215\n",
      "    training set unlabelled\n",
      "             precision    recall  f1-score   support\n",
      "\n",
      "          0       0.74      1.00      0.85       782\n",
      "          1       0.00      0.00      0.00       269\n",
      "\n",
      "avg / total       0.55      0.74      0.63      1051\n",
      "\n",
      "    testing set\n",
      "             precision    recall  f1-score   support\n",
      "\n",
      "          0       0.78      1.00      0.88       302\n",
      "          1       0.00      0.00      0.00        85\n",
      "\n",
      "avg / total       0.61      0.78      0.68       387\n",
      "\n"
     ]
    },
    {
     "name": "stderr",
     "output_type": "stream",
     "text": [
      "/usr/local/lib/python2.7/dist-packages/sklearn/utils/validation.py:395: DeprecationWarning: Passing 1d arrays as data is deprecated in 0.17 and will raise ValueError in 0.19. Reshape your data either using X.reshape(-1, 1) if your data has a single feature or X.reshape(1, -1) if it contains a single sample.\n",
      "  DeprecationWarning)\n",
      "/usr/local/lib/python2.7/dist-packages/sklearn/utils/validation.py:395: DeprecationWarning: Passing 1d arrays as data is deprecated in 0.17 and will raise ValueError in 0.19. Reshape your data either using X.reshape(-1, 1) if your data has a single feature or X.reshape(1, -1) if it contains a single sample.\n",
      "  DeprecationWarning)\n"
     ]
    }
   ],
   "source": [
    "print 'classifiers not using balanced class option'\n",
    "print '\\n\\nnaive bayes'\n",
    "clf = MultinomialNB(fit_prior=True)\n",
    "clf.fit(X_train_labelled, y_train_labelled)\n",
    "print('    training set unlabelled')\n",
    "y_pred = clf.predict(hstack([X_descr_train[msk1,:],X_website_text_train[msk1,:]]))\n",
    "print classification_report(y_train_copy[msk1], y_pred)\n",
    "print('    testing set')\n",
    "y_pred = clf.predict(X_test)\n",
    "print classification_report(y_test, y_pred)\n",
    "\n",
    "print '\\n\\nnaive bayes cotraining'\n",
    "clf = sklearn_cotraining.classifiers.CoTrainingClassifier(MultinomialNB(fit_prior=True), \n",
    "                                                                u=len(y_train)//10,k=1000)\n",
    "clf.fit(X_website_text_train, X_descr_train, y_train)\n",
    "print('    training set unlabelled')\n",
    "y_pred = clf.predict(X_website_text_train[msk1,:], X_descr_train[msk1,:])\n",
    "print classification_report(y_train_copy[msk1], y_pred)\n",
    "print('    testing set')\n",
    "y_pred = clf.predict(X_website_text_test, X_descr_test)\n",
    "print classification_report(y_test, y_pred)\n",
    "\n",
    "print '\\n\\nLogistic'\n",
    "base_lr = LogisticRegressionCV(Cs=10)\n",
    "base_lr.fit(X_train_labelled, y_train_labelled)\n",
    "print('    training set unlabelled')\n",
    "y_pred = base_lr.predict(hstack([X_descr_train[msk1,:],X_website_text_train[msk1,:]]))\n",
    "print classification_report(y_train_copy[msk1], y_pred)\n",
    "print('    testing set')\n",
    "y_pred = base_lr.predict(X_test)\n",
    "print classification_report(y_test, y_pred)\n",
    "\n",
    "print '\\n\\nLogistic CoTraining'\n",
    "lg_co_clf = sklearn_cotraining.classifiers.CoTrainingClassifier(LogisticRegression(\n",
    "                    C=base_lr.C_[0]),u=len(y_train)//10,k=1000)\n",
    "lg_co_clf.fit(X_website_text_train, X_descr_train, y_train)\n",
    "print('    training set unlabelled')\n",
    "y_pred = lg_co_clf.predict(X_website_text_train[msk1,:], X_descr_train[msk1,:])\n",
    "print classification_report(y_train_copy[msk1], y_pred)\n",
    "print('    testing set')\n",
    "y_pred = lg_co_clf.predict(X_website_text_test, X_descr_test)\n",
    "print classification_report(y_test, y_pred)\n"
   ]
  },
  {
   "cell_type": "markdown",
   "metadata": {},
   "source": [
    "### conclusion\n",
    "co-training does not improve overall classifier performance, but co-training gives better performance for the \n",
    "positive class. So this seems an idea worth pursuing. We need to give balanced class option though"
   ]
  }
 ],
 "metadata": {
  "kernelspec": {
   "display_name": "Python 2",
   "language": "python",
   "name": "python2"
  },
  "language_info": {
   "codemirror_mode": {
    "name": "ipython",
    "version": 2
   },
   "file_extension": ".py",
   "mimetype": "text/x-python",
   "name": "python",
   "nbconvert_exporter": "python",
   "pygments_lexer": "ipython2",
   "version": "2.7.3"
  }
 },
 "nbformat": 4,
 "nbformat_minor": 1
}
