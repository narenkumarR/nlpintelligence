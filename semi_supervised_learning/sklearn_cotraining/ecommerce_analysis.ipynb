{
 "cells": [
  {
   "cell_type": "code",
   "execution_count": 1,
   "metadata": {
    "collapsed": true
   },
   "outputs": [],
   "source": [
    "import pandas as pd"
   ]
  },
  {
   "cell_type": "code",
   "execution_count": 2,
   "metadata": {
    "collapsed": true
   },
   "outputs": [],
   "source": [
    "tmp1=pd.read_csv('/home/madan/Desktop/joswin_bck/toPendrive/works/company_classification/nlp-intelligence/e-commerce_classification/files/cb_ecommerce_comps.csv')\n",
    "tmp2 = pd.read_csv('/home/madan/Desktop/joswin_bck/toPendrive/works/company_classification/nlp-intelligence/e-commerce_classification/files/lkdn_ecommerce_comps.csv')"
   ]
  },
  {
   "cell_type": "code",
   "execution_count": 3,
   "metadata": {
    "collapsed": false,
    "scrolled": true
   },
   "outputs": [
    {
     "data": {
      "text/html": [
       "<div>\n",
       "<table border=\"1\" class=\"dataframe\">\n",
       "  <thead>\n",
       "    <tr style=\"text-align: right;\">\n",
       "      <th></th>\n",
       "      <th>company_name</th>\n",
       "      <th>primary_role</th>\n",
       "      <th>domain</th>\n",
       "      <th>homepage_url</th>\n",
       "      <th>country_code</th>\n",
       "      <th>state_code</th>\n",
       "      <th>region</th>\n",
       "      <th>city</th>\n",
       "      <th>status</th>\n",
       "      <th>short_description</th>\n",
       "      <th>...</th>\n",
       "      <th>email</th>\n",
       "      <th>phone</th>\n",
       "      <th>facebook_url</th>\n",
       "      <th>cb_url</th>\n",
       "      <th>logo_url</th>\n",
       "      <th>profile_image_url</th>\n",
       "      <th>twitter_url</th>\n",
       "      <th>uuid</th>\n",
       "      <th>created_at</th>\n",
       "      <th>updated_at</th>\n",
       "    </tr>\n",
       "  </thead>\n",
       "  <tbody>\n",
       "    <tr>\n",
       "      <th>0</th>\n",
       "      <td>Function Marketing Company Ltd</td>\n",
       "      <td>company</td>\n",
       "      <td>NaN</td>\n",
       "      <td>NaN</td>\n",
       "      <td>NaN</td>\n",
       "      <td>NaN</td>\n",
       "      <td>NaN</td>\n",
       "      <td>NaN</td>\n",
       "      <td>operating</td>\n",
       "      <td>wholesale and Retail of goods</td>\n",
       "      <td>...</td>\n",
       "      <td>NaN</td>\n",
       "      <td>NaN</td>\n",
       "      <td>NaN</td>\n",
       "      <td>https://www.crunchbase.com/organization/functi...</td>\n",
       "      <td>https://www.crunchbase.com/organization/functi...</td>\n",
       "      <td>http://public.crunchbase.com/t_api_images/v139...</td>\n",
       "      <td>NaN</td>\n",
       "      <td>9e0d4ece-bbf1-cf9d-d7dd-7602fdd862a3</td>\n",
       "      <td>2013-10-28 07:12:07</td>\n",
       "      <td>2014-12-18 18:35:12</td>\n",
       "    </tr>\n",
       "    <tr>\n",
       "      <th>1</th>\n",
       "      <td>00'CONCIERGE</td>\n",
       "      <td>company</td>\n",
       "      <td>00concierge.com</td>\n",
       "      <td>http://www.00concierge.com</td>\n",
       "      <td>GBR</td>\n",
       "      <td>NaN</td>\n",
       "      <td>London</td>\n",
       "      <td>London</td>\n",
       "      <td>operating</td>\n",
       "      <td>00CONCIERGE helps luxury womenswear brands exp...</td>\n",
       "      <td>...</td>\n",
       "      <td>NaN</td>\n",
       "      <td>NaN</td>\n",
       "      <td>http://www.facebook.com/00concierge</td>\n",
       "      <td>https://www.crunchbase.com/organization/00conc...</td>\n",
       "      <td>https://www.crunchbase.com/organization/00conc...</td>\n",
       "      <td>http://public.crunchbase.com/t_api_images/v140...</td>\n",
       "      <td>https://www.twitter.com/00concierge</td>\n",
       "      <td>62e84652-77b8-52e6-a14e-da2366038422</td>\n",
       "      <td>2014-07-29 11:42:38</td>\n",
       "      <td>2015-12-29 08:42:28.828392</td>\n",
       "    </tr>\n",
       "    <tr>\n",
       "      <th>2</th>\n",
       "      <td>Grupo 014</td>\n",
       "      <td>company</td>\n",
       "      <td>014media.com</td>\n",
       "      <td>http://www.014media.com</td>\n",
       "      <td>ESP</td>\n",
       "      <td>NaN</td>\n",
       "      <td>Madrid</td>\n",
       "      <td>Madrid</td>\n",
       "      <td>operating</td>\n",
       "      <td>Marketing of advertising media.</td>\n",
       "      <td>...</td>\n",
       "      <td>info@014media.com</td>\n",
       "      <td>NaN</td>\n",
       "      <td>http://www.facebook.com/014media</td>\n",
       "      <td>https://www.crunchbase.com/organization/grupo-014</td>\n",
       "      <td>https://www.crunchbase.com/organization/grupo-...</td>\n",
       "      <td>http://public.crunchbase.com/t_api_images/v139...</td>\n",
       "      <td>https://www.twitter.com/014media</td>\n",
       "      <td>135d85a4-b30a-022f-c336-c670a9610c93</td>\n",
       "      <td>2014-01-21 17:18:39</td>\n",
       "      <td>2016-03-08 01:35:40.235099</td>\n",
       "    </tr>\n",
       "    <tr>\n",
       "      <th>3</th>\n",
       "      <td>1000Bulbs</td>\n",
       "      <td>company</td>\n",
       "      <td>1000bulbs.com</td>\n",
       "      <td>http://www.1000bulbs.com</td>\n",
       "      <td>USA</td>\n",
       "      <td>TX</td>\n",
       "      <td>Dallas</td>\n",
       "      <td>Garland</td>\n",
       "      <td>operating</td>\n",
       "      <td>1000Bulbs.com offers everything from simple, h...</td>\n",
       "      <td>...</td>\n",
       "      <td>NaN</td>\n",
       "      <td>NaN</td>\n",
       "      <td>http://www.facebook.com/1000bulbs</td>\n",
       "      <td>https://www.crunchbase.com/organization/1000bulbs</td>\n",
       "      <td>https://www.crunchbase.com/organization/1000bu...</td>\n",
       "      <td>http://public.crunchbase.com/t_api_images/v140...</td>\n",
       "      <td>https://www.twitter.com/1000bulbs</td>\n",
       "      <td>82565ce6-4520-1c5c-df95-677ea619b81e</td>\n",
       "      <td>2014-05-28 21:40:32</td>\n",
       "      <td>2016-01-19 08:35:25.266014</td>\n",
       "    </tr>\n",
       "    <tr>\n",
       "      <th>4</th>\n",
       "      <td>1000 Markets</td>\n",
       "      <td>company</td>\n",
       "      <td>1000markets.com</td>\n",
       "      <td>http://www.1000markets.com</td>\n",
       "      <td>USA</td>\n",
       "      <td>WA</td>\n",
       "      <td>Seattle</td>\n",
       "      <td>Seattle</td>\n",
       "      <td>acquired</td>\n",
       "      <td>1000 Markets is an online marketplace with spe...</td>\n",
       "      <td>...</td>\n",
       "      <td>info@1000markets.com</td>\n",
       "      <td>NaN</td>\n",
       "      <td>NaN</td>\n",
       "      <td>https://www.crunchbase.com/organization/1000-m...</td>\n",
       "      <td>https://www.crunchbase.com/organization/1000-m...</td>\n",
       "      <td>http://public.crunchbase.com/t_api_images/v139...</td>\n",
       "      <td>https://www.twitter.com/bonanzamarket</td>\n",
       "      <td>5faf848a-8cf5-072b-faea-92a0c5988223</td>\n",
       "      <td>2009-05-16 04:54:49</td>\n",
       "      <td>2016-03-07 18:52:51.974142</td>\n",
       "    </tr>\n",
       "  </tbody>\n",
       "</table>\n",
       "<p>5 rows × 29 columns</p>\n",
       "</div>"
      ],
      "text/plain": [
       "                     company_name primary_role           domain  \\\n",
       "0  Function Marketing Company Ltd      company              NaN   \n",
       "1                    00'CONCIERGE      company  00concierge.com   \n",
       "2                       Grupo 014      company     014media.com   \n",
       "3                       1000Bulbs      company    1000bulbs.com   \n",
       "4                    1000 Markets      company  1000markets.com   \n",
       "\n",
       "                 homepage_url country_code state_code   region     city  \\\n",
       "0                         NaN          NaN        NaN      NaN      NaN   \n",
       "1  http://www.00concierge.com          GBR        NaN   London   London   \n",
       "2     http://www.014media.com          ESP        NaN   Madrid   Madrid   \n",
       "3    http://www.1000bulbs.com          USA         TX   Dallas  Garland   \n",
       "4  http://www.1000markets.com          USA         WA  Seattle  Seattle   \n",
       "\n",
       "      status                                  short_description  \\\n",
       "0  operating                      wholesale and Retail of goods   \n",
       "1  operating  00CONCIERGE helps luxury womenswear brands exp...   \n",
       "2  operating                    Marketing of advertising media.   \n",
       "3  operating  1000Bulbs.com offers everything from simple, h...   \n",
       "4   acquired  1000 Markets is an online marketplace with spe...   \n",
       "\n",
       "              ...                             email phone  \\\n",
       "0             ...                               NaN   NaN   \n",
       "1             ...                               NaN   NaN   \n",
       "2             ...                 info@014media.com   NaN   \n",
       "3             ...                               NaN   NaN   \n",
       "4             ...              info@1000markets.com   NaN   \n",
       "\n",
       "                          facebook_url  \\\n",
       "0                                  NaN   \n",
       "1  http://www.facebook.com/00concierge   \n",
       "2     http://www.facebook.com/014media   \n",
       "3    http://www.facebook.com/1000bulbs   \n",
       "4                                  NaN   \n",
       "\n",
       "                                              cb_url  \\\n",
       "0  https://www.crunchbase.com/organization/functi...   \n",
       "1  https://www.crunchbase.com/organization/00conc...   \n",
       "2  https://www.crunchbase.com/organization/grupo-014   \n",
       "3  https://www.crunchbase.com/organization/1000bulbs   \n",
       "4  https://www.crunchbase.com/organization/1000-m...   \n",
       "\n",
       "                                            logo_url  \\\n",
       "0  https://www.crunchbase.com/organization/functi...   \n",
       "1  https://www.crunchbase.com/organization/00conc...   \n",
       "2  https://www.crunchbase.com/organization/grupo-...   \n",
       "3  https://www.crunchbase.com/organization/1000bu...   \n",
       "4  https://www.crunchbase.com/organization/1000-m...   \n",
       "\n",
       "                                   profile_image_url  \\\n",
       "0  http://public.crunchbase.com/t_api_images/v139...   \n",
       "1  http://public.crunchbase.com/t_api_images/v140...   \n",
       "2  http://public.crunchbase.com/t_api_images/v139...   \n",
       "3  http://public.crunchbase.com/t_api_images/v140...   \n",
       "4  http://public.crunchbase.com/t_api_images/v139...   \n",
       "\n",
       "                             twitter_url  \\\n",
       "0                                    NaN   \n",
       "1    https://www.twitter.com/00concierge   \n",
       "2       https://www.twitter.com/014media   \n",
       "3      https://www.twitter.com/1000bulbs   \n",
       "4  https://www.twitter.com/bonanzamarket   \n",
       "\n",
       "                                   uuid           created_at  \\\n",
       "0  9e0d4ece-bbf1-cf9d-d7dd-7602fdd862a3  2013-10-28 07:12:07   \n",
       "1  62e84652-77b8-52e6-a14e-da2366038422  2014-07-29 11:42:38   \n",
       "2  135d85a4-b30a-022f-c336-c670a9610c93  2014-01-21 17:18:39   \n",
       "3  82565ce6-4520-1c5c-df95-677ea619b81e  2014-05-28 21:40:32   \n",
       "4  5faf848a-8cf5-072b-faea-92a0c5988223  2009-05-16 04:54:49   \n",
       "\n",
       "                   updated_at  \n",
       "0         2014-12-18 18:35:12  \n",
       "1  2015-12-29 08:42:28.828392  \n",
       "2  2016-03-08 01:35:40.235099  \n",
       "3  2016-01-19 08:35:25.266014  \n",
       "4  2016-03-07 18:52:51.974142  \n",
       "\n",
       "[5 rows x 29 columns]"
      ]
     },
     "execution_count": 3,
     "metadata": {},
     "output_type": "execute_result"
    }
   ],
   "source": [
    "tmp1.head()"
   ]
  },
  {
   "cell_type": "code",
   "execution_count": 4,
   "metadata": {
    "collapsed": false,
    "scrolled": true
   },
   "outputs": [
    {
     "data": {
      "text/html": [
       "<div>\n",
       "<table border=\"1\" class=\"dataframe\">\n",
       "  <thead>\n",
       "    <tr style=\"text-align: right;\">\n",
       "      <th></th>\n",
       "      <th>linkedin_url</th>\n",
       "      <th>company_name</th>\n",
       "      <th>company_size</th>\n",
       "      <th>industry</th>\n",
       "      <th>company_type</th>\n",
       "      <th>headquarters</th>\n",
       "      <th>description</th>\n",
       "      <th>founded</th>\n",
       "      <th>specialties</th>\n",
       "      <th>website</th>\n",
       "      <th>timestamp</th>\n",
       "      <th>employee_details_array</th>\n",
       "      <th>also_viewed_companies_array</th>\n",
       "    </tr>\n",
       "  </thead>\n",
       "  <tbody>\n",
       "    <tr>\n",
       "      <th>0</th>\n",
       "      <td>https://www.linkedin.com/company/pt--global-je...</td>\n",
       "      <td>PT. Global Jet Express (J&amp;T Express)</td>\n",
       "      <td>201-500 employees</td>\n",
       "      <td>Logistics and Supply Chain</td>\n",
       "      <td>Public Company</td>\n",
       "      <td>NaN</td>\n",
       "      <td>J&amp;T is an express company based on the develop...</td>\n",
       "      <td>2015.0</td>\n",
       "      <td>NaN</td>\n",
       "      <td>http://-</td>\n",
       "      <td>2016-06-18 08:29:58.883901</td>\n",
       "      <td>{\"https://www.linkedin.com/pub/putri-remilayan...</td>\n",
       "      <td>{\"https://www.linkedin.com/company/jetexpress{...</td>\n",
       "    </tr>\n",
       "    <tr>\n",
       "      <th>1</th>\n",
       "      <td>https://www.linkedin.com/company/wearwolf-grou...</td>\n",
       "      <td>Wearwolf Group, Ltd.</td>\n",
       "      <td>11-50 employees</td>\n",
       "      <td>Apparel &amp; Fashion</td>\n",
       "      <td>Privately Held</td>\n",
       "      <td>NaN</td>\n",
       "      <td>Wearwolf Group, Ltd.  is a family-owned produc...</td>\n",
       "      <td>1979.0</td>\n",
       "      <td>NaN</td>\n",
       "      <td>http:///</td>\n",
       "      <td>2016-10-29 00:09:08.38184</td>\n",
       "      <td>NaN</td>\n",
       "      <td>{\"https://www.linkedin.com/company/durkee-agen...</td>\n",
       "    </tr>\n",
       "    <tr>\n",
       "      <th>2</th>\n",
       "      <td>https://www.linkedin.com/company/web-logix-int...</td>\n",
       "      <td>Web Logix International Private Limited</td>\n",
       "      <td>1-10 employees</td>\n",
       "      <td>Computer Software</td>\n",
       "      <td>Privately Held</td>\n",
       "      <td>9 Alexandra Place Brynmill West Glamorgan, Sou...</td>\n",
       "      <td>Web Logix International Pvt Ltd,  is a value d...</td>\n",
       "      <td>NaN</td>\n",
       "      <td>Project Management, Graphic Designing, Creativ...</td>\n",
       "      <td>http://...</td>\n",
       "      <td>2016-05-25 01:01:01.000001</td>\n",
       "      <td>NaN</td>\n",
       "      <td>{\"https://www.linkedin.com/company/web-integra...</td>\n",
       "    </tr>\n",
       "    <tr>\n",
       "      <th>3</th>\n",
       "      <td>https://www.linkedin.com/company/tiwi-web</td>\n",
       "      <td>wellllll</td>\n",
       "      <td>1-10 employees</td>\n",
       "      <td>Information Technology and Services</td>\n",
       "      <td>Privately Held</td>\n",
       "      <td>Via Archimede Lecce, Lecce 73100 Italy</td>\n",
       "      <td>welll un team di professionisti, preparati, co...</td>\n",
       "      <td>2015.0</td>\n",
       "      <td>web, marketing, software, SEO, grafica, inform...</td>\n",
       "      <td>http://#</td>\n",
       "      <td>2016-06-14 04:10:48.878262</td>\n",
       "      <td>NaN</td>\n",
       "      <td>{\"https://www.linkedin.com/company/code-in-pro...</td>\n",
       "    </tr>\n",
       "    <tr>\n",
       "      <th>4</th>\n",
       "      <td>https://www.linkedin.com/company/wsc---wine-an...</td>\n",
       "      <td>WSC - Wine and Spirits Company</td>\n",
       "      <td>1-10 employees</td>\n",
       "      <td>Wine and Spirits</td>\n",
       "      <td>Privately Held</td>\n",
       "      <td>Impasse du parc FERRALS LES CORBIERES, 11200 F...</td>\n",
       "      <td>SARL WSC intervient comme intermédiaire de com...</td>\n",
       "      <td>2014.0</td>\n",
       "      <td>Vin, Vins en vrac, Conditionnés, Dérivés</td>\n",
       "      <td>http://04.68.75.57.44</td>\n",
       "      <td>2016-05-25 01:01:01.000001</td>\n",
       "      <td>NaN</td>\n",
       "      <td>{\"https://www.linkedin.com/company/groupe-val-...</td>\n",
       "    </tr>\n",
       "  </tbody>\n",
       "</table>\n",
       "</div>"
      ],
      "text/plain": [
       "                                        linkedin_url  \\\n",
       "0  https://www.linkedin.com/company/pt--global-je...   \n",
       "1  https://www.linkedin.com/company/wearwolf-grou...   \n",
       "2  https://www.linkedin.com/company/web-logix-int...   \n",
       "3          https://www.linkedin.com/company/tiwi-web   \n",
       "4  https://www.linkedin.com/company/wsc---wine-an...   \n",
       "\n",
       "                              company_name       company_size  \\\n",
       "0     PT. Global Jet Express (J&T Express)  201-500 employees   \n",
       "1                     Wearwolf Group, Ltd.    11-50 employees   \n",
       "2  Web Logix International Private Limited     1-10 employees   \n",
       "3                                 wellllll     1-10 employees   \n",
       "4           WSC - Wine and Spirits Company     1-10 employees   \n",
       "\n",
       "                              industry    company_type  \\\n",
       "0           Logistics and Supply Chain  Public Company   \n",
       "1                    Apparel & Fashion  Privately Held   \n",
       "2                    Computer Software  Privately Held   \n",
       "3  Information Technology and Services  Privately Held   \n",
       "4                     Wine and Spirits  Privately Held   \n",
       "\n",
       "                                        headquarters  \\\n",
       "0                                                NaN   \n",
       "1                                                NaN   \n",
       "2  9 Alexandra Place Brynmill West Glamorgan, Sou...   \n",
       "3             Via Archimede Lecce, Lecce 73100 Italy   \n",
       "4  Impasse du parc FERRALS LES CORBIERES, 11200 F...   \n",
       "\n",
       "                                         description  founded  \\\n",
       "0  J&T is an express company based on the develop...   2015.0   \n",
       "1  Wearwolf Group, Ltd.  is a family-owned produc...   1979.0   \n",
       "2  Web Logix International Pvt Ltd,  is a value d...      NaN   \n",
       "3  welll un team di professionisti, preparati, co...   2015.0   \n",
       "4  SARL WSC intervient comme intermédiaire de com...   2014.0   \n",
       "\n",
       "                                         specialties                website  \\\n",
       "0                                                NaN               http://-   \n",
       "1                                                NaN               http:///   \n",
       "2  Project Management, Graphic Designing, Creativ...             http://...   \n",
       "3  web, marketing, software, SEO, grafica, inform...               http://#   \n",
       "4           Vin, Vins en vrac, Conditionnés, Dérivés  http://04.68.75.57.44   \n",
       "\n",
       "                    timestamp  \\\n",
       "0  2016-06-18 08:29:58.883901   \n",
       "1   2016-10-29 00:09:08.38184   \n",
       "2  2016-05-25 01:01:01.000001   \n",
       "3  2016-06-14 04:10:48.878262   \n",
       "4  2016-05-25 01:01:01.000001   \n",
       "\n",
       "                              employee_details_array  \\\n",
       "0  {\"https://www.linkedin.com/pub/putri-remilayan...   \n",
       "1                                                NaN   \n",
       "2                                                NaN   \n",
       "3                                                NaN   \n",
       "4                                                NaN   \n",
       "\n",
       "                         also_viewed_companies_array  \n",
       "0  {\"https://www.linkedin.com/company/jetexpress{...  \n",
       "1  {\"https://www.linkedin.com/company/durkee-agen...  \n",
       "2  {\"https://www.linkedin.com/company/web-integra...  \n",
       "3  {\"https://www.linkedin.com/company/code-in-pro...  \n",
       "4  {\"https://www.linkedin.com/company/groupe-val-...  "
      ]
     },
     "execution_count": 4,
     "metadata": {},
     "output_type": "execute_result"
    }
   ],
   "source": [
    "tmp2.head()"
   ]
  },
  {
   "cell_type": "code",
   "execution_count": 5,
   "metadata": {
    "collapsed": true
   },
   "outputs": [],
   "source": [
    "tmp = pd.concat([tmp1['homepage_url'],tmp2['website']])"
   ]
  },
  {
   "cell_type": "code",
   "execution_count": 9,
   "metadata": {
    "collapsed": false
   },
   "outputs": [
    {
     "data": {
      "text/plain": [
       "((19509, 29), (35161, 13))"
      ]
     },
     "execution_count": 9,
     "metadata": {},
     "output_type": "execute_result"
    }
   ],
   "source": [
    "tmp1.shape,tmp2.shape"
   ]
  },
  {
   "cell_type": "code",
   "execution_count": 19,
   "metadata": {
    "collapsed": true
   },
   "outputs": [],
   "source": [
    "tmpp = tmp.drop_duplicates()\n",
    "tmpp = tmpp[~pd.isnull(tmpp)]"
   ]
  },
  {
   "cell_type": "code",
   "execution_count": 20,
   "metadata": {
    "collapsed": false
   },
   "outputs": [],
   "source": [
    "tmpp1 = pd.DataFrame({'website':tmpp})"
   ]
  },
  {
   "cell_type": "code",
   "execution_count": 21,
   "metadata": {
    "collapsed": true
   },
   "outputs": [],
   "source": [
    "tmpp1['company_linkedin_url'] = None"
   ]
  },
  {
   "cell_type": "code",
   "execution_count": 22,
   "metadata": {
    "collapsed": false
   },
   "outputs": [],
   "source": [
    "tmpp1['id'] = range(tmpp1.shape[0])"
   ]
  },
  {
   "cell_type": "code",
   "execution_count": 23,
   "metadata": {
    "collapsed": false
   },
   "outputs": [
    {
     "data": {
      "text/html": [
       "<div>\n",
       "<table border=\"1\" class=\"dataframe\">\n",
       "  <thead>\n",
       "    <tr style=\"text-align: right;\">\n",
       "      <th></th>\n",
       "      <th>website</th>\n",
       "      <th>company_linkedin_url</th>\n",
       "      <th>id</th>\n",
       "    </tr>\n",
       "  </thead>\n",
       "  <tbody>\n",
       "    <tr>\n",
       "      <th>1</th>\n",
       "      <td>http://www.00concierge.com</td>\n",
       "      <td>None</td>\n",
       "      <td>0</td>\n",
       "    </tr>\n",
       "    <tr>\n",
       "      <th>2</th>\n",
       "      <td>http://www.014media.com</td>\n",
       "      <td>None</td>\n",
       "      <td>1</td>\n",
       "    </tr>\n",
       "    <tr>\n",
       "      <th>3</th>\n",
       "      <td>http://www.1000bulbs.com</td>\n",
       "      <td>None</td>\n",
       "      <td>2</td>\n",
       "    </tr>\n",
       "    <tr>\n",
       "      <th>4</th>\n",
       "      <td>http://www.1000markets.com</td>\n",
       "      <td>None</td>\n",
       "      <td>3</td>\n",
       "    </tr>\n",
       "    <tr>\n",
       "      <th>5</th>\n",
       "      <td>http://www.1001cupomdedescontos.com.br/</td>\n",
       "      <td>None</td>\n",
       "      <td>4</td>\n",
       "    </tr>\n",
       "  </tbody>\n",
       "</table>\n",
       "</div>"
      ],
      "text/plain": [
       "                                   website company_linkedin_url  id\n",
       "1               http://www.00concierge.com                 None   0\n",
       "2                  http://www.014media.com                 None   1\n",
       "3                 http://www.1000bulbs.com                 None   2\n",
       "4               http://www.1000markets.com                 None   3\n",
       "5  http://www.1001cupomdedescontos.com.br/                 None   4"
      ]
     },
     "execution_count": 23,
     "metadata": {},
     "output_type": "execute_result"
    }
   ],
   "source": [
    "tmpp1.head()"
   ]
  },
  {
   "cell_type": "code",
   "execution_count": 24,
   "metadata": {
    "collapsed": false
   },
   "outputs": [],
   "source": [
    "tmpp1 = tmpp1.fillna('')"
   ]
  },
  {
   "cell_type": "code",
   "execution_count": 25,
   "metadata": {
    "collapsed": false
   },
   "outputs": [
    {
     "data": {
      "text/html": [
       "<div>\n",
       "<table border=\"1\" class=\"dataframe\">\n",
       "  <thead>\n",
       "    <tr style=\"text-align: right;\">\n",
       "      <th></th>\n",
       "      <th>website</th>\n",
       "      <th>company_linkedin_url</th>\n",
       "      <th>id</th>\n",
       "    </tr>\n",
       "  </thead>\n",
       "  <tbody>\n",
       "    <tr>\n",
       "      <th>1</th>\n",
       "      <td>http://www.00concierge.com</td>\n",
       "      <td></td>\n",
       "      <td>0</td>\n",
       "    </tr>\n",
       "    <tr>\n",
       "      <th>2</th>\n",
       "      <td>http://www.014media.com</td>\n",
       "      <td></td>\n",
       "      <td>1</td>\n",
       "    </tr>\n",
       "    <tr>\n",
       "      <th>3</th>\n",
       "      <td>http://www.1000bulbs.com</td>\n",
       "      <td></td>\n",
       "      <td>2</td>\n",
       "    </tr>\n",
       "    <tr>\n",
       "      <th>4</th>\n",
       "      <td>http://www.1000markets.com</td>\n",
       "      <td></td>\n",
       "      <td>3</td>\n",
       "    </tr>\n",
       "    <tr>\n",
       "      <th>5</th>\n",
       "      <td>http://www.1001cupomdedescontos.com.br/</td>\n",
       "      <td></td>\n",
       "      <td>4</td>\n",
       "    </tr>\n",
       "  </tbody>\n",
       "</table>\n",
       "</div>"
      ],
      "text/plain": [
       "                                   website company_linkedin_url  id\n",
       "1               http://www.00concierge.com                        0\n",
       "2                  http://www.014media.com                        1\n",
       "3                 http://www.1000bulbs.com                        2\n",
       "4               http://www.1000markets.com                        3\n",
       "5  http://www.1001cupomdedescontos.com.br/                        4"
      ]
     },
     "execution_count": 25,
     "metadata": {},
     "output_type": "execute_result"
    }
   ],
   "source": [
    "tmpp1.head()"
   ]
  },
  {
   "cell_type": "code",
   "execution_count": 26,
   "metadata": {
    "collapsed": true
   },
   "outputs": [],
   "source": [
    "tmpp1.to_csv('/home/madan/Desktop/joswin_bck/toPendrive/works/company_classification/nlp-intelligence/e-commerce_classification/files/ecommerce_urls_crawling_input.csv',index=False,quoting=1)"
   ]
  },
  {
   "cell_type": "code",
   "execution_count": null,
   "metadata": {
    "collapsed": true
   },
   "outputs": [],
   "source": []
  }
 ],
 "metadata": {
  "kernelspec": {
   "display_name": "Python 2",
   "language": "python",
   "name": "python2"
  },
  "language_info": {
   "codemirror_mode": {
    "name": "ipython",
    "version": 2
   },
   "file_extension": ".py",
   "mimetype": "text/x-python",
   "name": "python",
   "nbconvert_exporter": "python",
   "pygments_lexer": "ipython2",
   "version": "2.7.3"
  }
 },
 "nbformat": 4,
 "nbformat_minor": 1
}
