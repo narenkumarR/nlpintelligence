{
 "cells": [
  {
   "cell_type": "code",
   "execution_count": 1,
   "metadata": {
    "collapsed": true
   },
   "outputs": [],
   "source": [
    "import pandas as pd, numpy as np\n",
    "import tldextract,re"
   ]
  },
  {
   "cell_type": "code",
   "execution_count": 2,
   "metadata": {
    "collapsed": false
   },
   "outputs": [
    {
     "name": "stderr",
     "output_type": "stream",
     "text": [
      "No handlers could be found for logger \"tldextract\"\n"
     ]
    },
    {
     "data": {
      "text/plain": [
       "((2391, 21), (1906, 3), (1893, 23))"
      ]
     },
     "execution_count": 2,
     "metadata": {},
     "output_type": "execute_result"
    }
   ],
   "source": [
    "df = pd.read_excel('USA_SAAS_CB_10Dec16.xlsx')\n",
    "df = df.dropna(subset=['category_list'])\n",
    "df.index = range(len(df))\n",
    "df1 = pd.read_csv('USA_SAAS_CB_10Dec16_website_text.csv')\n",
    "df1['website_text'] = df1['website_text'].fillna('').apply(lambda x: re.sub('\\n',' ',x.lower()))\n",
    "df['domain_cleaned'] = df['homepage_url'].apply(lambda x: tldextract.extract(x.lower()).domain)\n",
    "df1['domain_cleaned'] = df1['website'].apply(lambda x: tldextract.extract(x.lower()).domain)\n",
    "df = df.drop_duplicates('domain_cleaned')\n",
    "df1 = df1.drop_duplicates('domain_cleaned')\n",
    "df_final = pd.merge(df,df1,on='domain_cleaned')\n",
    "df.shape,df1.shape,df_final.shape"
   ]
  },
  {
   "cell_type": "code",
   "execution_count": 3,
   "metadata": {
    "collapsed": false,
    "scrolled": true
   },
   "outputs": [
    {
     "data": {
      "text/html": [
       "<div>\n",
       "<table border=\"1\" class=\"dataframe\">\n",
       "  <thead>\n",
       "    <tr style=\"text-align: right;\">\n",
       "      <th></th>\n",
       "      <th>li_cpy_name</th>\n",
       "      <th>country_code</th>\n",
       "      <th>state_code</th>\n",
       "      <th>region</th>\n",
       "      <th>city</th>\n",
       "      <th>category_list</th>\n",
       "      <th>category_group_list</th>\n",
       "      <th>industry</th>\n",
       "      <th>short_description</th>\n",
       "      <th>description</th>\n",
       "      <th>...</th>\n",
       "      <th>funding_rounds</th>\n",
       "      <th>funding_total_usd</th>\n",
       "      <th>last_funding_on</th>\n",
       "      <th>homepage_url</th>\n",
       "      <th>linkedin_url</th>\n",
       "      <th>domain</th>\n",
       "      <th>email</th>\n",
       "      <th>domain_cleaned</th>\n",
       "      <th>website</th>\n",
       "      <th>website_text</th>\n",
       "    </tr>\n",
       "  </thead>\n",
       "  <tbody>\n",
       "    <tr>\n",
       "      <th>1888</th>\n",
       "      <td>NuORDER</td>\n",
       "      <td>USA</td>\n",
       "      <td>CA</td>\n",
       "      <td>Los Angeles</td>\n",
       "      <td>West Hollywood</td>\n",
       "      <td>b2b|e-commerce|fashion|internet|saas|wholesale</td>\n",
       "      <td>commerce and shopping|design|internet services</td>\n",
       "      <td>Wholesale</td>\n",
       "      <td>NuORDER is a cloud &amp; mobile B2B eCommerce plat...</td>\n",
       "      <td>NuORDER empowers B2B eCommerce sites for over ...</td>\n",
       "      <td>...</td>\n",
       "      <td>3</td>\n",
       "      <td>13900000.0</td>\n",
       "      <td>2015-02-01 00:00:00</td>\n",
       "      <td>http://www.nuorder.com</td>\n",
       "      <td>http://www.linkedin.com/company/2779405</td>\n",
       "      <td>nuorder.com</td>\n",
       "      <td>info@nuorder.com</td>\n",
       "      <td>nuorder</td>\n",
       "      <td>http://www.nuorder.com</td>\n",
       "      <td>nuorder #1 b2b ecommerce solution brands retai...</td>\n",
       "    </tr>\n",
       "    <tr>\n",
       "      <th>1889</th>\n",
       "      <td>EvoNexus (CommNexus)</td>\n",
       "      <td>USA</td>\n",
       "      <td>CA</td>\n",
       "      <td>San Diego</td>\n",
       "      <td>La Jolla</td>\n",
       "      <td>big data|cyber security|hardware|life science|...</td>\n",
       "      <td>biotechnology|data and analytics|hardware|info...</td>\n",
       "      <td>Wireless</td>\n",
       "      <td>EvoNexus is a non-profit technology incubator ...</td>\n",
       "      <td>EvoNexus (formerly CommNexus, formerly the Tel...</td>\n",
       "      <td>...</td>\n",
       "      <td>0</td>\n",
       "      <td>NaN</td>\n",
       "      <td>NaN</td>\n",
       "      <td>http://www.evonexus.org</td>\n",
       "      <td>http://www.linkedin.com/company/commnexus</td>\n",
       "      <td>evonexus.org</td>\n",
       "      <td>NaN</td>\n",
       "      <td>evonexus</td>\n",
       "      <td>http://www.evonexus.org</td>\n",
       "      <td>evonexus jobs contact us resources about about...</td>\n",
       "    </tr>\n",
       "    <tr>\n",
       "      <th>1890</th>\n",
       "      <td>Macheen Inc</td>\n",
       "      <td>USA</td>\n",
       "      <td>TX</td>\n",
       "      <td>Austin</td>\n",
       "      <td>Austin</td>\n",
       "      <td>enterprise software|internet|saas</td>\n",
       "      <td>internet services|software</td>\n",
       "      <td>Wireless</td>\n",
       "      <td>Macheen is a SaaS-based platform that brings m...</td>\n",
       "      <td>Macheen, Inc is a SaaS company that brings mob...</td>\n",
       "      <td>...</td>\n",
       "      <td>5</td>\n",
       "      <td>34394995.0</td>\n",
       "      <td>2013-12-01 00:00:00</td>\n",
       "      <td>http://macheen.com</td>\n",
       "      <td>https://www.linkedin.com/company/macheen-inc</td>\n",
       "      <td>macheen.com</td>\n",
       "      <td>info@macheen.com</td>\n",
       "      <td>macheen</td>\n",
       "      <td>http://macheen.com</td>\n",
       "      <td>www.macheen.com</td>\n",
       "    </tr>\n",
       "    <tr>\n",
       "      <th>1891</th>\n",
       "      <td>RTP Holdings</td>\n",
       "      <td>USA</td>\n",
       "      <td>PA</td>\n",
       "      <td>Philadelphia</td>\n",
       "      <td>Radnor</td>\n",
       "      <td>saas</td>\n",
       "      <td>NaN</td>\n",
       "      <td>Wireless</td>\n",
       "      <td>Indoor location services, strategy, solutions....</td>\n",
       "      <td>Indoor GPS makes everyday activities faster, e...</td>\n",
       "      <td>...</td>\n",
       "      <td>0</td>\n",
       "      <td>NaN</td>\n",
       "      <td>NaN</td>\n",
       "      <td>http://www.rtpholdings.com</td>\n",
       "      <td>http://www.linkedin.com/company/rtp-holdings</td>\n",
       "      <td>rtpholdings.com</td>\n",
       "      <td>NaN</td>\n",
       "      <td>rtpholdings</td>\n",
       "      <td>http://www.rtpholdings.com</td>\n",
       "      <td>rtp holdings - rtp holdings home solution bene...</td>\n",
       "    </tr>\n",
       "    <tr>\n",
       "      <th>1892</th>\n",
       "      <td>SeatServe</td>\n",
       "      <td>USA</td>\n",
       "      <td>NY</td>\n",
       "      <td>New York City</td>\n",
       "      <td>New York</td>\n",
       "      <td>e-commerce|mobile|sports</td>\n",
       "      <td>commerce and shopping|mobile|sports</td>\n",
       "      <td>Wireless</td>\n",
       "      <td>A real-time delivery SaaS solution designed fo...</td>\n",
       "      <td>SeatServe is a digital solutions provider base...</td>\n",
       "      <td>...</td>\n",
       "      <td>0</td>\n",
       "      <td>NaN</td>\n",
       "      <td>NaN</td>\n",
       "      <td>http://seatserve.com</td>\n",
       "      <td>https://www.linkedin.com/company/seatserve</td>\n",
       "      <td>seatserve.com</td>\n",
       "      <td>info@seatserve.com</td>\n",
       "      <td>seatserve</td>\n",
       "      <td>http://seatserve.com</td>\n",
       "      <td>seatserve - stay seated. in-seat delivery at y...</td>\n",
       "    </tr>\n",
       "  </tbody>\n",
       "</table>\n",
       "<p>5 rows × 23 columns</p>\n",
       "</div>"
      ],
      "text/plain": [
       "               li_cpy_name country_code state_code         region  \\\n",
       "1888               NuORDER          USA         CA    Los Angeles   \n",
       "1889  EvoNexus (CommNexus)          USA         CA      San Diego   \n",
       "1890           Macheen Inc          USA         TX         Austin   \n",
       "1891          RTP Holdings          USA         PA   Philadelphia   \n",
       "1892             SeatServe          USA         NY  New York City   \n",
       "\n",
       "                city                                      category_list  \\\n",
       "1888  West Hollywood     b2b|e-commerce|fashion|internet|saas|wholesale   \n",
       "1889        La Jolla  big data|cyber security|hardware|life science|...   \n",
       "1890          Austin                  enterprise software|internet|saas   \n",
       "1891          Radnor                                               saas   \n",
       "1892        New York                           e-commerce|mobile|sports   \n",
       "\n",
       "                                    category_group_list   industry  \\\n",
       "1888     commerce and shopping|design|internet services  Wholesale   \n",
       "1889  biotechnology|data and analytics|hardware|info...   Wireless   \n",
       "1890                         internet services|software   Wireless   \n",
       "1891                                                NaN   Wireless   \n",
       "1892                commerce and shopping|mobile|sports   Wireless   \n",
       "\n",
       "                                      short_description  \\\n",
       "1888  NuORDER is a cloud & mobile B2B eCommerce plat...   \n",
       "1889  EvoNexus is a non-profit technology incubator ...   \n",
       "1890  Macheen is a SaaS-based platform that brings m...   \n",
       "1891  Indoor location services, strategy, solutions....   \n",
       "1892  A real-time delivery SaaS solution designed fo...   \n",
       "\n",
       "                                            description  \\\n",
       "1888  NuORDER empowers B2B eCommerce sites for over ...   \n",
       "1889  EvoNexus (formerly CommNexus, formerly the Tel...   \n",
       "1890  Macheen, Inc is a SaaS company that brings mob...   \n",
       "1891  Indoor GPS makes everyday activities faster, e...   \n",
       "1892  SeatServe is a digital solutions provider base...   \n",
       "\n",
       "                            ...                         funding_rounds  \\\n",
       "1888                        ...                                      3   \n",
       "1889                        ...                                      0   \n",
       "1890                        ...                                      5   \n",
       "1891                        ...                                      0   \n",
       "1892                        ...                                      0   \n",
       "\n",
       "      funding_total_usd      last_funding_on                homepage_url  \\\n",
       "1888         13900000.0  2015-02-01 00:00:00      http://www.nuorder.com   \n",
       "1889                NaN                  NaN     http://www.evonexus.org   \n",
       "1890         34394995.0  2013-12-01 00:00:00          http://macheen.com   \n",
       "1891                NaN                  NaN  http://www.rtpholdings.com   \n",
       "1892                NaN                  NaN        http://seatserve.com   \n",
       "\n",
       "                                      linkedin_url           domain  \\\n",
       "1888       http://www.linkedin.com/company/2779405      nuorder.com   \n",
       "1889     http://www.linkedin.com/company/commnexus     evonexus.org   \n",
       "1890  https://www.linkedin.com/company/macheen-inc      macheen.com   \n",
       "1891  http://www.linkedin.com/company/rtp-holdings  rtpholdings.com   \n",
       "1892    https://www.linkedin.com/company/seatserve    seatserve.com   \n",
       "\n",
       "                   email domain_cleaned                     website  \\\n",
       "1888    info@nuorder.com        nuorder      http://www.nuorder.com   \n",
       "1889                 NaN       evonexus     http://www.evonexus.org   \n",
       "1890    info@macheen.com        macheen          http://macheen.com   \n",
       "1891                 NaN    rtpholdings  http://www.rtpholdings.com   \n",
       "1892  info@seatserve.com      seatserve        http://seatserve.com   \n",
       "\n",
       "                                           website_text  \n",
       "1888  nuorder #1 b2b ecommerce solution brands retai...  \n",
       "1889  evonexus jobs contact us resources about about...  \n",
       "1890                                    www.macheen.com  \n",
       "1891  rtp holdings - rtp holdings home solution bene...  \n",
       "1892  seatserve - stay seated. in-seat delivery at y...  \n",
       "\n",
       "[5 rows x 23 columns]"
      ]
     },
     "execution_count": 3,
     "metadata": {},
     "output_type": "execute_result"
    }
   ],
   "source": [
    "df_final.tail()"
   ]
  },
  {
   "cell_type": "code",
   "execution_count": 3,
   "metadata": {
    "collapsed": true
   },
   "outputs": [],
   "source": [
    "from sklearn.feature_extraction.text import TfidfVectorizer,CountVectorizer\n",
    "from sklearn.metrics import classification_report\n",
    "from sklearn.linear_model import LogisticRegressionCV,LogisticRegression\n",
    "from sklearn.naive_bayes import MultinomialNB"
   ]
  },
  {
   "cell_type": "code",
   "execution_count": 40,
   "metadata": {
    "collapsed": false
   },
   "outputs": [
    {
     "data": {
      "text/plain": [
       "(1893, 38)"
      ]
     },
     "execution_count": 40,
     "metadata": {},
     "output_type": "execute_result"
    }
   ],
   "source": [
    "def category_tokenizer(text):\n",
    "    ''' split by pipe (|) and return'''\n",
    "    text = text.strip()\n",
    "    text = re.sub('\\|$|^\\|','',text)\n",
    "    if text == '|':\n",
    "        return []\n",
    "    return [i.strip() for i in text.lower().split('|')]\n",
    "vectorizer = CountVectorizer(max_df=1.0, min_df=50,tokenizer=category_tokenizer,binary=True)\n",
    "dv_matrix = vectorizer.fit_transform(df_final['category_list'].fillna('')+'|'+df_final['category_group_list'].fillna(''))\n",
    "dv_matrix.shape"
   ]
  },
  {
   "cell_type": "code",
   "execution_count": 41,
   "metadata": {
    "collapsed": true
   },
   "outputs": [],
   "source": [
    "np.random.seed(5)\n",
    "msk1 = np.random.rand(dv_matrix.shape[0]*dv_matrix.shape[1]).reshape(dv_matrix.shape) < 0.5\n",
    "dv_matrix[msk1] = -1"
   ]
  },
  {
   "cell_type": "code",
   "execution_count": 5,
   "metadata": {
    "collapsed": false
   },
   "outputs": [
    {
     "name": "stderr",
     "output_type": "stream",
     "text": [
      "/usr/local/lib/python2.7/dist-packages/scipy/sparse/compressed.py:730: SparseEfficiencyWarning: Changing the sparsity structure of a csr_matrix is expensive. lil_matrix is more efficient.\n",
      "  SparseEfficiencyWarning)\n"
     ]
    },
    {
     "data": {
      "text/plain": [
       "((1893, 38), (1893, 1108), (1893, 5323))"
      ]
     },
     "execution_count": 5,
     "metadata": {},
     "output_type": "execute_result"
    }
   ],
   "source": [
    "tfidf_vectorizer_descr = TfidfVectorizer(max_df=0.8, min_df=0.01,stop_words='english')\n",
    "X_descr_train = tfidf_vectorizer_descr.fit_transform(df_final['description'].fillna(''))\n",
    "\n",
    "tfidf_vectorizer_website_text = TfidfVectorizer(max_df=0.8, min_df=0.01,stop_words='english')\n",
    "X_website_text_train = tfidf_vectorizer_website_text.fit_transform(df_final['website_text'].fillna(''))\n",
    "dv_matrix.shape,X_descr_train.shape,X_website_text_train.shape"
   ]
  },
  {
   "cell_type": "code",
   "execution_count": 6,
   "metadata": {
    "collapsed": false
   },
   "outputs": [
    {
     "data": {
      "text/plain": [
       "-1    961\n",
       " 0    894\n",
       " 1     38\n",
       "dtype: int64"
      ]
     },
     "execution_count": 6,
     "metadata": {},
     "output_type": "execute_result"
    }
   ],
   "source": [
    "pd.Series(dv_matrix.toarray()[:,3]).value_counts()"
   ]
  },
  {
   "cell_type": "code",
   "execution_count": 8,
   "metadata": {
    "collapsed": false,
    "scrolled": true
   },
   "outputs": [
    {
     "name": "stdout",
     "output_type": "stream",
     "text": [
      "naive bayes multi\n",
      "no of iterations took for fitting:30\n",
      "no of iterations took for fitting:30\n",
      "no of iterations took for fitting:30\n",
      "no of iterations took for fitting:30\n",
      "no of iterations took for fitting:30\n",
      "no of iterations took for fitting:28\n",
      "no of iterations took for fitting:30\n",
      "no of iterations took for fitting:22\n",
      "no of iterations took for fitting:30\n",
      "no of iterations took for fitting:22\n",
      "no of iterations took for fitting:30\n",
      "no of iterations took for fitting:20\n",
      "no of iterations took for fitting:30\n",
      "no of iterations took for fitting:24\n",
      "no of iterations took for fitting:30\n",
      "no of iterations took for fitting:27\n",
      "no of iterations took for fitting:30\n",
      "no of iterations took for fitting:30\n",
      "no of iterations took for fitting:30\n",
      "no of iterations took for fitting:30\n",
      "no of iterations took for fitting:24\n",
      "no of iterations took for fitting:30\n",
      "no of iterations took for fitting:30\n",
      "no of iterations took for fitting:30\n",
      "no of iterations took for fitting:30\n",
      "no of iterations took for fitting:24\n",
      "no of iterations took for fitting:30\n",
      "no of iterations took for fitting:19\n",
      "no of iterations took for fitting:30\n",
      "no of iterations took for fitting:30\n",
      "no of iterations took for fitting:27\n",
      "no of iterations took for fitting:30\n",
      "no of iterations took for fitting:30\n",
      "no of iterations took for fitting:19\n",
      "no of iterations took for fitting:25\n",
      "no of iterations took for fitting:30\n",
      "no of iterations took for fitting:28\n",
      "no of iterations took for fitting:26\n"
     ]
    }
   ],
   "source": [
    "import cotraining_multi\n",
    "reload(cotraining_multi)\n",
    "print 'naive bayes multi'\n",
    "clf = cotraining_multi.CotrainMulti() #MultinomialNB(fit_prior=False)\n",
    "clf.fit(MultinomialNB(fit_prior=False),X_descr_train,X_website_text_train,dv_matrix.toarray())"
   ]
  },
  {
   "cell_type": "code",
   "execution_count": 9,
   "metadata": {
    "collapsed": false
   },
   "outputs": [
    {
     "name": "stdout",
     "output_type": "stream",
     "text": [
      "> <ipython-input-9-c1bd7db5e61d>(5)<module>()\n",
      "-> y_pred = clf.predict(X_descr_train,X_website_text_train)\n",
      "(Pdb) c\n"
     ]
    }
   ],
   "source": [
    "i=0\n",
    "import pdb\n",
    "while i<1:\n",
    "    pdb.set_trace()\n",
    "    y_pred = clf.predict(X_descr_train,X_website_text_train)\n",
    "    i+=1"
   ]
  },
  {
   "cell_type": "code",
   "execution_count": 10,
   "metadata": {
    "collapsed": false,
    "scrolled": false
   },
   "outputs": [
    {
     "name": "stderr",
     "output_type": "stream",
     "text": [
      "/usr/local/lib/python2.7/dist-packages/numpy/core/numeric.py:301: FutureWarning: in the future, full((1893, 2), -1) will return an array of dtype('int64')\n",
      "  format(shape, fill_value, array(fill_value).dtype), FutureWarning)\n"
     ]
    }
   ],
   "source": [
    "y_pred_prob_pos,y_pred_prob_neg = clf.predict_proba(X_descr_train,X_website_text_train)"
   ]
  },
  {
   "cell_type": "code",
   "execution_count": null,
   "metadata": {
    "collapsed": false
   },
   "outputs": [],
   "source": [
    "print pd.Series(y_pred[101,:]).value_counts()\n",
    "print pd.Series(y_pred_prob_pos[101,:]>=0.5).value_counts()"
   ]
  }
 ],
 "metadata": {
  "kernelspec": {
   "display_name": "Python 2",
   "language": "python",
   "name": "python2"
  },
  "language_info": {
   "codemirror_mode": {
    "name": "ipython",
    "version": 2
   },
   "file_extension": ".py",
   "mimetype": "text/x-python",
   "name": "python",
   "nbconvert_exporter": "python",
   "pygments_lexer": "ipython2",
   "version": "2.7.3"
  }
 },
 "nbformat": 4,
 "nbformat_minor": 1
}
