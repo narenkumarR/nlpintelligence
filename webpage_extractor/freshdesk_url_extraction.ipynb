{
 "cells": [
  {
   "cell_type": "code",
   "execution_count": 1,
   "metadata": {
    "collapsed": true
   },
   "outputs": [],
   "source": [
    "import pandas as pd"
   ]
  },
  {
   "cell_type": "code",
   "execution_count": 3,
   "metadata": {
    "collapsed": true
   },
   "outputs": [],
   "source": [
    "tmp = pd.read_csv('Freshdesk _ Utilities_urls.csv')"
   ]
  },
  {
   "cell_type": "code",
   "execution_count": 4,
   "metadata": {
    "collapsed": false
   },
   "outputs": [
    {
     "data": {
      "text/html": [
       "<div>\n",
       "<table border=\"1\" class=\"dataframe\">\n",
       "  <thead>\n",
       "    <tr style=\"text-align: right;\">\n",
       "      <th></th>\n",
       "      <th>urls</th>\n",
       "    </tr>\n",
       "  </thead>\n",
       "  <tbody>\n",
       "    <tr>\n",
       "      <th>0</th>\n",
       "      <td>http://4youtuberepeat.com</td>\n",
       "    </tr>\n",
       "    <tr>\n",
       "      <th>1</th>\n",
       "      <td>http://abworkoutsapp.com</td>\n",
       "    </tr>\n",
       "    <tr>\n",
       "      <th>2</th>\n",
       "      <td>http://aliftek.com</td>\n",
       "    </tr>\n",
       "    <tr>\n",
       "      <th>3</th>\n",
       "      <td>http://appersian.net</td>\n",
       "    </tr>\n",
       "    <tr>\n",
       "      <th>4</th>\n",
       "      <td>http://appsonic.fr</td>\n",
       "    </tr>\n",
       "  </tbody>\n",
       "</table>\n",
       "</div>"
      ],
      "text/plain": [
       "                        urls\n",
       "0  http://4youtuberepeat.com\n",
       "1   http://abworkoutsapp.com\n",
       "2         http://aliftek.com\n",
       "3       http://appersian.net\n",
       "4         http://appsonic.fr"
      ]
     },
     "execution_count": 4,
     "metadata": {},
     "output_type": "execute_result"
    }
   ],
   "source": [
    "tmp.head()"
   ]
  },
  {
   "cell_type": "code",
   "execution_count": 5,
   "metadata": {
    "collapsed": true
   },
   "outputs": [],
   "source": [
    "from link_finder import LinkFinderSingle\n",
    "lfs = LinkFinderSingle()"
   ]
  },
  {
   "cell_type": "code",
   "execution_count": 6,
   "metadata": {
    "collapsed": true
   },
   "outputs": [],
   "source": [
    "import pickle"
   ]
  },
  {
   "cell_type": "code",
   "execution_count": 7,
   "metadata": {
    "collapsed": false
   },
   "outputs": [
    {
     "data": {
      "text/plain": [
       "['http://www.printeron.com/apps',\n",
       " 'http://www.bell.ca/rpvr',\n",
       " 'http://www.duluxgroup.com.au',\n",
       " 'http://www.newsoftwares.net/folderlock/iphone/',\n",
       " 'http://www.zoobe.com']"
      ]
     },
     "execution_count": 7,
     "metadata": {},
     "output_type": "execute_result"
    }
   ],
   "source": [
    "urls = list(set(tmp['urls']))\n",
    "urls[:5]"
   ]
  },
  {
   "cell_type": "code",
   "execution_count": null,
   "metadata": {
    "collapsed": false
   },
   "outputs": [
    {
     "name": "stdout",
     "output_type": "stream",
     "text": [
      "http://www.printeron.com/apps\n"
     ]
    },
    {
     "name": "stderr",
     "output_type": "stream",
     "text": [
      "/usr/local/lib/python2.7/dist-packages/bs4/__init__.py:166: UserWarning: No parser was explicitly specified, so I'm using the best available HTML parser for this system (\"lxml\"). This usually isn't a problem, but if you run this code on another system, or in a different virtual environment, it may use a different parser and behave differently.\n",
      "\n",
      "To get rid of this warning, change this:\n",
      "\n",
      " BeautifulSoup([your markup])\n",
      "\n",
      "to this:\n",
      "\n",
      " BeautifulSoup([your markup], \"lxml\")\n",
      "\n",
      "  markup_type=markup_type))\n"
     ]
    },
    {
     "name": "stdout",
     "output_type": "stream",
     "text": [
      "http://www.bell.ca/rpvr\n",
      "http://www.duluxgroup.com.au\n",
      "http://www.newsoftwares.net/folderlock/iphone/\n",
      "http://www.zoobe.com\n",
      "http://www.7-eleven.com\n",
      "http://www.neoreader.com\n",
      "http://occipital.com/360\n",
      "http://openvpn.net/\n",
      "http://www.americanfidelity.com\n",
      "http://www.ahg.af\n",
      "http://www.resound.com/smartapp\n",
      "http://audioshot.com\n",
      "http://www.rentcafe.com/\n",
      "http://www.realtech-vr.com/ironfistboxing\n",
      "http://www.getvideostream.com\n",
      "http://www.virginmobile.ca\n",
      "http://www.endeavourenergy.com.au/\n",
      "http://www.dialog.lk\n",
      "http://repairpal.com\n",
      "https://cluster.co/about\n",
      "http://www.fcc.gov/measuring-broadband-america/mobile\n",
      "http://www.unstoppablegorg.com/\n",
      "http://www.scottishpower.co.uk\n",
      "http://www.apalon.com/calculator_pro.html\n",
      "http://www.hitcents.com/apps/?game=harlemshake\n",
      "http://www.axaco.se\n",
      "http://myappbuilder.com\n",
      "http://safaricom.co.ke/\n",
      "http://www.seetickets.com/content/ticket-your-event\n",
      "http://www.stanleytools.com\n",
      "http://undabot.com\n",
      "http://www.mmguardian.com\n",
      "http://www.design-luscinia.nl/Phoetic\n",
      "http://www.makerbot.com/mobile/\n",
      "http://ionicframework.com\n",
      "http://www.okaris.com\n",
      "https://www.uknowkids.com\n",
      "http://velux.com/modelhome2020\n",
      "http://www.amazon.co.uk/kindleapp\n",
      "http://whoscall.com/\n",
      "http://www.landrover.com\n",
      "http://www.dlink.com/shareportmobileapp\n",
      "http://www.libertymutual.com/liberty-mutual-mobile\n",
      "http://www.securitycoverage.com\n",
      "http://wellington.govt.nz/\n",
      "http://www.3ight.com\n",
      "http://www.simplexmobility.com\n",
      "http://www.flexibleassembly.com/torque_calc\n",
      "http://www.rustybrick.com/\n",
      "http://www.i-nigma.com\n",
      "http://www.volvocars.com\n",
      "http://www.avg.com\n",
      "http://www.drivebot.io\n",
      "http://cognitivebits.com\n",
      "http://auspost.com.au/iphone\n",
      "http://smudgeapps.com\n",
      "http://appsonic.fr\n",
      "http://www.swiftkey.com\n",
      "http://www.cctvcamerapros.com/Viewtron-Video-Surveillance-DVR-s/654.htm\n",
      "http://sat.collegeboard.org/\n",
      "http://www.volkswagen.de\n",
      "http://www.siminn.is/sjonvarp-simans-app/\n",
      "http://www.moblin.com\n",
      "http://catalina.io\n",
      "http://www.tescomobile.com\n",
      "http://www.axis.com/products/video/selector/iphone_app.htm\n",
      "http://www.airlive.com\n",
      "http://riffsy.com\n",
      "https://www.lookout.com/iphone\n",
      "http://www.spark.co.nz\n",
      "http://telekom.hu\n"
     ]
    }
   ],
   "source": [
    "out_dic = {}\n",
    "for url in urls:\n",
    "    try:\n",
    "        print url\n",
    "        itune_urls = lfs.get_matching_links(url,'itunes.apple.com|http(s)?://app\\..+\\.io')\n",
    "        out_dic[url] = itune_urls\n",
    "        with open('Freshdesk_itunes_urls.pkl','w') as f:\n",
    "            pickle.dump(out_dic,f)\n",
    "    except:\n",
    "        lfs.crawler.exit()\n",
    "        lfs.crawler.start_browser()"
   ]
  }
 ],
 "metadata": {
  "kernelspec": {
   "display_name": "Python 2",
   "language": "python",
   "name": "python2"
  },
  "language_info": {
   "codemirror_mode": {
    "name": "ipython",
    "version": 2
   },
   "file_extension": ".py",
   "mimetype": "text/x-python",
   "name": "python",
   "nbconvert_exporter": "python",
   "pygments_lexer": "ipython2",
   "version": "2.7.3"
  }
 },
 "nbformat": 4,
 "nbformat_minor": 1
}
