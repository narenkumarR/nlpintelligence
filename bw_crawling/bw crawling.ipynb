{
 "cells": [
  {
   "cell_type": "code",
   "execution_count": 1,
   "metadata": {
    "collapsed": true
   },
   "outputs": [],
   "source": [
    "from selenium_crawl import SeleniumParser\n",
    "import pickle\n",
    "import time\n",
    "import pandas as pd\n",
    "from random import randint"
   ]
  },
  {
   "cell_type": "code",
   "execution_count": 2,
   "metadata": {
    "collapsed": true
   },
   "outputs": [],
   "source": [
    "sp = SeleniumParser(visible=True)"
   ]
  },
  {
   "cell_type": "code",
   "execution_count": 3,
   "metadata": {
    "collapsed": true
   },
   "outputs": [],
   "source": [
    "sp.browser.get('https://builtwith.com/login')\n",
    "username = sp.browser.find_element_by_id(\"email\")\n",
    "password = sp.browser.find_element_by_id(\"password\")\n",
    "username.send_keys(\"ashwin@contractiq.com\")\n",
    "password.send_keys(\"ashwin0302\")\n",
    "sp.browser.find_element_by_name(\"ctl00$ctl00$content$contentAll$btnLogin\").click()"
   ]
  },
  {
   "cell_type": "code",
   "execution_count": 4,
   "metadata": {
    "collapsed": false
   },
   "outputs": [],
   "source": [
    "# get trends page\n",
    "soup = sp.get_soup('https://trends.builtwith.com/')"
   ]
  },
  {
   "cell_type": "code",
   "execution_count": 5,
   "metadata": {
    "collapsed": false
   },
   "outputs": [],
   "source": [
    "lis = soup.find('div',{'class':'titleBox'}).find('ul',{'class':'nav nav-zeit'}).find_all('li')[1:]"
   ]
  },
  {
   "cell_type": "code",
   "execution_count": 53,
   "metadata": {
    "collapsed": false
   },
   "outputs": [
    {
     "data": {
      "text/plain": [
       "<li><a href=\"/ads\" style=\"float:left;width:195px\">Advertising</a>\n",
       "<i class=\"cursor-pointer icon-chevron-down pull-right\" onclick=\"if($(this).hasClass('icon-chevron-down')){$('._ads').fadeIn('fast');$(this).removeClass('icon-chevron-down'); $(this).addClass('icon-chevron-up');} else {$('._ads').fadeOut('fast'); $(this).removeClass('icon-chevron-up'); $(this).addClass('icon-chevron-down');}return false;\" style=\"opacity:0.5;margin-top:3px\"></i><div style=\"clear:both\"></div></li>"
      ]
     },
     "execution_count": 53,
     "metadata": {},
     "output_type": "execute_result"
    }
   ],
   "source": [
    "lis[0]"
   ]
  },
  {
   "cell_type": "code",
   "execution_count": 54,
   "metadata": {
    "collapsed": false
   },
   "outputs": [
    {
     "data": {
      "text/plain": [
       "<li class=\"_ads\" style=\"display:none;background-color:#efefef\"><a href=\"/ads/abandonment-ads\" style=\"padding-left:20px\">Abandonment Ads</a></li>"
      ]
     },
     "execution_count": 54,
     "metadata": {},
     "output_type": "execute_result"
    }
   ],
   "source": [
    "lis[1]"
   ]
  },
  {
   "cell_type": "code",
   "execution_count": 57,
   "metadata": {
    "collapsed": false
   },
   "outputs": [
    {
     "data": {
      "text/plain": [
       "(None, ['_ads'])"
      ]
     },
     "execution_count": 57,
     "metadata": {},
     "output_type": "execute_result"
    }
   ],
   "source": [
    "lis[0].get('class'),lis[1].get('class')"
   ]
  },
  {
   "cell_type": "code",
   "execution_count": 22,
   "metadata": {
    "collapsed": false
   },
   "outputs": [
    {
     "data": {
      "text/plain": [
       "(u'Advertising\\n', '/ads', u'Abandonment Ads', '/ads/abandonment-ads')"
      ]
     },
     "execution_count": 22,
     "metadata": {},
     "output_type": "execute_result"
    }
   ],
   "source": [
    "lis[0].text,lis[0].find('a')['href'],lis[1].text,lis[1].find('a')['href']"
   ]
  },
  {
   "cell_type": "code",
   "execution_count": 6,
   "metadata": {
    "collapsed": false
   },
   "outputs": [],
   "source": [
    "tech_class_urls = [(li.text.strip(),'https://trends.builtwith.com'+li.find('a')['href'],\n",
    "                        True if not li.get('class') else False) \n",
    "                   for li in lis]"
   ]
  },
  {
   "cell_type": "code",
   "execution_count": 7,
   "metadata": {
    "collapsed": false
   },
   "outputs": [
    {
     "data": {
      "text/plain": [
       "[(u'Advertising', 'https://trends.builtwith.com/ads', True),\n",
       " (u'Abandonment Ads',\n",
       "  'https://trends.builtwith.com/ads/abandonment-ads',\n",
       "  False)]"
      ]
     },
     "execution_count": 7,
     "metadata": {},
     "output_type": "execute_result"
    }
   ],
   "source": [
    "tech_class_urls[:2]"
   ]
  },
  {
   "cell_type": "code",
   "execution_count": 48,
   "metadata": {
    "collapsed": false
   },
   "outputs": [],
   "source": [
    "soup1 = sp.get_soup(tech_class_urls[1][1])"
   ]
  },
  {
   "cell_type": "code",
   "execution_count": 51,
   "metadata": {
    "collapsed": false
   },
   "outputs": [
    {
     "data": {
      "text/plain": [
       "u'Realtime Targeting'"
      ]
     },
     "execution_count": 51,
     "metadata": {},
     "output_type": "execute_result"
    }
   ],
   "source": [
    "soup1.find('div',{'class':'span8'}).find('tbody').findAll('tr')[-1].find('a').text"
   ]
  },
  {
   "cell_type": "code",
   "execution_count": 52,
   "metadata": {
    "collapsed": false
   },
   "outputs": [
    {
     "data": {
      "text/plain": [
       "'//trends.builtwith.com/ads/Realtime-Targeting'"
      ]
     },
     "execution_count": 52,
     "metadata": {},
     "output_type": "execute_result"
    }
   ],
   "source": [
    "soup1.find('div',{'class':'span8'}).find('tbody').findAll('tr')[-1].find('a')['href']"
   ]
  },
  {
   "cell_type": "code",
   "execution_count": 49,
   "metadata": {
    "collapsed": false
   },
   "outputs": [
    {
     "data": {
      "text/plain": [
       "'Increased 1 sites this week'"
      ]
     },
     "execution_count": 49,
     "metadata": {},
     "output_type": "execute_result"
    }
   ],
   "source": [
    "soup1.find('div',{'class':'span8'}).find('tbody').findAll('tr')[-1].find_all('td')[1:][0].find('img').get('data-original-title')"
   ]
  },
  {
   "cell_type": "code",
   "execution_count": 50,
   "metadata": {
    "collapsed": false
   },
   "outputs": [
    {
     "data": {
      "text/plain": [
       "'1'"
      ]
     },
     "execution_count": 50,
     "metadata": {},
     "output_type": "execute_result"
    }
   ],
   "source": [
    "soup1.find('div',{'class':'span8'}).find('tbody').findAll('tr')[-1].find_all('td')[1:][0].get('value')"
   ]
  },
  {
   "cell_type": "code",
   "execution_count": null,
   "metadata": {
    "collapsed": true
   },
   "outputs": [],
   "source": [
    "final_list = []"
   ]
  },
  {
   "cell_type": "code",
   "execution_count": 21,
   "metadata": {
    "collapsed": false,
    "scrolled": true
   },
   "outputs": [
    {
     "name": "stdout",
     "output_type": "stream",
     "text": [
      "(u'Payment', u'Payment', 'https://trends.builtwith.com/payment')\n",
      "(u'Payment', u'Acceptance Seal', 'https://trends.builtwith.com/payment/acceptance-seal')\n",
      "(u'Payment', u'Alternative Checkout', 'https://trends.builtwith.com/payment/alternative-checkout')\n",
      "(u'Payment', u'Bitcoin', 'https://trends.builtwith.com/payment/bitcoin')\n",
      "(u'Payment', u'Checkout Buttons', 'https://trends.builtwith.com/payment/checkout-buttons')\n",
      "(u'Payment', u'Fraud Prevention', 'https://trends.builtwith.com/payment/fraud-prevention')\n",
      "(u'Payment', u'Micropayments', 'https://trends.builtwith.com/payment/micropayments')\n",
      "(u'Payment', u'Mobile', 'https://trends.builtwith.com/payment/mobile')\n",
      "(u'Payment', u'Payment Acceptance', 'https://trends.builtwith.com/payment/payment-acceptance')\n",
      "(u'Payment', u'Payment Currency', 'https://trends.builtwith.com/payment/payment-currency')\n",
      "(u'Payment', u'Payments Processor', 'https://trends.builtwith.com/payment/payments-processor')\n",
      "(u'SEO Header Tag', u'SEO Header Tag', 'https://trends.builtwith.com/seo_headers')\n",
      "(u'SEO Meta Tag', u'SEO Meta Tag', 'https://trends.builtwith.com/seo_meta')\n",
      "(u'SEO Title Tag', u'SEO Title Tag', 'https://trends.builtwith.com/seo_title')\n",
      "(u'Shipping Providers', u'Shipping Providers', 'https://trends.builtwith.com/shipping')\n",
      "(u'SSL Certificates', u'SSL Certificates', 'https://trends.builtwith.com/ssl')\n",
      "(u'SSL Certificates', u'Extended Validation', 'https://trends.builtwith.com/ssl/extended-validation')\n",
      "(u'SSL Certificates', u'Multi Domain', 'https://trends.builtwith.com/ssl/multi-domain')\n",
      "(u'SSL Certificates', u'Root Authority', 'https://trends.builtwith.com/ssl/root-authority')\n",
      "(u'SSL Certificates', u'Server Gated Cryptography', 'https://trends.builtwith.com/ssl/server-gated-cryptography')\n",
      "(u'SSL Certificates', u'Wildcard', 'https://trends.builtwith.com/ssl/wildcard')\n",
      "(u'Syndication Techniques', u'Syndication Techniques', 'https://trends.builtwith.com/feeds')\n",
      "(u'Verified CDN', u'Verified CDN', 'https://trends.builtwith.com/cdns')\n",
      "(u'Verified CDN', u'Edge Delivery Network', 'https://trends.builtwith.com/cdns/edge-delivery-network')\n",
      "(u'Verified Link', u'Verified Link', 'https://trends.builtwith.com/link')\n",
      "(u'Verified Link', u'Advertising', 'https://trends.builtwith.com/link/advertising')\n",
      "(u'Verified Link', u'Bookings', 'https://trends.builtwith.com/link/bookings')\n",
      "(u'Web Hosting Providers', u'Web Hosting Providers', 'https://trends.builtwith.com/hosting')\n",
      "(u'Web Hosting Providers', u'Australian hosting', 'https://trends.builtwith.com/hosting/australian-hosting')\n",
      "(u'Web Hosting Providers', u'Canadian hosting', 'https://trends.builtwith.com/hosting/canadian-hosting')\n",
      "(u'Web Hosting Providers', u'Chinese hosting', 'https://trends.builtwith.com/hosting/chinese-hosting')\n",
      "(u'Web Hosting Providers', u'Cloud Hosting', 'https://trends.builtwith.com/hosting/cloud-hosting')\n",
      "(u'Web Hosting Providers', u'Cloud PaaS', 'https://trends.builtwith.com/hosting/cloud-paas')\n",
      "(u'Web Hosting Providers', u'Content Delivery Network', 'https://trends.builtwith.com/hosting/content-delivery-network')\n",
      "(u'Web Hosting Providers', u'Czech hosting', 'https://trends.builtwith.com/hosting/czech-hosting')\n",
      "(u'Web Hosting Providers', u'Dedicated Hosting', 'https://trends.builtwith.com/hosting/dedicated-hosting')\n",
      "(u'Web Hosting Providers', u'Dutch hosting', 'https://trends.builtwith.com/hosting/dutch-hosting')\n",
      "(u'Web Hosting Providers', u'eCommerce Hosting', 'https://trends.builtwith.com/hosting/ecommerce-hosting')\n",
      "(u'Web Hosting Providers', u'Edge Delivery Network', 'https://trends.builtwith.com/hosting/edge-delivery-network')\n",
      "(u'Web Hosting Providers', u'French hosting', 'https://trends.builtwith.com/hosting/french-hosting')\n",
      "(u'Web Hosting Providers', u'German hosting', 'https://trends.builtwith.com/hosting/german-hosting')\n",
      "(u'Web Hosting Providers', u'Hong Kong hosting', 'https://trends.builtwith.com/hosting/hong-kong-hosting')\n",
      "(u'Web Hosting Providers', u'Israeli hosting', 'https://trends.builtwith.com/hosting/israeli-hosting')\n",
      "(u'Web Hosting Providers', u'Italian hosting', 'https://trends.builtwith.com/hosting/italian-hosting')\n",
      "(u'Web Hosting Providers', u'Japan hosting', 'https://trends.builtwith.com/hosting/japan-hosting')\n",
      "(u'Web Hosting Providers', u'Polish hosting', 'https://trends.builtwith.com/hosting/polish-hosting')\n",
      "(u'Web Hosting Providers', u'Real Estate Hosting', 'https://trends.builtwith.com/hosting/real-estate-hosting')\n",
      "(u'Web Hosting Providers', u'Romanian hosting', 'https://trends.builtwith.com/hosting/romanian-hosting')\n",
      "(u'Web Hosting Providers', u'Russian hosting', 'https://trends.builtwith.com/hosting/russian-hosting')\n",
      "(u'Web Hosting Providers', u'Shared Hosting', 'https://trends.builtwith.com/hosting/shared-hosting')\n",
      "(u'Web Hosting Providers', u'Spanish hosting', 'https://trends.builtwith.com/hosting/spanish-hosting')\n",
      "(u'Web Hosting Providers', u'Swedish hosting', 'https://trends.builtwith.com/hosting/swedish-hosting')\n",
      "(u'Web Hosting Providers', u'Swiss hosting', 'https://trends.builtwith.com/hosting/swiss-hosting')\n",
      "(u'Web Hosting Providers', u'Turkish hosting', 'https://trends.builtwith.com/hosting/turkish-hosting')\n",
      "(u'Web Hosting Providers', u'UK hosting', 'https://trends.builtwith.com/hosting/uk-hosting')\n",
      "(u'Web Hosting Providers', u'US hosting', 'https://trends.builtwith.com/hosting/us-hosting')\n",
      "(u'Web Hosting Providers', u'VPS Hosting', 'https://trends.builtwith.com/hosting/vps-hosting')\n",
      "(u'Web Hosting Providers', u'WordPress Hosting', 'https://trends.builtwith.com/hosting/wordpress-hosting')\n",
      "(u'Web Master Registration', u'Web Master Registration', 'https://trends.builtwith.com/web-master')\n",
      "(u'Web Servers', u'Web Servers', 'https://trends.builtwith.com/web-server')\n",
      "(u'Web Servers', u'Application Server', 'https://trends.builtwith.com/web-server/application-server')\n",
      "error happened, no stats\n",
      "(u'Web Servers', u'Caching Proxy', 'https://trends.builtwith.com/web-server/caching-proxy')\n",
      "error happened, no stats\n",
      "(u'Web Servers', u'Windows Web Server', 'https://trends.builtwith.com/web-server/windows-web-server')\n",
      "error happened, no stats\n",
      "(u'Widgets', u'Widgets', 'https://trends.builtwith.com/widgets')\n",
      "(u'Widgets', u'Bookings', 'https://trends.builtwith.com/widgets/bookings')\n",
      "(u'Widgets', u'Bookmarking', 'https://trends.builtwith.com/widgets/bookmarking')\n",
      "(u'Widgets', u'Call Tracking', 'https://trends.builtwith.com/widgets/call-tracking')\n",
      "(u'Widgets', u'CAPTCHA', 'https://trends.builtwith.com/widgets/captcha')\n",
      "(u'Widgets', u'Charting', 'https://trends.builtwith.com/widgets/charting')\n",
      "(u'Widgets', u'Cobrowsing', 'https://trends.builtwith.com/widgets/cobrowsing')\n",
      "(u'Widgets', u'Comment System', 'https://trends.builtwith.com/widgets/comment-system')\n",
      "(u'Widgets', u'Content Modification', 'https://trends.builtwith.com/widgets/content-modification')\n",
      "(u'Widgets', u'CRM', 'https://trends.builtwith.com/widgets/crm')\n",
      "(u'Widgets', u'eCommerce', 'https://trends.builtwith.com/widgets/ecommerce')\n",
      "(u'Widgets', u'Error Tracking', 'https://trends.builtwith.com/widgets/error-tracking')\n",
      "(u'Widgets', u'Feedback Forms and Surveys', 'https://trends.builtwith.com/widgets/feedback-forms-and-surveys')\n",
      "(u'Widgets', u'File Management', 'https://trends.builtwith.com/widgets/file-management')\n",
      "(u'Widgets', u'Financial', 'https://trends.builtwith.com/widgets/financial')\n",
      "(u'Widgets', u'Fonts', 'https://trends.builtwith.com/widgets/fonts')\n",
      "(u'Widgets', u'Image Provider', 'https://trends.builtwith.com/widgets/image-provider')\n",
      "(u'Widgets', u'Joomla Module', 'https://trends.builtwith.com/widgets/joomla-module')\n",
      "(u'Widgets', u'Live Chat', 'https://trends.builtwith.com/widgets/live-chat')\n",
      "(u'Widgets', u'Login', 'https://trends.builtwith.com/widgets/login')\n",
      "(u'Widgets', u'Marketing Automation', 'https://trends.builtwith.com/widgets/marketing-automation')\n",
      "(u'Widgets', u'Mobile', 'https://trends.builtwith.com/widgets/mobile')\n",
      "(u'Widgets', u'Push Notifications', 'https://trends.builtwith.com/widgets/push-notifications')\n",
      "(u'Widgets', u'Schedule Management', 'https://trends.builtwith.com/widgets/schedule-management')\n",
      "(u'Widgets', u'Site Search', 'https://trends.builtwith.com/widgets/site-search')\n",
      "(u'Widgets', u'Slider', 'https://trends.builtwith.com/widgets/slider')\n",
      "(u'Widgets', u'Social Sharing', 'https://trends.builtwith.com/widgets/social-sharing')\n",
      "(u'Widgets', u'SSL Seals', 'https://trends.builtwith.com/widgets/ssl-seals')\n",
      "(u'Widgets', u'Tag Management', 'https://trends.builtwith.com/widgets/tag-management')\n",
      "(u'Widgets', u'Technical', 'https://trends.builtwith.com/widgets/technical')\n",
      "(u'Widgets', u'Testing Tools', 'https://trends.builtwith.com/widgets/testing-tools')\n",
      "(u'Widgets', u'Ticketing System', 'https://trends.builtwith.com/widgets/ticketing-system')\n",
      "(u'Widgets', u'Toolbar', 'https://trends.builtwith.com/widgets/toolbar')\n",
      "(u'Widgets', u'Tour Site Demo', 'https://trends.builtwith.com/widgets/tour-site-demo')\n",
      "(u'Widgets', u'Translation', 'https://trends.builtwith.com/widgets/translation')\n",
      "(u'Widgets', u'Web Badge', 'https://trends.builtwith.com/widgets/web-badge')\n",
      "(u'Widgets', u'Web Traffic', 'https://trends.builtwith.com/widgets/web-traffic')\n",
      "(u'Widgets', u'WordPress Plugins', 'https://trends.builtwith.com/widgets/wordpress-plugins')\n"
     ]
    }
   ],
   "source": [
    "for tech_sub_class,url,main_class_flag in tech_class_urls[164:]:\n",
    "    if main_class_flag:\n",
    "        tech_main_class = tech_sub_class\n",
    "    print(tech_main_class,tech_sub_class,url)\n",
    "    soup1 = sp.get_soup(url)\n",
    "    try:\n",
    "        tech_dets_trs = soup1.find('div',{'class':'span8'}).find('tbody').findAll('tr')\n",
    "    except:\n",
    "        print('error happened, no stats')\n",
    "    out_list = []\n",
    "    for tech_det_tr in tech_dets_trs:\n",
    "        try:\n",
    "            det_list = [tech_main_class,tech_sub_class]\n",
    "            tech_name = tech_det_tr.find('a').text\n",
    "            tech_url = tech_det_tr.find('a')['href']\n",
    "            det_list.extend([tech_name,tech_url])\n",
    "            tech_det_tds = tech_det_tr.find_all('td')[1:]\n",
    "            for td in tech_det_tds:\n",
    "                try:\n",
    "                    det_list.append(td.get('value'))\n",
    "                    det_list.append(td.find('img').get('data-original-title'))\n",
    "                except:\n",
    "                    det_list.append('')\n",
    "                    det_list.append('')\n",
    "            out_list.append(det_list)\n",
    "        except:\n",
    "            continue\n",
    "    if out_list:\n",
    "        final_list.extend(out_list)\n",
    "    else:\n",
    "        print('some error happened')\n",
    "    with open('bw_tech_class_crawling_16mar.pkl','w') as f:\n",
    "        pickle.dump(final_list,f)\n",
    "    time.sleep(randint(3,7))"
   ]
  },
  {
   "cell_type": "code",
   "execution_count": 22,
   "metadata": {
    "collapsed": false
   },
   "outputs": [
    {
     "data": {
      "text/plain": [
       "(8140, 12)"
      ]
     },
     "execution_count": 22,
     "metadata": {},
     "output_type": "execute_result"
    }
   ],
   "source": [
    "out_df = pd.DataFrame(final_list,columns=['tech_class','tech_sub_class','tech_name','tech_bw_url',\n",
    "                                          '10k_sites','10k_change','100k_sites','100k_change',\n",
    "                                         'million_sites','million_change','entire_sites','entire_change'])\n",
    "out_df.shape"
   ]
  },
  {
   "cell_type": "code",
   "execution_count": 23,
   "metadata": {
    "collapsed": false
   },
   "outputs": [
    {
     "data": {
      "text/html": [
       "<div>\n",
       "<table border=\"1\" class=\"dataframe\">\n",
       "  <thead>\n",
       "    <tr style=\"text-align: right;\">\n",
       "      <th></th>\n",
       "      <th>tech_class</th>\n",
       "      <th>tech_sub_class</th>\n",
       "      <th>tech_name</th>\n",
       "      <th>tech_bw_url</th>\n",
       "      <th>10k_sites</th>\n",
       "      <th>10k_change</th>\n",
       "      <th>100k_sites</th>\n",
       "      <th>100k_change</th>\n",
       "      <th>million_sites</th>\n",
       "      <th>million_change</th>\n",
       "      <th>entire_sites</th>\n",
       "      <th>entire_change</th>\n",
       "    </tr>\n",
       "  </thead>\n",
       "  <tbody>\n",
       "    <tr>\n",
       "      <th>0</th>\n",
       "      <td>Advertising</td>\n",
       "      <td>Advertising</td>\n",
       "      <td>DoubleClick.Net</td>\n",
       "      <td>//trends.builtwith.com/ads/DoubleClick.Net</td>\n",
       "      <td>5732</td>\n",
       "      <td>Increased 3,073 sites this week</td>\n",
       "      <td>45634</td>\n",
       "      <td>Increased 30,336 sites this week</td>\n",
       "      <td>372577</td>\n",
       "      <td>Increased 96,789 sites this week</td>\n",
       "      <td>1277851</td>\n",
       "      <td>Increased 20,062 sites this quarter</td>\n",
       "    </tr>\n",
       "    <tr>\n",
       "      <th>1</th>\n",
       "      <td>Advertising</td>\n",
       "      <td>Advertising</td>\n",
       "      <td>AppNexus</td>\n",
       "      <td>//trends.builtwith.com/ads/AppNexus</td>\n",
       "      <td>3608</td>\n",
       "      <td>Increased 1,349 sites this week</td>\n",
       "      <td>21340</td>\n",
       "      <td>Increased 10,850 sites this week</td>\n",
       "      <td>78746</td>\n",
       "      <td>Increased 25,943 sites this week</td>\n",
       "      <td>24433</td>\n",
       "      <td>Increased 99 sites this quarter</td>\n",
       "    </tr>\n",
       "    <tr>\n",
       "      <th>2</th>\n",
       "      <td>Advertising</td>\n",
       "      <td>Advertising</td>\n",
       "      <td>Google Adsense</td>\n",
       "      <td>//trends.builtwith.com/ads/Google-Adsense</td>\n",
       "      <td>3073</td>\n",
       "      <td>Increased 781 sites this week</td>\n",
       "      <td>23489</td>\n",
       "      <td>Increased 6,509 sites this week</td>\n",
       "      <td>174892</td>\n",
       "      <td>Increased 11,304 sites this week</td>\n",
       "      <td>14162806</td>\n",
       "      <td>Increased 108,099 sites this quarter</td>\n",
       "    </tr>\n",
       "    <tr>\n",
       "      <th>3</th>\n",
       "      <td>Advertising</td>\n",
       "      <td>Advertising</td>\n",
       "      <td>Rubicon Project</td>\n",
       "      <td>//trends.builtwith.com/ads/Rubicon-Project</td>\n",
       "      <td>2950</td>\n",
       "      <td>Increased 797 sites this week</td>\n",
       "      <td>16105</td>\n",
       "      <td>Increased 4,720 sites this week</td>\n",
       "      <td>52368</td>\n",
       "      <td>Increased 8,898 sites this week</td>\n",
       "      <td>6583</td>\n",
       "      <td>Increased 541 sites this quarter</td>\n",
       "    </tr>\n",
       "    <tr>\n",
       "      <th>4</th>\n",
       "      <td>Advertising</td>\n",
       "      <td>Advertising</td>\n",
       "      <td>Facebook Custom Audiences</td>\n",
       "      <td>//trends.builtwith.com/ads/Facebook-Custom-Aud...</td>\n",
       "      <td>2788</td>\n",
       "      <td>Increased 745 sites this week</td>\n",
       "      <td>16261</td>\n",
       "      <td>Increased 4,558 sites this week</td>\n",
       "      <td>95112</td>\n",
       "      <td>Increased 11,325 sites this week</td>\n",
       "      <td>814574</td>\n",
       "      <td>Increased 97,169 sites this quarter</td>\n",
       "    </tr>\n",
       "  </tbody>\n",
       "</table>\n",
       "</div>"
      ],
      "text/plain": [
       "    tech_class tech_sub_class                  tech_name  \\\n",
       "0  Advertising    Advertising            DoubleClick.Net   \n",
       "1  Advertising    Advertising                   AppNexus   \n",
       "2  Advertising    Advertising             Google Adsense   \n",
       "3  Advertising    Advertising            Rubicon Project   \n",
       "4  Advertising    Advertising  Facebook Custom Audiences   \n",
       "\n",
       "                                         tech_bw_url 10k_sites  \\\n",
       "0         //trends.builtwith.com/ads/DoubleClick.Net      5732   \n",
       "1                //trends.builtwith.com/ads/AppNexus      3608   \n",
       "2          //trends.builtwith.com/ads/Google-Adsense      3073   \n",
       "3         //trends.builtwith.com/ads/Rubicon-Project      2950   \n",
       "4  //trends.builtwith.com/ads/Facebook-Custom-Aud...      2788   \n",
       "\n",
       "                        10k_change 100k_sites  \\\n",
       "0  Increased 3,073 sites this week      45634   \n",
       "1  Increased 1,349 sites this week      21340   \n",
       "2    Increased 781 sites this week      23489   \n",
       "3    Increased 797 sites this week      16105   \n",
       "4    Increased 745 sites this week      16261   \n",
       "\n",
       "                        100k_change million_sites  \\\n",
       "0  Increased 30,336 sites this week        372577   \n",
       "1  Increased 10,850 sites this week         78746   \n",
       "2   Increased 6,509 sites this week        174892   \n",
       "3   Increased 4,720 sites this week         52368   \n",
       "4   Increased 4,558 sites this week         95112   \n",
       "\n",
       "                     million_change entire_sites  \\\n",
       "0  Increased 96,789 sites this week      1277851   \n",
       "1  Increased 25,943 sites this week        24433   \n",
       "2  Increased 11,304 sites this week     14162806   \n",
       "3   Increased 8,898 sites this week         6583   \n",
       "4  Increased 11,325 sites this week       814574   \n",
       "\n",
       "                          entire_change  \n",
       "0   Increased 20,062 sites this quarter  \n",
       "1       Increased 99 sites this quarter  \n",
       "2  Increased 108,099 sites this quarter  \n",
       "3      Increased 541 sites this quarter  \n",
       "4   Increased 97,169 sites this quarter  "
      ]
     },
     "execution_count": 23,
     "metadata": {},
     "output_type": "execute_result"
    }
   ],
   "source": [
    "out_df.head()"
   ]
  },
  {
   "cell_type": "code",
   "execution_count": 24,
   "metadata": {
    "collapsed": false,
    "scrolled": true
   },
   "outputs": [],
   "source": [
    "out_df.to_csv('bw_tech_classification_march_2017.csv',index=False,quoting=1,encoding='utf-8')"
   ]
  },
  {
   "cell_type": "code",
   "execution_count": 25,
   "metadata": {
    "collapsed": false,
    "scrolled": true
   },
   "outputs": [],
   "source": [
    "sp.exit()"
   ]
  }
 ],
 "metadata": {
  "kernelspec": {
   "display_name": "Python 2",
   "language": "python",
   "name": "python2"
  },
  "language_info": {
   "codemirror_mode": {
    "name": "ipython",
    "version": 2
   },
   "file_extension": ".py",
   "mimetype": "text/x-python",
   "name": "python",
   "nbconvert_exporter": "python",
   "pygments_lexer": "ipython2",
   "version": "2.7.3"
  }
 },
 "nbformat": 4,
 "nbformat_minor": 1
}
