{
 "cells": [
  {
   "cell_type": "code",
   "execution_count": 1,
   "metadata": {
    "collapsed": true
   },
   "outputs": [],
   "source": [
    "import pandas as pd,numpy as np\n",
    "from sqlalchemy import create_engine"
   ]
  },
  {
   "cell_type": "code",
   "execution_count": 2,
   "metadata": {
    "collapsed": true
   },
   "outputs": [],
   "source": [
    "import pickle\n",
    "with open('saas_companies_data.pkl','r') as f:\n",
    "    df = pickle.load(f)"
   ]
  },
  {
   "cell_type": "code",
   "execution_count": 3,
   "metadata": {
    "collapsed": true
   },
   "outputs": [],
   "source": [
    "import nltk,re\n",
    "from nltk.corpus import stopwords\n",
    "from nltk.stem import SnowballStemmer\n",
    "from text_processing import extract_phrases\n",
    "from sklearn.feature_extraction.text import TfidfVectorizer\n",
    "from sklearn.decomposition import NMF, LatentDirichletAllocation"
   ]
  },
  {
   "cell_type": "code",
   "execution_count": 4,
   "metadata": {
    "collapsed": true
   },
   "outputs": [],
   "source": [
    "grammar = r\"\"\"\n",
    "  NP1: {<JJ><NN.*>+}          # Chunk sequences of JJ, NN\n",
    "  NP2: {<NN.*>+<JJ>}          # Chunk sequences of JJ, NN\n",
    "  NP3: {<NN.*>+}                  #Noun phrases\n",
    "  VP: {<VB.*><NN.*>+} # Chunk verbs and their arguments\n",
    "  \"\"\"\n",
    "phr_list = ['NP1','NP2','NP3','VP']\n",
    "tag_list = ['NN','NNS','NNP','NNPS','VB','VBD','VBG','VBN','VBP','VBZ']\n",
    "stop_words = stopwords.words()+['http','https','goo']\n",
    "cp = nltk.RegexpParser(grammar)\n",
    "pe = extract_phrases.PhraseExtractor()\n",
    "snowball_stemmer = SnowballStemmer('english')\n",
    "reg_exp = re.compile('[^a-zA-Z ]',re.IGNORECASE)\n",
    "def tokenizer(text):\n",
    "    pos_tags = nltk.pos_tag(nltk.word_tokenize(text))\n",
    "    phrs = pe.extract_phrase_treeinput(cp.parse(pos_tags),['NP1','NP2','VP'])\n",
    "    wrds = [snowball_stemmer.stem(i[0]) for i in pos_tags if i[1] in tag_list]\n",
    "    wrds = [wrd for wrd in wrds if wrd not in stop_words]\n",
    "    phrs = ['_'.join([snowball_stemmer.stem(wrd) for wrd in nltk.word_tokenize(phr)]) for phr in phrs]\n",
    "    wrds = [reg_exp.sub('',i) for i in wrds]\n",
    "    return wrds+phrs"
   ]
  },
  {
   "cell_type": "code",
   "execution_count": 5,
   "metadata": {
    "collapsed": false
   },
   "outputs": [],
   "source": [
    "with open('tfidf_saas_companies_phrases.pkl','r') as f:\n",
    "    tmp = pickle.load(f)\n",
    "\n",
    "tfidf,tfidf_vectorizer = tmp['tfidf'],tmp['vectorizer']\n",
    "del tmp"
   ]
  },
  {
   "cell_type": "code",
   "execution_count": 6,
   "metadata": {
    "collapsed": true
   },
   "outputs": [],
   "source": [
    "with open('nmf_saas.pkl','r') as f:\n",
    "    nmf = pickle.load(f)"
   ]
  },
  {
   "cell_type": "code",
   "execution_count": 7,
   "metadata": {
    "collapsed": true
   },
   "outputs": [],
   "source": [
    "topic_map_dic = {\n",
    "    0:'business process/growth strategy',1:'contact details',2:'marketing/media/branding',\n",
    "    3:'application development/web design',4:'analytics/big data',5:'project management/compliance',\n",
    "    6:'investment/venture capital',7:'branding/customer engagement platform',\n",
    "    8:'cloud computing/infrastructre/salesforce',9:'recruitment/hire talent',\n",
    "    10:'software/saas product/erp/crm',11:'sales/crm/prospecting',\n",
    "    12:'healthcare',13:'supply chain/logistics',14:'mobile/web development',15:'other language',\n",
    "    16:'saas solution provider',17:'technology/product firm',18:'consulting service/outsourcing',\n",
    "    19:'security/compliance'\n",
    "}"
   ]
  },
  {
   "cell_type": "code",
   "execution_count": 8,
   "metadata": {
    "collapsed": true
   },
   "outputs": [],
   "source": [
    "import numpy as np,pandas as pd\n",
    "preds = nmf.transform(tfidf)\n",
    "preds_probs = preds.transpose()/np.sum(preds,1)\n",
    "preds_probs = preds_probs.transpose()\n",
    "preds_ind = np.where(preds_probs>0.1)\n",
    "preds_df = pd.DataFrame({'row':preds_ind[0],'col':preds_ind[1]})"
   ]
  },
  {
   "cell_type": "markdown",
   "metadata": {},
   "source": [
    "Now look at all the topics and find the topic ids which are matching the requirement and remove the ones which are not matching. In this case, we are looking at only SAAS products. Rest we will remove. "
   ]
  },
  {
   "cell_type": "code",
   "execution_count": 9,
   "metadata": {
    "collapsed": false
   },
   "outputs": [
    {
     "data": {
      "text/plain": [
       "row\n",
       "0     [0, 2, 7, 14]\n",
       "1    [5, 7, 10, 18]\n",
       "2    [5, 7, 10, 18]\n",
       "3        [1, 7, 10]\n",
       "4        [1, 7, 10]\n",
       "Name: col, dtype: object"
      ]
     },
     "execution_count": 9,
     "metadata": {},
     "output_type": "execute_result"
    }
   ],
   "source": [
    "preds_topics = preds_df.groupby('row')['col'].apply(lambda x: x.tolist())\n",
    "preds_topics.head()"
   ]
  },
  {
   "cell_type": "code",
   "execution_count": 10,
   "metadata": {
    "collapsed": false
   },
   "outputs": [
    {
     "data": {
      "text/plain": [
       "[8192, 3, 4, 5, 6, 7, 8, 9, 10, 8203]"
      ]
     },
     "execution_count": 10,
     "metadata": {},
     "output_type": "execute_result"
    }
   ],
   "source": [
    "req_topic_ids = {10,17}\n",
    "rm_topic_ids = {3,14,18}\n",
    "match_inds = list(set([i for i in preds_topics.index\n",
    "                      if ((set(preds_topics.ix[i]) & req_topic_ids) and not(set(preds_topics.ix[i]) & rm_topic_ids))]))\n",
    "match_inds[:10]"
   ]
  },
  {
   "cell_type": "code",
   "execution_count": 11,
   "metadata": {
    "collapsed": false
   },
   "outputs": [
    {
     "data": {
      "text/plain": [
       "row\n",
       "0    [business process/growth strategy, marketing/m...\n",
       "1    [project management/compliance, branding/custo...\n",
       "2    [project management/compliance, branding/custo...\n",
       "3    [contact details, branding/customer engagement...\n",
       "4    [contact details, branding/customer engagement...\n",
       "Name: col, dtype: object"
      ]
     },
     "execution_count": 11,
     "metadata": {},
     "output_type": "execute_result"
    }
   ],
   "source": [
    "preds_topics = preds_df.groupby('row')['col'].apply(lambda x: [topic_map_dic[i] for i in x.tolist()])\n",
    "preds_topics.head()"
   ]
  },
  {
   "cell_type": "code",
   "execution_count": 12,
   "metadata": {
    "collapsed": false
   },
   "outputs": [
    {
     "data": {
      "text/plain": [
       "u'ScheduleSoft to Workloud, we have been in business for nearly 20 years providing workforce management solutions.  Workloud, our latest end-to-end SaaS product is aimed at disrupting the space of workforce management software. '"
      ]
     },
     "execution_count": 12,
     "metadata": {},
     "output_type": "execute_result"
    }
   ],
   "source": [
    "df.ix[8192,'description']"
   ]
  },
  {
   "cell_type": "code",
   "execution_count": 13,
   "metadata": {
    "collapsed": false,
    "scrolled": true
   },
   "outputs": [
    {
     "data": {
      "text/html": [
       "<div>\n",
       "<table border=\"1\" class=\"dataframe\">\n",
       "  <thead>\n",
       "    <tr style=\"text-align: right;\">\n",
       "      <th></th>\n",
       "      <th>linkedin_url</th>\n",
       "      <th>description</th>\n",
       "      <th>specialties</th>\n",
       "      <th>website</th>\n",
       "      <th>topics</th>\n",
       "    </tr>\n",
       "  </thead>\n",
       "  <tbody>\n",
       "    <tr>\n",
       "      <th>8192</th>\n",
       "      <td>https://www.linkedin.com/company/workloud</td>\n",
       "      <td>ScheduleSoft to Workloud, we have been in busi...</td>\n",
       "      <td>NULL</td>\n",
       "      <td>http://workloud.com</td>\n",
       "      <td>[business process/growth strategy, project man...</td>\n",
       "    </tr>\n",
       "    <tr>\n",
       "      <th>3</th>\n",
       "      <td>https://www.linkedin.com/company/11giraffes</td>\n",
       "      <td>11Giraffes is a Digital Signage software compa...</td>\n",
       "      <td>Digital Signage Software as a Service</td>\n",
       "      <td>http://www.11giraffes.com</td>\n",
       "      <td>[contact details, branding/customer engagement...</td>\n",
       "    </tr>\n",
       "    <tr>\n",
       "      <th>4</th>\n",
       "      <td>https://www.linkedin.com/company/122822</td>\n",
       "      <td>11Giraffes is a Digital Signage software compa...</td>\n",
       "      <td>Digital Signage Software as a Service</td>\n",
       "      <td>http://www.11giraffes.com</td>\n",
       "      <td>[contact details, branding/customer engagement...</td>\n",
       "    </tr>\n",
       "    <tr>\n",
       "      <th>5</th>\n",
       "      <td>https://www.linkedin.com/company/121nexus</td>\n",
       "      <td>121nexus developed a patented cloud-based SaaS...</td>\n",
       "      <td>personal media, packaging, technology, micro-t...</td>\n",
       "      <td>http://www.121nexus.com</td>\n",
       "      <td>[healthcare, technology/product firm]</td>\n",
       "    </tr>\n",
       "    <tr>\n",
       "      <th>6</th>\n",
       "      <td>https://www.linkedin.com/company/121nexus</td>\n",
       "      <td>121nexus developed a patented cloud-based SaaS...</td>\n",
       "      <td>personal media, packaging, technology, micro-t...</td>\n",
       "      <td>http://www.121nexus.com</td>\n",
       "      <td>[healthcare, technology/product firm]</td>\n",
       "    </tr>\n",
       "  </tbody>\n",
       "</table>\n",
       "</div>"
      ],
      "text/plain": [
       "                                     linkedin_url  \\\n",
       "8192    https://www.linkedin.com/company/workloud   \n",
       "3     https://www.linkedin.com/company/11giraffes   \n",
       "4         https://www.linkedin.com/company/122822   \n",
       "5       https://www.linkedin.com/company/121nexus   \n",
       "6       https://www.linkedin.com/company/121nexus   \n",
       "\n",
       "                                            description  \\\n",
       "8192  ScheduleSoft to Workloud, we have been in busi...   \n",
       "3     11Giraffes is a Digital Signage software compa...   \n",
       "4     11Giraffes is a Digital Signage software compa...   \n",
       "5     121nexus developed a patented cloud-based SaaS...   \n",
       "6     121nexus developed a patented cloud-based SaaS...   \n",
       "\n",
       "                                            specialties  \\\n",
       "8192                                               NULL   \n",
       "3                 Digital Signage Software as a Service   \n",
       "4                 Digital Signage Software as a Service   \n",
       "5     personal media, packaging, technology, micro-t...   \n",
       "6     personal media, packaging, technology, micro-t...   \n",
       "\n",
       "                        website  \\\n",
       "8192        http://workloud.com   \n",
       "3     http://www.11giraffes.com   \n",
       "4     http://www.11giraffes.com   \n",
       "5       http://www.121nexus.com   \n",
       "6       http://www.121nexus.com   \n",
       "\n",
       "                                                 topics  \n",
       "8192  [business process/growth strategy, project man...  \n",
       "3     [contact details, branding/customer engagement...  \n",
       "4     [contact details, branding/customer engagement...  \n",
       "5                 [healthcare, technology/product firm]  \n",
       "6                 [healthcare, technology/product firm]  "
      ]
     },
     "execution_count": 13,
     "metadata": {},
     "output_type": "execute_result"
    }
   ],
   "source": [
    "final_df = df.ix[match_inds,:].join(preds_topics)\n",
    "final_df.columns = list(final_df.columns[:-1])+['topics']\n",
    "final_df.head()"
   ]
  },
  {
   "cell_type": "code",
   "execution_count": 14,
   "metadata": {
    "collapsed": false
   },
   "outputs": [
    {
     "data": {
      "text/plain": [
       "u\"121nexus developed a patented cloud-based SaaS micro-targeting and analytics platform that tracks physical asset performance.  121nexus' customers include large and small enterprises alike in industries like healthcare, education, and cosmetics. 121nexus' technology solves a problem so critical to public health that it was awarded a National Science Foundation grant to accelerate commercialization of the technology particularly in the healthcare industry.  The core technology has been claimed in issued US Patent 8,533,075.\""
      ]
     },
     "execution_count": 14,
     "metadata": {},
     "output_type": "execute_result"
    }
   ],
   "source": [
    "final_df.ix[5,'description']"
   ]
  },
  {
   "cell_type": "code",
   "execution_count": 75,
   "metadata": {
    "collapsed": false
   },
   "outputs": [],
   "source": [
    "final_df.to_csv('saas_product_companies.csv',index=False,quoting=1,encoding='utf-8')"
   ]
  },
  {
   "cell_type": "code",
   "execution_count": 18,
   "metadata": {
    "collapsed": false
   },
   "outputs": [],
   "source": [
    "tfidf1 = tfidf[match_inds,]"
   ]
  },
  {
   "cell_type": "code",
   "execution_count": 19,
   "metadata": {
    "collapsed": true
   },
   "outputs": [],
   "source": [
    "from sklearn.decomposition import NMF, LatentDirichletAllocation\n",
    "def print_top_words(model, feature_names, n_top_words):\n",
    "    for topic_idx, topic in enumerate(model.components_):\n",
    "        print(\"Topic #%d:\" % topic_idx)\n",
    "        print(\" \".join([feature_names[i]\n",
    "                        for i in topic.argsort()[:-n_top_words - 1:-1]]))\n",
    "    print()"
   ]
  },
  {
   "cell_type": "code",
   "execution_count": 21,
   "metadata": {
    "collapsed": false
   },
   "outputs": [
    {
     "name": "stdout",
     "output_type": "stream",
     "text": [
      "Topic #0:\n",
      "solut manag provid client technolog industri system complianc process support deliv cost includ inform risk organ servic need offer oper\n",
      "Topic #1:\n",
      "softwar saa compani servic manag licens enterpris crm model use erp special account offer custom onlin vendor creat provid system\n",
      "Topic #2:\n",
      "market sale client strategi generat lead help media bb brand campaign revenu channel develop crm sell search content go agenc\n",
      "Topic #3:\n",
      "servicio empresa solucion client tecnologa sistema desd desarrollo consultora aplicacion ao herramienta producto modelo nuestro_client plataforma servio tecnolgica mercado especializada\n",
      "Topic #4:\n",
      "data analyt intellig big_data decis insight make inform analysi compani collect integr analyz visual research sourc tool inc big_data_analyt report\n",
      "Topic #5:\n",
      "cloud comput technolog salesforc solut oracl partner base migrat applic work paa environ ibm implement consult cloud_solut infrastructur iaa focus\n",
      "Topic #6:\n",
      "product saa_product build custom offer manufactur price compani creat ecommerc retail distributor list new_product catalog onlin consum enterpris tool featur\n",
      "Topic #7:\n",
      "project manag construct portfolio team ppm resourc task collabor plan consult document tool member inform file schedul involv share estim\n",
      "Topic #8:\n",
      "event venu ticket calendar book organ wed membership profession confer payment registr attende organis manag club plan planner sport save\n",
      "Topic #9:\n",
      "energi util effici save build consumpt power salesforc asset program usag home money govern water turnaround analyt environ manufactur scienc\n",
      "Topic #10:\n",
      " servio system client mai servic award gesto modelo produto get softwar chang financ month revenu compens empresa innov email\n",
      "Topic #11:\n",
      "hotel book guest hospit blog resort properti restaur net marriott countri manag montag tradit_method calif pleas_visit_www new_delhi beach casino distribut\n",
      "Topic #12:\n",
      "work help custom peopl team platform experi make compani creat build use engag get improv brand share tool world way\n",
      "Topic #13:\n",
      "recruit talent candid hire search client job sale hr find career execut profession team resourc firm success level relationship industri\n",
      "Topic #14:\n",
      "educ student school teacher colleg cours univers teach job registr provid institut help serv program inc content aid classroom skill\n",
      "Topic #15:\n",
      "travel airlin book onlin accommod content meet flight trip ota industri oper reserv agent car corpor year destin technolog packag\n",
      "Topic #16:\n",
      "employe reward hr organ recognit engag compani perform payrol incent manag benefit workforc talent employ workplac motiv cultur program health\n",
      "Topic #17:\n",
      "busi help process consult partner solut grow plan strategi goal develop understand transform need implement valu success resourc intellig growth\n",
      "Topic #18:\n",
      "compani technolog invest focus entrepreneur firm startup growth capit partner ventur saa industri investor media market grow stage internet enterpris\n",
      "Topic #19:\n",
      "learn train www machin cours platform system workforc onlin visit instructor learner organ facebook featur languag twitter confer artifici_intellig bb\n",
      "()\n"
     ]
    }
   ],
   "source": [
    "n_topics,n_top_words=20,20\n",
    "nmf1 = NMF(n_components=n_topics, random_state=1, alpha=.1, l1_ratio=.5).fit(tfidf1)\n",
    "tfidf_feature_names = tfidf_vectorizer.get_feature_names()\n",
    "print_top_words(nmf1, tfidf_feature_names, n_top_words)"
   ]
  }
 ],
 "metadata": {
  "kernelspec": {
   "display_name": "Python 2",
   "language": "python",
   "name": "python2"
  },
  "language_info": {
   "codemirror_mode": {
    "name": "ipython",
    "version": 2
   },
   "file_extension": ".py",
   "mimetype": "text/x-python",
   "name": "python",
   "nbconvert_exporter": "python",
   "pygments_lexer": "ipython2",
   "version": "2.7.3"
  }
 },
 "nbformat": 4,
 "nbformat_minor": 1
}
